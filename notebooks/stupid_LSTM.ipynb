{
  "nbformat": 4,
  "nbformat_minor": 0,
  "metadata": {
    "kernelspec": {
      "name": "python3",
      "display_name": "Python 3"
    },
    "language_info": {
      "codemirror_mode": {
        "name": "ipython",
        "version": 3
      },
      "file_extension": ".py",
      "mimetype": "text/x-python",
      "name": "python",
      "nbconvert_exporter": "python",
      "pygments_lexer": "ipython3",
      "version": "3.6.8"
    },
    "colab": {
      "name": "vanilla_RNN.ipynb",
      "provenance": [],
      "collapsed_sections": [],
      "toc_visible": true,
      "machine_shape": "hm"
    },
    "accelerator": "TPU"
  },
  "cells": [
    {
      "cell_type": "markdown",
      "metadata": {
        "id": "41fhhqz9cpMY",
        "colab_type": "text"
      },
      "source": [
        "# Vanilla LSTM for Gene/No gene classification\n",
        "The Milestone 1 corresponds to the classication task of, given a sequence, predict if it contains a gene, a partial sequence of a gene or just intergenic code."
      ]
    },
    {
      "cell_type": "code",
      "metadata": {
        "id": "h-c6UAlXecMe",
        "colab_type": "code",
        "outputId": "042bbea7-c010-441e-eced-ed33c275de84",
        "colab": {
          "base_uri": "https://localhost:8080/",
          "height": 34
        }
      },
      "source": [
        "!pip3 install pyfastx"
      ],
      "execution_count": 191,
      "outputs": [
        {
          "output_type": "stream",
          "text": [
            "Requirement already satisfied: pyfastx in /usr/local/lib/python3.6/dist-packages (0.5.9)\n"
          ],
          "name": "stdout"
        }
      ]
    },
    {
      "cell_type": "code",
      "metadata": {
        "id": "qRzQiKX0cpMv",
        "colab_type": "code",
        "colab": {}
      },
      "source": [
        "import numpy as np\n",
        "import pickle\n",
        "import torch\n",
        "import torch.nn as nn\n",
        "import pandas as pd\n",
        "\n",
        "from tqdm import tqdm # progress bar\n",
        "from preproc_pipeline import window_pipeline\n",
        "from warnings import simplefilter"
      ],
      "execution_count": 0,
      "outputs": []
    },
    {
      "cell_type": "code",
      "metadata": {
        "id": "vBh07oIKIT7G",
        "colab_type": "code",
        "outputId": "24d76221-faa8-42c6-b3d4-a5d273231f6d",
        "colab": {
          "base_uri": "https://localhost:8080/",
          "height": 34
        }
      },
      "source": [
        "from google.colab import drive\n",
        "drive.mount('/content/drive')"
      ],
      "execution_count": 193,
      "outputs": [
        {
          "output_type": "stream",
          "text": [
            "Drive already mounted at /content/drive; to attempt to forcibly remount, call drive.mount(\"/content/drive\", force_remount=True).\n"
          ],
          "name": "stdout"
        }
      ]
    },
    {
      "cell_type": "markdown",
      "metadata": {
        "id": "pj7ghCdFcpNN",
        "colab_type": "text"
      },
      "source": [
        "## 1. Dataset for training\n",
        "The genome of E. coli will be used for this purpose."
      ]
    },
    {
      "cell_type": "code",
      "metadata": {
        "id": "xlomqEr_cpNV",
        "colab_type": "code",
        "colab": {}
      },
      "source": [
        "simplefilter(\"ignore\")\n",
        "genome = \"GCF_000008865.2_ASM886v2_genomic.fna\"\n",
        "feature_table = \"GCA_000008865.2_ASM886v2_feature_table.tsv\"\n",
        "df = window_pipeline(genome, feature_table)"
      ],
      "execution_count": 0,
      "outputs": []
    },
    {
      "cell_type": "code",
      "metadata": {
        "id": "mMNHc3Xb6uA_",
        "colab_type": "code",
        "outputId": "ba193bca-3922-462c-ca29-ef39a4606238",
        "colab": {
          "base_uri": "https://localhost:8080/",
          "height": 52
        }
      },
      "source": [
        "print(df.sequence.apply(lambda x: len(x)).max())\n",
        "len(df)"
      ],
      "execution_count": 195,
      "outputs": [
        {
          "output_type": "stream",
          "text": [
            "50\n"
          ],
          "name": "stdout"
        },
        {
          "output_type": "execute_result",
          "data": {
            "text/plain": [
              "36496"
            ]
          },
          "metadata": {
            "tags": []
          },
          "execution_count": 195
        }
      ]
    },
    {
      "cell_type": "markdown",
      "metadata": {
        "id": "8imkCBLk_yit",
        "colab_type": "text"
      },
      "source": [
        ""
      ]
    },
    {
      "cell_type": "code",
      "metadata": {
        "id": "7yI_vjULcpNr",
        "colab_type": "code",
        "outputId": "b0570b02-c5a4-4380-c650-0d1de64b2ccf",
        "colab": {
          "base_uri": "https://localhost:8080/",
          "height": 52
        }
      },
      "source": [
        "print(\n",
        "    f\"columns -> {list(df.columns)}\\n\"\n",
        "    f\"labels in dataframe -> {list(df.label.unique())}\"\n",
        ")"
      ],
      "execution_count": 196,
      "outputs": [
        {
          "output_type": "stream",
          "text": [
            "columns -> ['sequence', 'label']\n",
            "labels in dataframe -> ['gene', 'intergenic', 'partial']\n"
          ],
          "name": "stdout"
        }
      ]
    },
    {
      "cell_type": "markdown",
      "metadata": {
        "id": "QWshzjeHcpN-",
        "colab_type": "text"
      },
      "source": [
        "Let's get a one hot mapping for the labels."
      ]
    },
    {
      "cell_type": "code",
      "metadata": {
        "id": "F3fD5a7LcpOD",
        "colab_type": "code",
        "outputId": "aeb50db0-b7de-4c23-efb6-8f2513a412bf",
        "colab": {
          "base_uri": "https://localhost:8080/",
          "height": 52
        }
      },
      "source": [
        "labels = list(df.label.unique())\n",
        "lab0 = np.zeros(len(labels))\n",
        "lab2vec = {}\n",
        "vec2lab = {}\n",
        "for i, label in enumerate(list(df.label.unique())):\n",
        "    labv = lab0.copy()\n",
        "    labv[i] = 1\n",
        "    lab2vec[label] = labv\n",
        "    vec2lab[tuple(labv)] = label\n",
        "\n",
        "print(f\"lab2vec -> {lab2vec}\\nvec2lab -> {vec2lab}\")"
      ],
      "execution_count": 197,
      "outputs": [
        {
          "output_type": "stream",
          "text": [
            "lab2vec -> {'gene': array([1., 0., 0.]), 'intergenic': array([0., 1., 0.]), 'partial': array([0., 0., 1.])}\n",
            "vec2lab -> {(1.0, 0.0, 0.0): 'gene', (0.0, 1.0, 0.0): 'intergenic', (0.0, 0.0, 1.0): 'partial'}\n"
          ],
          "name": "stdout"
        }
      ]
    },
    {
      "cell_type": "code",
      "metadata": {
        "id": "QzAINOOA9ge1",
        "colab_type": "code",
        "outputId": "55b58d1b-840a-4be8-e473-0022ac39d1ac",
        "colab": {
          "base_uri": "https://localhost:8080/",
          "height": 69
        }
      },
      "source": [
        "print(df[df.sequence.apply(lambda x: len(x)==0)].count())\n",
        "df = df[~df.sequence.apply(lambda x: len(x)==0)]"
      ],
      "execution_count": 198,
      "outputs": [
        {
          "output_type": "stream",
          "text": [
            "sequence    0\n",
            "label       0\n",
            "dtype: int64\n"
          ],
          "name": "stdout"
        }
      ]
    },
    {
      "cell_type": "markdown",
      "metadata": {
        "id": "KNxgBpL9QxZj",
        "colab_type": "text"
      },
      "source": [
        "Need to check why it always generate a 0 length row. I think is the last one, but I am not sure."
      ]
    },
    {
      "cell_type": "code",
      "metadata": {
        "id": "XTcHbHV8cpOT",
        "colab_type": "code",
        "outputId": "a1e3575b-b989-4e70-d59e-0be7dc4e7490",
        "colab": {
          "base_uri": "https://localhost:8080/",
          "height": 551
        }
      },
      "source": [
        "df[\"label_onehot\"] = df.label.apply(lambda x: lab2vec[x])\n",
        "toy = pd.concat([df[df.label==\"gene\"].sample(n=10),\n",
        "                df[df.label==\"intergenic\"].sample(n=10)])\n",
        "                # df[df.label==\"partial\"].sample(n=100)]).reset_index(drop=True)\n",
        "toy[\"label_onehot\"] = toy.label_onehot.apply(lambda x: x[0:2])\n",
        "df_train = toy.sample(frac=8/10) # shuffle\n",
        "#df_test = df[~df.index.isin(df_train.index)].dropna().reset_index(drop=True)\n",
        "df_test = toy[~toy.sequence.isin(df_train.sequence)].reset_index(drop=True)\n",
        "df_train = df_train.reset_index(drop=True)\n",
        "df_train"
      ],
      "execution_count": 199,
      "outputs": [
        {
          "output_type": "execute_result",
          "data": {
            "text/html": [
              "<div>\n",
              "<style scoped>\n",
              "    .dataframe tbody tr th:only-of-type {\n",
              "        vertical-align: middle;\n",
              "    }\n",
              "\n",
              "    .dataframe tbody tr th {\n",
              "        vertical-align: top;\n",
              "    }\n",
              "\n",
              "    .dataframe thead th {\n",
              "        text-align: right;\n",
              "    }\n",
              "</style>\n",
              "<table border=\"1\" class=\"dataframe\">\n",
              "  <thead>\n",
              "    <tr style=\"text-align: right;\">\n",
              "      <th></th>\n",
              "      <th>sequence</th>\n",
              "      <th>label</th>\n",
              "      <th>label_onehot</th>\n",
              "    </tr>\n",
              "  </thead>\n",
              "  <tbody>\n",
              "    <tr>\n",
              "      <th>0</th>\n",
              "      <td>TAAGGTGGTGACGTAACAACGCATTGTCTTCAACAACCAGTACGCG...</td>\n",
              "      <td>gene</td>\n",
              "      <td>[1.0, 0.0]</td>\n",
              "    </tr>\n",
              "    <tr>\n",
              "      <th>1</th>\n",
              "      <td>CAATTAATCAAAATACTGTTCTGACATCAGGCAATGCAGGTGCAGA...</td>\n",
              "      <td>intergenic</td>\n",
              "      <td>[0.0, 1.0]</td>\n",
              "    </tr>\n",
              "    <tr>\n",
              "      <th>2</th>\n",
              "      <td>ACCCGTTTTGGCGGTGTCGGCCTGACGCCTGCCTGTGAAAAAGGCC...</td>\n",
              "      <td>gene</td>\n",
              "      <td>[1.0, 0.0]</td>\n",
              "    </tr>\n",
              "    <tr>\n",
              "      <th>3</th>\n",
              "      <td>AGTTAATAAACCAGCGAAACATCTTAGAGCAAAGTTGCGCTGGCAT...</td>\n",
              "      <td>intergenic</td>\n",
              "      <td>[0.0, 1.0]</td>\n",
              "    </tr>\n",
              "    <tr>\n",
              "      <th>4</th>\n",
              "      <td>TTAAAAGTTTGATGCTCAAAGAATTAAACTTCGTAATGAATTACGT...</td>\n",
              "      <td>intergenic</td>\n",
              "      <td>[0.0, 1.0]</td>\n",
              "    </tr>\n",
              "    <tr>\n",
              "      <th>5</th>\n",
              "      <td>ATAGGAATGATTTTGGCTTTTTAAATATGCTTAAAACGGTGTTGGC...</td>\n",
              "      <td>intergenic</td>\n",
              "      <td>[0.0, 1.0]</td>\n",
              "    </tr>\n",
              "    <tr>\n",
              "      <th>6</th>\n",
              "      <td>GAAACCAGGGCGCGAATGCATGGTCGTACTCGCGTCCAGCAAGCCG...</td>\n",
              "      <td>gene</td>\n",
              "      <td>[1.0, 0.0]</td>\n",
              "    </tr>\n",
              "    <tr>\n",
              "      <th>7</th>\n",
              "      <td>CAAAATAGCCCAAGTTGCCCGGTCATAAGTGTAGCAAAATTATCCT...</td>\n",
              "      <td>gene</td>\n",
              "      <td>[1.0, 0.0]</td>\n",
              "    </tr>\n",
              "    <tr>\n",
              "      <th>8</th>\n",
              "      <td>GAACTTTAGCCATTTCTAACCACTCCTCGTGTTATCTCTATTCCGT...</td>\n",
              "      <td>intergenic</td>\n",
              "      <td>[0.0, 1.0]</td>\n",
              "    </tr>\n",
              "    <tr>\n",
              "      <th>9</th>\n",
              "      <td>AAAGCATTCGTCACGCATCAAAATGGTATCTGGCGAACTCTTTTTT...</td>\n",
              "      <td>intergenic</td>\n",
              "      <td>[0.0, 1.0]</td>\n",
              "    </tr>\n",
              "    <tr>\n",
              "      <th>10</th>\n",
              "      <td>TGGACGTTCAGCAACTGCATTATGCGCCACTTCTAAATCAGCTTCA...</td>\n",
              "      <td>gene</td>\n",
              "      <td>[1.0, 0.0]</td>\n",
              "    </tr>\n",
              "    <tr>\n",
              "      <th>11</th>\n",
              "      <td>AGCCAGAGCGCACCACAACATGGTCATCCACCAGCACTACCCGAAT...</td>\n",
              "      <td>gene</td>\n",
              "      <td>[1.0, 0.0]</td>\n",
              "    </tr>\n",
              "    <tr>\n",
              "      <th>12</th>\n",
              "      <td>GAGCGATTTTATCCGCAGCGCCCCGCTACGCGTAGGGACGAGAAAC...</td>\n",
              "      <td>gene</td>\n",
              "      <td>[1.0, 0.0]</td>\n",
              "    </tr>\n",
              "    <tr>\n",
              "      <th>13</th>\n",
              "      <td>AGTTATCAGAGCCATCAGTAGTTAACTGGTGGCTTTTTTATTGTTG...</td>\n",
              "      <td>intergenic</td>\n",
              "      <td>[0.0, 1.0]</td>\n",
              "    </tr>\n",
              "    <tr>\n",
              "      <th>14</th>\n",
              "      <td>AATTTCTCCGCGTTTTTTTCGCATTCATCTCGCTAACTTCGCTTAT...</td>\n",
              "      <td>intergenic</td>\n",
              "      <td>[0.0, 1.0]</td>\n",
              "    </tr>\n",
              "    <tr>\n",
              "      <th>15</th>\n",
              "      <td>CCATGGGTCTAAAGACGAAGGCAGCGCAGTCAATCAGCAGGAAGGT...</td>\n",
              "      <td>intergenic</td>\n",
              "      <td>[0.0, 1.0]</td>\n",
              "    </tr>\n",
              "  </tbody>\n",
              "</table>\n",
              "</div>"
            ],
            "text/plain": [
              "                                             sequence       label label_onehot\n",
              "0   TAAGGTGGTGACGTAACAACGCATTGTCTTCAACAACCAGTACGCG...        gene   [1.0, 0.0]\n",
              "1   CAATTAATCAAAATACTGTTCTGACATCAGGCAATGCAGGTGCAGA...  intergenic   [0.0, 1.0]\n",
              "2   ACCCGTTTTGGCGGTGTCGGCCTGACGCCTGCCTGTGAAAAAGGCC...        gene   [1.0, 0.0]\n",
              "3   AGTTAATAAACCAGCGAAACATCTTAGAGCAAAGTTGCGCTGGCAT...  intergenic   [0.0, 1.0]\n",
              "4   TTAAAAGTTTGATGCTCAAAGAATTAAACTTCGTAATGAATTACGT...  intergenic   [0.0, 1.0]\n",
              "5   ATAGGAATGATTTTGGCTTTTTAAATATGCTTAAAACGGTGTTGGC...  intergenic   [0.0, 1.0]\n",
              "6   GAAACCAGGGCGCGAATGCATGGTCGTACTCGCGTCCAGCAAGCCG...        gene   [1.0, 0.0]\n",
              "7   CAAAATAGCCCAAGTTGCCCGGTCATAAGTGTAGCAAAATTATCCT...        gene   [1.0, 0.0]\n",
              "8   GAACTTTAGCCATTTCTAACCACTCCTCGTGTTATCTCTATTCCGT...  intergenic   [0.0, 1.0]\n",
              "9   AAAGCATTCGTCACGCATCAAAATGGTATCTGGCGAACTCTTTTTT...  intergenic   [0.0, 1.0]\n",
              "10  TGGACGTTCAGCAACTGCATTATGCGCCACTTCTAAATCAGCTTCA...        gene   [1.0, 0.0]\n",
              "11  AGCCAGAGCGCACCACAACATGGTCATCCACCAGCACTACCCGAAT...        gene   [1.0, 0.0]\n",
              "12  GAGCGATTTTATCCGCAGCGCCCCGCTACGCGTAGGGACGAGAAAC...        gene   [1.0, 0.0]\n",
              "13  AGTTATCAGAGCCATCAGTAGTTAACTGGTGGCTTTTTTATTGTTG...  intergenic   [0.0, 1.0]\n",
              "14  AATTTCTCCGCGTTTTTTTCGCATTCATCTCGCTAACTTCGCTTAT...  intergenic   [0.0, 1.0]\n",
              "15  CCATGGGTCTAAAGACGAAGGCAGCGCAGTCAATCAGCAGGAAGGT...  intergenic   [0.0, 1.0]"
            ]
          },
          "metadata": {
            "tags": []
          },
          "execution_count": 199
        }
      ]
    },
    {
      "cell_type": "code",
      "metadata": {
        "id": "eCePneq5Ojvp",
        "colab_type": "code",
        "outputId": "76007513-dc9c-4923-dd40-0d422d4d3c5a",
        "colab": {
          "base_uri": "https://localhost:8080/",
          "height": 175
        }
      },
      "source": [
        "df_test"
      ],
      "execution_count": 0,
      "outputs": [
        {
          "output_type": "execute_result",
          "data": {
            "text/html": [
              "<div>\n",
              "<style scoped>\n",
              "    .dataframe tbody tr th:only-of-type {\n",
              "        vertical-align: middle;\n",
              "    }\n",
              "\n",
              "    .dataframe tbody tr th {\n",
              "        vertical-align: top;\n",
              "    }\n",
              "\n",
              "    .dataframe thead th {\n",
              "        text-align: right;\n",
              "    }\n",
              "</style>\n",
              "<table border=\"1\" class=\"dataframe\">\n",
              "  <thead>\n",
              "    <tr style=\"text-align: right;\">\n",
              "      <th></th>\n",
              "      <th>sequence</th>\n",
              "      <th>label</th>\n",
              "      <th>label_onehot</th>\n",
              "    </tr>\n",
              "  </thead>\n",
              "  <tbody>\n",
              "    <tr>\n",
              "      <th>0</th>\n",
              "      <td>TCCTGATGACGTTGACATTGATGAAATGGAAAGGGAGATGAAGCAA...</td>\n",
              "      <td>gene</td>\n",
              "      <td>[1.0, 0.0]</td>\n",
              "    </tr>\n",
              "    <tr>\n",
              "      <th>1</th>\n",
              "      <td>TTTTGCTGATGCGCCGTATCGTCGCCGTATTCCTGCATTAACAGAG...</td>\n",
              "      <td>intergenic</td>\n",
              "      <td>[0.0, 1.0]</td>\n",
              "    </tr>\n",
              "    <tr>\n",
              "      <th>2</th>\n",
              "      <td>TAGCTTATGCTTGTGCCGGGTCCGGGTATAACAACCATGAGTAATC...</td>\n",
              "      <td>intergenic</td>\n",
              "      <td>[0.0, 1.0]</td>\n",
              "    </tr>\n",
              "    <tr>\n",
              "      <th>3</th>\n",
              "      <td>CAAATCCTCTCAATCGATATCTTCTGGCGCTTCAGTGGTAGCAACA...</td>\n",
              "      <td>intergenic</td>\n",
              "      <td>[0.0, 1.0]</td>\n",
              "    </tr>\n",
              "  </tbody>\n",
              "</table>\n",
              "</div>"
            ],
            "text/plain": [
              "                                            sequence       label label_onehot\n",
              "0  TCCTGATGACGTTGACATTGATGAAATGGAAAGGGAGATGAAGCAA...        gene   [1.0, 0.0]\n",
              "1  TTTTGCTGATGCGCCGTATCGTCGCCGTATTCCTGCATTAACAGAG...  intergenic   [0.0, 1.0]\n",
              "2  TAGCTTATGCTTGTGCCGGGTCCGGGTATAACAACCATGAGTAATC...  intergenic   [0.0, 1.0]\n",
              "3  CAAATCCTCTCAATCGATATCTTCTGGCGCTTCAGTGGTAGCAACA...  intergenic   [0.0, 1.0]"
            ]
          },
          "metadata": {
            "tags": []
          },
          "execution_count": 162
        }
      ]
    },
    {
      "cell_type": "markdown",
      "metadata": {
        "id": "qZnhk8eFcpOj",
        "colab_type": "text"
      },
      "source": [
        "## 2. Embeddings\n",
        "The next step is to use the whole sequence to compute the embeddings. First, get a set of k-mers, that will be our words for this NLP problem."
      ]
    },
    {
      "cell_type": "markdown",
      "metadata": {
        "id": "udqIi0wBcpO3",
        "colab_type": "text"
      },
      "source": [
        "Finally, gather all the kmers and apply the CBOW algorithm."
      ]
    },
    {
      "cell_type": "code",
      "metadata": {
        "id": "nJ24vZP71HFi",
        "colab_type": "code",
        "colab": {}
      },
      "source": [
        "# Since we have the embeddings stored, we are going to ignore the following next\n",
        "# two cells and use this one\n",
        "stored = False\n",
        "\n",
        "if stored:\n",
        "  with open(\"/content/drive/My Drive/wti.p\", \"rb\") as f:\n",
        "    word_to_ix = pickle.load(f)\n",
        "  ix_to_word = {v: k for k,v in word_to_ix.items()}\n",
        "  model_save_name = 'ma_model.pt'\n",
        "  path = model_save_name\n",
        "  path = F\"/content/drive/My Drive/{model_save_name}\" \n",
        "  model = CBOW(len(word_to_ix), EMDEDDING_DIM, padding_idx=word_to_ix[\"X\"]).cpu()\n",
        "  model.load_state_dict(torch.load(path, map_location=torch.device('cpu')))"
      ],
      "execution_count": 0,
      "outputs": []
    },
    {
      "cell_type": "markdown",
      "metadata": {
        "id": "JJKW2iVSlmGQ",
        "colab_type": "text"
      },
      "source": [
        "## 4. Vanilla RNN model"
      ]
    },
    {
      "cell_type": "code",
      "metadata": {
        "id": "GniwYJ6mlswA",
        "colab_type": "code",
        "colab": {}
      },
      "source": [
        "from torch.autograd import Variable\n",
        "\n",
        "class RNN(nn.Module):\n",
        "    def __init__(self, input_dim, hidden_dim, hidden_out, output_dim, t):\n",
        "\n",
        "        super().__init__()\n",
        "        self.nb_tags = output_dim\n",
        "\n",
        "        self.rnn = nn.LSTM(input_dim, hidden_dim, bidirectional=False, batch_first=True)\n",
        "        \n",
        "        self.lhid = nn.Linear(t*hidden_dim, hidden_out)\n",
        "\n",
        "        self.fc = nn.Linear(hidden_out, output_dim)\n",
        "\n",
        "\n",
        "    def forward(self, text):\n",
        "\n",
        "        #text = [sent len, batch size]\n",
        "        # 1. LSTM\n",
        "        output, hidden = self.rnn(text)\n",
        "\n",
        "        # 2. get that so it's correctly packed for the hidden layer\n",
        "        output = output.contiguous()\n",
        "        output = output.reshape(output.shape[0], -1)\n",
        "\n",
        "        output = nn.functional.relu(self.lhid(output))\n",
        "        #print('after linear layer')\n",
        "        #print(output.size())\n",
        "\n",
        "        # 3. classification\n",
        "        output = self.fc(output)\n",
        "        #print(output.size())\n",
        "        output = nn.functional.log_softmax(output, dim=1)\n",
        "        #print(output.size())\n",
        "        # output = output.view(text.size()[0], -1)\n",
        "        return output"
      ],
      "execution_count": 0,
      "outputs": []
    },
    {
      "cell_type": "markdown",
      "metadata": {
        "id": "Hqnu9WvB8uvw",
        "colab_type": "text"
      },
      "source": [
        "## 4. Tweak the embeddings to accomodate varying sizes of the sequences\n",
        "Once we have the model and the embeddings, we would need to tweak the embeddings so that they are adjusted for the padded sequences.\n",
        "\n",
        "### 4.1. Add the padding char to the embeddings"
      ]
    },
    {
      "cell_type": "markdown",
      "metadata": {
        "id": "T2KEUxaSAuAh",
        "colab_type": "text"
      },
      "source": [
        "Now, get sequences as indexes."
      ]
    },
    {
      "cell_type": "markdown",
      "metadata": {
        "id": "Wl02HKniKTHy",
        "colab_type": "text"
      },
      "source": [
        "The following code is to try and entirely different way with enco"
      ]
    },
    {
      "cell_type": "code",
      "metadata": {
        "id": "vW8dkfajKAb9",
        "colab_type": "code",
        "colab": {}
      },
      "source": [
        "def code_one_hot(seq,vocab):\n",
        "  encoding = np.array([vocab[ch] for ch in seq], dtype=\"int64\")\n",
        "\n",
        "  encoding.reshape(encoding.shape[0], encoding.shape[1], 1)\n",
        "  return encoding\n",
        "\n",
        "nuc_to_ix = {\"A\": [1,0,0,0], \"G\": [0,1,0,0], \"T\": [0,0,1,0], \"C\" : [0,0,0,1]}\n",
        "nuc_to_ix = {k: np.array(v, \"int64\") for k,v in nuc_to_ix.items()}"
      ],
      "execution_count": 0,
      "outputs": []
    },
    {
      "cell_type": "code",
      "metadata": {
        "id": "5jNr7uvAK_lU",
        "colab_type": "code",
        "colab": {}
      },
      "source": [
        "df_train[\"onehot\"] = df_train.sequence.apply(lambda x: code_one_hot(x, nuc_to_ix))\n",
        "df_test[\"onehot\"] = df_test.sequence.apply(lambda x: code_one_hot(x, nuc_to_ix))"
      ],
      "execution_count": 0,
      "outputs": []
    },
    {
      "cell_type": "code",
      "metadata": {
        "id": "UIhlymvfOyvP",
        "colab_type": "code",
        "outputId": "26ca0b22-20e5-4350-cd6d-c78d4ddc1bd8",
        "colab": {
          "base_uri": "https://localhost:8080/",
          "height": 52
        }
      },
      "source": [
        "print(f\"number of rows -> {len(df_train)}\")\n",
        "print(f\"length of index seq -> {np.unique(df_train.onehot.apply(lambda x: len(x)))}\")"
      ],
      "execution_count": 204,
      "outputs": [
        {
          "output_type": "stream",
          "text": [
            "number of rows -> 16\n",
            "length of index seq -> [50]\n"
          ],
          "name": "stdout"
        }
      ]
    },
    {
      "cell_type": "markdown",
      "metadata": {
        "id": "L9U_zq-5FIbp",
        "colab_type": "text"
      },
      "source": [
        "Finally, instantiante the model and initialize the weigths of the embeddings."
      ]
    },
    {
      "cell_type": "code",
      "metadata": {
        "id": "7dJjn7v2lVBv",
        "colab_type": "code",
        "outputId": "c8f76bce-7f77-40d3-8b59-3d87ddd0a154",
        "colab": {
          "base_uri": "https://localhost:8080/",
          "height": 52
        }
      },
      "source": [
        "print(word_to_ix[\"X\"])\n",
        "print(len(set(word_to_ix.keys()))-1)"
      ],
      "execution_count": 205,
      "outputs": [
        {
          "output_type": "stream",
          "text": [
            "64\n",
            "64\n"
          ],
          "name": "stdout"
        }
      ]
    },
    {
      "cell_type": "code",
      "metadata": {
        "id": "go5mnL9uFJQu",
        "colab_type": "code",
        "colab": {}
      },
      "source": [
        "t = len(df_train.iloc[0,-1]) # Find length of seqs (fixed)\n",
        "\n",
        "rnn = RNN(input_dim=len(nuc_to_ix), hidden_dim = 34, hidden_out = 90, output_dim=2, t = t)\n"
      ],
      "execution_count": 0,
      "outputs": []
    },
    {
      "cell_type": "markdown",
      "metadata": {
        "id": "yrH8hOnvmWE1",
        "colab_type": "text"
      },
      "source": [
        "## 5. Training loop\n"
      ]
    },
    {
      "cell_type": "markdown",
      "metadata": {
        "id": "KQ3hnv3Onw--",
        "colab_type": "text"
      },
      "source": [
        "All that is left is to split our training and testing and train the model."
      ]
    },
    {
      "cell_type": "code",
      "metadata": {
        "id": "jjL8fY-LCftw",
        "colab_type": "code",
        "colab": {}
      },
      "source": [
        "from torch.utils.data import DataLoader, Dataset\n",
        "\n",
        "class oversampdata(Dataset):\n",
        "  def __init__(self, data):\n",
        "    # first column is list of index sentence\n",
        "    self.data = torch.LongTensor(np.ndarray.astype(np.array([\n",
        "                    np.array(r) \n",
        "                    for r in data.iloc[:,0].to_numpy()]), \"int64\"))\n",
        "    # second column is the label\n",
        "    self.targets = torch.LongTensor(np.ndarray.astype(np.array([\n",
        "                    np.array(r) \n",
        "                    for r in data.iloc[:,1].to_numpy()]), \"int64\"))\n",
        "\n",
        "  def __len__(self):\n",
        "    return len(self.data)\n",
        "\n",
        "  def __getitem__(self, index):\n",
        "    data_val = self.data[index]\n",
        "    target = self.targets[index]\n",
        "    return data_val, target\n",
        "\n",
        "train_dataset = oversampdata(df_train.loc[:,[\"onehot\", \"label_onehot\"]])\n",
        "valid_dataset = oversampdata(df_test.loc[:,[\"onehot\", \"label_onehot\"]])"
      ],
      "execution_count": 0,
      "outputs": []
    },
    {
      "cell_type": "code",
      "metadata": {
        "id": "IenV-ndMvJVW",
        "colab_type": "code",
        "colab": {}
      },
      "source": [
        "BATCH_SIZE = 1\n",
        "\n",
        "trainloader = torch.utils.data.DataLoader(train_dataset, batch_size=BATCH_SIZE, \n",
        "                                          shuffle=True)\n",
        "testloader = torch.utils.data.DataLoader(valid_dataset, batch_size=BATCH_SIZE, \n",
        "                                         shuffle=False)"
      ],
      "execution_count": 0,
      "outputs": []
    },
    {
      "cell_type": "code",
      "metadata": {
        "id": "fMKJKbYoBZQD",
        "colab_type": "code",
        "colab": {}
      },
      "source": [
        "def binary_accuracy(preds, y):\n",
        "   \"\"\"\n",
        "   Returns accuracy per batch, i.e. if you get 8/10 right, this returns 0.8, NOT 8\n",
        "   \"\"\"\n",
        "   rounded_preds = torch.zeros(preds.size())\n",
        "   for i in range(len(preds)):\n",
        "     idx_max = torch.where(preds[i].abs() == preds[i].abs().max())\n",
        "     rounded_preds[i][idx_max] = 1\n",
        "   rounded_preds = torch.FloatTensor(rounded_preds).int()\n",
        "   correct = (rounded_preds == y).float() #convert into float for division\n",
        "   acc = (correct.sum()/len(preds[0])) / len(correct)\n",
        "   return acc"
      ],
      "execution_count": 0,
      "outputs": []
    },
    {
      "cell_type": "code",
      "metadata": {
        "id": "CUPgdWw0maX7",
        "colab_type": "code",
        "colab": {}
      },
      "source": [
        "from torch.nn import Parameter\n",
        "\n",
        "def train(model, iterator, optimizer, criterion):\n",
        "    \n",
        "    epoch_loss = 0\n",
        "    epoch_acc = 0\n",
        "    \n",
        "    model.train()\n",
        "    print(\"Training...\")\n",
        "\n",
        "    for i, batch in enumerate(iterator):\n",
        "        if i%50:\n",
        "          sys.stdout.write(f\"\\rIteration {i}        \")\n",
        "          sys.stdout.flush()\n",
        "\n",
        "        inputs, labels_onehot = batch\n",
        "\n",
        "        inputs = Parameter(inputs.float(), requires_grad=True)\n",
        "\n",
        "        predictions = model(inputs)\n",
        "        \n",
        "        labels_idx = torch.LongTensor([np.where(label==1)[0][0] for label in labels_onehot])\n",
        "\n",
        "\n",
        "        loss = criterion(predictions, labels_idx)\n",
        "\n",
        "        optimizer.zero_grad()\n",
        "        \n",
        "        loss.backward()\n",
        "        \n",
        "        optimizer.step()\n",
        "        \n",
        "        acc = binary_accuracy(predictions, labels_onehot)\n",
        "        # print(loss.item())\n",
        "        epoch_loss += loss.item()\n",
        "        epoch_acc += acc.item()\n",
        "        \n",
        "    print()\n",
        "    return epoch_loss / len(iterator), epoch_acc / len(iterator)\n",
        "\n",
        "\n",
        "\n",
        "def evaluate(model, iterator, criterion):\n",
        "    epoch_loss = 0\n",
        "    epoch_acc = 0\n",
        "    \n",
        "    model.eval()\n",
        "    print(\"Evaluating...\")\n",
        "\n",
        "    for i, batch in enumerate(iterator):\n",
        "\n",
        "        inputs, labels_onehot = batch\n",
        "        \n",
        "        inputs = inputs.float()\n",
        "\n",
        "        predictions = model(inputs)\n",
        "        labels_idx = torch.LongTensor([np.where(label==1)[0][0] for label in labels_onehot])\n",
        "\n",
        "        loss = criterion(predictions, labels_idx)\n",
        "        acc = binary_accuracy(predictions, labels_onehot)\n",
        "\n",
        "        epoch_loss += loss.item()\n",
        "        epoch_acc += acc.item()\n",
        "    return epoch_loss / len(iterator), epoch_acc / len(iterator)\n",
        "\n",
        "optimizer = torch.optim.SGD(rnn.parameters(), lr=1e-2)\n",
        "#criterion = nn.BCEWithLogitsLoss()\n",
        "criterion = nn.CrossEntropyLoss()"
      ],
      "execution_count": 0,
      "outputs": []
    },
    {
      "cell_type": "code",
      "metadata": {
        "id": "OnXryGW6FmYD",
        "colab_type": "code",
        "outputId": "67016527-1ac1-4542-f628-83b5093c9154",
        "colab": {
          "base_uri": "https://localhost:8080/",
          "height": 34
        }
      },
      "source": [
        "len(train_dataset)"
      ],
      "execution_count": 0,
      "outputs": [
        {
          "output_type": "execute_result",
          "data": {
            "text/plain": [
              "16"
            ]
          },
          "metadata": {
            "tags": []
          },
          "execution_count": 175
        }
      ]
    },
    {
      "cell_type": "code",
      "metadata": {
        "id": "KLhfluLNmn5C",
        "colab_type": "code",
        "outputId": "91ca6581-b2e0-4f67-ffea-10ebb2ec9a3a",
        "colab": {
          "base_uri": "https://localhost:8080/",
          "height": 1000
        }
      },
      "source": [
        "%%time\n",
        "N_EPOCHS = 50\n",
        "model_save_name=\"ma_rnn.pt\"\n",
        "path = F\"/content/drive/My Drive/{model_save_name}\"\n",
        "\n",
        "best_valid_loss = float('inf')\n",
        "\n",
        "for epoch in range(N_EPOCHS):\n",
        "    print(\"Epoch: \" + str(epoch))\n",
        "    train_loss, train_acc = train(rnn, trainloader, optimizer, criterion)\n",
        "        \n",
        "    print()\n",
        "\n",
        "\n",
        "    valid_loss, valid_acc = evaluate(rnn, testloader, criterion)\n",
        "\n",
        "    #train_loss  = train(rnn, trainloader, optimizer, criterion)\n",
        "    #valid_loss  = evaluate(rnn, testloader, criterion)    \n",
        "    \n",
        "    if valid_loss < best_valid_loss:\n",
        "        best_valid_loss = valid_loss\n",
        "        torch.save(rnn.state_dict(), path)\n",
        "    \n",
        "    print(f'\\tTrain Loss: {train_loss:.3f} | Train Acc: {train_acc*100:.2f}%')\n",
        "    print(f'\\t Val. Loss: {valid_loss:.3f} |  Val. Acc: {valid_acc*100:.2f}%')\n",
        "    \n",
        "    #print(f'\\tTrain Loss: {train_loss:.3f}')\n",
        "    #print(f'\\t Val. Loss: {valid_loss:.3f}')"
      ],
      "execution_count": 232,
      "outputs": [
        {
          "output_type": "stream",
          "text": [
            "Epoch: 0\n",
            "Training...\n",
            "Iteration 15        \n",
            "\n",
            "Evaluating...\n",
            "\tTrain Loss: 0.624 | Train Acc: 25.00%\n",
            "\t Val. Loss: 0.755 |  Val. Acc: 75.00%\n",
            "Epoch: 1\n",
            "Training...\n",
            "Iteration 15        \n",
            "\n",
            "Evaluating...\n",
            "\tTrain Loss: 0.620 | Train Acc: 43.75%\n",
            "\t Val. Loss: 0.751 |  Val. Acc: 75.00%\n",
            "Epoch: 2\n",
            "Training...\n",
            "Iteration 15        \n",
            "\n",
            "Evaluating...\n",
            "\tTrain Loss: 0.615 | Train Acc: 37.50%\n",
            "\t Val. Loss: 0.753 |  Val. Acc: 75.00%\n",
            "Epoch: 3\n",
            "Training...\n",
            "Iteration 15        \n",
            "\n",
            "Evaluating...\n",
            "\tTrain Loss: 0.609 | Train Acc: 37.50%\n",
            "\t Val. Loss: 0.756 |  Val. Acc: 75.00%\n",
            "Epoch: 4\n",
            "Training...\n",
            "Iteration 15        \n",
            "\n",
            "Evaluating...\n",
            "\tTrain Loss: 0.600 | Train Acc: 18.75%\n",
            "\t Val. Loss: 0.779 |  Val. Acc: 75.00%\n",
            "Epoch: 5\n",
            "Training...\n",
            "Iteration 15        \n",
            "\n",
            "Evaluating...\n",
            "\tTrain Loss: 0.596 | Train Acc: 25.00%\n",
            "\t Val. Loss: 0.781 |  Val. Acc: 75.00%\n",
            "Epoch: 6\n",
            "Training...\n",
            "Iteration 15        \n",
            "\n",
            "Evaluating...\n",
            "\tTrain Loss: 0.588 | Train Acc: 25.00%\n",
            "\t Val. Loss: 0.788 |  Val. Acc: 75.00%\n",
            "Epoch: 7\n",
            "Training...\n",
            "Iteration 15        \n",
            "\n",
            "Evaluating...\n",
            "\tTrain Loss: 0.578 | Train Acc: 31.25%\n",
            "\t Val. Loss: 0.749 |  Val. Acc: 75.00%\n",
            "Epoch: 8\n",
            "Training...\n",
            "Iteration 15        \n",
            "\n",
            "Evaluating...\n",
            "\tTrain Loss: 0.568 | Train Acc: 12.50%\n",
            "\t Val. Loss: 0.789 |  Val. Acc: 75.00%\n",
            "Epoch: 9\n",
            "Training...\n",
            "Iteration 15        \n",
            "\n",
            "Evaluating...\n",
            "\tTrain Loss: 0.563 | Train Acc: 18.75%\n",
            "\t Val. Loss: 0.800 |  Val. Acc: 75.00%\n",
            "Epoch: 10\n",
            "Training...\n",
            "Iteration 15        \n",
            "\n",
            "Evaluating...\n",
            "\tTrain Loss: 0.556 | Train Acc: 25.00%\n",
            "\t Val. Loss: 0.790 |  Val. Acc: 75.00%\n",
            "Epoch: 11\n",
            "Training...\n",
            "Iteration 15        \n",
            "\n",
            "Evaluating...\n",
            "\tTrain Loss: 0.546 | Train Acc: 18.75%\n",
            "\t Val. Loss: 0.756 |  Val. Acc: 75.00%\n",
            "Epoch: 12\n",
            "Training...\n",
            "Iteration 15        \n",
            "\n",
            "Evaluating...\n",
            "\tTrain Loss: 0.532 | Train Acc: 12.50%\n",
            "\t Val. Loss: 0.731 |  Val. Acc: 50.00%\n",
            "Epoch: 13\n",
            "Training...\n",
            "Iteration 15        \n",
            "\n",
            "Evaluating...\n",
            "\tTrain Loss: 0.514 | Train Acc: 6.25%\n",
            "\t Val. Loss: 0.825 |  Val. Acc: 75.00%\n",
            "Epoch: 14\n",
            "Training...\n",
            "Iteration 15        \n",
            "\n",
            "Evaluating...\n",
            "\tTrain Loss: 0.507 | Train Acc: 25.00%\n",
            "\t Val. Loss: 0.747 |  Val. Acc: 50.00%\n",
            "Epoch: 15\n",
            "Training...\n",
            "Iteration 15        \n",
            "\n",
            "Evaluating...\n",
            "\tTrain Loss: 0.491 | Train Acc: 18.75%\n",
            "\t Val. Loss: 0.713 |  Val. Acc: 50.00%\n",
            "Epoch: 16\n",
            "Training...\n",
            "Iteration 15        \n",
            "\n",
            "Evaluating...\n",
            "\tTrain Loss: 0.483 | Train Acc: 18.75%\n",
            "\t Val. Loss: 0.716 |  Val. Acc: 50.00%\n",
            "Epoch: 17\n",
            "Training...\n",
            "Iteration 15        \n",
            "\n",
            "Evaluating...\n",
            "\tTrain Loss: 0.464 | Train Acc: 6.25%\n",
            "\t Val. Loss: 0.697 |  Val. Acc: 50.00%\n",
            "Epoch: 18\n",
            "Training...\n",
            "Iteration 15        \n",
            "\n",
            "Evaluating...\n",
            "\tTrain Loss: 0.457 | Train Acc: 6.25%\n",
            "\t Val. Loss: 0.760 |  Val. Acc: 50.00%\n",
            "Epoch: 19\n",
            "Training...\n",
            "Iteration 15        \n",
            "\n",
            "Evaluating...\n",
            "\tTrain Loss: 0.441 | Train Acc: 0.00%\n",
            "\t Val. Loss: 0.803 |  Val. Acc: 75.00%\n",
            "Epoch: 20\n",
            "Training...\n",
            "Iteration 15        \n",
            "\n",
            "Evaluating...\n",
            "\tTrain Loss: 0.401 | Train Acc: 0.00%\n",
            "\t Val. Loss: 0.954 |  Val. Acc: 75.00%\n",
            "Epoch: 21\n",
            "Training...\n",
            "Iteration 15        \n",
            "\n",
            "Evaluating...\n",
            "\tTrain Loss: 0.410 | Train Acc: 12.50%\n",
            "\t Val. Loss: 0.762 |  Val. Acc: 50.00%\n",
            "Epoch: 22\n",
            "Training...\n",
            "Iteration 15        \n",
            "\n",
            "Evaluating...\n",
            "\tTrain Loss: 0.394 | Train Acc: 12.50%\n",
            "\t Val. Loss: 0.764 |  Val. Acc: 50.00%\n",
            "Epoch: 23\n",
            "Training...\n",
            "Iteration 15        \n",
            "\n",
            "Evaluating...\n",
            "\tTrain Loss: 0.373 | Train Acc: 0.00%\n",
            "\t Val. Loss: 0.776 |  Val. Acc: 50.00%\n",
            "Epoch: 24\n",
            "Training...\n",
            "Iteration 15        \n",
            "\n",
            "Evaluating...\n",
            "\tTrain Loss: 0.357 | Train Acc: 6.25%\n",
            "\t Val. Loss: 0.746 |  Val. Acc: 50.00%\n",
            "Epoch: 25\n",
            "Training...\n",
            "Iteration 15        \n",
            "\n",
            "Evaluating...\n",
            "\tTrain Loss: 0.335 | Train Acc: 6.25%\n",
            "\t Val. Loss: 0.691 |  Val. Acc: 75.00%\n",
            "Epoch: 26\n",
            "Training...\n",
            "Iteration 15        \n",
            "\n",
            "Evaluating...\n",
            "\tTrain Loss: 0.316 | Train Acc: 0.00%\n",
            "\t Val. Loss: 0.828 |  Val. Acc: 50.00%\n",
            "Epoch: 27\n",
            "Training...\n",
            "Iteration 15        \n",
            "\n",
            "Evaluating...\n",
            "\tTrain Loss: 0.301 | Train Acc: 6.25%\n",
            "\t Val. Loss: 0.735 |  Val. Acc: 50.00%\n",
            "Epoch: 28\n",
            "Training...\n",
            "Iteration 15        \n",
            "\n",
            "Evaluating...\n",
            "\tTrain Loss: 0.284 | Train Acc: 0.00%\n",
            "\t Val. Loss: 0.716 |  Val. Acc: 75.00%\n",
            "Epoch: 29\n",
            "Training...\n",
            "Iteration 15        \n",
            "\n",
            "Evaluating...\n",
            "\tTrain Loss: 0.264 | Train Acc: 0.00%\n",
            "\t Val. Loss: 0.915 |  Val. Acc: 75.00%\n",
            "Epoch: 30\n",
            "Training...\n",
            "Iteration 15        \n",
            "\n",
            "Evaluating...\n",
            "\tTrain Loss: 0.254 | Train Acc: 0.00%\n",
            "\t Val. Loss: 0.691 |  Val. Acc: 75.00%\n",
            "Epoch: 31\n",
            "Training...\n",
            "Iteration 15        \n",
            "\n",
            "Evaluating...\n",
            "\tTrain Loss: 0.249 | Train Acc: 6.25%\n",
            "\t Val. Loss: 0.831 |  Val. Acc: 50.00%\n",
            "Epoch: 32\n",
            "Training...\n",
            "Iteration 15        \n",
            "\n",
            "Evaluating...\n",
            "\tTrain Loss: 0.231 | Train Acc: 0.00%\n",
            "\t Val. Loss: 0.869 |  Val. Acc: 50.00%\n",
            "Epoch: 33\n",
            "Training...\n",
            "Iteration 15        \n",
            "\n",
            "Evaluating...\n",
            "\tTrain Loss: 0.212 | Train Acc: 0.00%\n",
            "\t Val. Loss: 0.918 |  Val. Acc: 50.00%\n",
            "Epoch: 34\n",
            "Training...\n",
            "Iteration 15        \n",
            "\n",
            "Evaluating...\n",
            "\tTrain Loss: 0.204 | Train Acc: 0.00%\n",
            "\t Val. Loss: 0.752 |  Val. Acc: 50.00%\n",
            "Epoch: 35\n",
            "Training...\n",
            "Iteration 15        \n",
            "\n",
            "Evaluating...\n",
            "\tTrain Loss: 0.179 | Train Acc: 0.00%\n",
            "\t Val. Loss: 1.009 |  Val. Acc: 75.00%\n",
            "Epoch: 36\n",
            "Training...\n",
            "Iteration 15        \n",
            "\n",
            "Evaluating...\n",
            "\tTrain Loss: 0.178 | Train Acc: 0.00%\n",
            "\t Val. Loss: 0.775 |  Val. Acc: 50.00%\n",
            "Epoch: 37\n",
            "Training...\n",
            "Iteration 15        \n",
            "\n",
            "Evaluating...\n",
            "\tTrain Loss: 0.164 | Train Acc: 0.00%\n",
            "\t Val. Loss: 0.745 |  Val. Acc: 75.00%\n",
            "Epoch: 38\n",
            "Training...\n",
            "Iteration 15        \n",
            "\n",
            "Evaluating...\n",
            "\tTrain Loss: 0.151 | Train Acc: 0.00%\n",
            "\t Val. Loss: 0.714 |  Val. Acc: 75.00%\n",
            "Epoch: 39\n",
            "Training...\n",
            "Iteration 15        \n",
            "\n",
            "Evaluating...\n",
            "\tTrain Loss: 0.146 | Train Acc: 0.00%\n",
            "\t Val. Loss: 0.824 |  Val. Acc: 50.00%\n",
            "Epoch: 40\n",
            "Training...\n",
            "Iteration 15        \n",
            "\n",
            "Evaluating...\n",
            "\tTrain Loss: 0.124 | Train Acc: 0.00%\n",
            "\t Val. Loss: 0.699 |  Val. Acc: 75.00%\n",
            "Epoch: 41\n",
            "Training...\n",
            "Iteration 15        \n",
            "\n",
            "Evaluating...\n",
            "\tTrain Loss: 0.131 | Train Acc: 0.00%\n",
            "\t Val. Loss: 0.828 |  Val. Acc: 50.00%\n",
            "Epoch: 42\n",
            "Training...\n",
            "Iteration 15        \n",
            "\n",
            "Evaluating...\n",
            "\tTrain Loss: 0.109 | Train Acc: 0.00%\n",
            "\t Val. Loss: 0.972 |  Val. Acc: 50.00%\n",
            "Epoch: 43\n",
            "Training...\n",
            "Iteration 15        \n",
            "\n",
            "Evaluating...\n",
            "\tTrain Loss: 0.109 | Train Acc: 0.00%\n",
            "\t Val. Loss: 0.764 |  Val. Acc: 75.00%\n",
            "Epoch: 44\n",
            "Training...\n",
            "Iteration 15        \n",
            "\n",
            "Evaluating...\n",
            "\tTrain Loss: 0.100 | Train Acc: 0.00%\n",
            "\t Val. Loss: 0.958 |  Val. Acc: 50.00%\n",
            "Epoch: 45\n",
            "Training...\n",
            "Iteration 15        \n",
            "\n",
            "Evaluating...\n",
            "\tTrain Loss: 0.094 | Train Acc: 0.00%\n",
            "\t Val. Loss: 0.806 |  Val. Acc: 75.00%\n",
            "Epoch: 46\n",
            "Training...\n",
            "Iteration 15        \n",
            "\n",
            "Evaluating...\n",
            "\tTrain Loss: 0.090 | Train Acc: 0.00%\n",
            "\t Val. Loss: 0.794 |  Val. Acc: 75.00%\n",
            "Epoch: 47\n",
            "Training...\n",
            "Iteration 15        \n",
            "\n",
            "Evaluating...\n",
            "\tTrain Loss: 0.081 | Train Acc: 0.00%\n",
            "\t Val. Loss: 0.965 |  Val. Acc: 50.00%\n",
            "Epoch: 48\n",
            "Training...\n",
            "Iteration 15        \n",
            "\n",
            "Evaluating...\n",
            "\tTrain Loss: 0.079 | Train Acc: 0.00%\n",
            "\t Val. Loss: 0.838 |  Val. Acc: 75.00%\n",
            "Epoch: 49\n",
            "Training...\n",
            "Iteration 15        \n",
            "\n",
            "Evaluating...\n",
            "\tTrain Loss: 0.074 | Train Acc: 0.00%\n",
            "\t Val. Loss: 0.941 |  Val. Acc: 50.00%\n",
            "CPU times: user 44min, sys: 1min 45s, total: 45min 46s\n",
            "Wall time: 2min 39s\n"
          ],
          "name": "stdout"
        }
      ]
    }
  ]
}