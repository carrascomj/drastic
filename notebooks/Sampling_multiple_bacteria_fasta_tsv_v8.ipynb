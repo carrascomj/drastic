{
  "nbformat": 4,
  "nbformat_minor": 0,
  "metadata": {
    "colab": {
      "name": "Sampling_multiple_bacteria_fasta_tsv_v8.ipynb",
      "provenance": [],
      "collapsed_sections": [],
      "toc_visible": true
    },
    "kernelspec": {
      "name": "python3",
      "display_name": "Python 3"
    },
    "accelerator": "GPU"
  },
  "cells": [
    {
      "cell_type": "markdown",
      "metadata": {
        "id": "dFwhBwY5-79X",
        "colab_type": "text"
      },
      "source": [
        "# 0 - Set up"
      ]
    },
    {
      "cell_type": "markdown",
      "metadata": {
        "id": "fjKks0gWh3uq",
        "colab_type": "text"
      },
      "source": [
        "## Install standard libraries"
      ]
    },
    {
      "cell_type": "code",
      "metadata": {
        "id": "h-c6UAlXecMe",
        "colab_type": "code",
        "outputId": "72766055-3ac9-43e3-bf52-4b38bea99765",
        "colab": {
          "base_uri": "https://localhost:8080/",
          "height": 288
        }
      },
      "source": [
        "!pip3 install pyfastx\n",
        "!pip3 install biopython\n",
        "!pip install scikit-plot\n",
        "import numpy as np\n",
        "import pickle\n",
        "import torch\n",
        "import torch.nn as nn\n",
        "import pandas as pd\n",
        "import random\n",
        "from tqdm import tqdm # progress bar\n",
        "from Bio.Seq import Seq\n",
        "from Bio.Alphabet import generic_rna\n",
        "import matplotlib.pyplot as plt"
      ],
      "execution_count": 1,
      "outputs": [
        {
          "output_type": "stream",
          "text": [
            "Requirement already satisfied: pyfastx in /usr/local/lib/python3.6/dist-packages (0.5.10)\n",
            "Requirement already satisfied: biopython in /usr/local/lib/python3.6/dist-packages (1.75)\n",
            "Requirement already satisfied: numpy in /usr/local/lib/python3.6/dist-packages (from biopython) (1.17.4)\n",
            "Requirement already satisfied: scikit-plot in /usr/local/lib/python3.6/dist-packages (0.3.7)\n",
            "Requirement already satisfied: scikit-learn>=0.18 in /usr/local/lib/python3.6/dist-packages (from scikit-plot) (0.21.3)\n",
            "Requirement already satisfied: matplotlib>=1.4.0 in /usr/local/lib/python3.6/dist-packages (from scikit-plot) (3.1.1)\n",
            "Requirement already satisfied: joblib>=0.10 in /usr/local/lib/python3.6/dist-packages (from scikit-plot) (0.14.0)\n",
            "Requirement already satisfied: scipy>=0.9 in /usr/local/lib/python3.6/dist-packages (from scikit-plot) (1.3.2)\n",
            "Requirement already satisfied: numpy>=1.11.0 in /usr/local/lib/python3.6/dist-packages (from scikit-learn>=0.18->scikit-plot) (1.17.4)\n",
            "Requirement already satisfied: cycler>=0.10 in /usr/local/lib/python3.6/dist-packages (from matplotlib>=1.4.0->scikit-plot) (0.10.0)\n",
            "Requirement already satisfied: python-dateutil>=2.1 in /usr/local/lib/python3.6/dist-packages (from matplotlib>=1.4.0->scikit-plot) (2.6.1)\n",
            "Requirement already satisfied: pyparsing!=2.0.4,!=2.1.2,!=2.1.6,>=2.0.1 in /usr/local/lib/python3.6/dist-packages (from matplotlib>=1.4.0->scikit-plot) (2.4.5)\n",
            "Requirement already satisfied: kiwisolver>=1.0.1 in /usr/local/lib/python3.6/dist-packages (from matplotlib>=1.4.0->scikit-plot) (1.1.0)\n",
            "Requirement already satisfied: six in /usr/local/lib/python3.6/dist-packages (from cycler>=0.10->matplotlib>=1.4.0->scikit-plot) (1.12.0)\n",
            "Requirement already satisfied: setuptools in /usr/local/lib/python3.6/dist-packages (from kiwisolver>=1.0.1->matplotlib>=1.4.0->scikit-plot) (41.6.0)\n"
          ],
          "name": "stdout"
        }
      ]
    },
    {
      "cell_type": "code",
      "metadata": {
        "id": "B0EeY1pEDAwp",
        "colab_type": "code",
        "colab": {}
      },
      "source": [
        "random.seed(42)"
      ],
      "execution_count": 0,
      "outputs": []
    },
    {
      "cell_type": "markdown",
      "metadata": {
        "id": "xISLqjFsh_MD",
        "colab_type": "text"
      },
      "source": [
        "## Import custom scripts "
      ]
    },
    {
      "cell_type": "markdown",
      "metadata": {
        "id": "-db9By0kkD0s",
        "colab_type": "text"
      },
      "source": [
        "### Load local files:"
      ]
    },
    {
      "cell_type": "code",
      "metadata": {
        "id": "K3NmbLW4Jlfq",
        "colab_type": "code",
        "outputId": "64a91eb5-93b0-44c7-eef4-e8864e1b60fc",
        "colab": {
          "resources": {
            "http://localhost:8080/nbextensions/google.colab/files.js": {
              "data": "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",
              "ok": true,
              "headers": [
                [
                  "content-type",
                  "application/javascript"
                ]
              ],
              "status": 200,
              "status_text": ""
            }
          },
          "base_uri": "https://localhost:8080/",
          "height": 74
        }
      },
      "source": [
        "#IMPORT = True\n",
        "IMPORT = False\n",
        "if IMPORT == True:\n",
        "  from google.colab import files\n",
        "  uploaded = files.upload()"
      ],
      "execution_count": 76,
      "outputs": [
        {
          "output_type": "display_data",
          "data": {
            "text/html": [
              "\n",
              "     <input type=\"file\" id=\"files-41860b05-77d4-46e9-acda-d7c4fe8c2048\" name=\"files[]\" multiple disabled />\n",
              "     <output id=\"result-41860b05-77d4-46e9-acda-d7c4fe8c2048\">\n",
              "      Upload widget is only available when the cell has been executed in the\n",
              "      current browser session. Please rerun this cell to enable.\n",
              "      </output>\n",
              "      <script src=\"/nbextensions/google.colab/files.js\"></script> "
            ],
            "text/plain": [
              "<IPython.core.display.HTML object>"
            ]
          },
          "metadata": {
            "tags": []
          }
        },
        {
          "output_type": "stream",
          "text": [
            "Saving preproc_pipeline.py to preproc_pipeline (1).py\n"
          ],
          "name": "stdout"
        }
      ]
    },
    {
      "cell_type": "code",
      "metadata": {
        "id": "qRzQiKX0cpMv",
        "colab_type": "code",
        "colab": {}
      },
      "source": [
        "if IMPORT == True:\n",
        "  from preproc_pipeline import window_pipeline\n",
        "  from warnings import simplefilter\n",
        "  from get_labeled_genes import *\n",
        "  from cbow_model import *"
      ],
      "execution_count": 0,
      "outputs": []
    },
    {
      "cell_type": "code",
      "metadata": {
        "id": "_C_j3UUS3lzb",
        "colab_type": "code",
        "colab": {
          "base_uri": "https://localhost:8080/",
          "height": 33
        },
        "outputId": "c7399ce0-44c0-4841-a2ba-7479e00bd758"
      },
      "source": [
        "!ls\n"
      ],
      "execution_count": 3,
      "outputs": [
        {
          "output_type": "stream",
          "text": [
            "drive  sample_data\n"
          ],
          "name": "stdout"
        }
      ]
    },
    {
      "cell_type": "markdown",
      "metadata": {
        "id": "1IsBnpqDkSTP",
        "colab_type": "text"
      },
      "source": [
        "### Load from Google drive:"
      ]
    },
    {
      "cell_type": "code",
      "metadata": {
        "id": "vBh07oIKIT7G",
        "colab_type": "code",
        "outputId": "edd376b4-12f0-4608-95dc-815806e55792",
        "colab": {
          "base_uri": "https://localhost:8080/",
          "height": 53
        }
      },
      "source": [
        "from google.colab import drive\n",
        "drive.mount('/content/drive')"
      ],
      "execution_count": 4,
      "outputs": [
        {
          "output_type": "stream",
          "text": [
            "Drive already mounted at /content/drive; to attempt to forcibly remount, call drive.mount(\"/content/drive\", force_remount=True).\n"
          ],
          "name": "stdout"
        }
      ]
    },
    {
      "cell_type": "code",
      "metadata": {
        "id": "RgKVZ9O7ub7z",
        "colab_type": "code",
        "outputId": "46264ee6-dc2b-42ba-e3d8-2f06d8d0d297",
        "colab": {
          "base_uri": "https://localhost:8080/",
          "height": 184
        }
      },
      "source": [
        "!ls \"/content/drive/My Drive\""
      ],
      "execution_count": 5,
      "outputs": [
        {
          "output_type": "stream",
          "text": [
            " ari_lstm_v2.pt\t\t\t ma_rnn.pt\n",
            " cbow_kmer3_len100_epoch5.pt\t'Model Outputs'\n",
            "'Colab Notebooks'\t\t movies\n",
            " Documents\t\t\t movie_saturday2408_17.30_freepopcorn.PNG\n",
            "'Documents (old stuff)'\t\t movie_saturday2408_17.30.PNG\n",
            " drawing_project_deep_learning\t Pictures\n",
            " Google\t\t\t\t sicily.gsheet\n",
            " itw.p\t\t\t\t sicily.xlsx\n",
            " jarubad.PNG\t\t\t wti.p\n",
            " ma_model.pt\n"
          ],
          "name": "stdout"
        }
      ]
    },
    {
      "cell_type": "code",
      "metadata": {
        "id": "ap2aOlq3kf8-",
        "colab_type": "code",
        "colab": {
          "base_uri": "https://localhost:8080/",
          "height": 33
        },
        "outputId": "882cd050-2e5b-492a-e8a3-d22e90a61525"
      },
      "source": [
        "!ls \"/content/drive/My Drive/Model Outputs\""
      ],
      "execution_count": 10,
      "outputs": [
        {
          "output_type": "stream",
          "text": [
            "checkpoints  genomes  kmers  old_scripts  __pycache__  test-savings  uploads\n"
          ],
          "name": "stdout"
        }
      ]
    },
    {
      "cell_type": "code",
      "metadata": {
        "id": "jwto8fdYklH2",
        "colab_type": "code",
        "colab": {
          "base_uri": "https://localhost:8080/",
          "height": 1000
        },
        "outputId": "ec60b489-10ac-4c62-e059-784bf773f72f"
      },
      "source": [
        "!ls \"/content/drive/My Drive/Model Outputs/uploads\""
      ],
      "execution_count": 11,
      "outputs": [
        {
          "output_type": "stream",
          "text": [
            "0_0_TEST_GCF_000008525.1_ASM852v1_genomic.fna\n",
            "0_0_TEST_GCF_000008525.1_ASM852v1_genomic.fna.fxi\n",
            "0_0_TRAIN_GCF_000008525.1_ASM852v1_genomic.fna\n",
            "0_0_TRAIN_GCF_000008525.1_ASM852v1_genomic.fna.fxi\n",
            "1_0_TEST_GCF_000008665.1_ASM866v1_genomic.fna\n",
            "1_0_TEST_GCF_000008665.1_ASM866v1_genomic.fna.fxi\n",
            "1_0_TRAIN_GCF_000008665.1_ASM866v1_genomic.fna\n",
            "1_0_TRAIN_GCF_000008665.1_ASM866v1_genomic.fna.fxi\n",
            "2_0_TEST_GCF_000008865.2_ASM886v2_genomic.fna\n",
            "2_0_TEST_GCF_000008865.2_ASM886v2_genomic.fna.fxi\n",
            "2_0_TRAIN_GCF_000008865.2_ASM886v2_genomic.fna\n",
            "2_0_TRAIN_GCF_000008865.2_ASM886v2_genomic.fna.fxi\n",
            "3_0_TEST_GCF_000009045.1_ASM904v1_genomic.fna\n",
            "3_0_TEST_GCF_000009045.1_ASM904v1_genomic.fna.fxi\n",
            "3_0_TRAIN_GCF_000009045.1_ASM904v1_genomic.fna\n",
            "3_0_TRAIN_GCF_000009045.1_ASM904v1_genomic.fna.fxi\n",
            "4_0_TEST_GCF_000027305.1_ASM2730v1_genomic.fna\n",
            "4_0_TEST_GCF_000027305.1_ASM2730v1_genomic.fna.fxi\n",
            "4_0_TRAIN_GCF_000027305.1_ASM2730v1_genomic.fna\n",
            "4_0_TRAIN_GCF_000027305.1_ASM2730v1_genomic.fna.fxi\n",
            "5_0_TEST_GCF_000027325.1_ASM2732v1_genomic.fna\n",
            "5_0_TEST_GCF_000027325.1_ASM2732v1_genomic.fna.fxi\n",
            "5_0_TRAIN_GCF_000027325.1_ASM2732v1_genomic.fna\n",
            "5_0_TRAIN_GCF_000027325.1_ASM2732v1_genomic.fna.fxi\n",
            "6_0_TEST_GCF_000027345.1_ASM2734v1_genomic.fna\n",
            "6_0_TEST_GCF_000027345.1_ASM2734v1_genomic.fna.fxi\n",
            "6_0_TRAIN_GCF_000027345.1_ASM2734v1_genomic.fna\n",
            "6_0_TRAIN_GCF_000027345.1_ASM2734v1_genomic.fna.fxi\n",
            "7_0_TEST_GCF_000091665.1_ASM9166v1_genomic.fna\n",
            "7_0_TEST_GCF_000091665.1_ASM9166v1_genomic.fna.fxi\n",
            "7_0_TRAIN_GCF_000091665.1_ASM9166v1_genomic.fna\n",
            "7_0_TRAIN_GCF_000091665.1_ASM9166v1_genomic.fna.fxi\n",
            "8_0_TEST_GCF_000214725.1_ASM21472v1_genomic.fna\n",
            "8_0_TEST_GCF_000214725.1_ASM21472v1_genomic.fna.fxi\n",
            "8_0_TRAIN_GCF_000214725.1_ASM21472v1_genomic.fna\n",
            "8_0_TRAIN_GCF_000214725.1_ASM21472v1_genomic.fna.fxi\n",
            "9_0_TEST_GCF_003015225.1_ASM301522v1_genomic.fna\n",
            "9_0_TEST_GCF_003015225.1_ASM301522v1_genomic.fna.fxi\n",
            "9_0_TRAIN_GCF_003015225.1_ASM301522v1_genomic.fna\n",
            "9_0_TRAIN_GCF_003015225.1_ASM301522v1_genomic.fna.fxi\n",
            "analysis.py\n",
            "build_dataset.py\n",
            "by.pkl\n",
            "cbow_model.py\n",
            "conv_LSTM.py\n",
            "embeddings_LSTM.py\n",
            "eval_dataset.py\n",
            "filters.py\n",
            "find_largest_gene.py\n",
            "GCA_000008525.1_ASM852v1_feature_table.tsv\n",
            "GCA_000008665.1_ASM866v1_feature_table.tsv\n",
            "GCA_000008865.2_ASM886v2_feature_table.tsv\n",
            "GCA_000009045.1_ASM904v1_feature_table.tsv\n",
            "GCA_000027305.1_ASM2730v1_feature_table.tsv\n",
            "GCA_000027325.1_ASM2732v1_feature_table.tsv\n",
            "GCA_000027345.1_ASM2734v1_feature_table.tsv\n",
            "GCA_000091665.1_ASM9166v1_feature_table.tsv\n",
            "GCA_000214725.1_ASM21472v1_feature_table.tsv\n",
            "GCA_003015225.1_ASM301522v1_feature_table.tsv\n",
            "GCF_000008525.1_ASM852v1_genomic.fna\n",
            "GCF_000008665.1_ASM866v1_genomic.fna\n",
            "GCF_000008865.2_ASM886v2_genomic.fna\n",
            "GCF_000009045.1_ASM904v1_genomic.fna\n",
            "GCF_000027305.1_ASM2730v1_genomic.fna\n",
            "GCF_000027325.1_ASM2732v1_genomic.fna\n",
            "GCF_000027345.1_ASM2734v1_genomic.fna\n",
            "GCF_000091665.1_ASM9166v1_genomic.fna\n",
            "GCF_000214725.1_ASM21472v1_genomic.fna\n",
            "GCF_003015225.1_ASM301522v1_genomic.fna\n",
            "get_labeled_genes.py\n",
            "ma_model.pt\n",
            "preproc_pipeline.py\n",
            "__pycache__\n",
            "remove_small_genes.py\n",
            "splitting_loc.pkl\n",
            "wti.p\n"
          ],
          "name": "stdout"
        }
      ]
    },
    {
      "cell_type": "code",
      "metadata": {
        "id": "PIPqD0druk5j",
        "colab_type": "code",
        "outputId": "25c85b63-b227-46c7-a241-d474f12fce75",
        "colab": {
          "base_uri": "https://localhost:8080/",
          "height": 33
        }
      },
      "source": [
        "%cd \"/content/drive/My Drive/Model Outputs/uploads\""
      ],
      "execution_count": 22,
      "outputs": [
        {
          "output_type": "stream",
          "text": [
            "/content/drive/My Drive/Model Outputs/uploads\n"
          ],
          "name": "stdout"
        }
      ]
    },
    {
      "cell_type": "markdown",
      "metadata": {
        "id": "g2bKA3KGlHyJ",
        "colab_type": "text"
      },
      "source": [
        ""
      ]
    },
    {
      "cell_type": "code",
      "metadata": {
        "id": "xo0MkJCClIWO",
        "colab_type": "code",
        "colab": {}
      },
      "source": [
        "from preproc_pipeline import window_pipeline\n",
        "from preproc_pipeline import *\n",
        "from warnings import simplefilter\n",
        "from cbow_model import *"
      ],
      "execution_count": 0,
      "outputs": []
    },
    {
      "cell_type": "code",
      "metadata": {
        "id": "NU_4dHZpu1mn",
        "colab_type": "code",
        "outputId": "0743b6e6-f59f-4f83-f980-9979a72be2a4",
        "colab": {
          "base_uri": "https://localhost:8080/",
          "height": 33
        }
      },
      "source": [
        "root = \"/content/drive/My Drive/Model Outputs/uploads\"\n",
        "root"
      ],
      "execution_count": 14,
      "outputs": [
        {
          "output_type": "execute_result",
          "data": {
            "text/plain": [
              "'/content/drive/My Drive/Model Outputs/uploads'"
            ]
          },
          "metadata": {
            "tags": []
          },
          "execution_count": 14
        }
      ]
    },
    {
      "cell_type": "code",
      "metadata": {
        "id": "S9iorXtfAe7Z",
        "colab_type": "code",
        "colab": {}
      },
      "source": [
        "dash = '-'*80"
      ],
      "execution_count": 0,
      "outputs": []
    },
    {
      "cell_type": "markdown",
      "metadata": {
        "id": "K375akfu8-1E",
        "colab_type": "text"
      },
      "source": [
        "#1 - Overview on 10 genomes "
      ]
    },
    {
      "cell_type": "markdown",
      "metadata": {
        "id": "ajECpfJz0FcR",
        "colab_type": "text"
      },
      "source": [
        "from each genome as minimum we have:\n",
        "- 1000 genes \n",
        "- 200 intergenes\n",
        "- 1000 partial genes\n",
        " \n",
        "\n",
        " we decide to under rapresent cat 5)\n",
        "\n",
        "5) GCF_000027325.1_ASM2732v1_genomic.fna \n",
        "- has lenght: 3116\n",
        "- Number of genes: 1431\n",
        "- **Number of intergenes: 264**\n",
        "- Number of partial genes: 1421\n",
        "\n",
        "for training for this genome we take 100,100(,100) genes,intergens (and partial)genes.\n",
        "\n",
        "Looking at the second shortest:\n",
        "6) GCF_000027345.1_ASM2734v1_genomic.fna \n",
        "- has lenght: 4792\n",
        "- Number of genes: 2049\n",
        "- **Number of intergenes: 714**\n",
        "- Number of partial genes: 2029\n",
        "\n",
        "for training for all the other genomes we take 700 genes, 700 intergenes and eventually 700 partial genes from each genome.\n",
        "\n",
        "\n",
        "\n"
      ]
    },
    {
      "cell_type": "markdown",
      "metadata": {
        "id": "NyBSqSx_mKZW",
        "colab_type": "text"
      },
      "source": [
        "### Reading fasta and tsv files."
      ]
    },
    {
      "cell_type": "markdown",
      "metadata": {
        "id": "qipuCf_LmT2Y",
        "colab_type": "text"
      },
      "source": [
        "we create a dataframe and look into it"
      ]
    },
    {
      "cell_type": "code",
      "metadata": {
        "id": "50ZETeFEl4UL",
        "colab_type": "code",
        "outputId": "23f4511b-128a-4bfe-806b-f2cb0c8ea0bd",
        "colab": {
          "base_uri": "https://localhost:8080/",
          "height": 33
        }
      },
      "source": [
        "%cd \"/content/drive/My Drive/Model Outputs/genomes\""
      ],
      "execution_count": 39,
      "outputs": [
        {
          "output_type": "stream",
          "text": [
            "/content/drive/My Drive/Model Outputs/genomes\n"
          ],
          "name": "stdout"
        }
      ]
    },
    {
      "cell_type": "code",
      "metadata": {
        "id": "yFWptuqVgip0",
        "colab_type": "code",
        "colab": {}
      },
      "source": [
        "simplefilter(\"ignore\")\n",
        "genomes = (\"GCF_000008525.1_ASM852v1_genomic.fna\",\n",
        "\"GCF_000008665.1_ASM866v1_genomic.fna\",\n",
        "\"GCF_000008865.2_ASM886v2_genomic.fna\",\n",
        "\"GCF_000009045.1_ASM904v1_genomic.fna\",\n",
        "\"GCF_000027305.1_ASM2730v1_genomic.fna\",\n",
        "\"GCF_000027325.1_ASM2732v1_genomic.fna\",\n",
        "\"GCF_000027345.1_ASM2734v1_genomic.fna\",\n",
        "\"GCF_000091665.1_ASM9166v1_genomic.fna\",\n",
        "\"GCF_000214725.1_ASM21472v1_genomic.fna\",\n",
        "\"GCF_003015225.1_ASM301522v1_genomic.fna\"\n",
        ")\n",
        "feature_tables = (\"GCA_000008525.1_ASM852v1_feature_table.tsv\",\n",
        "\"GCA_000008665.1_ASM866v1_feature_table.tsv\",\n",
        "\"GCA_000008865.2_ASM886v2_feature_table.tsv\",\n",
        "\"GCA_000009045.1_ASM904v1_feature_table.tsv\",\n",
        "\"GCA_000027305.1_ASM2730v1_feature_table.tsv\",\n",
        "\"GCA_000027325.1_ASM2732v1_feature_table.tsv\",\n",
        "\"GCA_000027345.1_ASM2734v1_feature_table.tsv\",\n",
        "\"GCA_000091665.1_ASM9166v1_feature_table.tsv\",\n",
        "\"GCA_000214725.1_ASM21472v1_feature_table.tsv\",\n",
        "\"GCA_003015225.1_ASM301522v1_feature_table.tsv\")"
      ],
      "execution_count": 0,
      "outputs": []
    },
    {
      "cell_type": "code",
      "metadata": {
        "id": "FyFzTWg2wT60",
        "colab_type": "code",
        "outputId": "a316ea6b-9eca-45d4-d1b7-b54fd5c71b0c",
        "colab": {
          "base_uri": "https://localhost:8080/",
          "height": 518
        }
      },
      "source": [
        "for i in range(len(genomes)):\n",
        "  c = 0\n",
        "  for name, seq in pyfastx.Fasta(genomes[i], build_index = False):\n",
        "    #print (type(seq))\n",
        "    #print (name)\n",
        "    print ('%d_%d %s %s, lenght:%d'% (i,c,genomes[i],name,len(seq)))\n",
        "    c = c+1\n",
        "  print (dash)\n",
        "\n",
        "  "
      ],
      "execution_count": 43,
      "outputs": [
        {
          "output_type": "stream",
          "text": [
            "0_0 GCF_000008525.1_ASM852v1_genomic.fna NC_000915.1, lenght:1667867\n",
            "--------------------------------------------------------------------------------\n",
            "1_0 GCF_000008665.1_ASM866v1_genomic.fna NC_000917.1, lenght:2178400\n",
            "--------------------------------------------------------------------------------\n",
            "2_0 GCF_000008865.2_ASM886v2_genomic.fna NC_002695.2, lenght:5498578\n",
            "2_1 GCF_000008865.2_ASM886v2_genomic.fna NC_002128.1, lenght:92721\n",
            "2_2 GCF_000008865.2_ASM886v2_genomic.fna NC_002127.1, lenght:3306\n",
            "--------------------------------------------------------------------------------\n",
            "3_0 GCF_000009045.1_ASM904v1_genomic.fna NC_000964.3, lenght:4215606\n",
            "--------------------------------------------------------------------------------\n",
            "4_0 GCF_000027305.1_ASM2730v1_genomic.fna NC_000907.1, lenght:1830138\n",
            "--------------------------------------------------------------------------------\n",
            "5_0 GCF_000027325.1_ASM2732v1_genomic.fna NC_000908.2, lenght:580076\n",
            "--------------------------------------------------------------------------------\n",
            "6_0 GCF_000027345.1_ASM2734v1_genomic.fna NC_000912.1, lenght:816394\n",
            "--------------------------------------------------------------------------------\n",
            "7_0 GCF_000091665.1_ASM9166v1_genomic.fna NC_000909.1, lenght:1664970\n",
            "7_1 GCF_000091665.1_ASM9166v1_genomic.fna NC_001732.1, lenght:58407\n",
            "7_2 GCF_000091665.1_ASM9166v1_genomic.fna NC_001733.1, lenght:16550\n",
            "--------------------------------------------------------------------------------\n",
            "8_0 GCF_000214725.1_ASM21472v1_genomic.fna NC_015574.1, lenght:2546541\n",
            "--------------------------------------------------------------------------------\n",
            "9_0 GCF_003015225.1_ASM301522v1_genomic.fna NZ_CP028094.1, lenght:3574310\n",
            "9_1 GCF_003015225.1_ASM301522v1_genomic.fna NZ_CP028095.1, lenght:2505\n",
            "9_2 GCF_003015225.1_ASM301522v1_genomic.fna NZ_CP028096.1, lenght:2621\n",
            "9_3 GCF_003015225.1_ASM301522v1_genomic.fna NZ_CP028097.1, lenght:103230\n",
            "9_4 GCF_003015225.1_ASM301522v1_genomic.fna NZ_CP028098.1, lenght:44343\n",
            "9_5 GCF_003015225.1_ASM301522v1_genomic.fna NZ_CP028099.1, lenght:118712\n",
            "9_6 GCF_003015225.1_ASM301522v1_genomic.fna NZ_CP028100.1, lenght:105272\n",
            "--------------------------------------------------------------------------------\n"
          ],
          "name": "stdout"
        }
      ]
    },
    {
      "cell_type": "code",
      "metadata": {
        "id": "r5SzWM8iA5IT",
        "colab_type": "code",
        "colab": {
          "base_uri": "https://localhost:8080/",
          "height": 853
        },
        "outputId": "d6e7bcf1-107f-4ae7-b19b-87333dd8922d"
      },
      "source": [
        "gen = dict()\n",
        "for i in range(len(genomes)):\n",
        "  c = 0\n",
        "  fna= pyfastx.Fasta(genomes[i], build_index = False)\n",
        "  gen[i] = str(fna[0])\n",
        "  l = len(gen[i])\n",
        "  split = int(l/2)\n",
        "  print ('%d_%d %s '% (i,c,genomes[i]))\n",
        "  print ('%s... '%(gen[i][0:10]))\n",
        "  print ('(0,%d)'%split)\n",
        "  print ('(%d,%d)'%(split,l))\n",
        "  print (dash)"
      ],
      "execution_count": 59,
      "outputs": [
        {
          "output_type": "stream",
          "text": [
            "0_0 GCF_000008525.1_ASM852v1_genomic.fna \n",
            "TGATTAGTGA... \n",
            "(0,833933)\n",
            "(833933,1667867)\n",
            "--------------------------------------------------------------------------------\n",
            "1_0 GCF_000008665.1_ASM866v1_genomic.fna \n",
            "GAAAATGGTT... \n",
            "(0,1089200)\n",
            "(1089200,2178400)\n",
            "--------------------------------------------------------------------------------\n",
            "2_0 GCF_000008865.2_ASM886v2_genomic.fna \n",
            "AGCTTTTCAT... \n",
            "(0,2749289)\n",
            "(2749289,5498578)\n",
            "--------------------------------------------------------------------------------\n",
            "3_0 GCF_000009045.1_ASM904v1_genomic.fna \n",
            "ATCTTTTTCG... \n",
            "(0,2107803)\n",
            "(2107803,4215606)\n",
            "--------------------------------------------------------------------------------\n",
            "4_0 GCF_000027305.1_ASM2730v1_genomic.fna \n",
            "TATGGCAATT... \n",
            "(0,915069)\n",
            "(915069,1830138)\n",
            "--------------------------------------------------------------------------------\n",
            "5_0 GCF_000027325.1_ASM2732v1_genomic.fna \n",
            "TAAGTTATTA... \n",
            "(0,290038)\n",
            "(290038,580076)\n",
            "--------------------------------------------------------------------------------\n",
            "6_0 GCF_000027345.1_ASM2734v1_genomic.fna \n",
            "TATTTACCGA... \n",
            "(0,408197)\n",
            "(408197,816394)\n",
            "--------------------------------------------------------------------------------\n",
            "7_0 GCF_000091665.1_ASM9166v1_genomic.fna \n",
            "TACATTAGTG... \n",
            "(0,832485)\n",
            "(832485,1664970)\n",
            "--------------------------------------------------------------------------------\n",
            "8_0 GCF_000214725.1_ASM21472v1_genomic.fna \n",
            "AAAACCGAAT... \n",
            "(0,1273270)\n",
            "(1273270,2546541)\n",
            "--------------------------------------------------------------------------------\n",
            "9_0 GCF_003015225.1_ASM301522v1_genomic.fna \n",
            "GGCGCGCCAT... \n",
            "(0,1787155)\n",
            "(1787155,3574310)\n",
            "--------------------------------------------------------------------------------\n"
          ],
          "name": "stdout"
        }
      ]
    },
    {
      "cell_type": "markdown",
      "metadata": {
        "id": "pj7ghCdFcpNN",
        "colab_type": "text"
      },
      "source": [
        "# 2 - Dataset Creation\n",
        "In this first phase we ha used only the genome of E. coli.\n",
        "We want to import more genome from wider range of bacteria in this second step."
      ]
    },
    {
      "cell_type": "markdown",
      "metadata": {
        "id": "q_rvEAZilxn1",
        "colab_type": "text"
      },
      "source": [
        "## Splitting FASTA files in TRAIN and TEST"
      ]
    },
    {
      "cell_type": "markdown",
      "metadata": {
        "id": "41TOFDiNmPbQ",
        "colab_type": "text"
      },
      "source": [
        "### creating TRAIN and TEST for each genome"
      ]
    },
    {
      "cell_type": "code",
      "metadata": {
        "id": "B4mJifUgJM93",
        "colab_type": "code",
        "colab": {}
      },
      "source": [
        "twist = True\n",
        "#twist = False"
      ],
      "execution_count": 0,
      "outputs": []
    },
    {
      "cell_type": "markdown",
      "metadata": {
        "id": "22p5D21_F-f0",
        "colab_type": "text"
      },
      "source": [
        "#### taking always first half as training and second half as test"
      ]
    },
    {
      "cell_type": "code",
      "metadata": {
        "colab_type": "code",
        "id": "O8rFJZ5yQoGL",
        "colab": {}
      },
      "source": [
        "if twist == False: \n",
        "\n",
        "  import pyfastx\n",
        "  import pickle\n",
        "  GEN = dict()\n",
        "  splitting_loc = list()\n",
        "  for i in range(len(genomes)):\n",
        "    c = 0\n",
        "    fna= pyfastx.Fasta(genomes[i], build_index = False)\n",
        "    GEN[i] = str(fna[0])\n",
        "    l = len(gen[i])\n",
        "    s = int(l/2)\n",
        "    print ('%d_%d %s '% (i,c,genomes[i]))\n",
        "    print ('%s... tot lenght:%d '%(GEN[i][0:10],l))\n",
        "    #s = int(len(GEN[i])/2)\n",
        "\n",
        "    a = (0,s)\n",
        "    b = (s,l)\n",
        "\n",
        "    train_splits.append(a)\n",
        "    test_splits.append(b)\n",
        "    splitting_loc.append(s)\n",
        "    \n",
        "    training_fasta = GEN[i][0:s] # first half for training \n",
        "    testing_fasta = GEN[i][-s:]  # second half for testing \n",
        "\n",
        "    ofile = open(\"%s_%s_TRAIN_%s\" % (i,c,genomes[i]), \"w\")\n",
        "    ofile.write(\">%s_%s_TRAIN_%s\\n%s\\n\" % (i,c,genomes[i], training_fasta))\n",
        "    ofile.close()\n",
        "    print ('file %s_%s_TRAIN_%s loaded' %(i,c,genomes[i]))\n",
        "\n",
        "\n",
        "    ofile = open(\"%s_%s_TEST_%s\" % (i,c,genomes[i]), \"w\")\n",
        "    ofile.write(\">%s_%s_TEST_%s\\n%s\\n\" % (i,c,genomes[i], testing_fasta))\n",
        "    ofile.close()\n",
        "    print ('file %s_%s_TEST_%s loaded' %(i,c,genomes[i]))\n",
        "    print ()\n",
        "    c = c+1\n",
        "\n",
        "  print (splitting_loc)\n",
        "  with open(\"splitting_loc.pkl\", \"wb\") as fp:   #Pickling\n",
        "    pickle.dump(splitting_loc, fp)\n",
        "\n",
        "  print (train_splits)\n",
        "  with open(\"train_splits.pkl\", \"wb\") as fp:   #Pickling\n",
        "    pickle.dump(train_splits, fp)\n",
        "\n",
        "  print (test_splits)\n",
        "  with open(\"test_splits.pkl\", \"wb\") as fp:   #Pickling\n",
        "    pickle.dump(test_splits, fp)\n"
      ],
      "execution_count": 0,
      "outputs": []
    },
    {
      "cell_type": "markdown",
      "metadata": {
        "id": "JGIE7-cFGDX6",
        "colab_type": "text"
      },
      "source": [
        "#### taking for training first half for even genomes"
      ]
    },
    {
      "cell_type": "code",
      "metadata": {
        "id": "yI2H8yNJD6U7",
        "colab_type": "code",
        "colab": {
          "base_uri": "https://localhost:8080/",
          "height": 923
        },
        "outputId": "1e8cb101-b657-40f5-d03e-16cb164fa5e2"
      },
      "source": [
        "if twist == True: \n",
        "  import pyfastx\n",
        "  import pickle\n",
        "  GEN = dict()\n",
        "  splitting_loc = list()\n",
        "  train_splits = list()\n",
        "  test_splits = list()\n",
        "  for i in range(len(genomes)):\n",
        "    c = 0\n",
        "    fna= pyfastx.Fasta(genomes[i], build_index = False)\n",
        "    GEN[i] = str(fna[0])\n",
        "    l = len(gen[i])\n",
        "    s = int(l/2)\n",
        "    print ('%d_%d %s '% (i,c,genomes[i]))\n",
        "    print ('%s... tot lenght:%d '%(GEN[i][0:10],l))\n",
        "    #s = int(len(GEN[i])/2)\n",
        "    splitting_loc.append(s)\n",
        "    if i % 2 ==0: \n",
        "      training_fasta = GEN[i][0:s] # first half for training \n",
        "      testing_fasta = GEN[i][-s:]  # second half for testing \n",
        "\n",
        "      a = (0,s)\n",
        "      b = (s,l)\n",
        "\n",
        "      train_splits.append(a)\n",
        "      test_splits.append(b)\n",
        "\n",
        "      ofile = open(\"%s_%s_TRAIN_%s\" % (i,c,genomes[i]), \"w\")\n",
        "      ofile.write(\">%s_%s_TRAIN_%s\\n%s\\n\" % (i,c,genomes[i], training_fasta))\n",
        "      ofile.close()\n",
        "      print ('file %s_%s_TRAIN_%s loaded' %(i,c,genomes[i]))\n",
        "\n",
        "      ofile = open(\"%s_%s_TEST_%s\" % (i,c,genomes[i]), \"w\")\n",
        "      ofile.write(\">%s_%s_TEST_%s\\n%s\\n\" % (i,c,genomes[i], testing_fasta))\n",
        "      ofile.close()\n",
        "      print ('file %s_%s_TEST_%s loaded' %(i,c,genomes[i]))\n",
        "      print ()\n",
        "    else:\n",
        "      training_fasta = GEN[i][-s:]  # second half for training \n",
        "      testing_fasta = GEN[i][0:s] # first half for testing \n",
        "\n",
        "      a = (s,l)\n",
        "      b = (0,s)\n",
        "\n",
        "      train_splits.append(a)\n",
        "      test_splits.append(b)\n",
        "    \n",
        "      ofile = open(\"%s_%s_TRAIN_%s\" % (i,c,genomes[i]), \"w\")\n",
        "      ofile.write(\">%s_%s_TRAIN_%s\\n%s\\n\" % (i,c,genomes[i], training_fasta))\n",
        "      ofile.close()\n",
        "      print ('file %s_%s_TRAIN_%s loaded' %(i,c,genomes[i]))\n",
        "\n",
        "      ofile = open(\"%s_%s_TEST_%s\" % (i,c,genomes[i]), \"w\")\n",
        "      ofile.write(\">%s_%s_TEST_%s\\n%s\\n\" % (i,c,genomes[i], testing_fasta))\n",
        "      ofile.close()\n",
        "      print ('file %s_%s_TEST_%s loaded' %(i,c,genomes[i]))\n",
        "      print ()\n",
        "    c = c+1\n",
        "\n",
        "  print (splitting_loc)\n",
        "  with open(\"splitting_loc.pkl\", \"wb\") as fp:   #Pickling\n",
        "    pickle.dump(splitting_loc, fp)\n",
        "\n",
        "  print (train_splits)\n",
        "  with open(\"train_splits.pkl\", \"wb\") as fp:   #Pickling\n",
        "    pickle.dump(train_splits, fp)\n",
        "\n",
        "  print (test_splits)\n",
        "  with open(\"test_splits.pkl\", \"wb\") as fp:   #Pickling\n",
        "    pickle.dump(test_splits, fp)"
      ],
      "execution_count": 66,
      "outputs": [
        {
          "output_type": "stream",
          "text": [
            "0_0 GCF_000008525.1_ASM852v1_genomic.fna \n",
            "TGATTAGTGA... tot lenght:1667867 \n",
            "file 0_0_TRAIN_GCF_000008525.1_ASM852v1_genomic.fna loaded\n",
            "file 0_0_TEST_GCF_000008525.1_ASM852v1_genomic.fna loaded\n",
            "\n",
            "1_0 GCF_000008665.1_ASM866v1_genomic.fna \n",
            "GAAAATGGTT... tot lenght:2178400 \n",
            "file 1_0_TRAIN_GCF_000008665.1_ASM866v1_genomic.fna loaded\n",
            "file 1_0_TEST_GCF_000008665.1_ASM866v1_genomic.fna loaded\n",
            "\n",
            "2_0 GCF_000008865.2_ASM886v2_genomic.fna \n",
            "AGCTTTTCAT... tot lenght:5498578 \n",
            "file 2_0_TRAIN_GCF_000008865.2_ASM886v2_genomic.fna loaded\n",
            "file 2_0_TEST_GCF_000008865.2_ASM886v2_genomic.fna loaded\n",
            "\n",
            "3_0 GCF_000009045.1_ASM904v1_genomic.fna \n",
            "ATCTTTTTCG... tot lenght:4215606 \n",
            "file 3_0_TRAIN_GCF_000009045.1_ASM904v1_genomic.fna loaded\n",
            "file 3_0_TEST_GCF_000009045.1_ASM904v1_genomic.fna loaded\n",
            "\n",
            "4_0 GCF_000027305.1_ASM2730v1_genomic.fna \n",
            "TATGGCAATT... tot lenght:1830138 \n",
            "file 4_0_TRAIN_GCF_000027305.1_ASM2730v1_genomic.fna loaded\n",
            "file 4_0_TEST_GCF_000027305.1_ASM2730v1_genomic.fna loaded\n",
            "\n",
            "5_0 GCF_000027325.1_ASM2732v1_genomic.fna \n",
            "TAAGTTATTA... tot lenght:580076 \n",
            "file 5_0_TRAIN_GCF_000027325.1_ASM2732v1_genomic.fna loaded\n",
            "file 5_0_TEST_GCF_000027325.1_ASM2732v1_genomic.fna loaded\n",
            "\n",
            "6_0 GCF_000027345.1_ASM2734v1_genomic.fna \n",
            "TATTTACCGA... tot lenght:816394 \n",
            "file 6_0_TRAIN_GCF_000027345.1_ASM2734v1_genomic.fna loaded\n",
            "file 6_0_TEST_GCF_000027345.1_ASM2734v1_genomic.fna loaded\n",
            "\n",
            "7_0 GCF_000091665.1_ASM9166v1_genomic.fna \n",
            "TACATTAGTG... tot lenght:1664970 \n",
            "file 7_0_TRAIN_GCF_000091665.1_ASM9166v1_genomic.fna loaded\n",
            "file 7_0_TEST_GCF_000091665.1_ASM9166v1_genomic.fna loaded\n",
            "\n",
            "8_0 GCF_000214725.1_ASM21472v1_genomic.fna \n",
            "AAAACCGAAT... tot lenght:2546541 \n",
            "file 8_0_TRAIN_GCF_000214725.1_ASM21472v1_genomic.fna loaded\n",
            "file 8_0_TEST_GCF_000214725.1_ASM21472v1_genomic.fna loaded\n",
            "\n",
            "9_0 GCF_003015225.1_ASM301522v1_genomic.fna \n",
            "GGCGCGCCAT... tot lenght:3574310 \n",
            "file 9_0_TRAIN_GCF_003015225.1_ASM301522v1_genomic.fna loaded\n",
            "file 9_0_TEST_GCF_003015225.1_ASM301522v1_genomic.fna loaded\n",
            "\n",
            "[833933, 1089200, 2749289, 2107803, 915069, 290038, 408197, 832485, 1273270, 1787155]\n",
            "[(0, 833933), (1089200, 2178400), (0, 2749289), (2107803, 4215606), (0, 915069), (290038, 580076), (0, 408197), (832485, 1664970), (0, 1273270), (1787155, 3574310)]\n",
            "[(833933, 1667867), (0, 1089200), (2749289, 5498578), (0, 2107803), (915069, 1830138), (0, 290038), (408197, 816394), (0, 832485), (1273270, 2546541), (0, 1787155)]\n"
          ],
          "name": "stdout"
        }
      ]
    },
    {
      "cell_type": "markdown",
      "metadata": {
        "id": "q-OFAnyjmhsu",
        "colab_type": "text"
      },
      "source": [
        "### Loading check"
      ]
    },
    {
      "cell_type": "code",
      "metadata": {
        "id": "xZlNCp-csI3h",
        "colab_type": "code",
        "outputId": "f701d500-2704-4968-f64e-a2a6b0999960",
        "colab": {
          "base_uri": "https://localhost:8080/",
          "height": 50
        }
      },
      "source": [
        "## test\n",
        "\n",
        "for name, seq_test in pyfastx.Fasta(\"0_0_TRAIN_GCF_000008525.1_ASM852v1_genomic.fna\", build_index = False):\n",
        "  print (name)\n",
        "  print (len(seq_test), seq_test[0:10])\n",
        "#print (seq_test)"
      ],
      "execution_count": 67,
      "outputs": [
        {
          "output_type": "stream",
          "text": [
            "0_0_TRAIN_GCF_000008525.1_ASM852v1_genomic.fna\n",
            "833933 TGATTAGTGA\n"
          ],
          "name": "stdout"
        }
      ]
    },
    {
      "cell_type": "markdown",
      "metadata": {
        "id": "j9IrevisoCaq",
        "colab_type": "text"
      },
      "source": [
        "# 3 - Dataset Loading"
      ]
    },
    {
      "cell_type": "markdown",
      "metadata": {
        "id": "1xDL-JNVGSiJ",
        "colab_type": "text"
      },
      "source": [
        "## unpickling"
      ]
    },
    {
      "cell_type": "code",
      "metadata": {
        "id": "krkFonQaoHxx",
        "colab_type": "code",
        "colab": {}
      },
      "source": [
        "!ls \"/content/drive/My Drive/Model Outputs/genomes\""
      ],
      "execution_count": 0,
      "outputs": []
    },
    {
      "cell_type": "code",
      "metadata": {
        "id": "P7PYuuhsGW7r",
        "colab_type": "code",
        "colab": {
          "base_uri": "https://localhost:8080/",
          "height": 87
        },
        "outputId": "ac17b189-af88-460d-b667-9d0557e59c08"
      },
      "source": [
        "%cd \"/content/drive/My Drive/Model Outputs/genomes\"\n",
        "\n",
        "with open(\"train_splits.pkl\", \"rb\") as fp:   # Unpickling\n",
        "  train_splits = pickle.load(fp)\n",
        "print (train_splits)\n",
        "\n",
        "with open(\"test_splits.pkl\", \"rb\") as fp:   # Unpickling\n",
        "  test_splits = pickle.load(fp)\n",
        "print (test_splits)"
      ],
      "execution_count": 68,
      "outputs": [
        {
          "output_type": "stream",
          "text": [
            "/content/drive/My Drive/Model Outputs/genomes\n",
            "[(0, 833933), (1089200, 2178400), (0, 2749289), (2107803, 4215606), (0, 915069), (290038, 580076), (0, 408197), (832485, 1664970), (0, 1273270), (1787155, 3574310)]\n",
            "[(833933, 1667867), (0, 1089200), (2749289, 5498578), (0, 2107803), (915069, 1830138), (0, 290038), (408197, 816394), (0, 832485), (1273270, 2546541), (0, 1787155)]\n"
          ],
          "name": "stdout"
        }
      ]
    },
    {
      "cell_type": "markdown",
      "metadata": {
        "id": "4W6n137PnvsM",
        "colab_type": "text"
      },
      "source": [
        "## Loading the FASTA TRAIN and TEST \n",
        "together with features tables in dataframes"
      ]
    },
    {
      "cell_type": "code",
      "metadata": {
        "id": "u2m2YeTwaWue",
        "colab_type": "code",
        "colab": {
          "base_uri": "https://localhost:8080/",
          "height": 33
        },
        "outputId": "b49b8875-16b7-4159-88dd-919f1480af6d"
      },
      "source": [
        "#!ls \n",
        "%cd \"/content/drive/My Drive/Model Outputs/genomes\""
      ],
      "execution_count": 70,
      "outputs": [
        {
          "output_type": "stream",
          "text": [
            "/content/drive/My Drive/Model Outputs/genomes\n"
          ],
          "name": "stdout"
        }
      ]
    },
    {
      "cell_type": "markdown",
      "metadata": {
        "id": "AkcoplFYwHv3",
        "colab_type": "text"
      },
      "source": [
        "### create TRAIN_GENOMES"
      ]
    },
    {
      "cell_type": "code",
      "metadata": {
        "id": "oOS-Z7pdYdJK",
        "colab_type": "code",
        "colab": {}
      },
      "source": [
        "simplefilter(\"ignore\")\n",
        "train_genomes = (\"0_0_TRAIN_GCF_000008525.1_ASM852v1_genomic.fna\",\n",
        "\"1_0_TRAIN_GCF_000008665.1_ASM866v1_genomic.fna\",\n",
        "\"2_0_TRAIN_GCF_000008865.2_ASM886v2_genomic.fna\",\n",
        "\"3_0_TRAIN_GCF_000009045.1_ASM904v1_genomic.fna\",\n",
        "\"4_0_TRAIN_GCF_000027305.1_ASM2730v1_genomic.fna\",\n",
        "\"5_0_TRAIN_GCF_000027325.1_ASM2732v1_genomic.fna\",\n",
        "\"6_0_TRAIN_GCF_000027345.1_ASM2734v1_genomic.fna\",\n",
        "\"7_0_TRAIN_GCF_000091665.1_ASM9166v1_genomic.fna\",\n",
        "\"8_0_TRAIN_GCF_000214725.1_ASM21472v1_genomic.fna\",\n",
        "\"9_0_TRAIN_GCF_003015225.1_ASM301522v1_genomic.fna\")\n",
        "\n",
        "train_feature_tables = (\"GCA_000008525.1_ASM852v1_feature_table.tsv\",\n",
        "\"GCA_000008665.1_ASM866v1_feature_table.tsv\",\n",
        "\"GCA_000008865.2_ASM886v2_feature_table.tsv\",\n",
        "\"GCA_000009045.1_ASM904v1_feature_table.tsv\",\n",
        "\"GCA_000027305.1_ASM2730v1_feature_table.tsv\",\n",
        "\"GCA_000027325.1_ASM2732v1_feature_table.tsv\",\n",
        "\"GCA_000027345.1_ASM2734v1_feature_table.tsv\",\n",
        "\"GCA_000091665.1_ASM9166v1_feature_table.tsv\",\n",
        "\"GCA_000214725.1_ASM21472v1_feature_table.tsv\",\n",
        "\"GCA_003015225.1_ASM301522v1_feature_table.tsv\")"
      ],
      "execution_count": 0,
      "outputs": []
    },
    {
      "cell_type": "markdown",
      "metadata": {
        "id": "rrLXAQ8xwM0U",
        "colab_type": "text"
      },
      "source": [
        "### create TEST GENOMES"
      ]
    },
    {
      "cell_type": "code",
      "metadata": {
        "id": "XUhroXKviprD",
        "colab_type": "code",
        "colab": {}
      },
      "source": [
        "simplefilter(\"ignore\")\n",
        "test_genomes = (\"0_0_TEST_GCF_000008525.1_ASM852v1_genomic.fna\",\n",
        "\"1_0_TEST_GCF_000008665.1_ASM866v1_genomic.fna\",\n",
        "\"2_0_TEST_GCF_000008865.2_ASM886v2_genomic.fna\",\n",
        "\"3_0_TEST_GCF_000009045.1_ASM904v1_genomic.fna\",\n",
        "\"4_0_TEST_GCF_000027305.1_ASM2730v1_genomic.fna\",\n",
        "\"5_0_TEST_GCF_000027325.1_ASM2732v1_genomic.fna\",\n",
        "\"6_0_TEST_GCF_000027345.1_ASM2734v1_genomic.fna\",\n",
        "\"7_0_TEST_GCF_000091665.1_ASM9166v1_genomic.fna\",\n",
        "\"8_0_TEST_GCF_000214725.1_ASM21472v1_genomic.fna\",\n",
        "\"9_0_TEST_GCF_003015225.1_ASM301522v1_genomic.fna\")\n",
        "\n",
        "test_feature_tables = (\"GCA_000008525.1_ASM852v1_feature_table.tsv\",\n",
        "\"GCA_000008665.1_ASM866v1_feature_table.tsv\",\n",
        "\"GCA_000008865.2_ASM886v2_feature_table.tsv\",\n",
        "\"GCA_000009045.1_ASM904v1_feature_table.tsv\",\n",
        "\"GCA_000027305.1_ASM2730v1_feature_table.tsv\",\n",
        "\"GCA_000027325.1_ASM2732v1_feature_table.tsv\",\n",
        "\"GCA_000027345.1_ASM2734v1_feature_table.tsv\",\n",
        "\"GCA_000091665.1_ASM9166v1_feature_table.tsv\",\n",
        "\"GCA_000214725.1_ASM21472v1_feature_table.tsv\",\n",
        "\"GCA_003015225.1_ASM301522v1_feature_table.tsv\")"
      ],
      "execution_count": 0,
      "outputs": []
    },
    {
      "cell_type": "code",
      "metadata": {
        "id": "EZQ8uhxkk3b0",
        "colab_type": "code",
        "outputId": "177b197f-8e2f-4fdf-ac1e-99535d48d853",
        "colab": {
          "base_uri": "https://localhost:8080/",
          "height": 33
        }
      },
      "source": [
        "print (\"tot genomes: %d; tot feature tables:%d\" %(len(train_genomes),len(train_feature_tables))) \n",
        "df_train = dict()\n",
        "for i in range(len(train_feature_tables)):\n",
        "    df_train[i] = window_pipeline(train_genomes[i], train_feature_tables[i], by = train_splits[i])"
      ],
      "execution_count": 74,
      "outputs": [
        {
          "output_type": "stream",
          "text": [
            "tot genomes: 10; tot feature tables:10\n"
          ],
          "name": "stdout"
        }
      ]
    },
    {
      "cell_type": "markdown",
      "metadata": {
        "id": "50pCX9BibcYh",
        "colab_type": "text"
      },
      "source": [
        ""
      ]
    },
    {
      "cell_type": "code",
      "metadata": {
        "id": "R5Xns-5Duvu8",
        "colab_type": "code",
        "outputId": "40e1f926-72e3-457c-d513-8904fed42da6",
        "colab": {
          "base_uri": "https://localhost:8080/",
          "height": 502
        }
      },
      "source": [
        "## print one example\n",
        "## \"3_0_TEST_GCF_000009045.1_ASM904v1_genomic.fna\", (fourth starting counting from 0)\n",
        "n =4\n",
        "print (n,df_train[n])\n",
        "#print (df[n]) # all dataframe\n",
        "print (type(df_train[n]) )\n",
        "print (df_train[n].label)#access one colum\n",
        "print (list(set(df_train[n].label)))# unique entries for one column\n",
        "#print (df[n][df[n].label== \"gene\"]) # how to access only genes\n",
        "print (len(df_train[n][df_train[n].label== \"gene\"]))"
      ],
      "execution_count": 75,
      "outputs": [
        {
          "output_type": "stream",
          "text": [
            "4                                                sequence    label\n",
            "0     TGGCAATTAAAATTGGTATCAATGGTTTTGGTCGTATCGGCCGTAT...     gene\n",
            "1     GGTTTAATGACCACTGTTCACGCAACGACTGCAACTCAAAAAACTG...     gene\n",
            "2     AAACAAAGTATTAGACTTAGTAGCTCATATCTACAACTACAAAGGC...     gene\n",
            "3     TGAAAATCAAAAATAGGGTTAATATGAATCTCGATCTCCATTTTGT...     gene\n",
            "4     CATTGGGCAATTTCCGTGGGACAAAAATATTTTGATCTACGTGCGA...     gene\n",
            "...                                                 ...      ...\n",
            "2495  CGCACCGAAAATTCGTACGGTTAAATCAGTAGCTAAAAAGATAAAT...  partial\n",
            "2496  CAATGATGAATATGTGGAAAAAGCTGAGCCAGATGATTGCACGACG...  partial\n",
            "2497  CGTTTTTCATCAAATTTGAAAGGAGAGAAAATGGAGTTACACAATA...  partial\n",
            "2498  TTTGTTAAAAGAAGTCAATGAGCAAGGTTTTGTCTTTTTTACCAAT...  partial\n",
            "2499  AATCCGATAAATATTTTGCTACCCGACCTTACACCAGTCGTATAGG...  partial\n",
            "\n",
            "[6124 rows x 2 columns]\n",
            "<class 'pandas.core.frame.DataFrame'>\n",
            "0          gene\n",
            "1          gene\n",
            "2          gene\n",
            "3          gene\n",
            "4          gene\n",
            "         ...   \n",
            "2495    partial\n",
            "2496    partial\n",
            "2497    partial\n",
            "2498    partial\n",
            "2499    partial\n",
            "Name: label, Length: 6124, dtype: object\n",
            "['partial', 'intergenic', 'gene']\n",
            "2541\n"
          ],
          "name": "stdout"
        }
      ]
    },
    {
      "cell_type": "code",
      "metadata": {
        "id": "7yI_vjULcpNr",
        "colab_type": "code",
        "outputId": "6030ea22-f019-4d74-fd93-de61e2084a92",
        "colab": {
          "base_uri": "https://localhost:8080/",
          "height": 50
        }
      },
      "source": [
        "print(\n",
        "    f\"columns -> {list(df_train[n].columns)}\\n\"\n",
        "    f\"labels in dataframe -> {list(df_train[n].label.unique())}\"\n",
        ")"
      ],
      "execution_count": 76,
      "outputs": [
        {
          "output_type": "stream",
          "text": [
            "columns -> ['sequence', 'label']\n",
            "labels in dataframe -> ['gene', 'intergenic', 'partial']\n"
          ],
          "name": "stdout"
        }
      ]
    },
    {
      "cell_type": "markdown",
      "metadata": {
        "id": "PzwQO9dDm04R",
        "colab_type": "text"
      },
      "source": [
        "### Deleting lines with lenght = 0"
      ]
    },
    {
      "cell_type": "code",
      "metadata": {
        "id": "QzAINOOA9ge1",
        "colab_type": "code",
        "outputId": "c8b8514b-dd1f-4e99-f511-18973a7717cc",
        "colab": {
          "base_uri": "https://localhost:8080/",
          "height": 67
        }
      },
      "source": [
        "print(df_train[n][df_train[n].sequence.apply(lambda x: len(x)==0)].count())\n",
        "df_train[n] = df_train[n][~df_train[n].sequence.apply(lambda x: len(x)==0)]"
      ],
      "execution_count": 77,
      "outputs": [
        {
          "output_type": "stream",
          "text": [
            "sequence    0\n",
            "label       0\n",
            "dtype: int64\n"
          ],
          "name": "stdout"
        }
      ]
    },
    {
      "cell_type": "markdown",
      "metadata": {
        "id": "KNxgBpL9QxZj",
        "colab_type": "text"
      },
      "source": [
        "We noticed there is always a line with lenght = 0, that we delete from the dataframe."
      ]
    },
    {
      "cell_type": "markdown",
      "metadata": {
        "id": "QWshzjeHcpN-",
        "colab_type": "text"
      },
      "source": [
        "## One-hot labels encoding"
      ]
    },
    {
      "cell_type": "code",
      "metadata": {
        "id": "F3fD5a7LcpOD",
        "colab_type": "code",
        "outputId": "9d0d7ee8-eeb5-4755-ad9a-d99f5ae0df79",
        "colab": {
          "base_uri": "https://localhost:8080/",
          "height": 50
        }
      },
      "source": [
        "labels = list(df_train[n].label.unique())\n",
        "lab0 = np.zeros(len(labels))\n",
        "lab2vec = {} # create empty dictionaries\n",
        "vec2lab = {}\n",
        "for i, label in enumerate(list(df_train[n].label.unique())):\n",
        "    labv = lab0.copy()\n",
        "    labv[i] = 1\n",
        "    lab2vec[label] = labv\n",
        "    vec2lab[tuple(labv)] = label\n",
        "\n",
        "print(f\"lab2vec -> {lab2vec}\\nvec2lab -> {vec2lab}\")"
      ],
      "execution_count": 78,
      "outputs": [
        {
          "output_type": "stream",
          "text": [
            "lab2vec -> {'gene': array([1., 0., 0.]), 'intergenic': array([0., 1., 0.]), 'partial': array([0., 0., 1.])}\n",
            "vec2lab -> {(1.0, 0.0, 0.0): 'gene', (0.0, 1.0, 0.0): 'intergenic', (0.0, 0.0, 1.0): 'partial'}\n"
          ],
          "name": "stdout"
        }
      ]
    },
    {
      "cell_type": "markdown",
      "metadata": {
        "id": "fE4ZBDmWzyl5",
        "colab_type": "text"
      },
      "source": [
        "## Create train dataframe and test dataframe"
      ]
    },
    {
      "cell_type": "markdown",
      "metadata": {
        "id": "2yBidkFQlmyO",
        "colab_type": "text"
      },
      "source": [
        "## Training dataset"
      ]
    },
    {
      "cell_type": "code",
      "metadata": {
        "id": "81V9oYbsfg9c",
        "colab_type": "code",
        "outputId": "10e48a52-094f-4f8b-cb82-24b34a27d991",
        "colab": {
          "base_uri": "https://localhost:8080/",
          "height": 251
        }
      },
      "source": [
        "appended_data = []\n",
        "for i in range(len(df_train)):\n",
        "  if not i == 5:\n",
        "    data = df_train[i][df_train[i].label==\"gene\"].sample(n=300)\n",
        "    appended_data.append(data)\n",
        "    data = df_train[i][df_train[i].label==\"intergenic\"].sample(n=300) #<---- with 350 error, trying to sample without replacement\n",
        "    appended_data.append(data)\n",
        "    data = df_train[i][df_train[i].label==\"partial\"].sample(n=300)\n",
        "    appended_data.append(data)\n",
        "  else: \n",
        "    data = df_train[i][df_train[i].label==\"gene\"].sample(n=100)\n",
        "    appended_data.append(data)\n",
        "    data = df_train[i][df_train[i].label==\"intergenic\"].sample(n=100)\n",
        "    appended_data.append(data)\n",
        "    data = df_train[i][df_train[i].label==\"partial\"].sample(n=100)\n",
        "    appended_data.append(data)\n",
        "\n",
        "# see pd.concat documentation for more info\n",
        "training_data = pd.concat(appended_data).reset_index(drop=False)\n",
        "\n",
        "#shuffle\n",
        "training_data = training_data.sample(frac=1)\n",
        "print (training_data)\n"
      ],
      "execution_count": 79,
      "outputs": [
        {
          "output_type": "stream",
          "text": [
            "      index                                           sequence       label\n",
            "4646    121  AAAAATATCGGTTATTTTTGAATTGATGTTTAGATTTGAACTTCCC...  intergenic\n",
            "2342    479  GTTTACAGGTATACTCGCTAAAAATTATTCAGCGGGTTTGGAAACA...  intergenic\n",
            "5952   1829  TATGAAAGTTGATGATATAATTACTTTTGCATTTAAGAATATAAAG...        gene\n",
            "4541    250  AGAGAAGCTTTGATCCCTGAAAAGATTGTTGGTAAAAATCTGGTTA...        gene\n",
            "7432   2193  TCATACTTTTCAATCATACAATCACCTATAAATTCCATTCTTAAAA...     partial\n",
            "...     ...                                                ...         ...\n",
            "1788   2446  AGCTATAGCAGAGATAGCCGGAGCTCTCCATCCGAGAGCTATGAGA...     partial\n",
            "7072   1375  TTGTATGGATTTCATGTTTATACAACTTTCCAGTTTTTATAAATTG...  intergenic\n",
            "2190   1195  CATAGTCGCATGGTGTCGCCTTCTTTACTTTTGTTACTGATTTGTA...  intergenic\n",
            "6384   1553  CAAAAGGAGTTAAGCCAGCACCAATAATATTTAGACATGATTTTGA...     partial\n",
            "7559   2250  TATTTCAAGGTAATGGTGTAATCGGGGGAGATTTTGTCAGCAGCGG...        gene\n",
            "\n",
            "[8400 rows x 3 columns]\n"
          ],
          "name": "stdout"
        }
      ]
    },
    {
      "cell_type": "markdown",
      "metadata": {
        "id": "qCWaj67pmDYE",
        "colab_type": "text"
      },
      "source": [
        "## Testing dataset"
      ]
    },
    {
      "cell_type": "code",
      "metadata": {
        "id": "JxVbytcomV0E",
        "colab_type": "code",
        "colab": {}
      },
      "source": [
        "df_test = dict()\n",
        "for i in range(len(train_feature_tables)):\n",
        "    df_train[i] = window_pipeline(train_genomes[i], train_feature_tables[i], by = test_splits[i])"
      ],
      "execution_count": 0,
      "outputs": []
    },
    {
      "cell_type": "code",
      "metadata": {
        "id": "J8SefID2ltfF",
        "colab_type": "code",
        "outputId": "5eac4246-a5df-4000-a3bc-b692cdad4b8e",
        "colab": {
          "base_uri": "https://localhost:8080/",
          "height": 251
        }
      },
      "source": [
        "\n",
        "appended_data = []\n",
        "for i in range(len(df_test)):\n",
        "  if not i == 5:\n",
        "    data = df_test[i][df_test[i].label==\"gene\"]\n",
        "    data = data[0:300]\n",
        "    appended_data.append(data)\n",
        "    data = df_test[i][df_test[i].label==\"intergenic\"]\n",
        "    data = data[0:300]\n",
        "    appended_data.append(data)\n",
        "    data = df_test[i][df_test[i].label==\"partial\"]\n",
        "    data = data[0:300]\n",
        "    appended_data.append(data)\n",
        "  else: \n",
        "    data = df_test[i][df_test[i].label==\"gene\"]\n",
        "    data = data[0:100]\n",
        "    appended_data.append(data)\n",
        "    data = df_test[i][df_test[i].label==\"intergenic\"]\n",
        "    data = data[0:100]\n",
        "    appended_data.append(data)\n",
        "    data = df_test[i][df_test[i].label==\"partial\"]\n",
        "    data = data[0:100]\n",
        "    appended_data.append(data)\n",
        "\n",
        "# see pd.concat documentation for more info\n",
        "testing_data = pd.concat(appended_data).reset_index(drop=False)\n",
        "\n",
        "#no shuffle\n",
        "#testing_data = testing_data.sample(frac=1)\n",
        "print (testing_data)\n"
      ],
      "execution_count": 58,
      "outputs": [
        {
          "output_type": "stream",
          "text": [
            "      index                                           sequence    label\n",
            "0         0  GGCGGTGAAAAAAATCGTTGTGAGTTGGTGTGTGGCGTTGGCTTTT...     gene\n",
            "1         1  CAAAACACTGAGATTAACAACTTAAGAAAAGTGCAAGAAGTGTTGT...     gene\n",
            "2         2  AGAGATTATTGCATTAGCTTAAGGCCTTATATCTATAATTGGCGCT...     gene\n",
            "3         3  GCCATACGCCTTAAGAAAAAGATTTTTCAAACGCTTTGCGCTGATT...     gene\n",
            "4         4  ATTTTGGGGGGATTGATTATAAAGAGCAATTAAGCATGCTCACGGC...     gene\n",
            "...     ...                                                ...      ...\n",
            "8395    295  GGCCAAGTGGAATTTATTTTTGGCCGAAGCCCATTTGCATATTCCC...  partial\n",
            "8396    296  ATGAACTGGGGCGGGCTGGGGTGGAAGCCGCTCTGAAGGATTTGTC...  partial\n",
            "8397    297  TTCTACAGATGTGGGTCGGCCTGGCGATCGCCGTGTTTGGTGTTTT...  partial\n",
            "8398    298  AACTGGCGAATCTTTTGGGAACCCGCTCCCATTTTGTTTTATTTTA...  partial\n",
            "8399    299  TTGTCTTGAGCGCCATTGTCCCCTCCAGTCCCTACGTGCGGAATGA...  partial\n",
            "\n",
            "[8400 rows x 3 columns]\n"
          ],
          "name": "stdout"
        }
      ]
    }
  ]
}