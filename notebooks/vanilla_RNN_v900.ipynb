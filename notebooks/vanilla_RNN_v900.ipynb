{
 "cells": [
  {
   "cell_type": "markdown",
   "metadata": {
    "colab_type": "text",
    "id": "41fhhqz9cpMY"
   },
   "source": [
    "# Vanilla LSTM for Gene/No gene classification\n",
    "The Milestone 1 corresponds to the classication task of, given a sequence, predict if it contains a gene, a partial sequence of a gene or just intergenic code."
   ]
  },
  {
   "cell_type": "code",
   "execution_count": 215,
   "metadata": {
    "colab": {
     "base_uri": "https://localhost:8080/",
     "height": 34
    },
    "colab_type": "code",
    "id": "h-c6UAlXecMe",
    "outputId": "dd9b8c99-9f93-44c8-a511-8d9a5c272dcd"
   },
   "outputs": [
    {
     "name": "stdout",
     "output_type": "stream",
     "text": [
      "Requirement already satisfied: pyfastx in /usr/local/lib/python3.6/dist-packages (0.5.9)\n"
     ]
    }
   ],
   "source": [
    "!pip3 install pyfastx"
   ]
  },
  {
   "cell_type": "code",
   "execution_count": 0,
   "metadata": {
    "colab": {},
    "colab_type": "code",
    "id": "qRzQiKX0cpMv"
   },
   "outputs": [],
   "source": [
    "import numpy as np\n",
    "import pickle\n",
    "import torch\n",
    "import torch.nn as nn\n",
    "import pandas as pd\n",
    "\n",
    "from tqdm import tqdm # progress bar\n",
    "from preproc_pipeline import pre_process\n",
    "from warnings import simplefilter"
   ]
  },
  {
   "cell_type": "code",
   "execution_count": 0,
   "metadata": {
    "colab": {
     "base_uri": "https://localhost:8080/",
     "height": 121
    },
    "colab_type": "code",
    "id": "vBh07oIKIT7G",
    "outputId": "c5891dff-9ad6-4ceb-84cf-762b9dcb5c9c"
   },
   "outputs": [
    {
     "name": "stdout",
     "output_type": "stream",
     "text": [
      "Go to this URL in a browser: https://accounts.google.com/o/oauth2/auth?client_id=947318989803-6bn6qk8qdgf4n4g3pfee6491hc0brc4i.apps.googleusercontent.com&redirect_uri=urn%3aietf%3awg%3aoauth%3a2.0%3aoob&response_type=code&scope=email%20https%3a%2f%2fwww.googleapis.com%2fauth%2fdocs.test%20https%3a%2f%2fwww.googleapis.com%2fauth%2fdrive%20https%3a%2f%2fwww.googleapis.com%2fauth%2fdrive.photos.readonly%20https%3a%2f%2fwww.googleapis.com%2fauth%2fpeopleapi.readonly\n",
      "\n",
      "Enter your authorization code:\n",
      "··········\n",
      "Mounted at /content/drive\n"
     ]
    }
   ],
   "source": [
    "from google.colab import drive\n",
    "drive.mount('/content/drive')"
   ]
  },
  {
   "cell_type": "markdown",
   "metadata": {
    "colab_type": "text",
    "id": "pj7ghCdFcpNN"
   },
   "source": [
    "## 1. Dataset for training\n",
    "The genome of E. coli will be used for this purpose."
   ]
  },
  {
   "cell_type": "code",
   "execution_count": 0,
   "metadata": {
    "colab": {},
    "colab_type": "code",
    "id": "xlomqEr_cpNV"
   },
   "outputs": [],
   "source": [
    "simplefilter(\"ignore\")\n",
    "genome = \"GCF_000008865.2_ASM886v2_genomic.fna\"\n",
    "feature_table = \"GCA_000008865.2_ASM886v2_feature_table.tsv\"\n",
    "df = pre_process(genome, feature_table)"
   ]
  },
  {
   "cell_type": "markdown",
   "metadata": {
    "colab_type": "text",
    "id": "8imkCBLk_yit"
   },
   "source": []
  },
  {
   "cell_type": "code",
   "execution_count": 244,
   "metadata": {
    "colab": {
     "base_uri": "https://localhost:8080/",
     "height": 50
    },
    "colab_type": "code",
    "id": "7yI_vjULcpNr",
    "outputId": "beda8ac3-55f5-42a9-f9be-02a6e7901a53"
   },
   "outputs": [
    {
     "name": "stdout",
     "output_type": "stream",
     "text": [
      "columns -> ['sequence', 'label', 'seq_length', 'padded_sequences']\n",
      "labels in dataframe -> ['gene', 'intergenic', 'partial']\n"
     ]
    }
   ],
   "source": [
    "print(\n",
    "    f\"columns -> {list(df.columns)}\\n\"\n",
    "    f\"labels in dataframe -> {list(df.label.unique())}\"\n",
    ")"
   ]
  },
  {
   "cell_type": "markdown",
   "metadata": {
    "colab_type": "text",
    "id": "QWshzjeHcpN-"
   },
   "source": [
    "Let's get a one hot mapping for the labels."
   ]
  },
  {
   "cell_type": "code",
   "execution_count": 245,
   "metadata": {
    "colab": {
     "base_uri": "https://localhost:8080/",
     "height": 50
    },
    "colab_type": "code",
    "id": "F3fD5a7LcpOD",
    "outputId": "a5af792d-0560-4c83-d716-21b4c3c5e9a0"
   },
   "outputs": [
    {
     "name": "stdout",
     "output_type": "stream",
     "text": [
      "lab2vec -> {'gene': array([1., 0., 0.]), 'intergenic': array([0., 1., 0.]), 'partial': array([0., 0., 1.])}\n",
      "vec2lab -> {(1.0, 0.0, 0.0): 'gene', (0.0, 1.0, 0.0): 'intergenic', (0.0, 0.0, 1.0): 'partial'}\n"
     ]
    }
   ],
   "source": [
    "labels = list(df.label.unique())\n",
    "lab0 = np.zeros(len(labels))\n",
    "lab2vec = {}\n",
    "vec2lab = {}\n",
    "for i, label in enumerate(list(df.label.unique())):\n",
    "    labv = lab0.copy()\n",
    "    labv[i] = 1\n",
    "    lab2vec[label] = labv\n",
    "    vec2lab[tuple(labv)] = label\n",
    "\n",
    "print(f\"lab2vec -> {lab2vec}\\nvec2lab -> {vec2lab}\")"
   ]
  },
  {
   "cell_type": "code",
   "execution_count": 256,
   "metadata": {
    "colab": {
     "base_uri": "https://localhost:8080/",
     "height": 185
    },
    "colab_type": "code",
    "id": "QzAINOOA9ge1",
    "outputId": "95eafe9b-fc8f-416f-9ac3-60427ad8844c"
   },
   "outputs": [
    {
     "name": "stdout",
     "output_type": "stream",
     "text": [
      "sequence            0\n",
      "label               0\n",
      "seq_length          0\n",
      "padded_sequences    0\n",
      "dtype: int64\n"
     ]
    },
    {
     "data": {
      "text/plain": [
       "sequence            522\n",
       "label               522\n",
       "seq_length          522\n",
       "padded_sequences    522\n",
       "dtype: int64"
      ]
     },
     "execution_count": 256,
     "metadata": {
      "tags": []
     },
     "output_type": "execute_result"
    }
   ],
   "source": [
    "print(df[df.sequence.apply(lambda x: len(x)==0)].count())\n",
    "df = df[~df.sequence.apply(lambda x: len(x)==0)]\n",
    "\n",
    "lens = df[df.sequence.apply(lambda x: len(x))>2000].count()\n",
    "lens\n",
    "\n"
   ]
  },
  {
   "cell_type": "markdown",
   "metadata": {
    "colab_type": "text",
    "id": "KNxgBpL9QxZj"
   },
   "source": [
    "Need to check why it always generate a 0 length row. I think is the last one, but I am not sure."
   ]
  },
  {
   "cell_type": "code",
   "execution_count": 230,
   "metadata": {
    "colab": {
     "base_uri": "https://localhost:8080/",
     "height": 422
    },
    "colab_type": "code",
    "id": "XTcHbHV8cpOT",
    "outputId": "b3331088-ef7c-44d6-af35-3ef021a00026"
   },
   "outputs": [
    {
     "data": {
      "text/html": [
       "<div>\n",
       "<style scoped>\n",
       "    .dataframe tbody tr th:only-of-type {\n",
       "        vertical-align: middle;\n",
       "    }\n",
       "\n",
       "    .dataframe tbody tr th {\n",
       "        vertical-align: top;\n",
       "    }\n",
       "\n",
       "    .dataframe thead th {\n",
       "        text-align: right;\n",
       "    }\n",
       "</style>\n",
       "<table border=\"1\" class=\"dataframe\">\n",
       "  <thead>\n",
       "    <tr style=\"text-align: right;\">\n",
       "      <th></th>\n",
       "      <th>sequence</th>\n",
       "      <th>label</th>\n",
       "      <th>seq_length</th>\n",
       "      <th>padded_sequences</th>\n",
       "      <th>label_onehot</th>\n",
       "    </tr>\n",
       "  </thead>\n",
       "  <tbody>\n",
       "    <tr>\n",
       "      <th>0</th>\n",
       "      <td>TGGTGTGAGTGTGAAACATCTTGCGTGTGCGGAGTGATGCTTCTCG...</td>\n",
       "      <td>intergenic</td>\n",
       "      <td>99</td>\n",
       "      <td>TGGTGTGAGTGTGAAACATCTTGCGTGTGCGGAGTGATGCTTCTCG...</td>\n",
       "      <td>[0.0, 1.0, 0.0]</td>\n",
       "    </tr>\n",
       "    <tr>\n",
       "      <th>1</th>\n",
       "      <td>GTCGGCGGTTCTTCCAGTTGCAATAATGTGTATAATCGTCGCCCCT...</td>\n",
       "      <td>partial</td>\n",
       "      <td>815</td>\n",
       "      <td>GTCGGCGGTTCTTCCAGTTGCAATAATGTGTATAATCGTCGCCCCT...</td>\n",
       "      <td>[0.0, 0.0, 1.0]</td>\n",
       "    </tr>\n",
       "    <tr>\n",
       "      <th>2</th>\n",
       "      <td>AAATGTTATGGAAAATAAATACTCAAGGTTACAAATCAGCATTCAC...</td>\n",
       "      <td>partial</td>\n",
       "      <td>312</td>\n",
       "      <td>AAATGTTATGGAAAATAAATACTCAAGGTTACAAATCAGCATTCAC...</td>\n",
       "      <td>[0.0, 0.0, 1.0]</td>\n",
       "    </tr>\n",
       "    <tr>\n",
       "      <th>3</th>\n",
       "      <td>TTATCAGGCCTACATAACTCCTGCAATATTTTGGATTTGCATGATT...</td>\n",
       "      <td>gene</td>\n",
       "      <td>1278</td>\n",
       "      <td>TTATCAGGCCTACATAACTCCTGCAATATTTTGGATTTGCATGATT...</td>\n",
       "      <td>[1.0, 0.0, 0.0]</td>\n",
       "    </tr>\n",
       "    <tr>\n",
       "      <th>4</th>\n",
       "      <td>AGAATCGGGATAAAGATAAGCATCGGAAAAACCTCCTGTTGTACCG...</td>\n",
       "      <td>gene</td>\n",
       "      <td>897</td>\n",
       "      <td>AGAATCGGGATAAAGATAAGCATCGGAAAAACCTCCTGTTGTACCG...</td>\n",
       "      <td>[1.0, 0.0, 0.0]</td>\n",
       "    </tr>\n",
       "    <tr>\n",
       "      <th>...</th>\n",
       "      <td>...</td>\n",
       "      <td>...</td>\n",
       "      <td>...</td>\n",
       "      <td>...</td>\n",
       "      <td>...</td>\n",
       "    </tr>\n",
       "    <tr>\n",
       "      <th>296</th>\n",
       "      <td>TGGTGGCGCATTATAGGGAGTTATTCCGGCCTGACAAGCGAAAAAT...</td>\n",
       "      <td>gene</td>\n",
       "      <td>2866</td>\n",
       "      <td>TGGTGGCGCATTATAGGGAGTTATTCCGGCCTGACAAGCGAAAAAT...</td>\n",
       "      <td>[1.0, 0.0, 0.0]</td>\n",
       "    </tr>\n",
       "    <tr>\n",
       "      <th>297</th>\n",
       "      <td>GTTTTTAAAAAGGGAGTGTTATTAATGTGTTAACATCGCGTTATCT...</td>\n",
       "      <td>intergenic</td>\n",
       "      <td>66</td>\n",
       "      <td>GTTTTTAAAAAGGGAGTGTTATTAATGTGTTAACATCGCGTTATCT...</td>\n",
       "      <td>[0.0, 1.0, 0.0]</td>\n",
       "    </tr>\n",
       "    <tr>\n",
       "      <th>298</th>\n",
       "      <td>GCCTTTTTGTCACTGTCACGTGACGAATACTCACGTAAGTCGCCGC...</td>\n",
       "      <td>gene</td>\n",
       "      <td>846</td>\n",
       "      <td>GCCTTTTTGTCACTGTCACGTGACGAATACTCACGTAAGTCGCCGC...</td>\n",
       "      <td>[1.0, 0.0, 0.0]</td>\n",
       "    </tr>\n",
       "    <tr>\n",
       "      <th>299</th>\n",
       "      <td>ACAACGTGCGCGTTGTTCATGCCGGATGCGGCGTGAACGCCTTACC...</td>\n",
       "      <td>intergenic</td>\n",
       "      <td>229</td>\n",
       "      <td>ACAACGTGCGCGTTGTTCATGCCGGATGCGGCGTGAACGCCTTACC...</td>\n",
       "      <td>[0.0, 1.0, 0.0]</td>\n",
       "    </tr>\n",
       "    <tr>\n",
       "      <th>300</th>\n",
       "      <td>ATTATTAATATATGAAAATAAAGGCTCTAATTTAGGAAAATTAAAA...</td>\n",
       "      <td>intergenic</td>\n",
       "      <td>68</td>\n",
       "      <td>ATTATTAATATATGAAAATAAAGGCTCTAATTTAGGAAAATTAAAA...</td>\n",
       "      <td>[0.0, 1.0, 0.0]</td>\n",
       "    </tr>\n",
       "  </tbody>\n",
       "</table>\n",
       "<p>301 rows × 5 columns</p>\n",
       "</div>"
      ],
      "text/plain": [
       "                                              sequence  ...     label_onehot\n",
       "0    TGGTGTGAGTGTGAAACATCTTGCGTGTGCGGAGTGATGCTTCTCG...  ...  [0.0, 1.0, 0.0]\n",
       "1    GTCGGCGGTTCTTCCAGTTGCAATAATGTGTATAATCGTCGCCCCT...  ...  [0.0, 0.0, 1.0]\n",
       "2    AAATGTTATGGAAAATAAATACTCAAGGTTACAAATCAGCATTCAC...  ...  [0.0, 0.0, 1.0]\n",
       "3    TTATCAGGCCTACATAACTCCTGCAATATTTTGGATTTGCATGATT...  ...  [1.0, 0.0, 0.0]\n",
       "4    AGAATCGGGATAAAGATAAGCATCGGAAAAACCTCCTGTTGTACCG...  ...  [1.0, 0.0, 0.0]\n",
       "..                                                 ...  ...              ...\n",
       "296  TGGTGGCGCATTATAGGGAGTTATTCCGGCCTGACAAGCGAAAAAT...  ...  [1.0, 0.0, 0.0]\n",
       "297  GTTTTTAAAAAGGGAGTGTTATTAATGTGTTAACATCGCGTTATCT...  ...  [0.0, 1.0, 0.0]\n",
       "298  GCCTTTTTGTCACTGTCACGTGACGAATACTCACGTAAGTCGCCGC...  ...  [1.0, 0.0, 0.0]\n",
       "299  ACAACGTGCGCGTTGTTCATGCCGGATGCGGCGTGAACGCCTTACC...  ...  [0.0, 1.0, 0.0]\n",
       "300  ATTATTAATATATGAAAATAAAGGCTCTAATTTAGGAAAATTAAAA...  ...  [0.0, 1.0, 0.0]\n",
       "\n",
       "[301 rows x 5 columns]"
      ]
     },
     "execution_count": 230,
     "metadata": {
      "tags": []
     },
     "output_type": "execute_result"
    }
   ],
   "source": [
    "df[\"label_onehot\"] = df.label.apply(lambda x: lab2vec[x])\n",
    "toy = pd.concat([df[df.label==\"gene\"].sample(frac=1/30),\n",
    "                df[df.label==\"intergenic\"].sample(frac=1/30),\n",
    "                df[df.label==\"partial\"].sample(frac=1/30)]).reset_index(drop=True)\n",
    "df_train = toy.sample(frac=7/10) # shuffle\n",
    "df_test = toy[~toy.index.isin(df_train.index)].dropna().reset_index(drop=True)\n",
    "df_train = df_train.reset_index(drop=True)\n",
    "df_train"
   ]
  },
  {
   "cell_type": "markdown",
   "metadata": {
    "colab_type": "text",
    "id": "qZnhk8eFcpOj"
   },
   "source": [
    "## 2. Embeddings\n",
    "The next step is to use the whole sequence to compute the embeddings. First, get a set of k-mers, that will be our words for this NLP problem."
   ]
  },
  {
   "cell_type": "code",
   "execution_count": 0,
   "metadata": {
    "colab": {},
    "colab_type": "code",
    "id": "jENWLxW0cpOq"
   },
   "outputs": [],
   "source": [
    "def window(fseq, window_size, slide = 1):\n",
    "    # create a window of size k\n",
    "    N = len(fseq)\n",
    "    for i in range(0, N - window_size + 1, slide):\n",
    "      if i+window_size+slide < N:\n",
    "        yield fseq[i:i+window_size]\n",
    "\n",
    "\n",
    "def make_context_vector(context, word_to_ix):\n",
    "    idxs = [word_to_ix[w] for w in context]\n",
    "    return torch.tensor(idxs, dtype=torch.long)\n",
    "\n",
    "def get_index_of_max(input):\n",
    "    index = 0\n",
    "    for i in range(1, len(input)):\n",
    "        if input[i] > input[index]:\n",
    "            index = i \n",
    "    return index\n",
    "\n",
    "def get_max_prob_result(input, ix_to_word):\n",
    "    return ix_to_word[get_index_of_max(input)]\n",
    "\n",
    "class CBOW(torch.nn.Module):\n",
    "\n",
    "    def __init__(self, vocab_size, embedding_dim, padding_idx):\n",
    "        super(CBOW, self).__init__()\n",
    "\n",
    "        #out: 1 x emdedding_dim\n",
    "        self.embeddings = nn.Embedding(vocab_size, embedding_dim, \n",
    "                                       padding_idx=padding_idx) #used predefined nn.Embedding\n",
    "        self.linear1 = nn.Linear(embedding_dim, 128)\n",
    "        self.activation_function1 = nn.ReLU()\n",
    "        \n",
    "        #out: 1 x vocab_size\n",
    "        self.linear2 = nn.Linear(128, vocab_size)\n",
    "        self.activation_function2 = nn.LogSoftmax(dim = -1)\n",
    "        \n",
    "\n",
    "    def forward(self, inputs):\n",
    "        embeds = sum(self.embeddings(inputs)).view(1,-1)\n",
    "        out = self.linear1(embeds)\n",
    "        out = self.activation_function1(out)\n",
    "        out = self.linear2(out)\n",
    "        out = self.activation_function2(out)\n",
    "        return out\n",
    "\n",
    "    def get_word_emdedding(self, word):\n",
    "        word = torch.LongTensor([word_to_ix[word]])\n",
    "        return self.embeddings(word).view(1,-1)\n",
    "    \n",
    "k = 3                     # so our words has length 3\n",
    "SLIDE = 1                 # sampling slide\n",
    "CONTEXT_SIZE = 2          # 2 words to the left, 2 to the right\n",
    "EMDEDDING_DIM = 25        # embedding dimension\n",
    "EPOCHS = 10               # number of epochs for training\n",
    "model = None              # CBOW model"
   ]
  },
  {
   "cell_type": "markdown",
   "metadata": {
    "colab_type": "text",
    "id": "udqIi0wBcpO3"
   },
   "source": [
    "Finally, gather all the kmers and apply the CBOW algorithm."
   ]
  },
  {
   "cell_type": "code",
   "execution_count": 0,
   "metadata": {
    "colab": {},
    "colab_type": "code",
    "id": "nJ24vZP71HFi"
   },
   "outputs": [],
   "source": [
    "# Since we have the embeddings stored, we are going to ignore the following next\n",
    "# two cells and use this one\n",
    "stored = False\n",
    "\n",
    "if stored:\n",
    "  with open(\"/content/drive/My Drive/wti.p\", \"rb\") as f:\n",
    "    word_to_ix = pickle.load(f)\n",
    "  ix_to_word = {v: k for k,v in word_to_ix.items()}\n",
    "  model_save_name = 'ma_model.pt'\n",
    "  path = F\"/content/drive/My Drive/{model_save_name}\" \n",
    "  model = CBOW(len(word_to_ix), EMDEDDING_DIM, padding_idx=word_to_ix[\"X\"]).cpu()\n",
    "  model.load_state_dict(torch.load(path, map_location=torch.device('cpu')))"
   ]
  },
  {
   "cell_type": "code",
   "execution_count": 0,
   "metadata": {
    "colab": {
     "base_uri": "https://localhost:8080/",
     "height": 50
    },
    "colab_type": "code",
    "id": "Qi4eQ1K6cpPB",
    "outputId": "2e923a0c-195c-4494-e2af-ce19aa65e38f"
   },
   "outputs": [
    {
     "name": "stderr",
     "output_type": "stream",
     "text": [
      " 24%|██▍       | 49705/206072 [00:00<00:00, 497044.55it/s]"
     ]
    },
    {
     "name": "stdout",
     "output_type": "stream",
     "text": [
      "Filling context data...\n"
     ]
    },
    {
     "name": "stderr",
     "output_type": "stream",
     "text": [
      " 96%|█████████▌| 197746/206072 [00:00<00:00, 598132.09it/s]"
     ]
    }
   ],
   "source": [
    "# kmer in all of the 1/4 sequences of the dataset\n",
    "kmers = [ kmer for kmer in window(\"\".join([seq for seq in df_train.loc[:,\"sequence\"]]), k, SLIDE) ]  \n",
    "vocab_size = len(kmers)\n",
    "\n",
    "data = []\n",
    "print(\"Filling context data...\")\n",
    "pbar = tqdm(total=vocab_size - 4-1) # just to output something in screen\n",
    "for i in range(2, vocab_size - 2): # first word to have 2 words before is the \"third\" one (0,1,2)\n",
    "    context = (kmers[i - 2], kmers[i - 1],\n",
    "               kmers[i + 1], kmers[i + 2])\n",
    "    target = kmers[i]\n",
    "    data.append((context, target))\n",
    "    pbar.update(1)\n",
    "\n",
    "word_to_ix, ix_to_word = {},{}\n",
    "for i, word in enumerate(set(kmers)):\n",
    "    word_to_ix[word] = i\n",
    "    ix_to_word[i] = word\n",
    "\n",
    "ix = len(ix_to_word)\n",
    "ix_to_word[ix] = \"X\"  # our padding character\n",
    "word_to_ix[\"X\"] = ix\n",
    "\n",
    "with open(\"/content/drive/My Drive/wti.p\", \"wb\") as f:\n",
    "  pickle.dump(word_to_ix, f)\n",
    "\n",
    "with open(\"/content/drive/My Drive/itw.p\", \"wb\") as f:\n",
    "  pickle.dump(ix_to_word, f)"
   ]
  },
  {
   "cell_type": "code",
   "execution_count": 0,
   "metadata": {
    "colab": {
     "base_uri": "https://localhost:8080/",
     "height": 722
    },
    "colab_type": "code",
    "id": "JnBZPKyEcpPQ",
    "outputId": "147a753a-18cb-4d23-9e4a-956d6f1c756f"
   },
   "outputs": [
    {
     "name": "stdout",
     "output_type": "stream",
     "text": [
      "Training embeddings...\n",
      "\n",
      "19000/206073 in 14.55s        "
     ]
    },
    {
     "name": "stderr",
     "output_type": "stream",
     "text": [
      "\r",
      "206073it [00:20, 598132.09it/s]                            "
     ]
    },
    {
     "name": "stdout",
     "output_type": "stream",
     "text": [
      "206000/206073 in 158.38s        \n",
      "Epoch 1/10 in 158.44226479530334\n",
      "\n",
      "\n",
      "206000/206073 in 160.33s        \n",
      "Epoch 2/10 in 160.39584732055664\n",
      "\n",
      "\n",
      "206000/206073 in 160.55s        \n",
      "Epoch 3/10 in 160.61604022979736\n",
      "\n",
      "\n",
      "206000/206073 in 163.68s        \n",
      "Epoch 4/10 in 163.74348044395447\n",
      "\n",
      "\n",
      "206000/206073 in 163.03s        \n",
      "Epoch 5/10 in 163.09309434890747\n",
      "\n",
      "\n",
      "206000/206073 in 165.61s        \n",
      "Epoch 6/10 in 165.6746470928192\n",
      "\n",
      "\n",
      "206000/206073 in 167.21s        \n",
      "Epoch 7/10 in 167.27193403244019\n",
      "\n",
      "\n",
      "206000/206073 in 166.22s        \n",
      "Epoch 8/10 in 166.28069591522217\n",
      "\n",
      "\n",
      "206000/206073 in 168.62s        \n",
      "Epoch 9/10 in 168.6915202140808\n",
      "\n",
      "\n",
      "206000/206073 in 164.49s        \n",
      "Epoch 10/10 in 164.5537302494049\n",
      "\n",
      "\n"
     ]
    }
   ],
   "source": [
    "import sys\n",
    "from time import time \n",
    "model = CBOW(len(word_to_ix), EMDEDDING_DIM, padding_idx=word_to_ix[\"X\"])\n",
    "\n",
    "loss_function = nn.NLLLoss()\n",
    "optimizer = torch.optim.SGD(model.parameters(), lr=0.001)\n",
    "print(\"Training embeddings...\")\n",
    "\n",
    "model_save_name = 'ma_model.pt'\n",
    "path = F\"/content/drive/My Drive/{model_save_name}\" \n",
    "\n",
    "start = time()\n",
    "tot = len(data)\n",
    "print()\n",
    "for epoch in range(EPOCHS):\n",
    "  start = time()\n",
    "  total_loss = 0\n",
    "  i = 1\n",
    "  for context, target in data:\n",
    "    if not i%100:\n",
    "      sys.stdout.write(f\"\\r{i}/{tot} in {round(time()-start,2)}s        \")\n",
    "      sys.stdout.flush()\n",
    "    context_vector = make_context_vector(context, word_to_ix)  \n",
    "    model.zero_grad()\n",
    "    log_probs = model(context_vector)\n",
    "    loss = loss_function(log_probs, torch.tensor([word_to_ix[target]], dtype=torch.long))\n",
    "    loss.backward()\n",
    "    optimizer.step()\n",
    "    total_loss += loss.data\n",
    "    i+=1\n",
    "  torch.save(model.state_dict(), path)\n",
    "  print(f\"\\nEpoch {epoch+1}/{EPOCHS} in {time()-start}\\n\\n\")"
   ]
  },
  {
   "cell_type": "markdown",
   "metadata": {
    "colab_type": "text",
    "id": "JJKW2iVSlmGQ"
   },
   "source": [
    "## 4. Vanilla RNN model"
   ]
  },
  {
   "cell_type": "code",
   "execution_count": 0,
   "metadata": {
    "colab": {},
    "colab_type": "code",
    "id": "GniwYJ6mlswA"
   },
   "outputs": [],
   "source": [
    "class RNN(nn.Module):\n",
    "    def __init__(self, input_dim, embedding_dim, hidden_dim, hidden_out, output_dim,\n",
    "                 padding_idx, max_seq_length):\n",
    "\n",
    "        super().__init__()\n",
    "        self.nb_tags = output_dim\n",
    "\n",
    "        self.embedding = nn.Embedding(input_dim, embedding_dim, padding_idx=padding_idx)\n",
    "        \n",
    "        self.rnn = nn.LSTM(embedding_dim, hidden_dim)\n",
    "        \n",
    "        self.max_seq_length = max_seq_length\n",
    "        self.lhid = nn.Linear(hidden_dim*max_seq_length, hidden_out)\n",
    "\n",
    "        self.fc = nn.Linear(hidden_out, output_dim)\n",
    "\n",
    "\n",
    "    def forward(self, text, X_lengths):\n",
    "\n",
    "        #text = [sent len, batch size]\n",
    "        # 1. embedding\n",
    "        embedded = self.embedding(text)\n",
    "        # 2. pack so padded won't be shown\n",
    "        print('Embedded: ')\n",
    "        print(embedded.size())\n",
    "\n",
    "        embedded = torch.nn.utils.rnn.pack_padded_sequence(embedded, X_lengths, batch_first=True)\n",
    "\n",
    "        print('padded_sequence:')\n",
    "        print(embedded.data.size())\n",
    "\n",
    "        #embedded = [sent len, batch size, emb dim]\n",
    "        output, (hidden, lt) = self.rnn(embedded)\n",
    "        print('output rnn:')\n",
    "        print(output.data.size())\n",
    "\n",
    "\n",
    "        #print(output.size())\n",
    "        # 3. get that so it's correctly packed for the hidden layer\n",
    "        output, _ = torch.nn.utils.rnn.pad_packed_sequence(output, batch_first=True, total_length=self.max_seq_length)\n",
    "        #print('Padding off')\n",
    "        #print(output.size())\n",
    "        print('packed:')\n",
    "        print(output.size())\n",
    "\n",
    "        output = output.contiguous()\n",
    "        output = output.view(-1, output.shape[2])\n",
    "\n",
    "        print('view:')\n",
    "        print(output.size())\n",
    "        #print(output.size())\n",
    "        #output = output.reshape(output.size(0),output.size(2)*100)\n",
    "        #print(output.size())\n",
    "        #output = output.permute(1,0)\n",
    "        #print('contigous')\n",
    "        #print(output.size())\n",
    "        output = nn.functional.relu(self.lhid(output))\n",
    "        #print('after linear layer')\n",
    "        #print(output.size())\n",
    "\n",
    "        # 4. classification\n",
    "        output = self.fc(output)\n",
    "        #print(output.size())\n",
    "        output = nn.functional.log_softmax(output, dim=1)\n",
    "        #print(output.size())\n",
    "        #output = output.view(text.size()[0], -1)\n",
    "        return output\n"
   ]
  },
  {
   "cell_type": "markdown",
   "metadata": {
    "colab_type": "text",
    "id": "Hqnu9WvB8uvw"
   },
   "source": [
    "## 4. Tweak the embeddings to accomodate varying sizes of the sequences\n",
    "Once we have the model and the embeddings, we would need to tweak the embeddings so that they are adjusted for the padded sequences.\n",
    "\n",
    "### 4.1. Add the padding char to the embeddings"
   ]
  },
  {
   "cell_type": "markdown",
   "metadata": {
    "colab_type": "text",
    "id": "T2KEUxaSAuAh"
   },
   "source": [
    "Now, get sequences as indexes."
   ]
  },
  {
   "cell_type": "code",
   "execution_count": 0,
   "metadata": {
    "colab": {},
    "colab_type": "code",
    "id": "F3fPAtenAtX5"
   },
   "outputs": [],
   "source": [
    "def to_ix(kmer, word_to_ix):\n",
    "  if \"X\" in kmer:\n",
    "    return word_to_ix[\"X\"]\n",
    "  elif kmer in word_to_ix:\n",
    "    return word_to_ix[kmer]\n",
    "  else:\n",
    "    return len(word_to_ix)\n",
    "\n",
    "def wind_idx(seq):\n",
    "  return [to_ix(kmer, word_to_ix)  for kmer in window(seq, k, SLIDE)]\n",
    "\n",
    "df_train[\"seq_idx\"] = df_train[\"padded_sequences\"].apply(wind_idx)\n",
    "df_test[\"seq_idx\"] = df_test[\"padded_sequences\"].apply(wind_idx)"
   ]
  },
  {
   "cell_type": "code",
   "execution_count": 0,
   "metadata": {
    "colab": {
     "base_uri": "https://localhost:8080/",
     "height": 34
    },
    "colab_type": "code",
    "id": "S5UeEYm8E1dI",
    "outputId": "4e1f6009-d3f0-4cb0-bae4-64c5c4505717"
   },
   "outputs": [
    {
     "data": {
      "text/plain": [
       "array([46947])"
      ]
     },
     "execution_count": 190,
     "metadata": {
      "tags": []
     },
     "output_type": "execute_result"
    }
   ],
   "source": [
    "np.unique(df_train.seq_idx.apply(lambda x: len(x)))"
   ]
  },
  {
   "cell_type": "markdown",
   "metadata": {
    "colab_type": "text",
    "id": "L9U_zq-5FIbp"
   },
   "source": [
    "Finally, instantiante the model and initialize the weigths of the embeddings."
   ]
  },
  {
   "cell_type": "code",
   "execution_count": 0,
   "metadata": {
    "colab": {
     "base_uri": "https://localhost:8080/",
     "height": 34
    },
    "colab_type": "code",
    "id": "7dJjn7v2lVBv",
    "outputId": "1329350a-056b-42f8-896b-4c01bede7a96"
   },
   "outputs": [
    {
     "name": "stdout",
     "output_type": "stream",
     "text": [
      "64\n"
     ]
    }
   ],
   "source": [
    "print(word_to_ix[\"X\"])"
   ]
  },
  {
   "cell_type": "code",
   "execution_count": 0,
   "metadata": {
    "colab": {},
    "colab_type": "code",
    "id": "go5mnL9uFJQu"
   },
   "outputs": [],
   "source": [
    "X_lengths = df_train.seq_length\n",
    "max_seq_length = df_train.seq_idx.apply(lambda x: len(x)).max() # Find maximum sequence length\n",
    "\n",
    "rnn = RNN(input_dim=len(word_to_ix), embedding_dim=EMDEDDING_DIM,\n",
    "          hidden_dim = 34, hidden_out = 7, output_dim=3, \n",
    "          padding_idx = word_to_ix[\"X\"], max_seq_length = max_seq_length)"
   ]
  },
  {
   "cell_type": "code",
   "execution_count": 0,
   "metadata": {
    "colab": {
     "base_uri": "https://localhost:8080/",
     "height": 34
    },
    "colab_type": "code",
    "id": "YZmhbQWkpTuq",
    "outputId": "48f6c408-d339-4e5b-ba3c-8c91bc5b7c42"
   },
   "outputs": [
    {
     "name": "stdout",
     "output_type": "stream",
     "text": [
      "25\n"
     ]
    }
   ],
   "source": [
    "rnn.embedding.weight.data.copy_(model.embeddings.weight)\n",
    "\n",
    "print(len(rnn.embedding.weight[0]))"
   ]
  },
  {
   "cell_type": "markdown",
   "metadata": {
    "colab_type": "text",
    "id": "yrH8hOnvmWE1"
   },
   "source": [
    "## 5. Training loop\n"
   ]
  },
  {
   "cell_type": "markdown",
   "metadata": {
    "colab_type": "text",
    "id": "KQ3hnv3Onw--"
   },
   "source": [
    "All that is left is to split our training and testing and train the model."
   ]
  },
  {
   "cell_type": "code",
   "execution_count": 0,
   "metadata": {
    "colab": {},
    "colab_type": "code",
    "id": "jjL8fY-LCftw"
   },
   "outputs": [],
   "source": [
    "from torch.utils.data import DataLoader, Dataset\n",
    "\n",
    "class oversampdata(Dataset):\n",
    "  def __init__(self, data):\n",
    "    # first column is list of index sentence\n",
    "    self.data = torch.LongTensor(data.iloc[:,0])\n",
    "    # second column is the label\n",
    "    self.targets = torch.LongTensor(data.iloc[:,1])\n",
    "    # third column in lengths (to pack sequences)\n",
    "    self.lengths = torch.LongTensor(data.iloc[:,2])\n",
    "  def __len__(self):\n",
    "    return len(self.data)\n",
    "  def __getitem__(self, index):\n",
    "    data_val = self.data[index]\n",
    "    target = self.targets[index]\n",
    "    length = self.lengths[index]\n",
    "    return data_val, target, length\n",
    "\n",
    "train_dataset = oversampdata(df_train.loc[:,[\"seq_idx\", \"label_onehot\", \"seq_length\"]])\n",
    "valid_dataset = oversampdata(df_test.loc[:,[\"seq_idx\", \"label_onehot\", \"seq_length\"]])\n"
   ]
  },
  {
   "cell_type": "code",
   "execution_count": 0,
   "metadata": {
    "colab": {},
    "colab_type": "code",
    "id": "IenV-ndMvJVW"
   },
   "outputs": [],
   "source": [
    "BATCH_SIZE = 7\n",
    "\n",
    "trainloader = torch.utils.data.DataLoader(train_dataset, batch_size=BATCH_SIZE, \n",
    "                                          shuffle=True)\n",
    "testloader = torch.utils.data.DataLoader(valid_dataset, batch_size=BATCH_SIZE, \n",
    "                                         shuffle=False)"
   ]
  },
  {
   "cell_type": "code",
   "execution_count": 0,
   "metadata": {
    "colab": {},
    "colab_type": "code",
    "id": "vZkX3YKwS8EW"
   },
   "outputs": [],
   "source": [
    "def binary_accuracy(preds, y):\n",
    "   \"\"\"\n",
    "   Returns accuracy per batch, i.e. if you get 8/10 right, this returns 0.8, NOT 8\n",
    "   \"\"\"\n",
    "   #round predictions to the closest integer\n",
    "   rounded_preds = torch.round(torch.sigmoid(preds))\n",
    "   correct = (rounded_preds == y).float() #convert into float for division\n",
    "   acc = correct.sum() / len(correct)\n",
    "   return acc"
   ]
  },
  {
   "cell_type": "code",
   "execution_count": 0,
   "metadata": {
    "colab": {},
    "colab_type": "code",
    "id": "CUPgdWw0maX7"
   },
   "outputs": [],
   "source": [
    "import sys\n",
    "\n",
    "def train(model, iterator, optimizer, criterion):\n",
    "    \n",
    "    epoch_loss = 0\n",
    "    epoch_acc = 0\n",
    "    \n",
    "    model.train()\n",
    "    print(\"Training...\")\n",
    "\n",
    "    for i, batch in enumerate(iterator):\n",
    "        if i%50:\n",
    "          sys.stdout.write(f\"\\rIteration {i}        \")\n",
    "          sys.stdout.flush()\n",
    "\n",
    "        inputs, labels, lengths = batch\n",
    "\n",
    "        # lengths must be sorted\n",
    "        indices = list(np.array(lengths.sort().indices)[::-1])\n",
    "        all_sorted = [inputs[indices], labels[indices], lengths[indices]]\n",
    "        inputs, labels_onehot, lengths = all_sorted\n",
    "         \n",
    "        optimizer.zero_grad()\n",
    "                \n",
    "        predictions = model(inputs, lengths)\n",
    "        \n",
    "        labels_idx = torch.LongTensor([np.where(label==1)[0][0] for label in labels_onehot])\n",
    "\n",
    "\n",
    "        loss = criterion(predictions, labels_idx)\n",
    "        \n",
    "        acc = binary_accuracy(predictions, labels_onehot)\n",
    "        \n",
    "        loss.backward()\n",
    "        \n",
    "        optimizer.step()\n",
    "        \n",
    "        epoch_loss += loss.item()\n",
    "        epoch_acc += acc.item()\n",
    "        \n",
    "    print()\n",
    "    return epoch_loss / len(iterator), epoch_acc / len(iterator)\n",
    "\n",
    "\n",
    "\n",
    "def evaluate(model, iterator, criterion):\n",
    "    epoch_loss = 0\n",
    "    epoch_acc = 0\n",
    "    \n",
    "    model.eval()\n",
    "    print(\"Evaluating...\")\n",
    "    with torch.no_grad():\n",
    "    \n",
    "        for i, batch in enumerate(iterator):\n",
    "\n",
    "            inputs, labels, lengths = batch\n",
    "            # lengths must be sorted\n",
    "            indices = list(np.array(lengths.sort().indices)[::-1])\n",
    "            all_sorted = [inputs[indices], labels[indices], lengths[indices]]\n",
    "            inputs, labels_onehot, lengths = all_sorted\n",
    "\n",
    "            predictions = model(inputs, lengths)\n",
    "            labels_idx = torch.LongTensor([np.where(label==1)[0][0] for label in labels_onehot])\n",
    "\n",
    "            loss = criterion(predictions, labels_idx)\n",
    "            acc = binary_accuracy(predictions, labels_onehot)\n",
    "\n",
    "            epoch_loss += loss.item()\n",
    "            epoch_acc += acc.item()\n",
    "    return epoch_loss / len(iterator), epoch_acc / len(iterator)\n",
    "\n",
    "optimizer = torch.optim.SGD(model.parameters(), lr=1e-3)\n",
    "#criterion = nn.BCEWithLogitsLoss()\n",
    "criterion = nn.CrossEntropyLoss()"
   ]
  },
  {
   "cell_type": "code",
   "execution_count": 205,
   "metadata": {
    "colab": {
     "base_uri": "https://localhost:8080/",
     "height": 592
    },
    "colab_type": "code",
    "id": "KLhfluLNmn5C",
    "outputId": "df87778b-8509-48f4-fcd2-936ab4b858a2"
   },
   "outputs": [
    {
     "name": "stdout",
     "output_type": "stream",
     "text": [
      "Epoch: 0\n",
      "Training...\n",
      "Embedded: \n",
      "torch.Size([7, 46947, 25])\n",
      "padded_sequence:\n",
      "torch.Size([5430, 25])\n",
      "output rnn:\n",
      "torch.Size([5430, 34])\n",
      "packed:\n",
      "torch.Size([7, 46947, 34])\n",
      "view:\n",
      "torch.Size([328629, 34])\n"
     ]
    },
    {
     "ename": "ValueError",
     "evalue": "ignored",
     "output_type": "error",
     "traceback": [
      "\u001b[0;31m---------------------------------------------------------------------------\u001b[0m",
      "\u001b[0;31mValueError\u001b[0m                                Traceback (most recent call last)",
      "\u001b[0;32m<ipython-input-205-922556608b87>\u001b[0m in \u001b[0;36m<module>\u001b[0;34m()\u001b[0m\n\u001b[0;32m----> 1\u001b[0;31m \u001b[0mget_ipython\u001b[0m\u001b[0;34m(\u001b[0m\u001b[0;34m)\u001b[0m\u001b[0;34m.\u001b[0m\u001b[0mrun_cell_magic\u001b[0m\u001b[0;34m(\u001b[0m\u001b[0;34m'time'\u001b[0m\u001b[0;34m,\u001b[0m \u001b[0;34m''\u001b[0m\u001b[0;34m,\u001b[0m \u001b[0;34m'N_EPOCHS = 5\\nmodel_save_name=\"ma_rnn.pt\"\\npath = F\"/content/drive/My Drive/{model_save_name}\"\\n\\nbest_valid_loss = float(\\'inf\\')\\n\\nfor epoch in range(N_EPOCHS):\\n    print(\"Epoch: \" + str(epoch))\\n    train_loss, train_acc = train(rnn, trainloader, optimizer, criterion)\\n    valid_loss, valid_acc = evaluate(rnn, testloader, criterion)    \\n\\n    #train_loss  = train(rnn, trainloader, optimizer, criterion)\\n    #valid_loss  = evaluate(rnn, testloader, criterion)    \\n    \\n    if valid_loss < best_valid_loss:\\n        best_valid_loss = valid_loss\\n        torch.save(rnn.state_dict(), path)\\n    \\n    print(f\\'\\\\tTrain Loss: {train_loss:.3f} | Train Acc: {train_acc*100:.2f}%\\')\\n    print(f\\'\\\\t Val. Loss: {valid_loss:.3f} |  Val. Acc: {valid_acc*100:.2f}%\\')\\n    \\n    #print(f\\'\\\\tTrain Loss: {train_loss:.3f}\\')\\n    #print(f\\'\\\\t Val. Loss: {valid_loss:.3f}\\')'\u001b[0m\u001b[0;34m)\u001b[0m\u001b[0;34m\u001b[0m\u001b[0;34m\u001b[0m\u001b[0m\n\u001b[0m",
      "\u001b[0;32m/usr/local/lib/python3.6/dist-packages/IPython/core/interactiveshell.py\u001b[0m in \u001b[0;36mrun_cell_magic\u001b[0;34m(self, magic_name, line, cell)\u001b[0m\n\u001b[1;32m   2115\u001b[0m             \u001b[0mmagic_arg_s\u001b[0m \u001b[0;34m=\u001b[0m \u001b[0mself\u001b[0m\u001b[0;34m.\u001b[0m\u001b[0mvar_expand\u001b[0m\u001b[0;34m(\u001b[0m\u001b[0mline\u001b[0m\u001b[0;34m,\u001b[0m \u001b[0mstack_depth\u001b[0m\u001b[0;34m)\u001b[0m\u001b[0;34m\u001b[0m\u001b[0;34m\u001b[0m\u001b[0m\n\u001b[1;32m   2116\u001b[0m             \u001b[0;32mwith\u001b[0m \u001b[0mself\u001b[0m\u001b[0;34m.\u001b[0m\u001b[0mbuiltin_trap\u001b[0m\u001b[0;34m:\u001b[0m\u001b[0;34m\u001b[0m\u001b[0;34m\u001b[0m\u001b[0m\n\u001b[0;32m-> 2117\u001b[0;31m                 \u001b[0mresult\u001b[0m \u001b[0;34m=\u001b[0m \u001b[0mfn\u001b[0m\u001b[0;34m(\u001b[0m\u001b[0mmagic_arg_s\u001b[0m\u001b[0;34m,\u001b[0m \u001b[0mcell\u001b[0m\u001b[0;34m)\u001b[0m\u001b[0;34m\u001b[0m\u001b[0;34m\u001b[0m\u001b[0m\n\u001b[0m\u001b[1;32m   2118\u001b[0m             \u001b[0;32mreturn\u001b[0m \u001b[0mresult\u001b[0m\u001b[0;34m\u001b[0m\u001b[0;34m\u001b[0m\u001b[0m\n\u001b[1;32m   2119\u001b[0m \u001b[0;34m\u001b[0m\u001b[0m\n",
      "\u001b[0;32m</usr/local/lib/python3.6/dist-packages/decorator.py:decorator-gen-60>\u001b[0m in \u001b[0;36mtime\u001b[0;34m(self, line, cell, local_ns)\u001b[0m\n",
      "\u001b[0;32m/usr/local/lib/python3.6/dist-packages/IPython/core/magic.py\u001b[0m in \u001b[0;36m<lambda>\u001b[0;34m(f, *a, **k)\u001b[0m\n\u001b[1;32m    186\u001b[0m     \u001b[0;31m# but it's overkill for just that one bit of state.\u001b[0m\u001b[0;34m\u001b[0m\u001b[0;34m\u001b[0m\u001b[0;34m\u001b[0m\u001b[0m\n\u001b[1;32m    187\u001b[0m     \u001b[0;32mdef\u001b[0m \u001b[0mmagic_deco\u001b[0m\u001b[0;34m(\u001b[0m\u001b[0marg\u001b[0m\u001b[0;34m)\u001b[0m\u001b[0;34m:\u001b[0m\u001b[0;34m\u001b[0m\u001b[0;34m\u001b[0m\u001b[0m\n\u001b[0;32m--> 188\u001b[0;31m         \u001b[0mcall\u001b[0m \u001b[0;34m=\u001b[0m \u001b[0;32mlambda\u001b[0m \u001b[0mf\u001b[0m\u001b[0;34m,\u001b[0m \u001b[0;34m*\u001b[0m\u001b[0ma\u001b[0m\u001b[0;34m,\u001b[0m \u001b[0;34m**\u001b[0m\u001b[0mk\u001b[0m\u001b[0;34m:\u001b[0m \u001b[0mf\u001b[0m\u001b[0;34m(\u001b[0m\u001b[0;34m*\u001b[0m\u001b[0ma\u001b[0m\u001b[0;34m,\u001b[0m \u001b[0;34m**\u001b[0m\u001b[0mk\u001b[0m\u001b[0;34m)\u001b[0m\u001b[0;34m\u001b[0m\u001b[0;34m\u001b[0m\u001b[0m\n\u001b[0m\u001b[1;32m    189\u001b[0m \u001b[0;34m\u001b[0m\u001b[0m\n\u001b[1;32m    190\u001b[0m         \u001b[0;32mif\u001b[0m \u001b[0mcallable\u001b[0m\u001b[0;34m(\u001b[0m\u001b[0marg\u001b[0m\u001b[0;34m)\u001b[0m\u001b[0;34m:\u001b[0m\u001b[0;34m\u001b[0m\u001b[0;34m\u001b[0m\u001b[0m\n",
      "\u001b[0;32m/usr/local/lib/python3.6/dist-packages/IPython/core/magics/execution.py\u001b[0m in \u001b[0;36mtime\u001b[0;34m(self, line, cell, local_ns)\u001b[0m\n\u001b[1;32m   1191\u001b[0m         \u001b[0;32melse\u001b[0m\u001b[0;34m:\u001b[0m\u001b[0;34m\u001b[0m\u001b[0;34m\u001b[0m\u001b[0m\n\u001b[1;32m   1192\u001b[0m             \u001b[0mst\u001b[0m \u001b[0;34m=\u001b[0m \u001b[0mclock2\u001b[0m\u001b[0;34m(\u001b[0m\u001b[0;34m)\u001b[0m\u001b[0;34m\u001b[0m\u001b[0;34m\u001b[0m\u001b[0m\n\u001b[0;32m-> 1193\u001b[0;31m             \u001b[0mexec\u001b[0m\u001b[0;34m(\u001b[0m\u001b[0mcode\u001b[0m\u001b[0;34m,\u001b[0m \u001b[0mglob\u001b[0m\u001b[0;34m,\u001b[0m \u001b[0mlocal_ns\u001b[0m\u001b[0;34m)\u001b[0m\u001b[0;34m\u001b[0m\u001b[0;34m\u001b[0m\u001b[0m\n\u001b[0m\u001b[1;32m   1194\u001b[0m             \u001b[0mend\u001b[0m \u001b[0;34m=\u001b[0m \u001b[0mclock2\u001b[0m\u001b[0;34m(\u001b[0m\u001b[0;34m)\u001b[0m\u001b[0;34m\u001b[0m\u001b[0;34m\u001b[0m\u001b[0m\n\u001b[1;32m   1195\u001b[0m             \u001b[0mout\u001b[0m \u001b[0;34m=\u001b[0m \u001b[0;32mNone\u001b[0m\u001b[0;34m\u001b[0m\u001b[0;34m\u001b[0m\u001b[0m\n",
      "\u001b[0;32m<timed exec>\u001b[0m in \u001b[0;36m<module>\u001b[0;34m()\u001b[0m\n",
      "\u001b[0;32m<ipython-input-196-f6544d23e922>\u001b[0m in \u001b[0;36mtrain\u001b[0;34m(model, iterator, optimizer, criterion)\u001b[0m\n\u001b[1;32m     28\u001b[0m \u001b[0;34m\u001b[0m\u001b[0m\n\u001b[1;32m     29\u001b[0m \u001b[0;34m\u001b[0m\u001b[0m\n\u001b[0;32m---> 30\u001b[0;31m         \u001b[0mloss\u001b[0m \u001b[0;34m=\u001b[0m \u001b[0mcriterion\u001b[0m\u001b[0;34m(\u001b[0m\u001b[0mpredictions\u001b[0m\u001b[0;34m,\u001b[0m \u001b[0mlabels_idx\u001b[0m\u001b[0;34m)\u001b[0m\u001b[0;34m\u001b[0m\u001b[0;34m\u001b[0m\u001b[0m\n\u001b[0m\u001b[1;32m     31\u001b[0m \u001b[0;34m\u001b[0m\u001b[0m\n\u001b[1;32m     32\u001b[0m         \u001b[0macc\u001b[0m \u001b[0;34m=\u001b[0m \u001b[0mbinary_accuracy\u001b[0m\u001b[0;34m(\u001b[0m\u001b[0mpredictions\u001b[0m\u001b[0;34m,\u001b[0m \u001b[0mlabels_onehot\u001b[0m\u001b[0;34m)\u001b[0m\u001b[0;34m\u001b[0m\u001b[0;34m\u001b[0m\u001b[0m\n",
      "\u001b[0;32m/usr/local/lib/python3.6/dist-packages/torch/nn/modules/module.py\u001b[0m in \u001b[0;36m__call__\u001b[0;34m(self, *input, **kwargs)\u001b[0m\n\u001b[1;32m    539\u001b[0m             \u001b[0mresult\u001b[0m \u001b[0;34m=\u001b[0m \u001b[0mself\u001b[0m\u001b[0;34m.\u001b[0m\u001b[0m_slow_forward\u001b[0m\u001b[0;34m(\u001b[0m\u001b[0;34m*\u001b[0m\u001b[0minput\u001b[0m\u001b[0;34m,\u001b[0m \u001b[0;34m**\u001b[0m\u001b[0mkwargs\u001b[0m\u001b[0;34m)\u001b[0m\u001b[0;34m\u001b[0m\u001b[0;34m\u001b[0m\u001b[0m\n\u001b[1;32m    540\u001b[0m         \u001b[0;32melse\u001b[0m\u001b[0;34m:\u001b[0m\u001b[0;34m\u001b[0m\u001b[0;34m\u001b[0m\u001b[0m\n\u001b[0;32m--> 541\u001b[0;31m             \u001b[0mresult\u001b[0m \u001b[0;34m=\u001b[0m \u001b[0mself\u001b[0m\u001b[0;34m.\u001b[0m\u001b[0mforward\u001b[0m\u001b[0;34m(\u001b[0m\u001b[0;34m*\u001b[0m\u001b[0minput\u001b[0m\u001b[0;34m,\u001b[0m \u001b[0;34m**\u001b[0m\u001b[0mkwargs\u001b[0m\u001b[0;34m)\u001b[0m\u001b[0;34m\u001b[0m\u001b[0;34m\u001b[0m\u001b[0m\n\u001b[0m\u001b[1;32m    542\u001b[0m         \u001b[0;32mfor\u001b[0m \u001b[0mhook\u001b[0m \u001b[0;32min\u001b[0m \u001b[0mself\u001b[0m\u001b[0;34m.\u001b[0m\u001b[0m_forward_hooks\u001b[0m\u001b[0;34m.\u001b[0m\u001b[0mvalues\u001b[0m\u001b[0;34m(\u001b[0m\u001b[0;34m)\u001b[0m\u001b[0;34m:\u001b[0m\u001b[0;34m\u001b[0m\u001b[0;34m\u001b[0m\u001b[0m\n\u001b[1;32m    543\u001b[0m             \u001b[0mhook_result\u001b[0m \u001b[0;34m=\u001b[0m \u001b[0mhook\u001b[0m\u001b[0;34m(\u001b[0m\u001b[0mself\u001b[0m\u001b[0;34m,\u001b[0m \u001b[0minput\u001b[0m\u001b[0;34m,\u001b[0m \u001b[0mresult\u001b[0m\u001b[0;34m)\u001b[0m\u001b[0;34m\u001b[0m\u001b[0;34m\u001b[0m\u001b[0m\n",
      "\u001b[0;32m/usr/local/lib/python3.6/dist-packages/torch/nn/modules/loss.py\u001b[0m in \u001b[0;36mforward\u001b[0;34m(self, input, target)\u001b[0m\n\u001b[1;32m    914\u001b[0m     \u001b[0;32mdef\u001b[0m \u001b[0mforward\u001b[0m\u001b[0;34m(\u001b[0m\u001b[0mself\u001b[0m\u001b[0;34m,\u001b[0m \u001b[0minput\u001b[0m\u001b[0;34m,\u001b[0m \u001b[0mtarget\u001b[0m\u001b[0;34m)\u001b[0m\u001b[0;34m:\u001b[0m\u001b[0;34m\u001b[0m\u001b[0;34m\u001b[0m\u001b[0m\n\u001b[1;32m    915\u001b[0m         return F.cross_entropy(input, target, weight=self.weight,\n\u001b[0;32m--> 916\u001b[0;31m                                ignore_index=self.ignore_index, reduction=self.reduction)\n\u001b[0m\u001b[1;32m    917\u001b[0m \u001b[0;34m\u001b[0m\u001b[0m\n\u001b[1;32m    918\u001b[0m \u001b[0;34m\u001b[0m\u001b[0m\n",
      "\u001b[0;32m/usr/local/lib/python3.6/dist-packages/torch/nn/functional.py\u001b[0m in \u001b[0;36mcross_entropy\u001b[0;34m(input, target, weight, size_average, ignore_index, reduce, reduction)\u001b[0m\n\u001b[1;32m   2007\u001b[0m     \u001b[0;32mif\u001b[0m \u001b[0msize_average\u001b[0m \u001b[0;32mis\u001b[0m \u001b[0;32mnot\u001b[0m \u001b[0;32mNone\u001b[0m \u001b[0;32mor\u001b[0m \u001b[0mreduce\u001b[0m \u001b[0;32mis\u001b[0m \u001b[0;32mnot\u001b[0m \u001b[0;32mNone\u001b[0m\u001b[0;34m:\u001b[0m\u001b[0;34m\u001b[0m\u001b[0;34m\u001b[0m\u001b[0m\n\u001b[1;32m   2008\u001b[0m         \u001b[0mreduction\u001b[0m \u001b[0;34m=\u001b[0m \u001b[0m_Reduction\u001b[0m\u001b[0;34m.\u001b[0m\u001b[0mlegacy_get_string\u001b[0m\u001b[0;34m(\u001b[0m\u001b[0msize_average\u001b[0m\u001b[0;34m,\u001b[0m \u001b[0mreduce\u001b[0m\u001b[0;34m)\u001b[0m\u001b[0;34m\u001b[0m\u001b[0;34m\u001b[0m\u001b[0m\n\u001b[0;32m-> 2009\u001b[0;31m     \u001b[0;32mreturn\u001b[0m \u001b[0mnll_loss\u001b[0m\u001b[0;34m(\u001b[0m\u001b[0mlog_softmax\u001b[0m\u001b[0;34m(\u001b[0m\u001b[0minput\u001b[0m\u001b[0;34m,\u001b[0m \u001b[0;36m1\u001b[0m\u001b[0;34m)\u001b[0m\u001b[0;34m,\u001b[0m \u001b[0mtarget\u001b[0m\u001b[0;34m,\u001b[0m \u001b[0mweight\u001b[0m\u001b[0;34m,\u001b[0m \u001b[0;32mNone\u001b[0m\u001b[0;34m,\u001b[0m \u001b[0mignore_index\u001b[0m\u001b[0;34m,\u001b[0m \u001b[0;32mNone\u001b[0m\u001b[0;34m,\u001b[0m \u001b[0mreduction\u001b[0m\u001b[0;34m)\u001b[0m\u001b[0;34m\u001b[0m\u001b[0;34m\u001b[0m\u001b[0m\n\u001b[0m\u001b[1;32m   2010\u001b[0m \u001b[0;34m\u001b[0m\u001b[0m\n\u001b[1;32m   2011\u001b[0m \u001b[0;34m\u001b[0m\u001b[0m\n",
      "\u001b[0;32m/usr/local/lib/python3.6/dist-packages/torch/nn/functional.py\u001b[0m in \u001b[0;36mnll_loss\u001b[0;34m(input, target, weight, size_average, ignore_index, reduce, reduction)\u001b[0m\n\u001b[1;32m   1834\u001b[0m     \u001b[0;32mif\u001b[0m \u001b[0minput\u001b[0m\u001b[0;34m.\u001b[0m\u001b[0msize\u001b[0m\u001b[0;34m(\u001b[0m\u001b[0;36m0\u001b[0m\u001b[0;34m)\u001b[0m \u001b[0;34m!=\u001b[0m \u001b[0mtarget\u001b[0m\u001b[0;34m.\u001b[0m\u001b[0msize\u001b[0m\u001b[0;34m(\u001b[0m\u001b[0;36m0\u001b[0m\u001b[0;34m)\u001b[0m\u001b[0;34m:\u001b[0m\u001b[0;34m\u001b[0m\u001b[0;34m\u001b[0m\u001b[0m\n\u001b[1;32m   1835\u001b[0m         raise ValueError('Expected input batch_size ({}) to match target batch_size ({}).'\n\u001b[0;32m-> 1836\u001b[0;31m                          .format(input.size(0), target.size(0)))\n\u001b[0m\u001b[1;32m   1837\u001b[0m     \u001b[0;32mif\u001b[0m \u001b[0mdim\u001b[0m \u001b[0;34m==\u001b[0m \u001b[0;36m2\u001b[0m\u001b[0;34m:\u001b[0m\u001b[0;34m\u001b[0m\u001b[0;34m\u001b[0m\u001b[0m\n\u001b[1;32m   1838\u001b[0m         \u001b[0mret\u001b[0m \u001b[0;34m=\u001b[0m \u001b[0mtorch\u001b[0m\u001b[0;34m.\u001b[0m\u001b[0m_C\u001b[0m\u001b[0;34m.\u001b[0m\u001b[0m_nn\u001b[0m\u001b[0;34m.\u001b[0m\u001b[0mnll_loss\u001b[0m\u001b[0;34m(\u001b[0m\u001b[0minput\u001b[0m\u001b[0;34m,\u001b[0m \u001b[0mtarget\u001b[0m\u001b[0;34m,\u001b[0m \u001b[0mweight\u001b[0m\u001b[0;34m,\u001b[0m \u001b[0m_Reduction\u001b[0m\u001b[0;34m.\u001b[0m\u001b[0mget_enum\u001b[0m\u001b[0;34m(\u001b[0m\u001b[0mreduction\u001b[0m\u001b[0;34m)\u001b[0m\u001b[0;34m,\u001b[0m \u001b[0mignore_index\u001b[0m\u001b[0;34m)\u001b[0m\u001b[0;34m\u001b[0m\u001b[0;34m\u001b[0m\u001b[0m\n",
      "\u001b[0;31mValueError\u001b[0m: Expected input batch_size (328629) to match target batch_size (7)."
     ]
    }
   ],
   "source": [
    "%%time\n",
    "N_EPOCHS = 5\n",
    "model_save_name=\"ma_rnn.pt\"\n",
    "path = F\"/content/drive/My Drive/{model_save_name}\"\n",
    "\n",
    "best_valid_loss = float('inf')\n",
    "\n",
    "for epoch in range(N_EPOCHS):\n",
    "    print(\"Epoch: \" + str(epoch))\n",
    "    train_loss, train_acc = train(rnn, trainloader, optimizer, criterion)\n",
    "    valid_loss, valid_acc = evaluate(rnn, testloader, criterion)    \n",
    "\n",
    "    #train_loss  = train(rnn, trainloader, optimizer, criterion)\n",
    "    #valid_loss  = evaluate(rnn, testloader, criterion)    \n",
    "    \n",
    "    if valid_loss < best_valid_loss:\n",
    "        best_valid_loss = valid_loss\n",
    "        torch.save(rnn.state_dict(), path)\n",
    "    \n",
    "    print(f'\\tTrain Loss: {train_loss:.3f} | Train Acc: {train_acc*100:.2f}%')\n",
    "    print(f'\\t Val. Loss: {valid_loss:.3f} |  Val. Acc: {valid_acc*100:.2f}%')\n",
    "    \n",
    "    #print(f'\\tTrain Loss: {train_loss:.3f}')\n",
    "    #print(f'\\t Val. Loss: {valid_loss:.3f}')"
   ]
  },
  {
   "cell_type": "code",
   "execution_count": 0,
   "metadata": {
    "colab": {},
    "colab_type": "code",
    "id": "-hF69EP67g4v"
   },
   "outputs": [],
   "source": []
  }
 ],
 "metadata": {
  "accelerator": "TPU",
  "colab": {
   "collapsed_sections": [],
   "machine_shape": "hm",
   "name": "vanilla_RNN_v900.ipynb",
   "provenance": [],
   "toc_visible": true
  },
  "kernelspec": {
   "display_name": "Python 3",
   "language": "python",
   "name": "python3"
  },
  "language_info": {
   "codemirror_mode": {
    "name": "ipython",
    "version": 3
   },
   "file_extension": ".py",
   "mimetype": "text/x-python",
   "name": "python",
   "nbconvert_exporter": "python",
   "pygments_lexer": "ipython3",
   "version": "3.6.8"
  }
 },
 "nbformat": 4,
 "nbformat_minor": 1
}
