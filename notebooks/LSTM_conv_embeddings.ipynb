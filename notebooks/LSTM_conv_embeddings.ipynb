{
 "cells": [
  {
   "cell_type": "markdown",
   "metadata": {
    "colab_type": "text",
    "id": "41fhhqz9cpMY"
   },
   "source": [
    "# Vanilla LSTM for Gene/No gene classification\n",
    "The Milestone 1 corresponds to the classication task of, given a sequence, predict if it contains a gene, a partial sequence of a gene or just intergenic code."
   ]
  },
  {
   "cell_type": "code",
   "execution_count": 1,
   "metadata": {
    "colab": {
     "base_uri": "https://localhost:8080/",
     "height": 101
    },
    "colab_type": "code",
    "id": "h-c6UAlXecMe",
    "outputId": "c64a664c-82f3-4b2e-c25e-30732f719d96"
   },
   "outputs": [
    {
     "name": "stdout",
     "output_type": "stream",
     "text": [
      "Collecting pyfastx\n",
      "\u001b[?25l  Downloading https://files.pythonhosted.org/packages/f5/15/5e891f5cf52383fe5dc13c83a4642347472e0ab4f5a09b7e4fc847f7f599/pyfastx-0.5.9-cp36-cp36m-manylinux2010_x86_64.whl (764kB)\n",
      "\r",
      "\u001b[K     |▍                               | 10kB 17.4MB/s eta 0:00:01\r",
      "\u001b[K     |▉                               | 20kB 2.2MB/s eta 0:00:01\r",
      "\u001b[K     |█▎                              | 30kB 3.3MB/s eta 0:00:01\r",
      "\u001b[K     |█▊                              | 40kB 2.1MB/s eta 0:00:01\r",
      "\u001b[K     |██▏                             | 51kB 2.6MB/s eta 0:00:01\r",
      "\u001b[K     |██▋                             | 61kB 3.1MB/s eta 0:00:01\r",
      "\u001b[K     |███                             | 71kB 3.6MB/s eta 0:00:01\r",
      "\u001b[K     |███▍                            | 81kB 4.1MB/s eta 0:00:01\r",
      "\u001b[K     |███▉                            | 92kB 4.6MB/s eta 0:00:01\r",
      "\u001b[K     |████▎                           | 102kB 3.5MB/s eta 0:00:01\r",
      "\u001b[K     |████▊                           | 112kB 3.5MB/s eta 0:00:01\r",
      "\u001b[K     |█████▏                          | 122kB 3.5MB/s eta 0:00:01\r",
      "\u001b[K     |█████▋                          | 133kB 3.5MB/s eta 0:00:01\r",
      "\u001b[K     |██████                          | 143kB 3.5MB/s eta 0:00:01\r",
      "\u001b[K     |██████▍                         | 153kB 3.5MB/s eta 0:00:01\r",
      "\u001b[K     |██████▉                         | 163kB 3.5MB/s eta 0:00:01\r",
      "\u001b[K     |███████▎                        | 174kB 3.5MB/s eta 0:00:01\r",
      "\u001b[K     |███████▊                        | 184kB 3.5MB/s eta 0:00:01\r",
      "\u001b[K     |████████▏                       | 194kB 3.5MB/s eta 0:00:01\r",
      "\u001b[K     |████████▋                       | 204kB 3.5MB/s eta 0:00:01\r",
      "\u001b[K     |█████████                       | 215kB 3.5MB/s eta 0:00:01\r",
      "\u001b[K     |█████████▍                      | 225kB 3.5MB/s eta 0:00:01\r",
      "\u001b[K     |█████████▉                      | 235kB 3.5MB/s eta 0:00:01\r",
      "\u001b[K     |██████████▎                     | 245kB 3.5MB/s eta 0:00:01\r",
      "\u001b[K     |██████████▊                     | 256kB 3.5MB/s eta 0:00:01\r",
      "\u001b[K     |███████████▏                    | 266kB 3.5MB/s eta 0:00:01\r",
      "\u001b[K     |███████████▋                    | 276kB 3.5MB/s eta 0:00:01\r",
      "\u001b[K     |████████████                    | 286kB 3.5MB/s eta 0:00:01\r",
      "\u001b[K     |████████████▍                   | 296kB 3.5MB/s eta 0:00:01\r",
      "\u001b[K     |████████████▉                   | 307kB 3.5MB/s eta 0:00:01\r",
      "\u001b[K     |█████████████▎                  | 317kB 3.5MB/s eta 0:00:01\r",
      "\u001b[K     |█████████████▊                  | 327kB 3.5MB/s eta 0:00:01\r",
      "\u001b[K     |██████████████▏                 | 337kB 3.5MB/s eta 0:00:01\r",
      "\u001b[K     |██████████████▋                 | 348kB 3.5MB/s eta 0:00:01\r",
      "\u001b[K     |███████████████                 | 358kB 3.5MB/s eta 0:00:01\r",
      "\u001b[K     |███████████████▍                | 368kB 3.5MB/s eta 0:00:01\r",
      "\u001b[K     |███████████████▉                | 378kB 3.5MB/s eta 0:00:01\r",
      "\u001b[K     |████████████████▎               | 389kB 3.5MB/s eta 0:00:01\r",
      "\u001b[K     |████████████████▊               | 399kB 3.5MB/s eta 0:00:01\r",
      "\u001b[K     |█████████████████▏              | 409kB 3.5MB/s eta 0:00:01\r",
      "\u001b[K     |█████████████████▋              | 419kB 3.5MB/s eta 0:00:01\r",
      "\u001b[K     |██████████████████              | 430kB 3.5MB/s eta 0:00:01\r",
      "\u001b[K     |██████████████████▍             | 440kB 3.5MB/s eta 0:00:01\r",
      "\u001b[K     |██████████████████▉             | 450kB 3.5MB/s eta 0:00:01\r",
      "\u001b[K     |███████████████████▎            | 460kB 3.5MB/s eta 0:00:01\r",
      "\u001b[K     |███████████████████▊            | 471kB 3.5MB/s eta 0:00:01\r",
      "\u001b[K     |████████████████████▏           | 481kB 3.5MB/s eta 0:00:01\r",
      "\u001b[K     |████████████████████▋           | 491kB 3.5MB/s eta 0:00:01\r",
      "\u001b[K     |█████████████████████           | 501kB 3.5MB/s eta 0:00:01\r",
      "\u001b[K     |█████████████████████▍          | 512kB 3.5MB/s eta 0:00:01\r",
      "\u001b[K     |█████████████████████▉          | 522kB 3.5MB/s eta 0:00:01\r",
      "\u001b[K     |██████████████████████▎         | 532kB 3.5MB/s eta 0:00:01\r",
      "\u001b[K     |██████████████████████▊         | 542kB 3.5MB/s eta 0:00:01\r",
      "\u001b[K     |███████████████████████▏        | 552kB 3.5MB/s eta 0:00:01\r",
      "\u001b[K     |███████████████████████▋        | 563kB 3.5MB/s eta 0:00:01\r",
      "\u001b[K     |████████████████████████        | 573kB 3.5MB/s eta 0:00:01\r",
      "\u001b[K     |████████████████████████▍       | 583kB 3.5MB/s eta 0:00:01\r",
      "\u001b[K     |████████████████████████▉       | 593kB 3.5MB/s eta 0:00:01\r",
      "\u001b[K     |█████████████████████████▎      | 604kB 3.5MB/s eta 0:00:01\r",
      "\u001b[K     |█████████████████████████▊      | 614kB 3.5MB/s eta 0:00:01\r",
      "\u001b[K     |██████████████████████████▏     | 624kB 3.5MB/s eta 0:00:01\r",
      "\u001b[K     |██████████████████████████▋     | 634kB 3.5MB/s eta 0:00:01\r",
      "\u001b[K     |███████████████████████████     | 645kB 3.5MB/s eta 0:00:01\r",
      "\u001b[K     |███████████████████████████▍    | 655kB 3.5MB/s eta 0:00:01\r",
      "\u001b[K     |███████████████████████████▉    | 665kB 3.5MB/s eta 0:00:01\r",
      "\u001b[K     |████████████████████████████▎   | 675kB 3.5MB/s eta 0:00:01\r",
      "\u001b[K     |████████████████████████████▊   | 686kB 3.5MB/s eta 0:00:01\r",
      "\u001b[K     |█████████████████████████████▏  | 696kB 3.5MB/s eta 0:00:01\r",
      "\u001b[K     |█████████████████████████████▋  | 706kB 3.5MB/s eta 0:00:01\r",
      "\u001b[K     |██████████████████████████████  | 716kB 3.5MB/s eta 0:00:01\r",
      "\u001b[K     |██████████████████████████████▍ | 727kB 3.5MB/s eta 0:00:01\r",
      "\u001b[K     |██████████████████████████████▉ | 737kB 3.5MB/s eta 0:00:01\r",
      "\u001b[K     |███████████████████████████████▎| 747kB 3.5MB/s eta 0:00:01\r",
      "\u001b[K     |███████████████████████████████▊| 757kB 3.5MB/s eta 0:00:01\r",
      "\u001b[K     |████████████████████████████████| 768kB 3.5MB/s \n",
      "\u001b[?25hInstalling collected packages: pyfastx\n",
      "Successfully installed pyfastx-0.5.9\n"
     ]
    }
   ],
   "source": [
    "!pip3 install pyfastx"
   ]
  },
  {
   "cell_type": "code",
   "execution_count": 0,
   "metadata": {
    "colab": {},
    "colab_type": "code",
    "id": "qRzQiKX0cpMv"
   },
   "outputs": [],
   "source": [
    "import numpy as np\n",
    "import pickle\n",
    "import torch\n",
    "import torch.nn as nn\n",
    "import pandas as pd\n",
    "\n",
    "from tqdm import tqdm # progress bar\n",
    "from preproc_pipeline import window_pipeline\n",
    "from warnings import simplefilter"
   ]
  },
  {
   "cell_type": "code",
   "execution_count": 3,
   "metadata": {
    "colab": {
     "base_uri": "https://localhost:8080/",
     "height": 121
    },
    "colab_type": "code",
    "id": "vBh07oIKIT7G",
    "outputId": "b2d02f92-3069-4d5c-e197-2f190e5f5ae3"
   },
   "outputs": [
    {
     "name": "stdout",
     "output_type": "stream",
     "text": [
      "Go to this URL in a browser: https://accounts.google.com/o/oauth2/auth?client_id=947318989803-6bn6qk8qdgf4n4g3pfee6491hc0brc4i.apps.googleusercontent.com&redirect_uri=urn%3aietf%3awg%3aoauth%3a2.0%3aoob&response_type=code&scope=email%20https%3a%2f%2fwww.googleapis.com%2fauth%2fdocs.test%20https%3a%2f%2fwww.googleapis.com%2fauth%2fdrive%20https%3a%2f%2fwww.googleapis.com%2fauth%2fdrive.photos.readonly%20https%3a%2f%2fwww.googleapis.com%2fauth%2fpeopleapi.readonly\n",
      "\n",
      "Enter your authorization code:\n",
      "··········\n",
      "Mounted at /content/drive\n"
     ]
    }
   ],
   "source": [
    "from google.colab import drive\n",
    "drive.mount('/content/drive')"
   ]
  },
  {
   "cell_type": "markdown",
   "metadata": {
    "colab_type": "text",
    "id": "pj7ghCdFcpNN"
   },
   "source": [
    "## 1. Dataset for training\n",
    "The genome of E. coli will be used for this purpose."
   ]
  },
  {
   "cell_type": "code",
   "execution_count": 0,
   "metadata": {
    "colab": {},
    "colab_type": "code",
    "id": "xlomqEr_cpNV"
   },
   "outputs": [],
   "source": [
    "simplefilter(\"ignore\")\n",
    "genome = \"GCF_000008865.2_ASM886v2_genomic.fna\"\n",
    "feature_table = \"GCA_000008865.2_ASM886v2_feature_table.tsv\"\n",
    "df = window_pipeline(genome, feature_table)"
   ]
  },
  {
   "cell_type": "code",
   "execution_count": 459,
   "metadata": {
    "colab": {
     "base_uri": "https://localhost:8080/",
     "height": 50
    },
    "colab_type": "code",
    "id": "mMNHc3Xb6uA_",
    "outputId": "c3caf812-3a12-4a9e-f91f-832261b3d840"
   },
   "outputs": [
    {
     "name": "stdout",
     "output_type": "stream",
     "text": [
      "50\n"
     ]
    },
    {
     "data": {
      "text/plain": [
       "36494"
      ]
     },
     "execution_count": 459,
     "metadata": {
      "tags": []
     },
     "output_type": "execute_result"
    }
   ],
   "source": [
    "print(df.sequence.apply(lambda x: len(x)).max())\n",
    "len(df)"
   ]
  },
  {
   "cell_type": "markdown",
   "metadata": {
    "colab_type": "text",
    "id": "8imkCBLk_yit"
   },
   "source": []
  },
  {
   "cell_type": "code",
   "execution_count": 460,
   "metadata": {
    "colab": {
     "base_uri": "https://localhost:8080/",
     "height": 50
    },
    "colab_type": "code",
    "id": "7yI_vjULcpNr",
    "outputId": "71a94f4a-ee9f-4530-d1b9-1cb4e6436f5d"
   },
   "outputs": [
    {
     "name": "stdout",
     "output_type": "stream",
     "text": [
      "columns -> ['sequence', 'label']\n",
      "labels in dataframe -> ['gene', 'intergenic', 'partial']\n"
     ]
    }
   ],
   "source": [
    "print(\n",
    "    f\"columns -> {list(df.columns)}\\n\"\n",
    "    f\"labels in dataframe -> {list(df.label.unique())}\"\n",
    ")"
   ]
  },
  {
   "cell_type": "markdown",
   "metadata": {
    "colab_type": "text",
    "id": "QWshzjeHcpN-"
   },
   "source": [
    "Let's get a one hot mapping for the labels."
   ]
  },
  {
   "cell_type": "code",
   "execution_count": 461,
   "metadata": {
    "colab": {
     "base_uri": "https://localhost:8080/",
     "height": 50
    },
    "colab_type": "code",
    "id": "F3fD5a7LcpOD",
    "outputId": "c86a7b43-30c6-4e23-e50c-2cd4c058f03e"
   },
   "outputs": [
    {
     "name": "stdout",
     "output_type": "stream",
     "text": [
      "lab2vec -> {'gene': array([1., 0., 0.]), 'intergenic': array([0., 1., 0.]), 'partial': array([0., 0., 1.])}\n",
      "vec2lab -> {(1.0, 0.0, 0.0): 'gene', (0.0, 1.0, 0.0): 'intergenic', (0.0, 0.0, 1.0): 'partial'}\n"
     ]
    }
   ],
   "source": [
    "labels = list(df.label.unique())\n",
    "lab0 = np.zeros(len(labels))\n",
    "lab2vec = {}\n",
    "vec2lab = {}\n",
    "for i, label in enumerate(list(df.label.unique())):\n",
    "    labv = lab0.copy()\n",
    "    labv[i] = 1\n",
    "    lab2vec[label] = labv\n",
    "    vec2lab[tuple(labv)] = label\n",
    "\n",
    "print(f\"lab2vec -> {lab2vec}\\nvec2lab -> {vec2lab}\")"
   ]
  },
  {
   "cell_type": "code",
   "execution_count": 462,
   "metadata": {
    "colab": {
     "base_uri": "https://localhost:8080/",
     "height": 67
    },
    "colab_type": "code",
    "id": "QzAINOOA9ge1",
    "outputId": "f2de12de-94dd-4dc0-a0c9-6e6d52e33b19"
   },
   "outputs": [
    {
     "name": "stdout",
     "output_type": "stream",
     "text": [
      "sequence    0\n",
      "label       0\n",
      "dtype: int64\n"
     ]
    }
   ],
   "source": [
    "print(df[df.sequence.apply(lambda x: len(x)==0)].count())\n",
    "df = df[~df.sequence.apply(lambda x: len(x)==0)]"
   ]
  },
  {
   "cell_type": "markdown",
   "metadata": {
    "colab_type": "text",
    "id": "KNxgBpL9QxZj"
   },
   "source": [
    "Need to check why it always generate a 0 length row. I think is the last one, but I am not sure."
   ]
  },
  {
   "cell_type": "code",
   "execution_count": 463,
   "metadata": {
    "colab": {
     "base_uri": "https://localhost:8080/",
     "height": 402
    },
    "colab_type": "code",
    "id": "XTcHbHV8cpOT",
    "outputId": "f93aee0d-0438-47ae-cce8-5b0d4e28b902"
   },
   "outputs": [
    {
     "data": {
      "text/html": [
       "<div>\n",
       "<style scoped>\n",
       "    .dataframe tbody tr th:only-of-type {\n",
       "        vertical-align: middle;\n",
       "    }\n",
       "\n",
       "    .dataframe tbody tr th {\n",
       "        vertical-align: top;\n",
       "    }\n",
       "\n",
       "    .dataframe thead th {\n",
       "        text-align: right;\n",
       "    }\n",
       "</style>\n",
       "<table border=\"1\" class=\"dataframe\">\n",
       "  <thead>\n",
       "    <tr style=\"text-align: right;\">\n",
       "      <th></th>\n",
       "      <th>sequence</th>\n",
       "      <th>label</th>\n",
       "      <th>label_onehot</th>\n",
       "    </tr>\n",
       "  </thead>\n",
       "  <tbody>\n",
       "    <tr>\n",
       "      <th>0</th>\n",
       "      <td>CACAGTTTAAATTTCCCCACGCGCATAGCCTTAATATCAGCACGCA...</td>\n",
       "      <td>intergenic</td>\n",
       "      <td>[0.0, 1.0]</td>\n",
       "    </tr>\n",
       "    <tr>\n",
       "      <th>1</th>\n",
       "      <td>TAACGGCTGACGGCGCGTTGCCATTCGCTAATCCATGCCTGACGTT...</td>\n",
       "      <td>gene</td>\n",
       "      <td>[1.0, 0.0]</td>\n",
       "    </tr>\n",
       "    <tr>\n",
       "      <th>2</th>\n",
       "      <td>ATTTTCACTAACATGACTGATTAACTGCTCTTTTGTAAAAGTGGTC...</td>\n",
       "      <td>intergenic</td>\n",
       "      <td>[0.0, 1.0]</td>\n",
       "    </tr>\n",
       "    <tr>\n",
       "      <th>3</th>\n",
       "      <td>TGTTGAATGATTGTCAAATTAGATGATTAAAAATTAAATAAATGTT...</td>\n",
       "      <td>intergenic</td>\n",
       "      <td>[0.0, 1.0]</td>\n",
       "    </tr>\n",
       "    <tr>\n",
       "      <th>4</th>\n",
       "      <td>AAGAAAGCAGGGGAGAAGCAGGCGGCAGTACGCCTTTGGTTTATCC...</td>\n",
       "      <td>intergenic</td>\n",
       "      <td>[0.0, 1.0]</td>\n",
       "    </tr>\n",
       "    <tr>\n",
       "      <th>...</th>\n",
       "      <td>...</td>\n",
       "      <td>...</td>\n",
       "      <td>...</td>\n",
       "    </tr>\n",
       "    <tr>\n",
       "      <th>7995</th>\n",
       "      <td>ATCCGGTATCAGGAAGAGTGCGACGATGTTCTTTACGAGTACTGGA...</td>\n",
       "      <td>gene</td>\n",
       "      <td>[1.0, 0.0]</td>\n",
       "    </tr>\n",
       "    <tr>\n",
       "      <th>7996</th>\n",
       "      <td>AATGATTTGCTTGCTGTTTATTAAAGATATTTAGCTCACCAGTCTG...</td>\n",
       "      <td>gene</td>\n",
       "      <td>[1.0, 0.0]</td>\n",
       "    </tr>\n",
       "    <tr>\n",
       "      <th>7997</th>\n",
       "      <td>AAACGTCCGGTGAGTTCCGATGACGTCGAAATGGCAATCAATCATA...</td>\n",
       "      <td>gene</td>\n",
       "      <td>[1.0, 0.0]</td>\n",
       "    </tr>\n",
       "    <tr>\n",
       "      <th>7998</th>\n",
       "      <td>CCGGCAGCAGTACCTGGACCGGGGTATCATCGGCATGGAGTTTGCC...</td>\n",
       "      <td>gene</td>\n",
       "      <td>[1.0, 0.0]</td>\n",
       "    </tr>\n",
       "    <tr>\n",
       "      <th>7999</th>\n",
       "      <td>AATATTGTGGCAAAAGCGCATAAGGTGCTGGGAGTAAAAGGTGCCT...</td>\n",
       "      <td>intergenic</td>\n",
       "      <td>[0.0, 1.0]</td>\n",
       "    </tr>\n",
       "  </tbody>\n",
       "</table>\n",
       "<p>8000 rows × 3 columns</p>\n",
       "</div>"
      ],
      "text/plain": [
       "                                               sequence  ... label_onehot\n",
       "0     CACAGTTTAAATTTCCCCACGCGCATAGCCTTAATATCAGCACGCA...  ...   [0.0, 1.0]\n",
       "1     TAACGGCTGACGGCGCGTTGCCATTCGCTAATCCATGCCTGACGTT...  ...   [1.0, 0.0]\n",
       "2     ATTTTCACTAACATGACTGATTAACTGCTCTTTTGTAAAAGTGGTC...  ...   [0.0, 1.0]\n",
       "3     TGTTGAATGATTGTCAAATTAGATGATTAAAAATTAAATAAATGTT...  ...   [0.0, 1.0]\n",
       "4     AAGAAAGCAGGGGAGAAGCAGGCGGCAGTACGCCTTTGGTTTATCC...  ...   [0.0, 1.0]\n",
       "...                                                 ...  ...          ...\n",
       "7995  ATCCGGTATCAGGAAGAGTGCGACGATGTTCTTTACGAGTACTGGA...  ...   [1.0, 0.0]\n",
       "7996  AATGATTTGCTTGCTGTTTATTAAAGATATTTAGCTCACCAGTCTG...  ...   [1.0, 0.0]\n",
       "7997  AAACGTCCGGTGAGTTCCGATGACGTCGAAATGGCAATCAATCATA...  ...   [1.0, 0.0]\n",
       "7998  CCGGCAGCAGTACCTGGACCGGGGTATCATCGGCATGGAGTTTGCC...  ...   [1.0, 0.0]\n",
       "7999  AATATTGTGGCAAAAGCGCATAAGGTGCTGGGAGTAAAAGGTGCCT...  ...   [0.0, 1.0]\n",
       "\n",
       "[8000 rows x 3 columns]"
      ]
     },
     "execution_count": 463,
     "metadata": {
      "tags": []
     },
     "output_type": "execute_result"
    }
   ],
   "source": [
    "df[\"label_onehot\"] = df.label.apply(lambda x: lab2vec[x])\n",
    "toy = pd.concat([df[df.label==\"gene\"].sample(n=5000),\n",
    "                df[df.label==\"intergenic\"].sample(n=5000)])\n",
    "                # df[df.label==\"partial\"].sample(n=100)]).reset_index(drop=True)\n",
    "toy[\"label_onehot\"] = toy.label_onehot.apply(lambda x: x[0:2])\n",
    "df_train = toy.sample(frac=8/10) # shuffle\n",
    "#df_test = df[~df.index.isin(df_train.index)].dropna().reset_index(drop=True)\n",
    "df_test = toy[~toy.sequence.isin(df_train.sequence)].reset_index(drop=True)\n",
    "df_train = df_train.reset_index(drop=True)\n",
    "df_train"
   ]
  },
  {
   "cell_type": "code",
   "execution_count": 464,
   "metadata": {
    "colab": {
     "base_uri": "https://localhost:8080/",
     "height": 402
    },
    "colab_type": "code",
    "id": "eCePneq5Ojvp",
    "outputId": "daf489ca-8bbe-46bd-9c7a-eaa1172e6214"
   },
   "outputs": [
    {
     "data": {
      "text/html": [
       "<div>\n",
       "<style scoped>\n",
       "    .dataframe tbody tr th:only-of-type {\n",
       "        vertical-align: middle;\n",
       "    }\n",
       "\n",
       "    .dataframe tbody tr th {\n",
       "        vertical-align: top;\n",
       "    }\n",
       "\n",
       "    .dataframe thead th {\n",
       "        text-align: right;\n",
       "    }\n",
       "</style>\n",
       "<table border=\"1\" class=\"dataframe\">\n",
       "  <thead>\n",
       "    <tr style=\"text-align: right;\">\n",
       "      <th></th>\n",
       "      <th>sequence</th>\n",
       "      <th>label</th>\n",
       "      <th>label_onehot</th>\n",
       "    </tr>\n",
       "  </thead>\n",
       "  <tbody>\n",
       "    <tr>\n",
       "      <th>0</th>\n",
       "      <td>GTATTTCAAGATTAAAGAAGACCGGCGTAAGGCGGCACGGGGAGAG...</td>\n",
       "      <td>gene</td>\n",
       "      <td>[1.0, 0.0]</td>\n",
       "    </tr>\n",
       "    <tr>\n",
       "      <th>1</th>\n",
       "      <td>GGTGGGGAGTATTAACCGCGTTATCCGTCCGCGTTTGAAGTTGCAT...</td>\n",
       "      <td>gene</td>\n",
       "      <td>[1.0, 0.0]</td>\n",
       "    </tr>\n",
       "    <tr>\n",
       "      <th>2</th>\n",
       "      <td>AAATATGCTGATAAAATTGCTCGCGGCTATTTTGATTGTTATCAGT...</td>\n",
       "      <td>gene</td>\n",
       "      <td>[1.0, 0.0]</td>\n",
       "    </tr>\n",
       "    <tr>\n",
       "      <th>3</th>\n",
       "      <td>TGGGATCTGAAATCAGTAAAAAAGATATCACCCGTCTGGGCTTTCG...</td>\n",
       "      <td>gene</td>\n",
       "      <td>[1.0, 0.0]</td>\n",
       "    </tr>\n",
       "    <tr>\n",
       "      <th>4</th>\n",
       "      <td>TGGCAGATAATCCAAACCCTTCATCGCCCCTGCCGGACGTGTTTTC...</td>\n",
       "      <td>gene</td>\n",
       "      <td>[1.0, 0.0]</td>\n",
       "    </tr>\n",
       "    <tr>\n",
       "      <th>...</th>\n",
       "      <td>...</td>\n",
       "      <td>...</td>\n",
       "      <td>...</td>\n",
       "    </tr>\n",
       "    <tr>\n",
       "      <th>1953</th>\n",
       "      <td>CCTATGCATACGCCACCTTCGGGTGGCGTTGTTTTTTGCGAGACGA...</td>\n",
       "      <td>intergenic</td>\n",
       "      <td>[0.0, 1.0]</td>\n",
       "    </tr>\n",
       "    <tr>\n",
       "      <th>1954</th>\n",
       "      <td>GTCATTTCTCCTTCTAAGAAGCGAGTAAGTACCTGCAAATCCGAAG...</td>\n",
       "      <td>intergenic</td>\n",
       "      <td>[0.0, 1.0]</td>\n",
       "    </tr>\n",
       "    <tr>\n",
       "      <th>1955</th>\n",
       "      <td>TCGTTTCCAGTTTATAGGGGTGTCATTTTCACAGGGTGACATAGCA...</td>\n",
       "      <td>intergenic</td>\n",
       "      <td>[0.0, 1.0]</td>\n",
       "    </tr>\n",
       "    <tr>\n",
       "      <th>1956</th>\n",
       "      <td>GTACGGCAGCCAATACAGTCAGCCGGATTAACGATAATTAACGATT...</td>\n",
       "      <td>intergenic</td>\n",
       "      <td>[0.0, 1.0]</td>\n",
       "    </tr>\n",
       "    <tr>\n",
       "      <th>1957</th>\n",
       "      <td>GACACTCGTATACTGGCAGTCTGATAGCTATTGAGGTCGAAGATAG...</td>\n",
       "      <td>intergenic</td>\n",
       "      <td>[0.0, 1.0]</td>\n",
       "    </tr>\n",
       "  </tbody>\n",
       "</table>\n",
       "<p>1958 rows × 3 columns</p>\n",
       "</div>"
      ],
      "text/plain": [
       "                                               sequence  ... label_onehot\n",
       "0     GTATTTCAAGATTAAAGAAGACCGGCGTAAGGCGGCACGGGGAGAG...  ...   [1.0, 0.0]\n",
       "1     GGTGGGGAGTATTAACCGCGTTATCCGTCCGCGTTTGAAGTTGCAT...  ...   [1.0, 0.0]\n",
       "2     AAATATGCTGATAAAATTGCTCGCGGCTATTTTGATTGTTATCAGT...  ...   [1.0, 0.0]\n",
       "3     TGGGATCTGAAATCAGTAAAAAAGATATCACCCGTCTGGGCTTTCG...  ...   [1.0, 0.0]\n",
       "4     TGGCAGATAATCCAAACCCTTCATCGCCCCTGCCGGACGTGTTTTC...  ...   [1.0, 0.0]\n",
       "...                                                 ...  ...          ...\n",
       "1953  CCTATGCATACGCCACCTTCGGGTGGCGTTGTTTTTTGCGAGACGA...  ...   [0.0, 1.0]\n",
       "1954  GTCATTTCTCCTTCTAAGAAGCGAGTAAGTACCTGCAAATCCGAAG...  ...   [0.0, 1.0]\n",
       "1955  TCGTTTCCAGTTTATAGGGGTGTCATTTTCACAGGGTGACATAGCA...  ...   [0.0, 1.0]\n",
       "1956  GTACGGCAGCCAATACAGTCAGCCGGATTAACGATAATTAACGATT...  ...   [0.0, 1.0]\n",
       "1957  GACACTCGTATACTGGCAGTCTGATAGCTATTGAGGTCGAAGATAG...  ...   [0.0, 1.0]\n",
       "\n",
       "[1958 rows x 3 columns]"
      ]
     },
     "execution_count": 464,
     "metadata": {
      "tags": []
     },
     "output_type": "execute_result"
    }
   ],
   "source": [
    "df_test"
   ]
  },
  {
   "cell_type": "markdown",
   "metadata": {
    "colab_type": "text",
    "id": "qZnhk8eFcpOj"
   },
   "source": [
    "## 2. Embeddings\n",
    "The next step is to use the whole sequence to compute the embeddings. First, get a set of k-mers, that will be our words for this NLP problem."
   ]
  },
  {
   "cell_type": "markdown",
   "metadata": {
    "colab_type": "text",
    "id": "udqIi0wBcpO3"
   },
   "source": [
    "Finally, gather all the kmers and apply the CBOW algorithm."
   ]
  },
  {
   "cell_type": "code",
   "execution_count": 0,
   "metadata": {
    "colab": {},
    "colab_type": "code",
    "id": "nJ24vZP71HFi"
   },
   "outputs": [],
   "source": [
    "# Since we have the embeddings stored, we are going to ignore the following next\n",
    "# two cells and use this one\n",
    "stored = False\n",
    "\n",
    "if stored:\n",
    "  with open(\"/content/drive/My Drive/wti.p\", \"rb\") as f:\n",
    "    word_to_ix = pickle.load(f)\n",
    "  ix_to_word = {v: k for k,v in word_to_ix.items()}\n",
    "  model_save_name = 'ma_model.pt'\n",
    "  path = model_save_name\n",
    "  path = F\"/content/drive/My Drive/{model_save_name}\" \n",
    "  model = CBOW(len(word_to_ix), EMDEDDING_DIM, padding_idx=word_to_ix[\"X\"]).cpu()\n",
    "  model.load_state_dict(torch.load(path, map_location=torch.device('cpu')))"
   ]
  },
  {
   "cell_type": "markdown",
   "metadata": {
    "colab_type": "text",
    "id": "JJKW2iVSlmGQ"
   },
   "source": [
    "## 4. Vanilla RNN model"
   ]
  },
  {
   "cell_type": "code",
   "execution_count": 0,
   "metadata": {
    "colab": {},
    "colab_type": "code",
    "id": "GniwYJ6mlswA"
   },
   "outputs": [],
   "source": [
    "from torch.autograd import Variable\n",
    "\n",
    "class RNN(nn.Module):\n",
    "    def __init__(self, input_dim, hidden_dim, hidden_out, output_dim, t):\n",
    "\n",
    "        super().__init__()\n",
    "        self.nb_tags = output_dim\n",
    "\n",
    "        #, in_channels, out_channels, kernel_size, stride\n",
    "        in_channels = 1\n",
    "        out_channels = 1\n",
    "        kernel_size = 8\n",
    "        stride = 2\n",
    "\n",
    "        self.conv = nn.Conv1d(in_channels, out_channels, kernel_size, stride, padding = 0, bias = False)\n",
    "        #self.maxpool = nn.maxpool()\n",
    "        \n",
    "        #out_seq_len = seq_len - kernel_size + 1\n",
    "\n",
    "        self.rnn = nn.LSTM(input_dim, hidden_dim, bidirectional=False, batch_first=True)\n",
    "        \n",
    "        self.lhid = nn.Linear(22*hidden_dim, hidden_out)\n",
    "\n",
    "        self.fc = nn.Linear(hidden_out, output_dim)\n",
    "\n",
    "        self.drop = nn.Dropout(0.25)\n",
    "\n",
    "\n",
    "    def forward(self, text):\n",
    "        \n",
    "        text = text.permute(0,2,1)\n",
    "        output = self.conv(text)\n",
    "        #print(output.data.size())\n",
    "\n",
    "\n",
    "        output = output.permute(0,2,1)  \n",
    "        #print(output.data.size())    \n",
    "        #text = [sent len, batch size]\n",
    "        # 1. LSTM\n",
    "        output, hidden = self.rnn(output)\n",
    "        #print('rnn')\n",
    "        #print(output.data.size())\n",
    "\n",
    "\n",
    "        # 2. get that so it's correctly packed for the hidden layer\n",
    "        output = output.contiguous()\n",
    "        output = output.reshape(output.shape[0], -1)\n",
    "        #print('reshape')\n",
    "        #print(output.size())\n",
    "\n",
    "        output = self.drop(nn.functional.relu(self.lhid(output)))\n",
    "        #print('ff')\n",
    "        #print(output.size())\n",
    "        #print('after linear layer')\n",
    "        #print(output.size())\n",
    "\n",
    "        # 3. classification\n",
    "        output = self.fc(output)\n",
    "        #print('fff')\n",
    "        #print(output.size())\n",
    "        #print(output.size())\n",
    "        #output = nn.functional.log_softmax(output, dim=1)\n",
    "        #print(output.size())\n",
    "        # output = output.view(text.size()[0], -1)\n",
    "        return output"
   ]
  },
  {
   "cell_type": "markdown",
   "metadata": {
    "colab_type": "text",
    "id": "Hqnu9WvB8uvw"
   },
   "source": [
    "## 4. Tweak the embeddings to accomodate varying sizes of the sequences\n",
    "Once we have the model and the embeddings, we would need to tweak the embeddings so that they are adjusted for the padded sequences.\n",
    "\n",
    "### 4.1. Add the padding char to the embeddings"
   ]
  },
  {
   "cell_type": "markdown",
   "metadata": {
    "colab_type": "text",
    "id": "T2KEUxaSAuAh"
   },
   "source": [
    "Now, get sequences as indexes."
   ]
  },
  {
   "cell_type": "markdown",
   "metadata": {
    "colab_type": "text",
    "id": "Wl02HKniKTHy"
   },
   "source": [
    "The following code is to try and entirely different way with enco"
   ]
  },
  {
   "cell_type": "code",
   "execution_count": 0,
   "metadata": {
    "colab": {},
    "colab_type": "code",
    "id": "vW8dkfajKAb9"
   },
   "outputs": [],
   "source": [
    "def code_one_hot(seq,vocab):\n",
    "  encoding = np.array([vocab[ch] for ch in seq], dtype=\"int64\")\n",
    "\n",
    "  encoding.reshape(encoding.shape[0], encoding.shape[1], 1)\n",
    "  return encoding\n",
    "\n",
    "nuc_to_ix = {\"A\": [1,0,0,0], \"G\": [0,1,0,0], \"T\": [0,0,1,0], \"C\" : [0,0,0,1]}\n",
    "nuc_to_class = {\"A\": [0], \"G\": [1], \"T\": [2], \"C\" : [3]}\n",
    "\n",
    "nuc_to_ix = {\"A\": [1,0,0,0], \"G\": [0,1,0,0], \"T\": [0,0,1,0], \"C\" : [0,0,0,1]}\n",
    "nuc_to_class = {k: np.array(v, \"int64\") for k,v in nuc_to_class.items()}"
   ]
  },
  {
   "cell_type": "code",
   "execution_count": 468,
   "metadata": {
    "colab": {
     "base_uri": "https://localhost:8080/",
     "height": 402
    },
    "colab_type": "code",
    "id": "5jNr7uvAK_lU",
    "outputId": "a13fb433-f927-4039-9b13-1efbfb831dae"
   },
   "outputs": [
    {
     "data": {
      "text/html": [
       "<div>\n",
       "<style scoped>\n",
       "    .dataframe tbody tr th:only-of-type {\n",
       "        vertical-align: middle;\n",
       "    }\n",
       "\n",
       "    .dataframe tbody tr th {\n",
       "        vertical-align: top;\n",
       "    }\n",
       "\n",
       "    .dataframe thead th {\n",
       "        text-align: right;\n",
       "    }\n",
       "</style>\n",
       "<table border=\"1\" class=\"dataframe\">\n",
       "  <thead>\n",
       "    <tr style=\"text-align: right;\">\n",
       "      <th></th>\n",
       "      <th>sequence</th>\n",
       "      <th>label</th>\n",
       "      <th>label_onehot</th>\n",
       "      <th>onehot</th>\n",
       "      <th>c_class</th>\n",
       "    </tr>\n",
       "  </thead>\n",
       "  <tbody>\n",
       "    <tr>\n",
       "      <th>0</th>\n",
       "      <td>CACAGTTTAAATTTCCCCACGCGCATAGCCTTAATATCAGCACGCA...</td>\n",
       "      <td>intergenic</td>\n",
       "      <td>[0.0, 1.0]</td>\n",
       "      <td>[[0, 0, 0, 1], [1, 0, 0, 0], [0, 0, 0, 1], [1,...</td>\n",
       "      <td>[[3], [0], [3], [0], [1], [2], [2], [2], [0], ...</td>\n",
       "    </tr>\n",
       "    <tr>\n",
       "      <th>1</th>\n",
       "      <td>TAACGGCTGACGGCGCGTTGCCATTCGCTAATCCATGCCTGACGTT...</td>\n",
       "      <td>gene</td>\n",
       "      <td>[1.0, 0.0]</td>\n",
       "      <td>[[0, 0, 1, 0], [1, 0, 0, 0], [1, 0, 0, 0], [0,...</td>\n",
       "      <td>[[2], [0], [0], [3], [1], [1], [3], [2], [1], ...</td>\n",
       "    </tr>\n",
       "    <tr>\n",
       "      <th>2</th>\n",
       "      <td>ATTTTCACTAACATGACTGATTAACTGCTCTTTTGTAAAAGTGGTC...</td>\n",
       "      <td>intergenic</td>\n",
       "      <td>[0.0, 1.0]</td>\n",
       "      <td>[[1, 0, 0, 0], [0, 0, 1, 0], [0, 0, 1, 0], [0,...</td>\n",
       "      <td>[[0], [2], [2], [2], [2], [3], [0], [3], [2], ...</td>\n",
       "    </tr>\n",
       "    <tr>\n",
       "      <th>3</th>\n",
       "      <td>TGTTGAATGATTGTCAAATTAGATGATTAAAAATTAAATAAATGTT...</td>\n",
       "      <td>intergenic</td>\n",
       "      <td>[0.0, 1.0]</td>\n",
       "      <td>[[0, 0, 1, 0], [0, 1, 0, 0], [0, 0, 1, 0], [0,...</td>\n",
       "      <td>[[2], [1], [2], [2], [1], [0], [0], [2], [1], ...</td>\n",
       "    </tr>\n",
       "    <tr>\n",
       "      <th>4</th>\n",
       "      <td>AAGAAAGCAGGGGAGAAGCAGGCGGCAGTACGCCTTTGGTTTATCC...</td>\n",
       "      <td>intergenic</td>\n",
       "      <td>[0.0, 1.0]</td>\n",
       "      <td>[[1, 0, 0, 0], [1, 0, 0, 0], [0, 1, 0, 0], [1,...</td>\n",
       "      <td>[[0], [0], [1], [0], [0], [0], [1], [3], [0], ...</td>\n",
       "    </tr>\n",
       "    <tr>\n",
       "      <th>...</th>\n",
       "      <td>...</td>\n",
       "      <td>...</td>\n",
       "      <td>...</td>\n",
       "      <td>...</td>\n",
       "      <td>...</td>\n",
       "    </tr>\n",
       "    <tr>\n",
       "      <th>7995</th>\n",
       "      <td>ATCCGGTATCAGGAAGAGTGCGACGATGTTCTTTACGAGTACTGGA...</td>\n",
       "      <td>gene</td>\n",
       "      <td>[1.0, 0.0]</td>\n",
       "      <td>[[1, 0, 0, 0], [0, 0, 1, 0], [0, 0, 0, 1], [0,...</td>\n",
       "      <td>[[0], [2], [3], [3], [1], [1], [2], [0], [2], ...</td>\n",
       "    </tr>\n",
       "    <tr>\n",
       "      <th>7996</th>\n",
       "      <td>AATGATTTGCTTGCTGTTTATTAAAGATATTTAGCTCACCAGTCTG...</td>\n",
       "      <td>gene</td>\n",
       "      <td>[1.0, 0.0]</td>\n",
       "      <td>[[1, 0, 0, 0], [1, 0, 0, 0], [0, 0, 1, 0], [0,...</td>\n",
       "      <td>[[0], [0], [2], [1], [0], [2], [2], [2], [1], ...</td>\n",
       "    </tr>\n",
       "    <tr>\n",
       "      <th>7997</th>\n",
       "      <td>AAACGTCCGGTGAGTTCCGATGACGTCGAAATGGCAATCAATCATA...</td>\n",
       "      <td>gene</td>\n",
       "      <td>[1.0, 0.0]</td>\n",
       "      <td>[[1, 0, 0, 0], [1, 0, 0, 0], [1, 0, 0, 0], [0,...</td>\n",
       "      <td>[[0], [0], [0], [3], [1], [2], [3], [3], [1], ...</td>\n",
       "    </tr>\n",
       "    <tr>\n",
       "      <th>7998</th>\n",
       "      <td>CCGGCAGCAGTACCTGGACCGGGGTATCATCGGCATGGAGTTTGCC...</td>\n",
       "      <td>gene</td>\n",
       "      <td>[1.0, 0.0]</td>\n",
       "      <td>[[0, 0, 0, 1], [0, 0, 0, 1], [0, 1, 0, 0], [0,...</td>\n",
       "      <td>[[3], [3], [1], [1], [3], [0], [1], [3], [0], ...</td>\n",
       "    </tr>\n",
       "    <tr>\n",
       "      <th>7999</th>\n",
       "      <td>AATATTGTGGCAAAAGCGCATAAGGTGCTGGGAGTAAAAGGTGCCT...</td>\n",
       "      <td>intergenic</td>\n",
       "      <td>[0.0, 1.0]</td>\n",
       "      <td>[[1, 0, 0, 0], [1, 0, 0, 0], [0, 0, 1, 0], [1,...</td>\n",
       "      <td>[[0], [0], [2], [0], [2], [2], [1], [2], [1], ...</td>\n",
       "    </tr>\n",
       "  </tbody>\n",
       "</table>\n",
       "<p>8000 rows × 5 columns</p>\n",
       "</div>"
      ],
      "text/plain": [
       "                                               sequence  ...                                            c_class\n",
       "0     CACAGTTTAAATTTCCCCACGCGCATAGCCTTAATATCAGCACGCA...  ...  [[3], [0], [3], [0], [1], [2], [2], [2], [0], ...\n",
       "1     TAACGGCTGACGGCGCGTTGCCATTCGCTAATCCATGCCTGACGTT...  ...  [[2], [0], [0], [3], [1], [1], [3], [2], [1], ...\n",
       "2     ATTTTCACTAACATGACTGATTAACTGCTCTTTTGTAAAAGTGGTC...  ...  [[0], [2], [2], [2], [2], [3], [0], [3], [2], ...\n",
       "3     TGTTGAATGATTGTCAAATTAGATGATTAAAAATTAAATAAATGTT...  ...  [[2], [1], [2], [2], [1], [0], [0], [2], [1], ...\n",
       "4     AAGAAAGCAGGGGAGAAGCAGGCGGCAGTACGCCTTTGGTTTATCC...  ...  [[0], [0], [1], [0], [0], [0], [1], [3], [0], ...\n",
       "...                                                 ...  ...                                                ...\n",
       "7995  ATCCGGTATCAGGAAGAGTGCGACGATGTTCTTTACGAGTACTGGA...  ...  [[0], [2], [3], [3], [1], [1], [2], [0], [2], ...\n",
       "7996  AATGATTTGCTTGCTGTTTATTAAAGATATTTAGCTCACCAGTCTG...  ...  [[0], [0], [2], [1], [0], [2], [2], [2], [1], ...\n",
       "7997  AAACGTCCGGTGAGTTCCGATGACGTCGAAATGGCAATCAATCATA...  ...  [[0], [0], [0], [3], [1], [2], [3], [3], [1], ...\n",
       "7998  CCGGCAGCAGTACCTGGACCGGGGTATCATCGGCATGGAGTTTGCC...  ...  [[3], [3], [1], [1], [3], [0], [1], [3], [0], ...\n",
       "7999  AATATTGTGGCAAAAGCGCATAAGGTGCTGGGAGTAAAAGGTGCCT...  ...  [[0], [0], [2], [0], [2], [2], [1], [2], [1], ...\n",
       "\n",
       "[8000 rows x 5 columns]"
      ]
     },
     "execution_count": 468,
     "metadata": {
      "tags": []
     },
     "output_type": "execute_result"
    }
   ],
   "source": [
    "df_train[\"onehot\"] = df_train.sequence.apply(lambda x: code_one_hot(x, nuc_to_ix))\n",
    "df_test[\"onehot\"] = df_test.sequence.apply(lambda x: code_one_hot(x, nuc_to_ix))\n",
    "\n",
    "df_train[\"c_class\"] = df_train.sequence.apply(lambda x: code_one_hot(x, nuc_to_class))\n",
    "df_test[\"c_class\"] = df_test.sequence.apply(lambda x: code_one_hot(x, nuc_to_class))\n",
    "\n",
    "df_train"
   ]
  },
  {
   "cell_type": "code",
   "execution_count": 469,
   "metadata": {
    "colab": {
     "base_uri": "https://localhost:8080/",
     "height": 50
    },
    "colab_type": "code",
    "id": "UIhlymvfOyvP",
    "outputId": "e58ed096-0d83-4c52-a182-09ab2fd964e8"
   },
   "outputs": [
    {
     "name": "stdout",
     "output_type": "stream",
     "text": [
      "number of rows -> 8000\n",
      "length of index seq -> [50]\n"
     ]
    }
   ],
   "source": [
    "print(f\"number of rows -> {len(df_train)}\")\n",
    "print(f\"length of index seq -> {np.unique(df_train.c_class.apply(lambda x: len(x)))}\")"
   ]
  },
  {
   "cell_type": "markdown",
   "metadata": {
    "colab_type": "text",
    "id": "L9U_zq-5FIbp"
   },
   "source": [
    "Finally, instantiante the model and initialize the weigths of the embeddings."
   ]
  },
  {
   "cell_type": "code",
   "execution_count": 470,
   "metadata": {
    "colab": {
     "base_uri": "https://localhost:8080/",
     "height": 50
    },
    "colab_type": "code",
    "id": "7dJjn7v2lVBv",
    "outputId": "8851b6a4-3672-485c-c15d-69ed33b3e88b"
   },
   "outputs": [
    {
     "name": "stdout",
     "output_type": "stream",
     "text": [
      "64\n",
      "64\n"
     ]
    }
   ],
   "source": [
    "print(word_to_ix[\"X\"])\n",
    "print(len(set(word_to_ix.keys()))-1)"
   ]
  },
  {
   "cell_type": "code",
   "execution_count": 0,
   "metadata": {
    "colab": {},
    "colab_type": "code",
    "id": "go5mnL9uFJQu"
   },
   "outputs": [],
   "source": [
    "t = len(df_train.iloc[0,-1]) # Find length of seqs (fixed)\n",
    "\n",
    "rnn = RNN(input_dim=1, hidden_dim = 34, hidden_out = 90, output_dim=2, t = t)\n"
   ]
  },
  {
   "cell_type": "markdown",
   "metadata": {
    "colab_type": "text",
    "id": "yrH8hOnvmWE1"
   },
   "source": [
    "## 5. Training loop\n"
   ]
  },
  {
   "cell_type": "markdown",
   "metadata": {
    "colab_type": "text",
    "id": "KQ3hnv3Onw--"
   },
   "source": [
    "All that is left is to split our training and testing and train the model."
   ]
  },
  {
   "cell_type": "code",
   "execution_count": 0,
   "metadata": {
    "colab": {},
    "colab_type": "code",
    "id": "jjL8fY-LCftw"
   },
   "outputs": [],
   "source": [
    "from torch.utils.data import DataLoader, Dataset\n",
    "\n",
    "class oversampdata(Dataset):\n",
    "  def __init__(self, data):\n",
    "    # first column is list of index sentence\n",
    "    self.data = torch.LongTensor(np.ndarray.astype(np.array([\n",
    "                    np.array(r) \n",
    "                    for r in data.iloc[:,0].to_numpy()]), \"int64\"))\n",
    "    # second column is the label\n",
    "    self.targets = torch.LongTensor(np.ndarray.astype(np.array([\n",
    "                    np.array(r) \n",
    "                    for r in data.iloc[:,1].to_numpy()]), \"int64\"))\n",
    "\n",
    "  def __len__(self):\n",
    "    return len(self.data)\n",
    "\n",
    "  def __getitem__(self, index):\n",
    "    data_val = self.data[index]\n",
    "    target = self.targets[index]\n",
    "    return data_val, target\n",
    "\n",
    "train_dataset = oversampdata(df_train.loc[:,[\"c_class\", \"label_onehot\"]])\n",
    "valid_dataset = oversampdata(df_test.loc[:,[\"c_class\", \"label_onehot\"]])"
   ]
  },
  {
   "cell_type": "code",
   "execution_count": 0,
   "metadata": {
    "colab": {},
    "colab_type": "code",
    "id": "IenV-ndMvJVW"
   },
   "outputs": [],
   "source": [
    "BATCH_SIZE = 30\n",
    "\n",
    "trainloader = torch.utils.data.DataLoader(train_dataset, batch_size=BATCH_SIZE, \n",
    "                                          shuffle=True, drop_last = False)\n",
    "testloader = torch.utils.data.DataLoader(valid_dataset, batch_size=BATCH_SIZE, \n",
    "                                         shuffle=True, drop_last = False)"
   ]
  },
  {
   "cell_type": "code",
   "execution_count": 0,
   "metadata": {
    "colab": {},
    "colab_type": "code",
    "id": "fMKJKbYoBZQD"
   },
   "outputs": [],
   "source": [
    "def binary_accuracy(preds, y):\n",
    "   \"\"\"\n",
    "   Returns accuracy per batch, i.e. if you get 8/10 right, this returns 0.8, NOT 8\n",
    "   \"\"\"\n",
    "   rounded_preds = torch.zeros(preds.size())\n",
    "   for i in range(len(preds)):\n",
    "     idx_max = torch.where(preds[i] == preds[i].max())\n",
    "     rounded_preds[i][idx_max] = 1\n",
    "   rounded_preds = torch.FloatTensor(rounded_preds).int()\n",
    "   correct = (rounded_preds == y).float() #convert into float for division\n",
    "   acc = (correct.sum()/len(preds[0])) / len(correct)\n",
    "   return acc"
   ]
  },
  {
   "cell_type": "code",
   "execution_count": 0,
   "metadata": {
    "colab": {},
    "colab_type": "code",
    "id": "CUPgdWw0maX7"
   },
   "outputs": [],
   "source": [
    "from torch.nn import Parameter\n",
    "import sys\n",
    "\n",
    "def train(model, iterator, optimizer, criterion):\n",
    "    \n",
    "    epoch_loss = 0\n",
    "    epoch_acc = 0\n",
    "    \n",
    "    model.train()\n",
    "    print(\"Training...\")\n",
    "\n",
    "    for i, batch in enumerate(iterator):\n",
    "        if i%50:\n",
    "          sys.stdout.write(f\"\\rIteration {i}        \")\n",
    "          sys.stdout.flush()\n",
    "\n",
    "        inputs, labels_onehot = batch\n",
    "\n",
    "        inputs = Parameter(inputs.float(), requires_grad=True)\n",
    "\n",
    "        predictions = model(inputs)\n",
    "        \n",
    "        labels_idx = torch.LongTensor([np.where(label==1)[0][0] for label in labels_onehot])\n",
    "        loss = criterion(predictions, labels_idx)\n",
    "\n",
    "        optimizer.zero_grad()\n",
    "        \n",
    "        loss.backward()\n",
    "        \n",
    "        optimizer.step()\n",
    "        \n",
    "        acc = binary_accuracy(predictions, labels_onehot)\n",
    "        # print(loss.item())\n",
    "        epoch_loss += loss.item()\n",
    "        epoch_acc += acc.item()\n",
    "        \n",
    "    print()\n",
    "    return epoch_loss / len(iterator), epoch_acc / len(iterator)\n",
    "\n",
    "\n",
    "\n",
    "def evaluate(model, iterator, criterion):\n",
    "    epoch_loss = 0\n",
    "    epoch_acc = 0\n",
    "    \n",
    "    model.eval()\n",
    "    print(\"Evaluating...\")\n",
    "\n",
    "    for i, batch in enumerate(iterator):\n",
    "\n",
    "        inputs, labels_onehot = batch\n",
    "        \n",
    "        inputs = Parameter(inputs.float(), requires_grad=False)\n",
    "\n",
    "        predictions = model(inputs)\n",
    "        labels_idx = torch.LongTensor([np.where(label==1)[0][0] for label in labels_onehot])\n",
    "\n",
    "        loss = criterion(predictions, labels_idx)\n",
    "        acc = binary_accuracy(predictions, labels_onehot)\n",
    "\n",
    "        epoch_loss += loss.item()\n",
    "        epoch_acc += acc.item()\n",
    "    return epoch_loss / len(iterator), epoch_acc / len(iterator)\n",
    "\n",
    "optimizer = torch.optim.Adam(rnn.parameters(), lr=1e-3)\n",
    "#criterion = nn.BCEWithLogitsLoss()\n",
    "criterion = nn.CrossEntropyLoss()"
   ]
  },
  {
   "cell_type": "code",
   "execution_count": 476,
   "metadata": {
    "colab": {
     "base_uri": "https://localhost:8080/",
     "height": 34
    },
    "colab_type": "code",
    "id": "OnXryGW6FmYD",
    "outputId": "59160785-3726-466e-e3b1-aaf47ce34572"
   },
   "outputs": [
    {
     "data": {
      "text/plain": [
       "8000"
      ]
     },
     "execution_count": 476,
     "metadata": {
      "tags": []
     },
     "output_type": "execute_result"
    }
   ],
   "source": [
    "len(train_dataset)"
   ]
  },
  {
   "cell_type": "code",
   "execution_count": 477,
   "metadata": {
    "colab": {
     "base_uri": "https://localhost:8080/",
     "height": 1000
    },
    "colab_type": "code",
    "id": "KLhfluLNmn5C",
    "outputId": "ccb3d145-4691-4361-97c4-ca786fed5926"
   },
   "outputs": [
    {
     "name": "stdout",
     "output_type": "stream",
     "text": [
      "Epoch: 0\n",
      "Training...\n",
      "Iteration 266        \n",
      "\n",
      "Evaluating...\n",
      "\tTrain Loss: 0.682 | Train Acc: 54.34%\n",
      "\t Val. Loss: 0.655 |  Val. Acc: 60.53%\n",
      "Epoch: 1\n",
      "Training...\n",
      "Iteration 266        \n",
      "\n",
      "Evaluating...\n",
      "\tTrain Loss: 0.638 | Train Acc: 63.70%\n",
      "\t Val. Loss: 0.627 |  Val. Acc: 64.66%\n",
      "Epoch: 2\n",
      "Training...\n",
      "Iteration 266        \n",
      "\n",
      "Evaluating...\n",
      "\tTrain Loss: 0.620 | Train Acc: 65.95%\n",
      "\t Val. Loss: 0.620 |  Val. Acc: 66.96%\n",
      "Epoch: 3\n",
      "Training...\n",
      "Iteration 266        \n",
      "\n",
      "Evaluating...\n",
      "\tTrain Loss: 0.612 | Train Acc: 66.52%\n",
      "\t Val. Loss: 0.605 |  Val. Acc: 67.54%\n",
      "Epoch: 4\n",
      "Training...\n",
      "Iteration 266        \n",
      "\n",
      "Evaluating...\n",
      "\tTrain Loss: 0.607 | Train Acc: 66.85%\n",
      "\t Val. Loss: 0.602 |  Val. Acc: 68.27%\n",
      "Epoch: 5\n",
      "Training...\n",
      "Iteration 266        \n",
      "\n",
      "Evaluating...\n",
      "\tTrain Loss: 0.602 | Train Acc: 67.37%\n",
      "\t Val. Loss: 0.602 |  Val. Acc: 69.23%\n",
      "Epoch: 6\n",
      "Training...\n",
      "Iteration 266        \n",
      "\n",
      "Evaluating...\n",
      "\tTrain Loss: 0.598 | Train Acc: 67.92%\n",
      "\t Val. Loss: 0.597 |  Val. Acc: 69.49%\n",
      "Epoch: 7\n",
      "Training...\n",
      "Iteration 266        \n",
      "\n",
      "Evaluating...\n",
      "\tTrain Loss: 0.592 | Train Acc: 68.78%\n",
      "\t Val. Loss: 0.603 |  Val. Acc: 68.88%\n",
      "Epoch: 8\n",
      "Training...\n",
      "Iteration 266        \n",
      "\n",
      "Evaluating...\n",
      "\tTrain Loss: 0.588 | Train Acc: 68.46%\n",
      "\t Val. Loss: 0.597 |  Val. Acc: 69.97%\n",
      "Epoch: 9\n",
      "Training...\n",
      "Iteration 266        \n",
      "\n",
      "Evaluating...\n",
      "\tTrain Loss: 0.587 | Train Acc: 69.18%\n",
      "\t Val. Loss: 0.594 |  Val. Acc: 70.03%\n",
      "Epoch: 10\n",
      "Training...\n",
      "Iteration 266        \n",
      "\n",
      "Evaluating...\n",
      "\tTrain Loss: 0.579 | Train Acc: 69.13%\n",
      "\t Val. Loss: 0.598 |  Val. Acc: 69.65%\n",
      "Epoch: 11\n",
      "Training...\n",
      "Iteration 266        \n",
      "\n",
      "Evaluating...\n",
      "\tTrain Loss: 0.574 | Train Acc: 69.24%\n",
      "\t Val. Loss: 0.599 |  Val. Acc: 68.48%\n",
      "Epoch: 12\n",
      "Training...\n",
      "Iteration 266        \n",
      "\n",
      "Evaluating...\n",
      "\tTrain Loss: 0.570 | Train Acc: 69.93%\n",
      "\t Val. Loss: 0.610 |  Val. Acc: 68.66%\n",
      "Epoch: 13\n",
      "Training...\n",
      "Iteration 266        \n",
      "\n",
      "Evaluating...\n",
      "\tTrain Loss: 0.567 | Train Acc: 70.44%\n",
      "\t Val. Loss: 0.604 |  Val. Acc: 68.41%\n",
      "Epoch: 14\n",
      "Training...\n",
      "Iteration 266        \n",
      "\n",
      "Evaluating...\n",
      "\tTrain Loss: 0.560 | Train Acc: 70.76%\n",
      "\t Val. Loss: 0.600 |  Val. Acc: 69.05%\n",
      "Epoch: 15\n",
      "Training...\n",
      "Iteration 266        \n",
      "\n",
      "Evaluating...\n",
      "\tTrain Loss: 0.553 | Train Acc: 71.37%\n",
      "\t Val. Loss: 0.607 |  Val. Acc: 68.43%\n",
      "Epoch: 16\n",
      "Training...\n",
      "Iteration 266        \n",
      "\n",
      "Evaluating...\n",
      "\tTrain Loss: 0.548 | Train Acc: 71.86%\n",
      "\t Val. Loss: 0.613 |  Val. Acc: 69.10%\n",
      "Epoch: 17\n",
      "Training...\n",
      "Iteration 266        \n",
      "\n",
      "Evaluating...\n",
      "\tTrain Loss: 0.540 | Train Acc: 71.64%\n",
      "\t Val. Loss: 0.616 |  Val. Acc: 68.04%\n",
      "Epoch: 18\n",
      "Training...\n",
      "Iteration 266        \n",
      "\n",
      "Evaluating...\n",
      "\tTrain Loss: 0.533 | Train Acc: 72.85%\n",
      "\t Val. Loss: 0.615 |  Val. Acc: 68.36%\n",
      "Epoch: 19\n",
      "Training...\n",
      "Iteration 266        \n",
      "\n",
      "Evaluating...\n",
      "\tTrain Loss: 0.524 | Train Acc: 73.26%\n",
      "\t Val. Loss: 0.617 |  Val. Acc: 68.57%\n",
      "Epoch: 20\n",
      "Training...\n",
      "Iteration 266        \n",
      "\n",
      "Evaluating...\n",
      "\tTrain Loss: 0.513 | Train Acc: 73.98%\n",
      "\t Val. Loss: 0.641 |  Val. Acc: 67.61%\n",
      "Epoch: 21\n",
      "Training...\n",
      "Iteration 266        \n",
      "\n",
      "Evaluating...\n",
      "\tTrain Loss: 0.504 | Train Acc: 74.95%\n",
      "\t Val. Loss: 0.659 |  Val. Acc: 66.72%\n",
      "Epoch: 22\n",
      "Training...\n",
      "Iteration 266        \n",
      "\n",
      "Evaluating...\n",
      "\tTrain Loss: 0.496 | Train Acc: 75.56%\n",
      "\t Val. Loss: 0.643 |  Val. Acc: 67.40%\n",
      "Epoch: 23\n",
      "Training...\n",
      "Iteration 266        \n",
      "\n",
      "Evaluating...\n",
      "\tTrain Loss: 0.486 | Train Acc: 76.27%\n",
      "\t Val. Loss: 0.657 |  Val. Acc: 67.87%\n",
      "Epoch: 24\n",
      "Training...\n",
      "Iteration 266        \n",
      "\n",
      "Evaluating...\n",
      "\tTrain Loss: 0.476 | Train Acc: 76.96%\n",
      "\t Val. Loss: 0.661 |  Val. Acc: 66.70%\n",
      "Epoch: 25\n",
      "Training...\n",
      "Iteration 266        \n",
      "\n",
      "Evaluating...\n",
      "\tTrain Loss: 0.463 | Train Acc: 77.40%\n",
      "\t Val. Loss: 0.679 |  Val. Acc: 66.62%\n",
      "Epoch: 26\n",
      "Training...\n",
      "Iteration 266        \n",
      "\n",
      "Evaluating...\n",
      "\tTrain Loss: 0.449 | Train Acc: 78.63%\n",
      "\t Val. Loss: 0.687 |  Val. Acc: 66.70%\n",
      "Epoch: 27\n",
      "Training...\n",
      "Iteration 266        \n",
      "\n",
      "Evaluating...\n",
      "\tTrain Loss: 0.432 | Train Acc: 79.46%\n",
      "\t Val. Loss: 0.713 |  Val. Acc: 66.24%\n",
      "Epoch: 28\n",
      "Training...\n",
      "Iteration 266        \n",
      "\n",
      "Evaluating...\n",
      "\tTrain Loss: 0.419 | Train Acc: 80.60%\n",
      "\t Val. Loss: 0.718 |  Val. Acc: 65.15%\n",
      "Epoch: 29\n",
      "Training...\n",
      "Iteration 266        \n",
      "\n",
      "Evaluating...\n",
      "\tTrain Loss: 0.409 | Train Acc: 81.07%\n",
      "\t Val. Loss: 0.733 |  Val. Acc: 65.62%\n",
      "Epoch: 30\n",
      "Training...\n",
      "Iteration 266        \n",
      "\n",
      "Evaluating...\n",
      "\tTrain Loss: 0.393 | Train Acc: 81.77%\n",
      "\t Val. Loss: 0.736 |  Val. Acc: 65.69%\n",
      "Epoch: 31\n",
      "Training...\n",
      "Iteration 266        \n",
      "\n",
      "Evaluating...\n",
      "\tTrain Loss: 0.375 | Train Acc: 83.12%\n",
      "\t Val. Loss: 0.783 |  Val. Acc: 65.80%\n",
      "Epoch: 32\n",
      "Training...\n",
      "Iteration 266        \n",
      "\n",
      "Evaluating...\n",
      "\tTrain Loss: 0.362 | Train Acc: 83.84%\n",
      "\t Val. Loss: 0.793 |  Val. Acc: 66.74%\n",
      "Epoch: 33\n",
      "Training...\n",
      "Iteration 266        \n",
      "\n",
      "Evaluating...\n",
      "\tTrain Loss: 0.344 | Train Acc: 84.39%\n",
      "\t Val. Loss: 0.828 |  Val. Acc: 65.29%\n",
      "Epoch: 34\n",
      "Training...\n",
      "Iteration 266        \n",
      "\n",
      "Evaluating...\n",
      "\tTrain Loss: 0.339 | Train Acc: 85.11%\n",
      "\t Val. Loss: 0.841 |  Val. Acc: 65.34%\n",
      "Epoch: 35\n",
      "Training...\n",
      "Iteration 266        \n",
      "\n",
      "Evaluating...\n",
      "\tTrain Loss: 0.316 | Train Acc: 86.42%\n",
      "\t Val. Loss: 0.882 |  Val. Acc: 64.28%\n",
      "Epoch: 36\n",
      "Training...\n",
      "Iteration 266        \n",
      "\n",
      "Evaluating...\n",
      "\tTrain Loss: 0.303 | Train Acc: 86.99%\n",
      "\t Val. Loss: 0.906 |  Val. Acc: 65.29%\n",
      "Epoch: 37\n",
      "Training...\n",
      "Iteration 266        \n",
      "\n",
      "Evaluating...\n",
      "\tTrain Loss: 0.298 | Train Acc: 86.90%\n",
      "\t Val. Loss: 0.889 |  Val. Acc: 64.91%\n",
      "Epoch: 38\n",
      "Training...\n",
      "Iteration 266        \n",
      "\n",
      "Evaluating...\n",
      "\tTrain Loss: 0.268 | Train Acc: 89.06%\n",
      "\t Val. Loss: 0.958 |  Val. Acc: 64.20%\n",
      "Epoch: 39\n",
      "Training...\n",
      "Iteration 266        \n",
      "\n",
      "Evaluating...\n",
      "\tTrain Loss: 0.276 | Train Acc: 88.17%\n",
      "\t Val. Loss: 0.992 |  Val. Acc: 64.72%\n",
      "Epoch: 40\n",
      "Training...\n",
      "Iteration 149        "
     ]
    },
    {
     "ename": "KeyboardInterrupt",
     "evalue": "ignored",
     "output_type": "error",
     "traceback": [
      "\u001b[0;31m---------------------------------------------------------------------------\u001b[0m",
      "\u001b[0;31mKeyboardInterrupt\u001b[0m                         Traceback (most recent call last)",
      "\u001b[0;32m<ipython-input-477-09e657b0cec3>\u001b[0m in \u001b[0;36m<module>\u001b[0;34m()\u001b[0m\n\u001b[0;32m----> 1\u001b[0;31m \u001b[0mget_ipython\u001b[0m\u001b[0;34m(\u001b[0m\u001b[0;34m)\u001b[0m\u001b[0;34m.\u001b[0m\u001b[0mrun_cell_magic\u001b[0m\u001b[0;34m(\u001b[0m\u001b[0;34m'time'\u001b[0m\u001b[0;34m,\u001b[0m \u001b[0;34m''\u001b[0m\u001b[0;34m,\u001b[0m \u001b[0;34m'N_EPOCHS = 50\\nmodel_save_name=\"ma_rnn.pt\"\\npath = F\"/content/drive/My Drive/{model_save_name}\"\\n\\nbest_valid_loss = float(\\'inf\\')\\n\\nfor epoch in range(N_EPOCHS):\\n    print(\"Epoch: \" + str(epoch))\\n    train_loss, train_acc = train(rnn, trainloader, optimizer, criterion)\\n        \\n    print()\\n    valid_loss, valid_acc = evaluate(rnn, testloader, criterion)\\n    \\n    if valid_loss < best_valid_loss:\\n        best_valid_loss = valid_loss\\n        torch.save(rnn.state_dict(), path)\\n    \\n    print(f\\'\\\\tTrain Loss: {train_loss:.3f} | Train Acc: {train_acc*100:.2f}%\\')\\n    print(f\\'\\\\t Val. Loss: {valid_loss:.3f} |  Val. Acc: {valid_acc*100:.2f}%\\')'\u001b[0m\u001b[0;34m)\u001b[0m\u001b[0;34m\u001b[0m\u001b[0;34m\u001b[0m\u001b[0m\n\u001b[0m",
      "\u001b[0;32m/usr/local/lib/python3.6/dist-packages/IPython/core/interactiveshell.py\u001b[0m in \u001b[0;36mrun_cell_magic\u001b[0;34m(self, magic_name, line, cell)\u001b[0m\n\u001b[1;32m   2115\u001b[0m             \u001b[0mmagic_arg_s\u001b[0m \u001b[0;34m=\u001b[0m \u001b[0mself\u001b[0m\u001b[0;34m.\u001b[0m\u001b[0mvar_expand\u001b[0m\u001b[0;34m(\u001b[0m\u001b[0mline\u001b[0m\u001b[0;34m,\u001b[0m \u001b[0mstack_depth\u001b[0m\u001b[0;34m)\u001b[0m\u001b[0;34m\u001b[0m\u001b[0;34m\u001b[0m\u001b[0m\n\u001b[1;32m   2116\u001b[0m             \u001b[0;32mwith\u001b[0m \u001b[0mself\u001b[0m\u001b[0;34m.\u001b[0m\u001b[0mbuiltin_trap\u001b[0m\u001b[0;34m:\u001b[0m\u001b[0;34m\u001b[0m\u001b[0;34m\u001b[0m\u001b[0m\n\u001b[0;32m-> 2117\u001b[0;31m                 \u001b[0mresult\u001b[0m \u001b[0;34m=\u001b[0m \u001b[0mfn\u001b[0m\u001b[0;34m(\u001b[0m\u001b[0mmagic_arg_s\u001b[0m\u001b[0;34m,\u001b[0m \u001b[0mcell\u001b[0m\u001b[0;34m)\u001b[0m\u001b[0;34m\u001b[0m\u001b[0;34m\u001b[0m\u001b[0m\n\u001b[0m\u001b[1;32m   2118\u001b[0m             \u001b[0;32mreturn\u001b[0m \u001b[0mresult\u001b[0m\u001b[0;34m\u001b[0m\u001b[0;34m\u001b[0m\u001b[0m\n\u001b[1;32m   2119\u001b[0m \u001b[0;34m\u001b[0m\u001b[0m\n",
      "\u001b[0;32m</usr/local/lib/python3.6/dist-packages/decorator.py:decorator-gen-60>\u001b[0m in \u001b[0;36mtime\u001b[0;34m(self, line, cell, local_ns)\u001b[0m\n",
      "\u001b[0;32m/usr/local/lib/python3.6/dist-packages/IPython/core/magic.py\u001b[0m in \u001b[0;36m<lambda>\u001b[0;34m(f, *a, **k)\u001b[0m\n\u001b[1;32m    186\u001b[0m     \u001b[0;31m# but it's overkill for just that one bit of state.\u001b[0m\u001b[0;34m\u001b[0m\u001b[0;34m\u001b[0m\u001b[0;34m\u001b[0m\u001b[0m\n\u001b[1;32m    187\u001b[0m     \u001b[0;32mdef\u001b[0m \u001b[0mmagic_deco\u001b[0m\u001b[0;34m(\u001b[0m\u001b[0marg\u001b[0m\u001b[0;34m)\u001b[0m\u001b[0;34m:\u001b[0m\u001b[0;34m\u001b[0m\u001b[0;34m\u001b[0m\u001b[0m\n\u001b[0;32m--> 188\u001b[0;31m         \u001b[0mcall\u001b[0m \u001b[0;34m=\u001b[0m \u001b[0;32mlambda\u001b[0m \u001b[0mf\u001b[0m\u001b[0;34m,\u001b[0m \u001b[0;34m*\u001b[0m\u001b[0ma\u001b[0m\u001b[0;34m,\u001b[0m \u001b[0;34m**\u001b[0m\u001b[0mk\u001b[0m\u001b[0;34m:\u001b[0m \u001b[0mf\u001b[0m\u001b[0;34m(\u001b[0m\u001b[0;34m*\u001b[0m\u001b[0ma\u001b[0m\u001b[0;34m,\u001b[0m \u001b[0;34m**\u001b[0m\u001b[0mk\u001b[0m\u001b[0;34m)\u001b[0m\u001b[0;34m\u001b[0m\u001b[0;34m\u001b[0m\u001b[0m\n\u001b[0m\u001b[1;32m    189\u001b[0m \u001b[0;34m\u001b[0m\u001b[0m\n\u001b[1;32m    190\u001b[0m         \u001b[0;32mif\u001b[0m \u001b[0mcallable\u001b[0m\u001b[0;34m(\u001b[0m\u001b[0marg\u001b[0m\u001b[0;34m)\u001b[0m\u001b[0;34m:\u001b[0m\u001b[0;34m\u001b[0m\u001b[0;34m\u001b[0m\u001b[0m\n",
      "\u001b[0;32m/usr/local/lib/python3.6/dist-packages/IPython/core/magics/execution.py\u001b[0m in \u001b[0;36mtime\u001b[0;34m(self, line, cell, local_ns)\u001b[0m\n\u001b[1;32m   1191\u001b[0m         \u001b[0;32melse\u001b[0m\u001b[0;34m:\u001b[0m\u001b[0;34m\u001b[0m\u001b[0;34m\u001b[0m\u001b[0m\n\u001b[1;32m   1192\u001b[0m             \u001b[0mst\u001b[0m \u001b[0;34m=\u001b[0m \u001b[0mclock2\u001b[0m\u001b[0;34m(\u001b[0m\u001b[0;34m)\u001b[0m\u001b[0;34m\u001b[0m\u001b[0;34m\u001b[0m\u001b[0m\n\u001b[0;32m-> 1193\u001b[0;31m             \u001b[0mexec\u001b[0m\u001b[0;34m(\u001b[0m\u001b[0mcode\u001b[0m\u001b[0;34m,\u001b[0m \u001b[0mglob\u001b[0m\u001b[0;34m,\u001b[0m \u001b[0mlocal_ns\u001b[0m\u001b[0;34m)\u001b[0m\u001b[0;34m\u001b[0m\u001b[0;34m\u001b[0m\u001b[0m\n\u001b[0m\u001b[1;32m   1194\u001b[0m             \u001b[0mend\u001b[0m \u001b[0;34m=\u001b[0m \u001b[0mclock2\u001b[0m\u001b[0;34m(\u001b[0m\u001b[0;34m)\u001b[0m\u001b[0;34m\u001b[0m\u001b[0;34m\u001b[0m\u001b[0m\n\u001b[1;32m   1195\u001b[0m             \u001b[0mout\u001b[0m \u001b[0;34m=\u001b[0m \u001b[0;32mNone\u001b[0m\u001b[0;34m\u001b[0m\u001b[0;34m\u001b[0m\u001b[0m\n",
      "\u001b[0;32m<timed exec>\u001b[0m in \u001b[0;36m<module>\u001b[0;34m()\u001b[0m\n",
      "\u001b[0;32m<ipython-input-475-fbd8391df5f5>\u001b[0m in \u001b[0;36mtrain\u001b[0;34m(model, iterator, optimizer, criterion)\u001b[0m\n\u001b[1;32m     26\u001b[0m         \u001b[0moptimizer\u001b[0m\u001b[0;34m.\u001b[0m\u001b[0mzero_grad\u001b[0m\u001b[0;34m(\u001b[0m\u001b[0;34m)\u001b[0m\u001b[0;34m\u001b[0m\u001b[0;34m\u001b[0m\u001b[0m\n\u001b[1;32m     27\u001b[0m \u001b[0;34m\u001b[0m\u001b[0m\n\u001b[0;32m---> 28\u001b[0;31m         \u001b[0mloss\u001b[0m\u001b[0;34m.\u001b[0m\u001b[0mbackward\u001b[0m\u001b[0;34m(\u001b[0m\u001b[0;34m)\u001b[0m\u001b[0;34m\u001b[0m\u001b[0;34m\u001b[0m\u001b[0m\n\u001b[0m\u001b[1;32m     29\u001b[0m \u001b[0;34m\u001b[0m\u001b[0m\n\u001b[1;32m     30\u001b[0m         \u001b[0moptimizer\u001b[0m\u001b[0;34m.\u001b[0m\u001b[0mstep\u001b[0m\u001b[0;34m(\u001b[0m\u001b[0;34m)\u001b[0m\u001b[0;34m\u001b[0m\u001b[0;34m\u001b[0m\u001b[0m\n",
      "\u001b[0;32m/usr/local/lib/python3.6/dist-packages/torch/tensor.py\u001b[0m in \u001b[0;36mbackward\u001b[0;34m(self, gradient, retain_graph, create_graph)\u001b[0m\n\u001b[1;32m    164\u001b[0m                 \u001b[0mproducts\u001b[0m\u001b[0;34m.\u001b[0m \u001b[0mDefaults\u001b[0m \u001b[0mto\u001b[0m\u001b[0;31m \u001b[0m\u001b[0;31m`\u001b[0m\u001b[0;31m`\u001b[0m\u001b[0;32mFalse\u001b[0m\u001b[0;31m`\u001b[0m\u001b[0;31m`\u001b[0m\u001b[0;34m.\u001b[0m\u001b[0;34m\u001b[0m\u001b[0;34m\u001b[0m\u001b[0m\n\u001b[1;32m    165\u001b[0m         \"\"\"\n\u001b[0;32m--> 166\u001b[0;31m         \u001b[0mtorch\u001b[0m\u001b[0;34m.\u001b[0m\u001b[0mautograd\u001b[0m\u001b[0;34m.\u001b[0m\u001b[0mbackward\u001b[0m\u001b[0;34m(\u001b[0m\u001b[0mself\u001b[0m\u001b[0;34m,\u001b[0m \u001b[0mgradient\u001b[0m\u001b[0;34m,\u001b[0m \u001b[0mretain_graph\u001b[0m\u001b[0;34m,\u001b[0m \u001b[0mcreate_graph\u001b[0m\u001b[0;34m)\u001b[0m\u001b[0;34m\u001b[0m\u001b[0;34m\u001b[0m\u001b[0m\n\u001b[0m\u001b[1;32m    167\u001b[0m \u001b[0;34m\u001b[0m\u001b[0m\n\u001b[1;32m    168\u001b[0m     \u001b[0;32mdef\u001b[0m \u001b[0mregister_hook\u001b[0m\u001b[0;34m(\u001b[0m\u001b[0mself\u001b[0m\u001b[0;34m,\u001b[0m \u001b[0mhook\u001b[0m\u001b[0;34m)\u001b[0m\u001b[0;34m:\u001b[0m\u001b[0;34m\u001b[0m\u001b[0;34m\u001b[0m\u001b[0m\n",
      "\u001b[0;32m/usr/local/lib/python3.6/dist-packages/torch/autograd/__init__.py\u001b[0m in \u001b[0;36mbackward\u001b[0;34m(tensors, grad_tensors, retain_graph, create_graph, grad_variables)\u001b[0m\n\u001b[1;32m     97\u001b[0m     Variable._execution_engine.run_backward(\n\u001b[1;32m     98\u001b[0m         \u001b[0mtensors\u001b[0m\u001b[0;34m,\u001b[0m \u001b[0mgrad_tensors\u001b[0m\u001b[0;34m,\u001b[0m \u001b[0mretain_graph\u001b[0m\u001b[0;34m,\u001b[0m \u001b[0mcreate_graph\u001b[0m\u001b[0;34m,\u001b[0m\u001b[0;34m\u001b[0m\u001b[0;34m\u001b[0m\u001b[0m\n\u001b[0;32m---> 99\u001b[0;31m         allow_unreachable=True)  # allow_unreachable flag\n\u001b[0m\u001b[1;32m    100\u001b[0m \u001b[0;34m\u001b[0m\u001b[0m\n\u001b[1;32m    101\u001b[0m \u001b[0;34m\u001b[0m\u001b[0m\n",
      "\u001b[0;31mKeyboardInterrupt\u001b[0m: "
     ]
    }
   ],
   "source": [
    "%%time\n",
    "N_EPOCHS = 50\n",
    "model_save_name=\"ma_rnn.pt\"\n",
    "path = F\"/content/drive/My Drive/{model_save_name}\"\n",
    "\n",
    "best_valid_loss = float('inf')\n",
    "\n",
    "for epoch in range(N_EPOCHS):\n",
    "    print(\"Epoch: \" + str(epoch))\n",
    "    train_loss, train_acc = train(rnn, trainloader, optimizer, criterion)\n",
    "        \n",
    "    print()\n",
    "    valid_loss, valid_acc = evaluate(rnn, testloader, criterion)\n",
    "    \n",
    "    if valid_loss < best_valid_loss:\n",
    "        best_valid_loss = valid_loss\n",
    "        torch.save(rnn.state_dict(), path)\n",
    "    \n",
    "    print(f'\\tTrain Loss: {train_loss:.3f} | Train Acc: {train_acc*100:.2f}%')\n",
    "    print(f'\\t Val. Loss: {valid_loss:.3f} |  Val. Acc: {valid_acc*100:.2f}%')"
   ]
  }
 ],
 "metadata": {
  "accelerator": "TPU",
  "colab": {
   "collapsed_sections": [],
   "machine_shape": "hm",
   "name": "LSTM_conv_embeddings.ipynb",
   "provenance": []
  },
  "kernelspec": {
   "display_name": "Python 3",
   "language": "python",
   "name": "python3"
  },
  "language_info": {
   "codemirror_mode": {
    "name": "ipython",
    "version": 3
   },
   "file_extension": ".py",
   "mimetype": "text/x-python",
   "name": "python",
   "nbconvert_exporter": "python",
   "pygments_lexer": "ipython3",
   "version": "3.6.8"
  }
 },
 "nbformat": 4,
 "nbformat_minor": 1
}
