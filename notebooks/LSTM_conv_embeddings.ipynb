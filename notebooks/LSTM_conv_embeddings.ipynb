{
  "nbformat": 4,
  "nbformat_minor": 0,
  "metadata": {
    "accelerator": "GPU",
    "colab": {
      "name": "LSTM_conv_embeddings.ipynb",
      "provenance": [],
      "collapsed_sections": [],
      "toc_visible": true,
      "machine_shape": "hm"
    },
    "kernelspec": {
      "name": "python3",
      "display_name": "Python 3"
    },
    "language_info": {
      "codemirror_mode": {
        "name": "ipython",
        "version": 3
      },
      "file_extension": ".py",
      "mimetype": "text/x-python",
      "name": "python",
      "nbconvert_exporter": "python",
      "pygments_lexer": "ipython3",
      "version": "3.6.8"
    }
  },
  "cells": [
    {
      "cell_type": "markdown",
      "metadata": {
        "colab_type": "text",
        "id": "41fhhqz9cpMY"
      },
      "source": [
        "# Vanilla LSTM for Gene/No gene classification\n",
        "The Milestone 1 corresponds to the classication task of, given a sequence, predict if it contains a gene, a partial sequence of a gene or just intergenic code."
      ]
    },
    {
      "cell_type": "code",
      "metadata": {
        "colab_type": "code",
        "id": "h-c6UAlXecMe",
        "outputId": "48a6d8fc-426a-4f7a-879d-600b2a6ed496",
        "colab": {
          "base_uri": "https://localhost:8080/",
          "height": 104
        }
      },
      "source": [
        "!pip3 install pyfastx"
      ],
      "execution_count": 3,
      "outputs": [
        {
          "output_type": "stream",
          "text": [
            "Collecting pyfastx\n",
            "\u001b[?25l  Downloading https://files.pythonhosted.org/packages/0c/59/91bee13f66f55daa522153992176a2bfa664f00057047da5ddb9b46ecd72/pyfastx-0.5.10-cp36-cp36m-manylinux2010_x86_64.whl (765kB)\n",
            "\u001b[K     |████████████████████████████████| 768kB 2.7MB/s \n",
            "\u001b[?25hInstalling collected packages: pyfastx\n",
            "Successfully installed pyfastx-0.5.10\n"
          ],
          "name": "stdout"
        }
      ]
    },
    {
      "cell_type": "code",
      "metadata": {
        "colab_type": "code",
        "id": "qRzQiKX0cpMv",
        "colab": {}
      },
      "source": [
        "import numpy as np\n",
        "import pickle\n",
        "import torch\n",
        "import torch.nn as nn\n",
        "import pandas as pd\n",
        "\n",
        "from tqdm import tqdm # progress bar\n",
        "from preproc_pipeline import window_pipeline\n",
        "from warnings import simplefilter"
      ],
      "execution_count": 0,
      "outputs": []
    },
    {
      "cell_type": "code",
      "metadata": {
        "colab_type": "code",
        "id": "vBh07oIKIT7G",
        "outputId": "890a3a85-2add-463e-aadd-f0ba2423940a",
        "colab": {
          "base_uri": "https://localhost:8080/",
          "height": 124
        }
      },
      "source": [
        "from google.colab import drive\n",
        "drive.mount('/content/drive')"
      ],
      "execution_count": 2,
      "outputs": [
        {
          "output_type": "stream",
          "text": [
            "Go to this URL in a browser: https://accounts.google.com/o/oauth2/auth?client_id=947318989803-6bn6qk8qdgf4n4g3pfee6491hc0brc4i.apps.googleusercontent.com&redirect_uri=urn%3aietf%3awg%3aoauth%3a2.0%3aoob&response_type=code&scope=email%20https%3a%2f%2fwww.googleapis.com%2fauth%2fdocs.test%20https%3a%2f%2fwww.googleapis.com%2fauth%2fdrive%20https%3a%2f%2fwww.googleapis.com%2fauth%2fdrive.photos.readonly%20https%3a%2f%2fwww.googleapis.com%2fauth%2fpeopleapi.readonly\n",
            "\n",
            "Enter your authorization code:\n",
            "··········\n",
            "Mounted at /content/drive\n"
          ],
          "name": "stdout"
        }
      ]
    },
    {
      "cell_type": "markdown",
      "metadata": {
        "colab_type": "text",
        "id": "pj7ghCdFcpNN"
      },
      "source": [
        "## 1. Dataset for training\n",
        "The genome of E. coli will be used for this purpose."
      ]
    },
    {
      "cell_type": "code",
      "metadata": {
        "colab_type": "code",
        "id": "xlomqEr_cpNV",
        "colab": {}
      },
      "source": [
        "simplefilter(\"ignore\")\n",
        "genome = \"GCF_000008865.2_ASM886v2_genomic.fna\"\n",
        "feature_table = \"GCA_000008865.2_ASM886v2_feature_table.tsv\"\n",
        "df = window_pipeline(genome, feature_table)"
      ],
      "execution_count": 0,
      "outputs": []
    },
    {
      "cell_type": "code",
      "metadata": {
        "colab_type": "code",
        "id": "mMNHc3Xb6uA_",
        "outputId": "6ea12bb6-5d10-49b4-848d-cfd0b7b4ff14",
        "colab": {
          "base_uri": "https://localhost:8080/",
          "height": 52
        }
      },
      "source": [
        "print(df.sequence.apply(lambda x: len(x)).max())\n",
        "len(df)"
      ],
      "execution_count": 6,
      "outputs": [
        {
          "output_type": "stream",
          "text": [
            "50\n"
          ],
          "name": "stdout"
        },
        {
          "output_type": "execute_result",
          "data": {
            "text/plain": [
              "36136"
            ]
          },
          "metadata": {
            "tags": []
          },
          "execution_count": 6
        }
      ]
    },
    {
      "cell_type": "markdown",
      "metadata": {
        "colab_type": "text",
        "id": "8imkCBLk_yit"
      },
      "source": [
        ""
      ]
    },
    {
      "cell_type": "code",
      "metadata": {
        "colab_type": "code",
        "id": "7yI_vjULcpNr",
        "outputId": "10569107-0a37-44a9-c2a8-914918098247",
        "colab": {
          "base_uri": "https://localhost:8080/",
          "height": 52
        }
      },
      "source": [
        "print(\n",
        "    f\"columns -> {list(df.columns)}\\n\"\n",
        "    f\"labels in dataframe -> {list(df.label.unique())}\"\n",
        ")"
      ],
      "execution_count": 7,
      "outputs": [
        {
          "output_type": "stream",
          "text": [
            "columns -> ['sequence', 'label']\n",
            "labels in dataframe -> ['gene', 'intergenic', 'partial']\n"
          ],
          "name": "stdout"
        }
      ]
    },
    {
      "cell_type": "markdown",
      "metadata": {
        "colab_type": "text",
        "id": "QWshzjeHcpN-"
      },
      "source": [
        "Let's get a one hot mapping for the labels."
      ]
    },
    {
      "cell_type": "code",
      "metadata": {
        "colab_type": "code",
        "id": "F3fD5a7LcpOD",
        "outputId": "f86c7406-fce9-42ed-ae91-c6a904299b3d",
        "colab": {
          "base_uri": "https://localhost:8080/",
          "height": 52
        }
      },
      "source": [
        "labels = list(df.label.unique())\n",
        "lab0 = np.zeros(len(labels))\n",
        "lab2vec = {}\n",
        "vec2lab = {}\n",
        "for i, label in enumerate(list(df.label.unique())):\n",
        "    labv = lab0.copy()\n",
        "    labv[i] = 1\n",
        "    lab2vec[label] = labv\n",
        "    vec2lab[tuple(labv)] = label\n",
        "\n",
        "print(f\"lab2vec -> {lab2vec}\\nvec2lab -> {vec2lab}\")"
      ],
      "execution_count": 8,
      "outputs": [
        {
          "output_type": "stream",
          "text": [
            "lab2vec -> {'gene': array([1., 0., 0.]), 'intergenic': array([0., 1., 0.]), 'partial': array([0., 0., 1.])}\n",
            "vec2lab -> {(1.0, 0.0, 0.0): 'gene', (0.0, 1.0, 0.0): 'intergenic', (0.0, 0.0, 1.0): 'partial'}\n"
          ],
          "name": "stdout"
        }
      ]
    },
    {
      "cell_type": "code",
      "metadata": {
        "colab_type": "code",
        "id": "QzAINOOA9ge1",
        "outputId": "7ee26401-7bc6-4726-99fd-4790103c0e2f",
        "colab": {
          "base_uri": "https://localhost:8080/",
          "height": 69
        }
      },
      "source": [
        "print(df[df.sequence.apply(lambda x: len(x)==0)].count())\n",
        "df = df[~df.sequence.apply(lambda x: len(x)==0)]"
      ],
      "execution_count": 9,
      "outputs": [
        {
          "output_type": "stream",
          "text": [
            "sequence    0\n",
            "label       0\n",
            "dtype: int64\n"
          ],
          "name": "stdout"
        }
      ]
    },
    {
      "cell_type": "markdown",
      "metadata": {
        "colab_type": "text",
        "id": "KNxgBpL9QxZj"
      },
      "source": [
        "Need to check why it always generate a 0 length row. I think is the last one, but I am not sure."
      ]
    },
    {
      "cell_type": "code",
      "metadata": {
        "colab_type": "code",
        "id": "XTcHbHV8cpOT",
        "outputId": "a2a4e9c5-a75a-4f06-aef8-48f5be7b50e2",
        "colab": {
          "base_uri": "https://localhost:8080/",
          "height": 424
        }
      },
      "source": [
        "df[\"label_onehot\"] = df.label.apply(lambda x: lab2vec[x])\n",
        "toy = pd.concat([df[df.label==\"gene\"].sample(n=5000),\n",
        "                df[df.label==\"intergenic\"].sample(n=5000)])\n",
        "                # df[df.label==\"partial\"].sample(n=100)]).reset_index(drop=True)\n",
        "toy[\"label_onehot\"] = toy.label_onehot.apply(lambda x: x[0:2])\n",
        "df_train = toy.sample(frac=8/10) # separate training from testing\n",
        "df_test = toy[~toy.sequence.isin(df_train.sequence)].reset_index(drop=True)\n",
        "df_train = df_train.reset_index(drop=True)\n",
        "df_train"
      ],
      "execution_count": 10,
      "outputs": [
        {
          "output_type": "execute_result",
          "data": {
            "text/html": [
              "<div>\n",
              "<style scoped>\n",
              "    .dataframe tbody tr th:only-of-type {\n",
              "        vertical-align: middle;\n",
              "    }\n",
              "\n",
              "    .dataframe tbody tr th {\n",
              "        vertical-align: top;\n",
              "    }\n",
              "\n",
              "    .dataframe thead th {\n",
              "        text-align: right;\n",
              "    }\n",
              "</style>\n",
              "<table border=\"1\" class=\"dataframe\">\n",
              "  <thead>\n",
              "    <tr style=\"text-align: right;\">\n",
              "      <th></th>\n",
              "      <th>sequence</th>\n",
              "      <th>label</th>\n",
              "      <th>label_onehot</th>\n",
              "    </tr>\n",
              "  </thead>\n",
              "  <tbody>\n",
              "    <tr>\n",
              "      <th>0</th>\n",
              "      <td>GATAAAAGGCAGTTGGTTGACGGTGAAACGCGTATTAAAATGCCAC...</td>\n",
              "      <td>intergenic</td>\n",
              "      <td>[0.0, 1.0]</td>\n",
              "    </tr>\n",
              "    <tr>\n",
              "      <th>1</th>\n",
              "      <td>ATACGCCACCTCGCGACAGTGAGCTGAAAGCCGCGTCGCAACTGCT...</td>\n",
              "      <td>intergenic</td>\n",
              "      <td>[0.0, 1.0]</td>\n",
              "    </tr>\n",
              "    <tr>\n",
              "      <th>2</th>\n",
              "      <td>AGCAGGATACCCGGTTTAACCGTGTGGATTGTGTCTTGCGACGATG...</td>\n",
              "      <td>intergenic</td>\n",
              "      <td>[0.0, 1.0]</td>\n",
              "    </tr>\n",
              "    <tr>\n",
              "      <th>3</th>\n",
              "      <td>GTTCTCTTCTTCAGGTTAAAAAATAAGGCGCAACGAAGATAACAAA...</td>\n",
              "      <td>intergenic</td>\n",
              "      <td>[0.0, 1.0]</td>\n",
              "    </tr>\n",
              "    <tr>\n",
              "      <th>4</th>\n",
              "      <td>TTAAATTTATATCAGCATAAATGGGTCAGGACGCTTTTAATCACAT...</td>\n",
              "      <td>intergenic</td>\n",
              "      <td>[0.0, 1.0]</td>\n",
              "    </tr>\n",
              "    <tr>\n",
              "      <th>...</th>\n",
              "      <td>...</td>\n",
              "      <td>...</td>\n",
              "      <td>...</td>\n",
              "    </tr>\n",
              "    <tr>\n",
              "      <th>7995</th>\n",
              "      <td>AAAAAAAGAGCCAGCGACTGACCTGAAAGAAGACGCTGGCTAAAAG...</td>\n",
              "      <td>intergenic</td>\n",
              "      <td>[0.0, 1.0]</td>\n",
              "    </tr>\n",
              "    <tr>\n",
              "      <th>7996</th>\n",
              "      <td>TTTTTATGCTTTCCTTAAGAACAACTCACCCCTTAAAGGAATAACC...</td>\n",
              "      <td>intergenic</td>\n",
              "      <td>[0.0, 1.0]</td>\n",
              "    </tr>\n",
              "    <tr>\n",
              "      <th>7997</th>\n",
              "      <td>TAGCACGGCTAACGCCGAGTTGCTGTGCGATAAATTTATCAAGTCG...</td>\n",
              "      <td>gene</td>\n",
              "      <td>[1.0, 0.0]</td>\n",
              "    </tr>\n",
              "    <tr>\n",
              "      <th>7998</th>\n",
              "      <td>AACATCGGTGAAAGACGCCAACTTCGTCGAAGAAGTTGAAGAAGAG...</td>\n",
              "      <td>gene</td>\n",
              "      <td>[1.0, 0.0]</td>\n",
              "    </tr>\n",
              "    <tr>\n",
              "      <th>7999</th>\n",
              "      <td>TGTTAGATATAGTCGAACTGTCGCGCTTACAGTTTGCCTTGACCGC...</td>\n",
              "      <td>gene</td>\n",
              "      <td>[1.0, 0.0]</td>\n",
              "    </tr>\n",
              "  </tbody>\n",
              "</table>\n",
              "<p>8000 rows × 3 columns</p>\n",
              "</div>"
            ],
            "text/plain": [
              "                                               sequence  ... label_onehot\n",
              "0     GATAAAAGGCAGTTGGTTGACGGTGAAACGCGTATTAAAATGCCAC...  ...   [0.0, 1.0]\n",
              "1     ATACGCCACCTCGCGACAGTGAGCTGAAAGCCGCGTCGCAACTGCT...  ...   [0.0, 1.0]\n",
              "2     AGCAGGATACCCGGTTTAACCGTGTGGATTGTGTCTTGCGACGATG...  ...   [0.0, 1.0]\n",
              "3     GTTCTCTTCTTCAGGTTAAAAAATAAGGCGCAACGAAGATAACAAA...  ...   [0.0, 1.0]\n",
              "4     TTAAATTTATATCAGCATAAATGGGTCAGGACGCTTTTAATCACAT...  ...   [0.0, 1.0]\n",
              "...                                                 ...  ...          ...\n",
              "7995  AAAAAAAGAGCCAGCGACTGACCTGAAAGAAGACGCTGGCTAAAAG...  ...   [0.0, 1.0]\n",
              "7996  TTTTTATGCTTTCCTTAAGAACAACTCACCCCTTAAAGGAATAACC...  ...   [0.0, 1.0]\n",
              "7997  TAGCACGGCTAACGCCGAGTTGCTGTGCGATAAATTTATCAAGTCG...  ...   [1.0, 0.0]\n",
              "7998  AACATCGGTGAAAGACGCCAACTTCGTCGAAGAAGTTGAAGAAGAG...  ...   [1.0, 0.0]\n",
              "7999  TGTTAGATATAGTCGAACTGTCGCGCTTACAGTTTGCCTTGACCGC...  ...   [1.0, 0.0]\n",
              "\n",
              "[8000 rows x 3 columns]"
            ]
          },
          "metadata": {
            "tags": []
          },
          "execution_count": 10
        }
      ]
    },
    {
      "cell_type": "code",
      "metadata": {
        "colab_type": "code",
        "id": "eCePneq5Ojvp",
        "outputId": "e3368fff-9f62-49c2-e302-4b09bfe74e37",
        "colab": {
          "base_uri": "https://localhost:8080/",
          "height": 424
        }
      },
      "source": [
        "df_test = df_test.sample(frac=1).reset_index(drop=True) # shuffle\n",
        "df_test"
      ],
      "execution_count": 11,
      "outputs": [
        {
          "output_type": "execute_result",
          "data": {
            "text/html": [
              "<div>\n",
              "<style scoped>\n",
              "    .dataframe tbody tr th:only-of-type {\n",
              "        vertical-align: middle;\n",
              "    }\n",
              "\n",
              "    .dataframe tbody tr th {\n",
              "        vertical-align: top;\n",
              "    }\n",
              "\n",
              "    .dataframe thead th {\n",
              "        text-align: right;\n",
              "    }\n",
              "</style>\n",
              "<table border=\"1\" class=\"dataframe\">\n",
              "  <thead>\n",
              "    <tr style=\"text-align: right;\">\n",
              "      <th></th>\n",
              "      <th>sequence</th>\n",
              "      <th>label</th>\n",
              "      <th>label_onehot</th>\n",
              "    </tr>\n",
              "  </thead>\n",
              "  <tbody>\n",
              "    <tr>\n",
              "      <th>0</th>\n",
              "      <td>CGTCGTTAAGCGCGCCAAGACTCCAGCTGACGTTCTGCTCAAAACG...</td>\n",
              "      <td>intergenic</td>\n",
              "      <td>[0.0, 1.0]</td>\n",
              "    </tr>\n",
              "    <tr>\n",
              "      <th>1</th>\n",
              "      <td>TAAACCGGACGAACAGGGATAAATATTTCGCAAACAACATCATTGC...</td>\n",
              "      <td>gene</td>\n",
              "      <td>[1.0, 0.0]</td>\n",
              "    </tr>\n",
              "    <tr>\n",
              "      <th>2</th>\n",
              "      <td>AGTGACTTCAAGGGTTAAAAGAGGTGCCGCTCCGTTTCTGTGAGCA...</td>\n",
              "      <td>intergenic</td>\n",
              "      <td>[0.0, 1.0]</td>\n",
              "    </tr>\n",
              "    <tr>\n",
              "      <th>3</th>\n",
              "      <td>CATAGGTCGGGATCTCAACGCGCTCTTGCCACACTTTTACTGGAGT...</td>\n",
              "      <td>gene</td>\n",
              "      <td>[1.0, 0.0]</td>\n",
              "    </tr>\n",
              "    <tr>\n",
              "      <th>4</th>\n",
              "      <td>AAAACGGACATTCTTTTAGCTTTGGCTGGGTTAATGATAGGTCGCT...</td>\n",
              "      <td>gene</td>\n",
              "      <td>[1.0, 0.0]</td>\n",
              "    </tr>\n",
              "    <tr>\n",
              "      <th>...</th>\n",
              "      <td>...</td>\n",
              "      <td>...</td>\n",
              "      <td>...</td>\n",
              "    </tr>\n",
              "    <tr>\n",
              "      <th>1947</th>\n",
              "      <td>TGACTAAAAATACACGTTTTTCCCCCGAGGTCCGTCAACGGGCAGT...</td>\n",
              "      <td>gene</td>\n",
              "      <td>[1.0, 0.0]</td>\n",
              "    </tr>\n",
              "    <tr>\n",
              "      <th>1948</th>\n",
              "      <td>TTGGCGCATCGGTCAGACCCAGTTTCGGCATCAGCAGAATCGCAAC...</td>\n",
              "      <td>gene</td>\n",
              "      <td>[1.0, 0.0]</td>\n",
              "    </tr>\n",
              "    <tr>\n",
              "      <th>1949</th>\n",
              "      <td>TTTTTACTGTTATGGATATCCAGATTGTTAAAGAGCATGCCGGATG...</td>\n",
              "      <td>intergenic</td>\n",
              "      <td>[0.0, 1.0]</td>\n",
              "    </tr>\n",
              "    <tr>\n",
              "      <th>1950</th>\n",
              "      <td>CCTGAATGATGCCTATGATGATGTGAACTTATACGCGCGTATTATC...</td>\n",
              "      <td>intergenic</td>\n",
              "      <td>[0.0, 1.0]</td>\n",
              "    </tr>\n",
              "    <tr>\n",
              "      <th>1951</th>\n",
              "      <td>ATAACGATAAGTGCGAATAAATTTCGCACAACGCTTTTCGGGAGTC...</td>\n",
              "      <td>intergenic</td>\n",
              "      <td>[0.0, 1.0]</td>\n",
              "    </tr>\n",
              "  </tbody>\n",
              "</table>\n",
              "<p>1952 rows × 3 columns</p>\n",
              "</div>"
            ],
            "text/plain": [
              "                                               sequence  ... label_onehot\n",
              "0     CGTCGTTAAGCGCGCCAAGACTCCAGCTGACGTTCTGCTCAAAACG...  ...   [0.0, 1.0]\n",
              "1     TAAACCGGACGAACAGGGATAAATATTTCGCAAACAACATCATTGC...  ...   [1.0, 0.0]\n",
              "2     AGTGACTTCAAGGGTTAAAAGAGGTGCCGCTCCGTTTCTGTGAGCA...  ...   [0.0, 1.0]\n",
              "3     CATAGGTCGGGATCTCAACGCGCTCTTGCCACACTTTTACTGGAGT...  ...   [1.0, 0.0]\n",
              "4     AAAACGGACATTCTTTTAGCTTTGGCTGGGTTAATGATAGGTCGCT...  ...   [1.0, 0.0]\n",
              "...                                                 ...  ...          ...\n",
              "1947  TGACTAAAAATACACGTTTTTCCCCCGAGGTCCGTCAACGGGCAGT...  ...   [1.0, 0.0]\n",
              "1948  TTGGCGCATCGGTCAGACCCAGTTTCGGCATCAGCAGAATCGCAAC...  ...   [1.0, 0.0]\n",
              "1949  TTTTTACTGTTATGGATATCCAGATTGTTAAAGAGCATGCCGGATG...  ...   [0.0, 1.0]\n",
              "1950  CCTGAATGATGCCTATGATGATGTGAACTTATACGCGCGTATTATC...  ...   [0.0, 1.0]\n",
              "1951  ATAACGATAAGTGCGAATAAATTTCGCACAACGCTTTTCGGGAGTC...  ...   [0.0, 1.0]\n",
              "\n",
              "[1952 rows x 3 columns]"
            ]
          },
          "metadata": {
            "tags": []
          },
          "execution_count": 11
        }
      ]
    },
    {
      "cell_type": "markdown",
      "metadata": {
        "colab_type": "text",
        "id": "qZnhk8eFcpOj"
      },
      "source": [
        "## 2. Embeddings\n",
        "The next step is to use the whole sequence to compute the embeddings. First, get a set of k-mers, that will be our words for this NLP problem."
      ]
    },
    {
      "cell_type": "markdown",
      "metadata": {
        "colab_type": "text",
        "id": "udqIi0wBcpO3"
      },
      "source": [
        "Finally, gather all the kmers and apply the CBOW algorithm."
      ]
    },
    {
      "cell_type": "code",
      "metadata": {
        "colab_type": "code",
        "id": "nJ24vZP71HFi",
        "colab": {}
      },
      "source": [
        "# Since we have the embeddings stored, we are going to ignore the following next\n",
        "# two cells and use this one\n",
        "stored = False\n",
        "\n",
        "if stored:\n",
        "  with open(\"/content/drive/My Drive/wti.p\", \"rb\") as f:\n",
        "    word_to_ix = pickle.load(f)\n",
        "  ix_to_word = {v: k for k,v in word_to_ix.items()}\n",
        "  model_save_name = 'ma_model.pt'\n",
        "  path = model_save_name\n",
        "  path = F\"/content/drive/My Drive/{model_save_name}\" \n",
        "  model = CBOW(len(word_to_ix), EMDEDDING_DIM, padding_idx=word_to_ix[\"X\"]).cpu()\n",
        "  model.load_state_dict(torch.load(path, map_location=torch.device('cpu')))"
      ],
      "execution_count": 0,
      "outputs": []
    },
    {
      "cell_type": "markdown",
      "metadata": {
        "colab_type": "text",
        "id": "JJKW2iVSlmGQ"
      },
      "source": [
        "## 4. Vanilla RNN model"
      ]
    },
    {
      "cell_type": "code",
      "metadata": {
        "colab_type": "code",
        "id": "GniwYJ6mlswA",
        "colab": {}
      },
      "source": [
        "from torch.autograd import Variable\n",
        "\n",
        "\n",
        "def compute_conv_dim(dim_size, kernel, padding, stride):\n",
        "    return int((dim_size + 2 * padding - (kernel-1) - 1) / stride + 1)\n",
        "\n",
        "\n",
        "class convLSTM(nn.Module):\n",
        "    def __init__(self, t, input_dim=1, hidden_dim=34, hidden_out=90, \n",
        "        output_dim=2, out_channels=1, kernel_size=8, stride=2, padding=0,\n",
        "        bidirectional=True):\n",
        "\n",
        "        super().__init__()\n",
        "        self.nb_tags = output_dim\n",
        "\n",
        "        self.conv = nn.Conv1d(input_dim, out_channels, kernel_size, \n",
        "                              stride, padding=padding, bias = False)\n",
        "        \n",
        "        # compute output dimension of Convnet as input t of LSTM\n",
        "        len_to_lstm = (\n",
        "            out_channels *\n",
        "            compute_conv_dim(t, kernel_size, padding, stride) \n",
        "        )\n",
        "        directions = 2 if bidirectional else 1\n",
        "\n",
        "        self.rnn = nn.LSTM(input_dim, hidden_dim, bidirectional=bidirectional, \n",
        "                           batch_first=True)\n",
        "        \n",
        "        self.fnn2 = nn.Sequential(\n",
        "            nn.Linear(len_to_lstm*hidden_dim*directions, hidden_out),\n",
        "            nn.BatchNorm1d(hidden_out), \n",
        "            nn.SELU(),\n",
        "            nn.AlphaDropout(),\n",
        "            nn.Linear(hidden_out, output_dim)\n",
        "        )\n",
        "\n",
        "\n",
        "    def forward(self, text):\n",
        "        \n",
        "        text = text.permute(0,2,1)\n",
        "        output = self.conv(text)\n",
        "        #print(output.data.size())\n",
        "\n",
        "\n",
        "        output = output.permute(0,2,1)\n",
        "        \n",
        "        # 1. LSTM\n",
        "        output, hidden = self.rnn(output)\n",
        "\n",
        "        # 2. get that so it's correctly packed for the hidden layer\n",
        "        output = output.contiguous()\n",
        "        output = output.reshape(output.shape[0], -1)\n",
        "\n",
        "        # 3. classification\n",
        "        output = self.fnn2(output)\n",
        "        return output"
      ],
      "execution_count": 0,
      "outputs": []
    },
    {
      "cell_type": "markdown",
      "metadata": {
        "colab_type": "text",
        "id": "Hqnu9WvB8uvw"
      },
      "source": [
        "## 4. Tweak the embeddings to accomodate varying sizes of the sequences\n",
        "Once we have the model and the embeddings, we would need to tweak the embeddings so that they are adjusted for the padded sequences.\n",
        "\n",
        "### 4.1. Add the padding char to the embeddings"
      ]
    },
    {
      "cell_type": "markdown",
      "metadata": {
        "colab_type": "text",
        "id": "T2KEUxaSAuAh"
      },
      "source": [
        "Now, get sequences as indexes."
      ]
    },
    {
      "cell_type": "markdown",
      "metadata": {
        "colab_type": "text",
        "id": "Wl02HKniKTHy"
      },
      "source": [
        "The following code is to try and entirely different way with enco"
      ]
    },
    {
      "cell_type": "code",
      "metadata": {
        "colab_type": "code",
        "id": "vW8dkfajKAb9",
        "colab": {}
      },
      "source": [
        "def code_one_hot(seq,vocab):\n",
        "  encoding = np.array([vocab[ch] for ch in seq], dtype=\"int64\")\n",
        "\n",
        "  encoding.reshape(encoding.shape[0], encoding.shape[1], 1)\n",
        "  return encoding\n",
        "\n",
        "nuc_to_ix = {\"A\": [1,0,0,0], \"G\": [0,1,0,0], \"T\": [0,0,1,0], \"C\" : [0,0,0,1]}\n",
        "nuc_to_class = {\"A\": [0], \"G\": [1], \"T\": [2], \"C\" : [3]}\n",
        "\n",
        "nuc_to_ix = {\"A\": [1,0,0,0], \"G\": [0,1,0,0], \"T\": [0,0,1,0], \"C\" : [0,0,0,1]}\n",
        "nuc_to_class = {k: np.array(v, \"int64\") for k,v in nuc_to_class.items()}"
      ],
      "execution_count": 0,
      "outputs": []
    },
    {
      "cell_type": "code",
      "metadata": {
        "colab_type": "code",
        "id": "5jNr7uvAK_lU",
        "outputId": "69e040c7-2a63-4898-af27-b725e76274b4",
        "colab": {
          "base_uri": "https://localhost:8080/",
          "height": 424
        }
      },
      "source": [
        "df_train[\"onehot\"] = df_train.sequence.apply(lambda x: code_one_hot(x, nuc_to_ix))\n",
        "df_test[\"onehot\"] = df_test.sequence.apply(lambda x: code_one_hot(x, nuc_to_ix))\n",
        "\n",
        "df_train[\"c_class\"] = df_train.sequence.apply(lambda x: code_one_hot(x, nuc_to_class))\n",
        "df_test[\"c_class\"] = df_test.sequence.apply(lambda x: code_one_hot(x, nuc_to_class))\n",
        "\n",
        "df_train"
      ],
      "execution_count": 15,
      "outputs": [
        {
          "output_type": "execute_result",
          "data": {
            "text/html": [
              "<div>\n",
              "<style scoped>\n",
              "    .dataframe tbody tr th:only-of-type {\n",
              "        vertical-align: middle;\n",
              "    }\n",
              "\n",
              "    .dataframe tbody tr th {\n",
              "        vertical-align: top;\n",
              "    }\n",
              "\n",
              "    .dataframe thead th {\n",
              "        text-align: right;\n",
              "    }\n",
              "</style>\n",
              "<table border=\"1\" class=\"dataframe\">\n",
              "  <thead>\n",
              "    <tr style=\"text-align: right;\">\n",
              "      <th></th>\n",
              "      <th>sequence</th>\n",
              "      <th>label</th>\n",
              "      <th>label_onehot</th>\n",
              "      <th>onehot</th>\n",
              "      <th>c_class</th>\n",
              "    </tr>\n",
              "  </thead>\n",
              "  <tbody>\n",
              "    <tr>\n",
              "      <th>0</th>\n",
              "      <td>GATAAAAGGCAGTTGGTTGACGGTGAAACGCGTATTAAAATGCCAC...</td>\n",
              "      <td>intergenic</td>\n",
              "      <td>[0.0, 1.0]</td>\n",
              "      <td>[[0, 1, 0, 0], [1, 0, 0, 0], [0, 0, 1, 0], [1,...</td>\n",
              "      <td>[[1], [0], [2], [0], [0], [0], [0], [1], [1], ...</td>\n",
              "    </tr>\n",
              "    <tr>\n",
              "      <th>1</th>\n",
              "      <td>ATACGCCACCTCGCGACAGTGAGCTGAAAGCCGCGTCGCAACTGCT...</td>\n",
              "      <td>intergenic</td>\n",
              "      <td>[0.0, 1.0]</td>\n",
              "      <td>[[1, 0, 0, 0], [0, 0, 1, 0], [1, 0, 0, 0], [0,...</td>\n",
              "      <td>[[0], [2], [0], [3], [1], [3], [3], [0], [3], ...</td>\n",
              "    </tr>\n",
              "    <tr>\n",
              "      <th>2</th>\n",
              "      <td>AGCAGGATACCCGGTTTAACCGTGTGGATTGTGTCTTGCGACGATG...</td>\n",
              "      <td>intergenic</td>\n",
              "      <td>[0.0, 1.0]</td>\n",
              "      <td>[[1, 0, 0, 0], [0, 1, 0, 0], [0, 0, 0, 1], [1,...</td>\n",
              "      <td>[[0], [1], [3], [0], [1], [1], [0], [2], [0], ...</td>\n",
              "    </tr>\n",
              "    <tr>\n",
              "      <th>3</th>\n",
              "      <td>GTTCTCTTCTTCAGGTTAAAAAATAAGGCGCAACGAAGATAACAAA...</td>\n",
              "      <td>intergenic</td>\n",
              "      <td>[0.0, 1.0]</td>\n",
              "      <td>[[0, 1, 0, 0], [0, 0, 1, 0], [0, 0, 1, 0], [0,...</td>\n",
              "      <td>[[1], [2], [2], [3], [2], [3], [2], [2], [3], ...</td>\n",
              "    </tr>\n",
              "    <tr>\n",
              "      <th>4</th>\n",
              "      <td>TTAAATTTATATCAGCATAAATGGGTCAGGACGCTTTTAATCACAT...</td>\n",
              "      <td>intergenic</td>\n",
              "      <td>[0.0, 1.0]</td>\n",
              "      <td>[[0, 0, 1, 0], [0, 0, 1, 0], [1, 0, 0, 0], [1,...</td>\n",
              "      <td>[[2], [2], [0], [0], [0], [2], [2], [2], [0], ...</td>\n",
              "    </tr>\n",
              "    <tr>\n",
              "      <th>...</th>\n",
              "      <td>...</td>\n",
              "      <td>...</td>\n",
              "      <td>...</td>\n",
              "      <td>...</td>\n",
              "      <td>...</td>\n",
              "    </tr>\n",
              "    <tr>\n",
              "      <th>7995</th>\n",
              "      <td>AAAAAAAGAGCCAGCGACTGACCTGAAAGAAGACGCTGGCTAAAAG...</td>\n",
              "      <td>intergenic</td>\n",
              "      <td>[0.0, 1.0]</td>\n",
              "      <td>[[1, 0, 0, 0], [1, 0, 0, 0], [1, 0, 0, 0], [1,...</td>\n",
              "      <td>[[0], [0], [0], [0], [0], [0], [0], [1], [0], ...</td>\n",
              "    </tr>\n",
              "    <tr>\n",
              "      <th>7996</th>\n",
              "      <td>TTTTTATGCTTTCCTTAAGAACAACTCACCCCTTAAAGGAATAACC...</td>\n",
              "      <td>intergenic</td>\n",
              "      <td>[0.0, 1.0]</td>\n",
              "      <td>[[0, 0, 1, 0], [0, 0, 1, 0], [0, 0, 1, 0], [0,...</td>\n",
              "      <td>[[2], [2], [2], [2], [2], [0], [2], [1], [3], ...</td>\n",
              "    </tr>\n",
              "    <tr>\n",
              "      <th>7997</th>\n",
              "      <td>TAGCACGGCTAACGCCGAGTTGCTGTGCGATAAATTTATCAAGTCG...</td>\n",
              "      <td>gene</td>\n",
              "      <td>[1.0, 0.0]</td>\n",
              "      <td>[[0, 0, 1, 0], [1, 0, 0, 0], [0, 1, 0, 0], [0,...</td>\n",
              "      <td>[[2], [0], [1], [3], [0], [3], [1], [1], [3], ...</td>\n",
              "    </tr>\n",
              "    <tr>\n",
              "      <th>7998</th>\n",
              "      <td>AACATCGGTGAAAGACGCCAACTTCGTCGAAGAAGTTGAAGAAGAG...</td>\n",
              "      <td>gene</td>\n",
              "      <td>[1.0, 0.0]</td>\n",
              "      <td>[[1, 0, 0, 0], [1, 0, 0, 0], [0, 0, 0, 1], [1,...</td>\n",
              "      <td>[[0], [0], [3], [0], [2], [3], [1], [1], [2], ...</td>\n",
              "    </tr>\n",
              "    <tr>\n",
              "      <th>7999</th>\n",
              "      <td>TGTTAGATATAGTCGAACTGTCGCGCTTACAGTTTGCCTTGACCGC...</td>\n",
              "      <td>gene</td>\n",
              "      <td>[1.0, 0.0]</td>\n",
              "      <td>[[0, 0, 1, 0], [0, 1, 0, 0], [0, 0, 1, 0], [0,...</td>\n",
              "      <td>[[2], [1], [2], [2], [0], [1], [0], [2], [0], ...</td>\n",
              "    </tr>\n",
              "  </tbody>\n",
              "</table>\n",
              "<p>8000 rows × 5 columns</p>\n",
              "</div>"
            ],
            "text/plain": [
              "                                               sequence  ...                                            c_class\n",
              "0     GATAAAAGGCAGTTGGTTGACGGTGAAACGCGTATTAAAATGCCAC...  ...  [[1], [0], [2], [0], [0], [0], [0], [1], [1], ...\n",
              "1     ATACGCCACCTCGCGACAGTGAGCTGAAAGCCGCGTCGCAACTGCT...  ...  [[0], [2], [0], [3], [1], [3], [3], [0], [3], ...\n",
              "2     AGCAGGATACCCGGTTTAACCGTGTGGATTGTGTCTTGCGACGATG...  ...  [[0], [1], [3], [0], [1], [1], [0], [2], [0], ...\n",
              "3     GTTCTCTTCTTCAGGTTAAAAAATAAGGCGCAACGAAGATAACAAA...  ...  [[1], [2], [2], [3], [2], [3], [2], [2], [3], ...\n",
              "4     TTAAATTTATATCAGCATAAATGGGTCAGGACGCTTTTAATCACAT...  ...  [[2], [2], [0], [0], [0], [2], [2], [2], [0], ...\n",
              "...                                                 ...  ...                                                ...\n",
              "7995  AAAAAAAGAGCCAGCGACTGACCTGAAAGAAGACGCTGGCTAAAAG...  ...  [[0], [0], [0], [0], [0], [0], [0], [1], [0], ...\n",
              "7996  TTTTTATGCTTTCCTTAAGAACAACTCACCCCTTAAAGGAATAACC...  ...  [[2], [2], [2], [2], [2], [0], [2], [1], [3], ...\n",
              "7997  TAGCACGGCTAACGCCGAGTTGCTGTGCGATAAATTTATCAAGTCG...  ...  [[2], [0], [1], [3], [0], [3], [1], [1], [3], ...\n",
              "7998  AACATCGGTGAAAGACGCCAACTTCGTCGAAGAAGTTGAAGAAGAG...  ...  [[0], [0], [3], [0], [2], [3], [1], [1], [2], ...\n",
              "7999  TGTTAGATATAGTCGAACTGTCGCGCTTACAGTTTGCCTTGACCGC...  ...  [[2], [1], [2], [2], [0], [1], [0], [2], [0], ...\n",
              "\n",
              "[8000 rows x 5 columns]"
            ]
          },
          "metadata": {
            "tags": []
          },
          "execution_count": 15
        }
      ]
    },
    {
      "cell_type": "code",
      "metadata": {
        "colab_type": "code",
        "id": "UIhlymvfOyvP",
        "outputId": "55afe2a2-7033-49fc-c0ce-413cacb4aa83",
        "colab": {
          "base_uri": "https://localhost:8080/",
          "height": 52
        }
      },
      "source": [
        "print(f\"number of rows -> {len(df_train)}\")\n",
        "print(f\"length of index seq -> {np.unique(df_train.c_class.apply(lambda x: len(x)))}\")"
      ],
      "execution_count": 16,
      "outputs": [
        {
          "output_type": "stream",
          "text": [
            "number of rows -> 8000\n",
            "length of index seq -> [50]\n"
          ],
          "name": "stdout"
        }
      ]
    },
    {
      "cell_type": "markdown",
      "metadata": {
        "colab_type": "text",
        "id": "L9U_zq-5FIbp"
      },
      "source": [
        "Finally, instantiante the model."
      ]
    },
    {
      "cell_type": "code",
      "metadata": {
        "colab_type": "code",
        "id": "go5mnL9uFJQu",
        "colab": {}
      },
      "source": [
        "t = len(df_train.iloc[0,-1]) # Find length of seqs (fixed)\n",
        "\n",
        "rnn = convLSTM(input_dim=1, hidden_dim = 34, hidden_out = 90, output_dim=2, t = t).cuda()\n",
        "\n",
        "optimizer = torch.optim.ASGD(rnn.parameters(), lr=1e-3)\n",
        "criterion = nn.CrossEntropyLoss().cuda()"
      ],
      "execution_count": 0,
      "outputs": []
    },
    {
      "cell_type": "markdown",
      "metadata": {
        "colab_type": "text",
        "id": "yrH8hOnvmWE1"
      },
      "source": [
        "## 5. Training loop\n"
      ]
    },
    {
      "cell_type": "markdown",
      "metadata": {
        "colab_type": "text",
        "id": "KQ3hnv3Onw--"
      },
      "source": [
        "All that is left is to split our training and testing and train the model."
      ]
    },
    {
      "cell_type": "code",
      "metadata": {
        "colab_type": "code",
        "id": "jjL8fY-LCftw",
        "colab": {}
      },
      "source": [
        "from torch.utils.data import DataLoader, Dataset\n",
        "\n",
        "class oversampdata(Dataset):\n",
        "  def __init__(self, data):\n",
        "    # first column is list of index sentence\n",
        "    self.data = torch.LongTensor(np.ndarray.astype(np.array([\n",
        "                    np.array(r) \n",
        "                    for r in data.iloc[:,0].to_numpy()]), \"int64\"))\n",
        "    # second column is the label\n",
        "    self.targets = torch.LongTensor(np.ndarray.astype(np.array([\n",
        "                    np.array(r) \n",
        "                    for r in data.iloc[:,1].to_numpy()]), \"int64\"))\n",
        "\n",
        "  def __len__(self):\n",
        "    return len(self.data)\n",
        "\n",
        "  def __getitem__(self, index):\n",
        "    data_val = self.data[index]\n",
        "    target = self.targets[index]\n",
        "    return data_val, target\n",
        "\n",
        "train_dataset = oversampdata(df_train.loc[:,[\"c_class\", \"label_onehot\"]])\n",
        "valid_dataset = oversampdata(df_test.loc[:,[\"c_class\", \"label_onehot\"]])"
      ],
      "execution_count": 0,
      "outputs": []
    },
    {
      "cell_type": "code",
      "metadata": {
        "colab_type": "code",
        "id": "IenV-ndMvJVW",
        "colab": {}
      },
      "source": [
        "BATCH_SIZE = 30\n",
        "\n",
        "trainloader = torch.utils.data.DataLoader(train_dataset, batch_size=BATCH_SIZE, \n",
        "                                          shuffle=True, drop_last = False)\n",
        "testloader = torch.utils.data.DataLoader(valid_dataset, batch_size=BATCH_SIZE, \n",
        "                                         shuffle=True, drop_last = False)"
      ],
      "execution_count": 0,
      "outputs": []
    },
    {
      "cell_type": "code",
      "metadata": {
        "colab_type": "code",
        "id": "fMKJKbYoBZQD",
        "colab": {}
      },
      "source": [
        "def binary_accuracy(preds, y):\n",
        "   \"\"\"\n",
        "   Returns accuracy per batch, i.e. if you get 8/10 right, this returns 0.8, NOT 8\n",
        "   \"\"\"\n",
        "   rounded_preds = torch.zeros(preds.size())\n",
        "   for i in range(len(preds)):\n",
        "     idx_max = torch.where(preds[i] == preds[i].max())\n",
        "     rounded_preds[i][idx_max] = 1\n",
        "   rounded_preds = torch.FloatTensor(rounded_preds).int()\n",
        "   correct = (rounded_preds == y).float() #convert into float for division\n",
        "   acc = (correct.sum()/len(preds[0])) / len(correct)\n",
        "   return acc"
      ],
      "execution_count": 0,
      "outputs": []
    },
    {
      "cell_type": "code",
      "metadata": {
        "colab_type": "code",
        "id": "CUPgdWw0maX7",
        "colab": {}
      },
      "source": [
        "from torch.nn import Parameter\n",
        "import matplotlib.pyplot as plt\n",
        "import sys\n",
        "# Colab in dark mode, guys :)\n",
        "plt.style.use(['seaborn-dark', 'dark_background'])\n",
        "\n",
        "def train(model, iterator, optimizer, criterion):\n",
        "    \n",
        "    epoch_loss = 0\n",
        "    epoch_acc = 0\n",
        "    \n",
        "    model.train()\n",
        "    print(\"Training...\")\n",
        "\n",
        "    for i, batch in enumerate(iterator):\n",
        "        if not i%10:\n",
        "          sys.stdout.write(f\"\\rIteration {i}        \")\n",
        "          sys.stdout.flush()\n",
        "\n",
        "        inputs, labels_onehot = batch\n",
        "\n",
        "        inputs = Parameter(inputs.float(), requires_grad=True).cuda()\n",
        "\n",
        "        predictions = model(inputs)\n",
        "        \n",
        "        labels_idx = torch.LongTensor([np.where(label==1)[0][0] for label in labels_onehot]).cuda()\n",
        "        loss = criterion(predictions, labels_idx)\n",
        "\n",
        "        optimizer.zero_grad()\n",
        "        \n",
        "        loss.backward()\n",
        "        \n",
        "        optimizer.step()\n",
        "        \n",
        "        acc = binary_accuracy(predictions, labels_onehot)\n",
        "        # print(loss.item())\n",
        "        epoch_loss += loss.item()\n",
        "        epoch_acc += acc.item()\n",
        "        \n",
        "    print()\n",
        "    return epoch_loss / len(iterator), epoch_acc / len(iterator)\n",
        "\n",
        "\n",
        "def evaluate(model, iterator, criterion):\n",
        "    epoch_loss = 0\n",
        "    epoch_acc = 0\n",
        "    \n",
        "    model.eval()\n",
        "    print(\"Evaluating...\")\n",
        "\n",
        "    for i, batch in enumerate(iterator):\n",
        "\n",
        "        inputs, labels_onehot = batch\n",
        "        \n",
        "        inputs = Parameter(inputs.float(), requires_grad=False).cuda()\n",
        "\n",
        "        predictions = model(inputs)\n",
        "        labels_idx = torch.LongTensor([np.where(label==1)[0][0] for label in labels_onehot]).cuda()\n",
        "\n",
        "        loss = criterion(predictions, labels_idx)\n",
        "        acc = binary_accuracy(predictions, labels_onehot)\n",
        "\n",
        "        epoch_loss += loss.item()\n",
        "        epoch_acc += acc.item()\n",
        "    return epoch_loss / len(iterator), epoch_acc / len(iterator)\n",
        "\n",
        "\n",
        "def plot_network(epochs, train_loss, test_loss):\n",
        "    \"\"\" Neon \"\"\"\n",
        "    plt.figure()\n",
        "    # Other Neon colors of the palette -> #13CA91 #3B27BA #E847AE #FF9472\n",
        "    plt.plot(epochs, train_loss, color='#13CA91', marker = \"o\", linestyle='-', label='Training loss',)\n",
        "    plt.plot(epochs, test_loss, color='#3B27BA', marker = \"o\", linestyle='-', label='Validation loss')\n",
        "    plt.legend()\n",
        "    plt.xlabel('Epoch'), plt.ylabel('NLL')\n",
        "    plt.show()"
      ],
      "execution_count": 0,
      "outputs": []
    },
    {
      "cell_type": "code",
      "metadata": {
        "colab_type": "code",
        "id": "OnXryGW6FmYD",
        "outputId": "1967996c-3b6c-4252-cbee-22f2e553d675",
        "colab": {
          "base_uri": "https://localhost:8080/",
          "height": 34
        }
      },
      "source": [
        "len(train_dataset)"
      ],
      "execution_count": 33,
      "outputs": [
        {
          "output_type": "execute_result",
          "data": {
            "text/plain": [
              "8000"
            ]
          },
          "metadata": {
            "tags": []
          },
          "execution_count": 33
        }
      ]
    },
    {
      "cell_type": "code",
      "metadata": {
        "colab_type": "code",
        "id": "KLhfluLNmn5C",
        "outputId": "f6c382aa-34f2-47d0-bd1b-af30eb176a6a",
        "colab": {
          "base_uri": "https://localhost:8080/",
          "height": 1000
        }
      },
      "source": [
        "N_EPOCHS = 50\n",
        "model_save_name=\"ma_rnn.pt\"\n",
        "path = F\"/content/drive/My Drive/{model_save_name}\"\n",
        "\n",
        "all_train_loss = []\n",
        "all_val_loss = []\n",
        "all_epochs = []\n",
        "best_valid_loss = float('inf')\n",
        "\n",
        "for epoch in range(N_EPOCHS):\n",
        "    print(\"Epoch: \" + str(epoch))\n",
        "    train_loss, train_acc = train(rnn, trainloader, optimizer, criterion)\n",
        "    valid_loss, valid_acc = evaluate(rnn, testloader, criterion)\n",
        "\n",
        "    #train_loss  = train(rnn, trainloader, optimizer, criterion)\n",
        "    #valid_loss  = evaluate(rnn, testloader, criterion)    \n",
        "    \n",
        "    if valid_loss < best_valid_loss:\n",
        "        best_valid_loss = valid_loss\n",
        "        torch.save(rnn.state_dict(), path)\n",
        "    \n",
        "    print(f'\\tTrain Loss: {train_loss:.3f} | Train Acc: {train_acc*100:.2f}%')\n",
        "    print(f'\\t Val. Loss: {valid_loss:.3f} |  Val. Acc: {valid_acc*100:.2f}%')\n",
        "    all_train_loss.append(train_loss)\n",
        "    all_val_loss.append(valid_loss)\n",
        "    all_epochs.append(epoch)\n",
        "\n",
        "    if not epoch%10 and epoch != 0:\n",
        "      plot_network(all_epochs, all_train_loss, all_val_loss)"
      ],
      "execution_count": 34,
      "outputs": [
        {
          "output_type": "stream",
          "text": [
            "Epoch: 0\n",
            "Training...\n",
            "Iteration 260        \n",
            "Evaluating...\n",
            "\tTrain Loss: 0.747 | Train Acc: 51.67%\n",
            "\t Val. Loss: 0.690 |  Val. Acc: 56.52%\n",
            "Epoch: 1\n",
            "Training...\n",
            "Iteration 260        \n",
            "Evaluating...\n",
            "\tTrain Loss: 0.726 | Train Acc: 54.05%\n",
            "\t Val. Loss: 0.684 |  Val. Acc: 59.34%\n",
            "Epoch: 2\n",
            "Training...\n",
            "Iteration 260        \n",
            "Evaluating...\n",
            "\tTrain Loss: 0.719 | Train Acc: 54.06%\n",
            "\t Val. Loss: 0.692 |  Val. Acc: 58.48%\n",
            "Epoch: 3\n",
            "Training...\n",
            "Iteration 260        \n",
            "Evaluating...\n",
            "\tTrain Loss: 0.707 | Train Acc: 54.56%\n",
            "\t Val. Loss: 0.694 |  Val. Acc: 59.04%\n",
            "Epoch: 4\n",
            "Training...\n",
            "Iteration 260        \n",
            "Evaluating...\n",
            "\tTrain Loss: 0.701 | Train Acc: 55.22%\n",
            "\t Val. Loss: 0.682 |  Val. Acc: 60.00%\n",
            "Epoch: 5\n",
            "Training...\n",
            "Iteration 260        \n",
            "Evaluating...\n",
            "\tTrain Loss: 0.695 | Train Acc: 56.17%\n",
            "\t Val. Loss: 0.678 |  Val. Acc: 61.21%\n",
            "Epoch: 6\n",
            "Training...\n",
            "Iteration 260        \n",
            "Evaluating...\n",
            "\tTrain Loss: 0.689 | Train Acc: 56.67%\n",
            "\t Val. Loss: 0.675 |  Val. Acc: 61.67%\n",
            "Epoch: 7\n",
            "Training...\n",
            "Iteration 260        \n",
            "Evaluating...\n",
            "\tTrain Loss: 0.683 | Train Acc: 57.60%\n",
            "\t Val. Loss: 0.679 |  Val. Acc: 60.86%\n",
            "Epoch: 8\n",
            "Training...\n",
            "Iteration 260        \n",
            "Evaluating...\n",
            "\tTrain Loss: 0.670 | Train Acc: 59.03%\n",
            "\t Val. Loss: 0.678 |  Val. Acc: 62.07%\n",
            "Epoch: 9\n",
            "Training...\n",
            "Iteration 260        \n",
            "Evaluating...\n",
            "\tTrain Loss: 0.672 | Train Acc: 59.09%\n",
            "\t Val. Loss: 0.672 |  Val. Acc: 62.98%\n",
            "Epoch: 10\n",
            "Training...\n",
            "Iteration 260        \n",
            "Evaluating...\n",
            "\tTrain Loss: 0.666 | Train Acc: 59.76%\n",
            "\t Val. Loss: 0.676 |  Val. Acc: 61.41%\n"
          ],
          "name": "stdout"
        },
        {
          "output_type": "display_data",
          "data": {
            "image/png": "[encoded data removed]",
            "text/plain": [
              "<Figure size 432x288 with 1 Axes>"
            ]
          },
          "metadata": {
            "tags": []
          }
        },
        {
          "output_type": "stream",
          "text": [
            "Epoch: 11\n",
            "Training...\n",
            "Iteration 260        \n",
            "Evaluating...\n",
            "\tTrain Loss: 0.664 | Train Acc: 60.39%\n",
            "\t Val. Loss: 0.674 |  Val. Acc: 61.72%\n",
            "Epoch: 12\n",
            "Training...\n",
            "Iteration 260        \n",
            "Evaluating...\n",
            "\tTrain Loss: 0.662 | Train Acc: 60.12%\n",
            "\t Val. Loss: 0.683 |  Val. Acc: 61.41%\n",
            "Epoch: 13\n",
            "Training...\n",
            "Iteration 260        \n",
            "Evaluating...\n",
            "\tTrain Loss: 0.659 | Train Acc: 60.17%\n",
            "\t Val. Loss: 0.665 |  Val. Acc: 63.94%\n",
            "Epoch: 14\n",
            "Training...\n",
            "Iteration 260        \n",
            "Evaluating...\n",
            "\tTrain Loss: 0.654 | Train Acc: 61.92%\n",
            "\t Val. Loss: 0.663 |  Val. Acc: 64.24%\n",
            "Epoch: 15\n",
            "Training...\n",
            "Iteration 260        \n",
            "Evaluating...\n",
            "\tTrain Loss: 0.654 | Train Acc: 61.60%\n",
            "\t Val. Loss: 0.662 |  Val. Acc: 64.39%\n",
            "Epoch: 16\n",
            "Training...\n",
            "Iteration 260        \n",
            "Evaluating...\n",
            "\tTrain Loss: 0.650 | Train Acc: 61.64%\n",
            "\t Val. Loss: 0.664 |  Val. Acc: 64.34%\n",
            "Epoch: 17\n",
            "Training...\n",
            "Iteration 260        \n",
            "Evaluating...\n",
            "\tTrain Loss: 0.647 | Train Acc: 62.87%\n",
            "\t Val. Loss: 0.664 |  Val. Acc: 63.99%\n",
            "Epoch: 18\n",
            "Training...\n",
            "Iteration 260        \n",
            "Evaluating...\n",
            "\tTrain Loss: 0.646 | Train Acc: 62.71%\n",
            "\t Val. Loss: 0.666 |  Val. Acc: 64.90%\n",
            "Epoch: 19\n",
            "Training...\n",
            "Iteration 260        \n",
            "Evaluating...\n",
            "\tTrain Loss: 0.645 | Train Acc: 62.54%\n",
            "\t Val. Loss: 0.668 |  Val. Acc: 64.34%\n",
            "Epoch: 20\n",
            "Training...\n",
            "Iteration 260        \n",
            "Evaluating...\n",
            "\tTrain Loss: 0.643 | Train Acc: 63.36%\n",
            "\t Val. Loss: 0.669 |  Val. Acc: 64.44%\n"
          ],
          "name": "stdout"
        },
        {
          "output_type": "display_data",
          "data": {
            "image/png": "[encoded data removed]",
            "text/plain": [
              "<Figure size 432x288 with 1 Axes>"
            ]
          },
          "metadata": {
            "tags": []
          }
        },
        {
          "output_type": "stream",
          "text": [
            "Epoch: 21\n",
            "Training...\n",
            "Iteration 260        \n",
            "Evaluating...\n",
            "\tTrain Loss: 0.641 | Train Acc: 63.77%\n",
            "\t Val. Loss: 0.660 |  Val. Acc: 65.66%\n",
            "Epoch: 22\n",
            "Training...\n",
            "Iteration 260        \n",
            "Evaluating...\n",
            "\tTrain Loss: 0.642 | Train Acc: 63.40%\n",
            "\t Val. Loss: 0.659 |  Val. Acc: 65.81%\n",
            "Epoch: 23\n",
            "Training...\n",
            "Iteration 260        \n",
            "Evaluating...\n",
            "\tTrain Loss: 0.639 | Train Acc: 63.71%\n",
            "\t Val. Loss: 0.660 |  Val. Acc: 65.96%\n",
            "Epoch: 24\n",
            "Training...\n",
            "Iteration 260        \n",
            "Evaluating...\n",
            "\tTrain Loss: 0.636 | Train Acc: 64.27%\n",
            "\t Val. Loss: 0.668 |  Val. Acc: 64.85%\n",
            "Epoch: 25\n",
            "Training...\n",
            "Iteration 260        \n",
            "Evaluating...\n",
            "\tTrain Loss: 0.636 | Train Acc: 64.43%\n",
            "\t Val. Loss: 0.664 |  Val. Acc: 66.06%\n",
            "Epoch: 26\n",
            "Training...\n",
            "Iteration 260        \n",
            "Evaluating...\n",
            "\tTrain Loss: 0.633 | Train Acc: 64.79%\n",
            "\t Val. Loss: 0.655 |  Val. Acc: 66.21%\n",
            "Epoch: 27\n",
            "Training...\n",
            "Iteration 260        \n",
            "Evaluating...\n",
            "\tTrain Loss: 0.633 | Train Acc: 65.12%\n",
            "\t Val. Loss: 0.672 |  Val. Acc: 65.35%\n",
            "Epoch: 28\n",
            "Training...\n",
            "Iteration 260        \n",
            "Evaluating...\n",
            "\tTrain Loss: 0.636 | Train Acc: 64.31%\n",
            "\t Val. Loss: 0.657 |  Val. Acc: 66.67%\n",
            "Epoch: 29\n",
            "Training...\n",
            "Iteration 260        \n",
            "Evaluating...\n",
            "\tTrain Loss: 0.633 | Train Acc: 64.46%\n",
            "\t Val. Loss: 0.678 |  Val. Acc: 65.30%\n",
            "Epoch: 30\n",
            "Training...\n",
            "Iteration 260        \n",
            "Evaluating...\n",
            "\tTrain Loss: 0.634 | Train Acc: 64.51%\n",
            "\t Val. Loss: 0.660 |  Val. Acc: 66.11%\n"
          ],
          "name": "stdout"
        },
        {
          "output_type": "display_data",
          "data": {
            "image/png": "[encoded data removed]",
            "text/plain": [
              "<Figure size 432x288 with 1 Axes>"
            ]
          },
          "metadata": {
            "tags": []
          }
        },
        {
          "output_type": "stream",
          "text": [
            "Epoch: 31\n",
            "Training...\n",
            "Iteration 260        \n",
            "Evaluating...\n",
            "\tTrain Loss: 0.631 | Train Acc: 65.04%\n",
            "\t Val. Loss: 0.673 |  Val. Acc: 65.61%\n",
            "Epoch: 32\n",
            "Training...\n",
            "Iteration 260        \n",
            "Evaluating...\n",
            "\tTrain Loss: 0.631 | Train Acc: 65.21%\n",
            "\t Val. Loss: 0.683 |  Val. Acc: 65.51%\n",
            "Epoch: 33\n",
            "Training...\n",
            "Iteration 260        \n",
            "Evaluating...\n",
            "\tTrain Loss: 0.629 | Train Acc: 65.12%\n",
            "\t Val. Loss: 0.669 |  Val. Acc: 66.01%\n",
            "Epoch: 34\n",
            "Training...\n",
            "Iteration 260        \n",
            "Evaluating...\n",
            "\tTrain Loss: 0.632 | Train Acc: 64.84%\n",
            "\t Val. Loss: 0.665 |  Val. Acc: 66.11%\n",
            "Epoch: 35\n",
            "Training...\n",
            "Iteration 260        \n",
            "Evaluating...\n",
            "\tTrain Loss: 0.630 | Train Acc: 64.98%\n",
            "\t Val. Loss: 0.660 |  Val. Acc: 66.52%\n",
            "Epoch: 36\n",
            "Training...\n",
            "Iteration 260        \n",
            "Evaluating...\n",
            "\tTrain Loss: 0.630 | Train Acc: 64.89%\n",
            "\t Val. Loss: 0.662 |  Val. Acc: 65.86%\n",
            "Epoch: 37\n",
            "Training...\n",
            "Iteration 260        \n",
            "Evaluating...\n",
            "\tTrain Loss: 0.630 | Train Acc: 65.34%\n",
            "\t Val. Loss: 0.667 |  Val. Acc: 66.72%\n",
            "Epoch: 38\n",
            "Training...\n",
            "Iteration 260        \n",
            "Evaluating...\n",
            "\tTrain Loss: 0.626 | Train Acc: 65.96%\n",
            "\t Val. Loss: 0.655 |  Val. Acc: 67.78%\n",
            "Epoch: 39\n",
            "Training...\n",
            "Iteration 260        \n",
            "Evaluating...\n",
            "\tTrain Loss: 0.626 | Train Acc: 65.22%\n",
            "\t Val. Loss: 0.677 |  Val. Acc: 67.02%\n",
            "Epoch: 40\n",
            "Training...\n",
            "Iteration 260        \n",
            "Evaluating...\n",
            "\tTrain Loss: 0.628 | Train Acc: 65.32%\n",
            "\t Val. Loss: 0.682 |  Val. Acc: 65.91%\n"
          ],
          "name": "stdout"
        },
        {
          "output_type": "display_data",
          "data": {
            "image/png": "[encoded data removed]",
            "text/plain": [
              "<Figure size 432x288 with 1 Axes>"
            ]
          },
          "metadata": {
            "tags": []
          }
        },
        {
          "output_type": "stream",
          "text": [
            "Epoch: 41\n",
            "Training...\n",
            "Iteration 260        \n",
            "Evaluating...\n",
            "\tTrain Loss: 0.627 | Train Acc: 65.49%\n",
            "\t Val. Loss: 0.659 |  Val. Acc: 66.67%\n",
            "Epoch: 42\n",
            "Training...\n",
            "Iteration 260        \n",
            "Evaluating...\n",
            "\tTrain Loss: 0.627 | Train Acc: 65.77%\n",
            "\t Val. Loss: 0.663 |  Val. Acc: 67.37%\n",
            "Epoch: 43\n",
            "Training...\n",
            "Iteration 260        \n",
            "Evaluating...\n",
            "\tTrain Loss: 0.628 | Train Acc: 65.04%\n",
            "\t Val. Loss: 0.655 |  Val. Acc: 67.42%\n",
            "Epoch: 44\n",
            "Training...\n",
            "Iteration 260        \n",
            "Evaluating...\n",
            "\tTrain Loss: 0.626 | Train Acc: 65.60%\n",
            "\t Val. Loss: 0.670 |  Val. Acc: 66.57%\n",
            "Epoch: 45\n",
            "Training...\n",
            "Iteration 260        \n",
            "Evaluating...\n",
            "\tTrain Loss: 0.622 | Train Acc: 65.49%\n",
            "\t Val. Loss: 0.660 |  Val. Acc: 67.83%\n",
            "Epoch: 46\n",
            "Training...\n",
            "Iteration 260        \n",
            "Evaluating...\n",
            "\tTrain Loss: 0.624 | Train Acc: 66.09%\n",
            "\t Val. Loss: 0.661 |  Val. Acc: 67.73%\n",
            "Epoch: 47\n",
            "Training...\n",
            "Iteration 260        \n",
            "Evaluating...\n",
            "\tTrain Loss: 0.624 | Train Acc: 65.42%\n",
            "\t Val. Loss: 0.658 |  Val. Acc: 67.88%\n",
            "Epoch: 48\n",
            "Training...\n",
            "Iteration 260        \n",
            "Evaluating...\n",
            "\tTrain Loss: 0.625 | Train Acc: 66.12%\n",
            "\t Val. Loss: 0.674 |  Val. Acc: 67.02%\n",
            "Epoch: 49\n",
            "Training...\n",
            "Iteration 260        \n",
            "Evaluating...\n",
            "\tTrain Loss: 0.625 | Train Acc: 65.60%\n",
            "\t Val. Loss: 0.649 |  Val. Acc: 67.88%\n"
          ],
          "name": "stdout"
        }
      ]
    },
    {
      "cell_type": "code",
      "metadata": {
        "id": "2bb68ry32jdN",
        "colab_type": "code",
        "colab": {
          "base_uri": "https://localhost:8080/",
          "height": 276
        },
        "outputId": "07abc4b7-eaaa-4c00-af34-ef5e28c46333"
      },
      "source": [
        "plot_network(all_epochs, all_train_loss, all_val_loss)"
      ],
      "execution_count": 35,
      "outputs": [
        {
          "output_type": "display_data",
          "data": {
            "image/png": "[encoded data removed]",
            "text/plain": [
              "<Figure size 432x288 with 1 Axes>"
            ]
          },
          "metadata": {
            "tags": []
          }
        }
      ]
    }
  ]
}