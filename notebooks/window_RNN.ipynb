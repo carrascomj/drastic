{
  "nbformat": 4,
  "nbformat_minor": 0,
  "metadata": {
    "kernelspec": {
      "name": "python3",
      "display_name": "Python 3"
    },
    "language_info": {
      "codemirror_mode": {
        "name": "ipython",
        "version": 3
      },
      "file_extension": ".py",
      "mimetype": "text/x-python",
      "name": "python",
      "nbconvert_exporter": "python",
      "pygments_lexer": "ipython3",
      "version": "3.6.8"
    },
    "colab": {
      "name": "vanilla_RNN.ipynb",
      "provenance": [],
      "collapsed_sections": [],
      "toc_visible": true,
      "machine_shape": "hm"
    },
    "accelerator": "TPU"
  },
  "cells": [
    {
      "cell_type": "markdown",
      "metadata": {
        "id": "41fhhqz9cpMY",
        "colab_type": "text"
      },
      "source": [
        "# Vanilla LSTM for Gene/No gene classification\n",
        "The Milestone 1 corresponds to the classication task of, given a sequence, predict if it contains a gene, a partial sequence of a gene or just intergenic code."
      ]
    },
    {
      "cell_type": "code",
      "metadata": {
        "id": "h-c6UAlXecMe",
        "colab_type": "code",
        "outputId": "6f41267b-f911-4d90-9b8f-3a89cf06d841",
        "colab": {
          "base_uri": "https://localhost:8080/",
          "height": 34
        }
      },
      "source": [
        "!pip3 install pyfastx"
      ],
      "execution_count": 1,
      "outputs": [
        {
          "output_type": "stream",
          "text": [
            "Requirement already satisfied: pyfastx in /usr/local/lib/python3.6/dist-packages (0.5.9)\n"
          ],
          "name": "stdout"
        }
      ]
    },
    {
      "cell_type": "code",
      "metadata": {
        "id": "qRzQiKX0cpMv",
        "colab_type": "code",
        "colab": {}
      },
      "source": [
        "import numpy as np\n",
        "import pickle\n",
        "import torch\n",
        "import torch.nn as nn\n",
        "import pandas as pd\n",
        "\n",
        "from tqdm import tqdm # progress bar\n",
        "from preproc_pipeline import window_pipeline\n",
        "from warnings import simplefilter"
      ],
      "execution_count": 0,
      "outputs": []
    },
    {
      "cell_type": "code",
      "metadata": {
        "id": "vBh07oIKIT7G",
        "colab_type": "code",
        "outputId": "cca79e3e-9049-4c72-a939-4b9f87c9d79e",
        "colab": {
          "base_uri": "https://localhost:8080/",
          "height": 34
        }
      },
      "source": [
        "from google.colab import drive\n",
        "drive.mount('/content/drive')"
      ],
      "execution_count": 187,
      "outputs": [
        {
          "output_type": "stream",
          "text": [
            "Drive already mounted at /content/drive; to attempt to forcibly remount, call drive.mount(\"/content/drive\", force_remount=True).\n"
          ],
          "name": "stdout"
        }
      ]
    },
    {
      "cell_type": "markdown",
      "metadata": {
        "id": "pj7ghCdFcpNN",
        "colab_type": "text"
      },
      "source": [
        "## 1. Dataset for training\n",
        "The genome of E. coli will be used for this purpose."
      ]
    },
    {
      "cell_type": "code",
      "metadata": {
        "id": "xlomqEr_cpNV",
        "colab_type": "code",
        "colab": {}
      },
      "source": [
        "simplefilter(\"ignore\")\n",
        "genome = \"GCF_000008865.2_ASM886v2_genomic.fna\"\n",
        "feature_table = \"GCA_000008865.2_ASM886v2_feature_table.tsv\"\n",
        "df = window_pipeline(genome, feature_table)"
      ],
      "execution_count": 0,
      "outputs": []
    },
    {
      "cell_type": "code",
      "metadata": {
        "id": "mMNHc3Xb6uA_",
        "colab_type": "code",
        "outputId": "a0285c74-dc14-4b17-f100-594fa166e55b",
        "colab": {
          "base_uri": "https://localhost:8080/",
          "height": 52
        }
      },
      "source": [
        "print(df.sequence.apply(lambda x: len(x)).max())\n",
        "len(df)"
      ],
      "execution_count": 5,
      "outputs": [
        {
          "output_type": "stream",
          "text": [
            "50\n"
          ],
          "name": "stdout"
        },
        {
          "output_type": "execute_result",
          "data": {
            "text/plain": [
              "36526"
            ]
          },
          "metadata": {
            "tags": []
          },
          "execution_count": 5
        }
      ]
    },
    {
      "cell_type": "markdown",
      "metadata": {
        "id": "8imkCBLk_yit",
        "colab_type": "text"
      },
      "source": [
        ""
      ]
    },
    {
      "cell_type": "code",
      "metadata": {
        "id": "7yI_vjULcpNr",
        "colab_type": "code",
        "outputId": "39f3bcf7-045c-4559-8f25-7399707fc5dc",
        "colab": {
          "base_uri": "https://localhost:8080/",
          "height": 52
        }
      },
      "source": [
        "print(\n",
        "    f\"columns -> {list(df.columns)}\\n\"\n",
        "    f\"labels in dataframe -> {list(df.label.unique())}\"\n",
        ")"
      ],
      "execution_count": 6,
      "outputs": [
        {
          "output_type": "stream",
          "text": [
            "columns -> ['sequence', 'label']\n",
            "labels in dataframe -> ['gene', 'intergenic', 'partial']\n"
          ],
          "name": "stdout"
        }
      ]
    },
    {
      "cell_type": "markdown",
      "metadata": {
        "id": "QWshzjeHcpN-",
        "colab_type": "text"
      },
      "source": [
        "Let's get a one hot mapping for the labels."
      ]
    },
    {
      "cell_type": "code",
      "metadata": {
        "id": "F3fD5a7LcpOD",
        "colab_type": "code",
        "outputId": "9687fe09-ba36-4150-d29b-71465b83579a",
        "colab": {
          "base_uri": "https://localhost:8080/",
          "height": 52
        }
      },
      "source": [
        "labels = list(df.label.unique())\n",
        "lab0 = np.zeros(len(labels))\n",
        "lab2vec = {}\n",
        "vec2lab = {}\n",
        "for i, label in enumerate(list(df.label.unique())):\n",
        "    labv = lab0.copy()\n",
        "    labv[i] = 1\n",
        "    lab2vec[label] = labv\n",
        "    vec2lab[tuple(labv)] = label\n",
        "\n",
        "print(f\"lab2vec -> {lab2vec}\\nvec2lab -> {vec2lab}\")"
      ],
      "execution_count": 7,
      "outputs": [
        {
          "output_type": "stream",
          "text": [
            "lab2vec -> {'gene': array([1., 0., 0.]), 'intergenic': array([0., 1., 0.]), 'partial': array([0., 0., 1.])}\n",
            "vec2lab -> {(1.0, 0.0, 0.0): 'gene', (0.0, 1.0, 0.0): 'intergenic', (0.0, 0.0, 1.0): 'partial'}\n"
          ],
          "name": "stdout"
        }
      ]
    },
    {
      "cell_type": "code",
      "metadata": {
        "id": "QzAINOOA9ge1",
        "colab_type": "code",
        "outputId": "d70d32d0-5947-4efd-f0ce-d9863253e0e6",
        "colab": {
          "base_uri": "https://localhost:8080/",
          "height": 69
        }
      },
      "source": [
        "print(df[df.sequence.apply(lambda x: len(x)==0)].count())\n",
        "df = df[~df.sequence.apply(lambda x: len(x)==0)]"
      ],
      "execution_count": 8,
      "outputs": [
        {
          "output_type": "stream",
          "text": [
            "sequence    0\n",
            "label       0\n",
            "dtype: int64\n"
          ],
          "name": "stdout"
        }
      ]
    },
    {
      "cell_type": "markdown",
      "metadata": {
        "id": "KNxgBpL9QxZj",
        "colab_type": "text"
      },
      "source": [
        "Need to check why it always generate a 0 length row. I think is the last one, but I am not sure."
      ]
    },
    {
      "cell_type": "code",
      "metadata": {
        "id": "XTcHbHV8cpOT",
        "colab_type": "code",
        "outputId": "d9b1de06-b084-486d-9f5c-2e9dd2a42234",
        "colab": {
          "base_uri": "https://localhost:8080/",
          "height": 424
        }
      },
      "source": [
        "df[\"label_onehot\"] = df.label.apply(lambda x: lab2vec[x])\n",
        "toy = pd.concat([df[df.label==\"gene\"].sample(n=100),\n",
        "                df[df.label==\"intergenic\"].sample(n=100),\n",
        "                df[df.label==\"partial\"].sample(n=100)]).reset_index(drop=True)\n",
        "df_train = toy.sample(frac=8/10) # shuffle\n",
        "df_test = df[~df.index.isin(df_train.index)].dropna().reset_index(drop=True)\n",
        "df_train = df_train.reset_index(drop=True)\n",
        "df_train"
      ],
      "execution_count": 15,
      "outputs": [
        {
          "output_type": "execute_result",
          "data": {
            "text/html": [
              "<div>\n",
              "<style scoped>\n",
              "    .dataframe tbody tr th:only-of-type {\n",
              "        vertical-align: middle;\n",
              "    }\n",
              "\n",
              "    .dataframe tbody tr th {\n",
              "        vertical-align: top;\n",
              "    }\n",
              "\n",
              "    .dataframe thead th {\n",
              "        text-align: right;\n",
              "    }\n",
              "</style>\n",
              "<table border=\"1\" class=\"dataframe\">\n",
              "  <thead>\n",
              "    <tr style=\"text-align: right;\">\n",
              "      <th></th>\n",
              "      <th>sequence</th>\n",
              "      <th>label</th>\n",
              "      <th>label_onehot</th>\n",
              "    </tr>\n",
              "  </thead>\n",
              "  <tbody>\n",
              "    <tr>\n",
              "      <th>0</th>\n",
              "      <td>TGATTCGCTTAGCGCCCTTGATTACCGCCGACGTTGACACCACCAC...</td>\n",
              "      <td>gene</td>\n",
              "      <td>[1.0, 0.0, 0.0]</td>\n",
              "    </tr>\n",
              "    <tr>\n",
              "      <th>1</th>\n",
              "      <td>CTGAATAATGAGTAAAAGGAGAGAGAGCCGAACGGGAGATAATTCG...</td>\n",
              "      <td>intergenic</td>\n",
              "      <td>[0.0, 1.0, 0.0]</td>\n",
              "    </tr>\n",
              "    <tr>\n",
              "      <th>2</th>\n",
              "      <td>ATCAAAGTGAATTTTGCGTCACGATCGGTGCATCAAGCCGAGGAGT...</td>\n",
              "      <td>intergenic</td>\n",
              "      <td>[0.0, 1.0, 0.0]</td>\n",
              "    </tr>\n",
              "    <tr>\n",
              "      <th>3</th>\n",
              "      <td>TGCAGCCCAAAATTTACTGGATTGATAACCTGCGAGGGATAGCGTG...</td>\n",
              "      <td>gene</td>\n",
              "      <td>[1.0, 0.0, 0.0]</td>\n",
              "    </tr>\n",
              "    <tr>\n",
              "      <th>4</th>\n",
              "      <td>CAGTGCTCAGTCATGAACACTCTGTTTCAGTGAGCAGTTTCCGCAT...</td>\n",
              "      <td>partial</td>\n",
              "      <td>[0.0, 0.0, 1.0]</td>\n",
              "    </tr>\n",
              "    <tr>\n",
              "      <th>...</th>\n",
              "      <td>...</td>\n",
              "      <td>...</td>\n",
              "      <td>...</td>\n",
              "    </tr>\n",
              "    <tr>\n",
              "      <th>235</th>\n",
              "      <td>ACAAGGTGACAATCAATAACAAAATGCGGCGTAAGGTGAAGATAAT...</td>\n",
              "      <td>gene</td>\n",
              "      <td>[1.0, 0.0, 0.0]</td>\n",
              "    </tr>\n",
              "    <tr>\n",
              "      <th>236</th>\n",
              "      <td>CTGGCGGCGATCAATGAAATTAGCGAAAGCGAAGTTCATCGCAGCC...</td>\n",
              "      <td>partial</td>\n",
              "      <td>[0.0, 0.0, 1.0]</td>\n",
              "    </tr>\n",
              "    <tr>\n",
              "      <th>237</th>\n",
              "      <td>CAGGAAAAGGTACCTGGCGAATGTTGCGCAAACTGATGTGGCGTTA...</td>\n",
              "      <td>gene</td>\n",
              "      <td>[1.0, 0.0, 0.0]</td>\n",
              "    </tr>\n",
              "    <tr>\n",
              "      <th>238</th>\n",
              "      <td>AAGCGGAGCCGCTCTTTGTAACAACGGACATTCGTCCTACGTCGCT...</td>\n",
              "      <td>intergenic</td>\n",
              "      <td>[0.0, 1.0, 0.0]</td>\n",
              "    </tr>\n",
              "    <tr>\n",
              "      <th>239</th>\n",
              "      <td>TGGTTATCAGTACAGTGGGTTATGAAAAACGGACTGGATCTGCCAG...</td>\n",
              "      <td>gene</td>\n",
              "      <td>[1.0, 0.0, 0.0]</td>\n",
              "    </tr>\n",
              "  </tbody>\n",
              "</table>\n",
              "<p>240 rows × 3 columns</p>\n",
              "</div>"
            ],
            "text/plain": [
              "                                              sequence  ...     label_onehot\n",
              "0    TGATTCGCTTAGCGCCCTTGATTACCGCCGACGTTGACACCACCAC...  ...  [1.0, 0.0, 0.0]\n",
              "1    CTGAATAATGAGTAAAAGGAGAGAGAGCCGAACGGGAGATAATTCG...  ...  [0.0, 1.0, 0.0]\n",
              "2    ATCAAAGTGAATTTTGCGTCACGATCGGTGCATCAAGCCGAGGAGT...  ...  [0.0, 1.0, 0.0]\n",
              "3    TGCAGCCCAAAATTTACTGGATTGATAACCTGCGAGGGATAGCGTG...  ...  [1.0, 0.0, 0.0]\n",
              "4    CAGTGCTCAGTCATGAACACTCTGTTTCAGTGAGCAGTTTCCGCAT...  ...  [0.0, 0.0, 1.0]\n",
              "..                                                 ...  ...              ...\n",
              "235  ACAAGGTGACAATCAATAACAAAATGCGGCGTAAGGTGAAGATAAT...  ...  [1.0, 0.0, 0.0]\n",
              "236  CTGGCGGCGATCAATGAAATTAGCGAAAGCGAAGTTCATCGCAGCC...  ...  [0.0, 0.0, 1.0]\n",
              "237  CAGGAAAAGGTACCTGGCGAATGTTGCGCAAACTGATGTGGCGTTA...  ...  [1.0, 0.0, 0.0]\n",
              "238  AAGCGGAGCCGCTCTTTGTAACAACGGACATTCGTCCTACGTCGCT...  ...  [0.0, 1.0, 0.0]\n",
              "239  TGGTTATCAGTACAGTGGGTTATGAAAAACGGACTGGATCTGCCAG...  ...  [1.0, 0.0, 0.0]\n",
              "\n",
              "[240 rows x 3 columns]"
            ]
          },
          "metadata": {
            "tags": []
          },
          "execution_count": 15
        }
      ]
    },
    {
      "cell_type": "markdown",
      "metadata": {
        "id": "qZnhk8eFcpOj",
        "colab_type": "text"
      },
      "source": [
        "## 2. Embeddings\n",
        "The next step is to use the whole sequence to compute the embeddings. First, get a set of k-mers, that will be our words for this NLP problem."
      ]
    },
    {
      "cell_type": "code",
      "metadata": {
        "id": "jENWLxW0cpOq",
        "colab_type": "code",
        "colab": {}
      },
      "source": [
        "def window(fseq, window_size, slide = 1):\n",
        "    # create a window of size k\n",
        "    N = len(fseq)\n",
        "    for i in range(0, N - window_size + 1, slide):\n",
        "      if i+window_size+slide < N:\n",
        "        yield fseq[i:i+window_size]\n",
        "\n",
        "\n",
        "def make_context_vector(context, word_to_ix):\n",
        "    idxs = [word_to_ix[w] for w in context]\n",
        "    return torch.tensor(idxs, dtype=torch.long)\n",
        "\n",
        "def get_index_of_max(input):\n",
        "    index = 0\n",
        "    for i in range(1, len(input)):\n",
        "        if input[i] > input[index]:\n",
        "            index = i \n",
        "    return index\n",
        "\n",
        "def get_max_prob_result(input, ix_to_word):\n",
        "    return ix_to_word[get_index_of_max(input)]\n",
        "\n",
        "class CBOW(torch.nn.Module):\n",
        "\n",
        "    def __init__(self, vocab_size, embedding_dim, padding_idx):\n",
        "        super(CBOW, self).__init__()\n",
        "\n",
        "        #out: 1 x emdedding_dim\n",
        "        self.embeddings = nn.Embedding(vocab_size, embedding_dim, \n",
        "                                       padding_idx=padding_idx) #used predefined nn.Embedding\n",
        "        self.linear1 = nn.Linear(embedding_dim, 128)\n",
        "        self.activation_function1 = nn.ReLU()\n",
        "        \n",
        "        #out: 1 x vocab_size\n",
        "        self.linear2 = nn.Linear(128, vocab_size)\n",
        "        self.activation_function2 = nn.LogSoftmax(dim = -1)\n",
        "        \n",
        "\n",
        "    def forward(self, inputs):\n",
        "        embeds = sum(self.embeddings(inputs)).view(1,-1)\n",
        "        out = self.linear1(embeds)\n",
        "        out = self.activation_function1(out)\n",
        "        out = self.linear2(out)\n",
        "        out = self.activation_function2(out)\n",
        "        return out\n",
        "\n",
        "    def get_word_emdedding(self, word):\n",
        "        word = torch.LongTensor([word_to_ix[word]])\n",
        "        return self.embeddings(word).view(1,-1)\n",
        "    \n",
        "k = 3                     # so our words has length 3\n",
        "SLIDE = 1                 # sampling slide\n",
        "CONTEXT_SIZE = 2          # 2 words to the left, 2 to the right\n",
        "EMDEDDING_DIM = 25        # embedding dimension\n",
        "EPOCHS = 10               # number of epochs for training\n",
        "model = None              # CBOW model"
      ],
      "execution_count": 0,
      "outputs": []
    },
    {
      "cell_type": "markdown",
      "metadata": {
        "id": "udqIi0wBcpO3",
        "colab_type": "text"
      },
      "source": [
        "Finally, gather all the kmers and apply the CBOW algorithm."
      ]
    },
    {
      "cell_type": "code",
      "metadata": {
        "id": "nJ24vZP71HFi",
        "colab_type": "code",
        "colab": {}
      },
      "source": [
        "# Since we have the embeddings stored, we are going to ignore the following next\n",
        "# two cells and use this one\n",
        "stored = False\n",
        "\n",
        "if stored:\n",
        "  with open(\"wti.p\", \"rb\") as f:\n",
        "    word_to_ix = pickle.load(f)\n",
        "  ix_to_word = {v: k for k,v in word_to_ix.items()}\n",
        "  model_save_name = 'ma_model.pt'\n",
        "  path = model_save_name\n",
        "  #path = F\"/content/drive/My Drive/{model_save_name}\" \n",
        "  model = CBOW(len(word_to_ix), EMDEDDING_DIM, padding_idx=word_to_ix[\"X\"]).cpu()\n",
        "  model.load_state_dict(torch.load(path, map_location=torch.device('cpu')))"
      ],
      "execution_count": 0,
      "outputs": []
    },
    {
      "cell_type": "code",
      "metadata": {
        "id": "Qi4eQ1K6cpPB",
        "colab_type": "code",
        "outputId": "af4d5f5e-9902-4f42-eab5-8694984a401b",
        "colab": {
          "base_uri": "https://localhost:8080/",
          "height": 52
        }
      },
      "source": [
        "# kmer in all of the 1/4 sequences of the dataset\n",
        "kmers = [ kmer for kmer in window(\"\".join([seq for seq in df_train.loc[:,\"sequence\"]]), k, SLIDE) ]  \n",
        "vocab_size = len(kmers)\n",
        "\n",
        "data = []\n",
        "print(\"Filling context data...\")\n",
        "pbar = tqdm(total=vocab_size - 4-1) # just to output something in screen\n",
        "for i in range(2, vocab_size - 2): # first word to have 2 words before is the \"third\" one (0,1,2)\n",
        "    context = (kmers[i - 2], kmers[i - 1],\n",
        "               kmers[i + 1], kmers[i + 2])\n",
        "    target = kmers[i]\n",
        "    data.append((context, target))\n",
        "    pbar.update(1)\n",
        "\n",
        "word_to_ix, ix_to_word = {},{}\n",
        "for i, word in enumerate(set(kmers)):\n",
        "    word_to_ix[word] = i\n",
        "    ix_to_word[i] = word\n",
        "\n",
        "ix = len(ix_to_word)\n",
        "ix_to_word[ix] = \"X\"  # our padding character\n",
        "word_to_ix[\"X\"] = ix\n",
        "\n",
        "with open(\"/content/drive/My Drive/wti.p\", \"wb\") as f:\n",
        "  pickle.dump(word_to_ix, f)\n",
        "\n",
        "with open(\"/content/drive/My Drive/itw.p\", \"wb\") as f:\n",
        "  pickle.dump(ix_to_word, f)"
      ],
      "execution_count": 18,
      "outputs": [
        {
          "output_type": "stream",
          "text": [
            "\n",
            "  0%|          | 0/11991 [00:00<?, ?it/s]\u001b[A"
          ],
          "name": "stderr"
        },
        {
          "output_type": "stream",
          "text": [
            "Filling context data...\n"
          ],
          "name": "stdout"
        }
      ]
    },
    {
      "cell_type": "code",
      "metadata": {
        "id": "JnBZPKyEcpPQ",
        "colab_type": "code",
        "outputId": "761a34ab-01c0-46b8-c805-864c2b26c666",
        "colab": {
          "base_uri": "https://localhost:8080/",
          "height": 746
        }
      },
      "source": [
        "import sys\n",
        "from time import time \n",
        "model = CBOW(len(word_to_ix), EMDEDDING_DIM, padding_idx=word_to_ix[\"X\"])\n",
        "\n",
        "loss_function = nn.NLLLoss()\n",
        "optimizer = torch.optim.SGD(model.parameters(), lr=0.001)\n",
        "print(\"Training embeddings...\")\n",
        "\n",
        "model_save_name = 'ma_model.pt'\n",
        "path = F\"/content/drive/My Drive/{model_save_name}\" \n",
        "\n",
        "start = time()\n",
        "tot = len(data)\n",
        "print()\n",
        "for epoch in range(EPOCHS):\n",
        "  start = time()\n",
        "  total_loss = 0\n",
        "  i = 1\n",
        "  for context, target in data:\n",
        "    if not i%100:\n",
        "      sys.stdout.write(f\"\\r{i}/{tot} in {round(time()-start,2)}s        \")\n",
        "      sys.stdout.flush()\n",
        "    context_vector = make_context_vector(context, word_to_ix)  \n",
        "    model.zero_grad()\n",
        "    log_probs = model(context_vector)\n",
        "    loss = loss_function(log_probs, torch.tensor([word_to_ix[target]], dtype=torch.long))\n",
        "    loss.backward()\n",
        "    optimizer.step()\n",
        "    total_loss += loss.data\n",
        "    i+=1\n",
        "  torch.save(model.state_dict(), path)\n",
        "  print(f\"\\nEpoch {epoch+1}/{EPOCHS} in {time()-start}\\n\\n\")"
      ],
      "execution_count": 19,
      "outputs": [
        {
          "output_type": "stream",
          "text": [
            "Training embeddings...\n",
            "\n",
            "11900/11992 in 9.2s        \n",
            "Epoch 1/10 in 9.63705039024353\n",
            "\n",
            "\n",
            "11900/11992 in 9.18s        \n",
            "Epoch 2/10 in 9.253341913223267\n",
            "\n",
            "\n",
            "11900/11992 in 9.35s        \n",
            "Epoch 3/10 in 9.434730768203735\n",
            "\n",
            "\n",
            "11900/11992 in 10.11s        \n",
            "Epoch 4/10 in 10.195592880249023\n",
            "\n",
            "\n",
            "11900/11992 in 9.62s        \n",
            "Epoch 5/10 in 9.700698852539062\n",
            "\n",
            "\n",
            "11900/11992 in 9.39s        \n",
            "Epoch 6/10 in 9.466909170150757\n",
            "\n",
            "\n",
            "11900/11992 in 9.18s        \n",
            "Epoch 7/10 in 9.255321502685547\n",
            "\n",
            "\n",
            "11900/11992 in 9.21s        \n",
            "Epoch 8/10 in 9.288195610046387\n",
            "\n",
            "\n",
            "11900/11992 in 9.28s        \n",
            "Epoch 9/10 in 9.357722282409668\n",
            "\n",
            "\n",
            "11900/11992 in 9.24s        \n",
            "Epoch 10/10 in 9.322306394577026\n",
            "\n",
            "\n"
          ],
          "name": "stdout"
        }
      ]
    },
    {
      "cell_type": "markdown",
      "metadata": {
        "id": "JJKW2iVSlmGQ",
        "colab_type": "text"
      },
      "source": [
        "## 4. Vanilla RNN model"
      ]
    },
    {
      "cell_type": "code",
      "metadata": {
        "id": "GniwYJ6mlswA",
        "colab_type": "code",
        "colab": {}
      },
      "source": [
        "from torch.autograd import Variable\n",
        "\n",
        "class RNN(nn.Module):\n",
        "    def __init__(self, input_dim, embedding_dim, hidden_dim, hidden_out, output_dim,\n",
        "                 padding_idx, t):\n",
        "\n",
        "        super().__init__()\n",
        "        self.nb_tags = output_dim\n",
        "\n",
        "        self.embedding = nn.Embedding(input_dim, embedding_dim, padding_idx=padding_idx)\n",
        "        \n",
        "        self.rnn = nn.LSTM(embedding_dim, hidden_dim)\n",
        "        \n",
        "        self.max_seq_length = max_seq_length\n",
        "        self.lhid = nn.Linear(1564, hidden_out)\n",
        "        # self.lhid = nn.Linear(hidden_dim*t, hidden_out)\n",
        "\n",
        "        self.fc = nn.Linear(hidden_out, output_dim)\n",
        "\n",
        "\n",
        "    def forward(self, text):\n",
        "\n",
        "        #text = [sent len, batch size]\n",
        "        # 1. embedding\n",
        "        embedded = self.embedding(text)\n",
        "\n",
        "        #embedded = [sent len, batch size, emb dim]\n",
        "        output, (hidden, lt) = self.rnn(embedded)\n",
        "\n",
        "        # 3. get that so it's correctly packed for the hidden layer\n",
        "        output = output.contiguous()\n",
        "        output = output.reshape(output.shape[0], -1)\n",
        "\n",
        "        output = nn.functional.relu(self.lhid(output))\n",
        "        #print('after linear layer')\n",
        "        #print(output.size())\n",
        "\n",
        "        # 4. classification\n",
        "        output = self.fc(output)\n",
        "        #print(output.size())\n",
        "        output = nn.functional.log_softmax(output, dim=1)\n",
        "        #print(output.size())\n",
        "        # output = output.view(text.size()[0], -1)\n",
        "        return output"
      ],
      "execution_count": 0,
      "outputs": []
    },
    {
      "cell_type": "markdown",
      "metadata": {
        "id": "Hqnu9WvB8uvw",
        "colab_type": "text"
      },
      "source": [
        "## 4. Tweak the embeddings to accomodate varying sizes of the sequences\n",
        "Once we have the model and the embeddings, we would need to tweak the embeddings so that they are adjusted for the padded sequences.\n",
        "\n",
        "### 4.1. Add the padding char to the embeddings"
      ]
    },
    {
      "cell_type": "markdown",
      "metadata": {
        "id": "T2KEUxaSAuAh",
        "colab_type": "text"
      },
      "source": [
        "Now, get sequences as indexes."
      ]
    },
    {
      "cell_type": "code",
      "metadata": {
        "id": "F3fPAtenAtX5",
        "colab_type": "code",
        "colab": {}
      },
      "source": [
        "def to_ix(kmer, word_to_ix):\n",
        "  if \"X\" in kmer:\n",
        "    return word_to_ix[\"X\"]\n",
        "  elif kmer in word_to_ix:\n",
        "    return word_to_ix[kmer]\n",
        "  else:\n",
        "    return len(word_to_ix)\n",
        "\n",
        "def wind_idx(seq):\n",
        "  return [to_ix(kmer, word_to_ix)  for kmer in window(seq, k, SLIDE)]\n",
        "\n",
        "df_train[\"seq_idx\"] = df_train[\"sequence\"].apply(wind_idx)\n",
        "df_test[\"seq_idx\"] = df_test[\"sequence\"].apply(wind_idx)"
      ],
      "execution_count": 0,
      "outputs": []
    },
    {
      "cell_type": "code",
      "metadata": {
        "id": "S5UeEYm8E1dI",
        "colab_type": "code",
        "outputId": "8bddfdb2-c488-419c-f491-858273ebb3e1",
        "colab": {
          "base_uri": "https://localhost:8080/",
          "height": 34
        }
      },
      "source": [
        "np.unique(df_train[\"seq_idx\"].apply(lambda x: len(x)))"
      ],
      "execution_count": 43,
      "outputs": [
        {
          "output_type": "execute_result",
          "data": {
            "text/plain": [
              "46"
            ]
          },
          "metadata": {
            "tags": []
          },
          "execution_count": 43
        }
      ]
    },
    {
      "cell_type": "markdown",
      "metadata": {
        "id": "L9U_zq-5FIbp",
        "colab_type": "text"
      },
      "source": [
        "Finally, instantiante the model and initialize the weigths of the embeddings."
      ]
    },
    {
      "cell_type": "code",
      "metadata": {
        "id": "7dJjn7v2lVBv",
        "colab_type": "code",
        "outputId": "b5a5f60e-c7c1-42d2-f878-e5a902d6a84c",
        "colab": {
          "base_uri": "https://localhost:8080/",
          "height": 34
        }
      },
      "source": [
        "print(word_to_ix[\"X\"])"
      ],
      "execution_count": 40,
      "outputs": [
        {
          "output_type": "stream",
          "text": [
            "64\n"
          ],
          "name": "stdout"
        }
      ]
    },
    {
      "cell_type": "code",
      "metadata": {
        "id": "go5mnL9uFJQu",
        "colab_type": "code",
        "colab": {}
      },
      "source": [
        "t = len(df_train.iloc[0,0]) # Find length of seqs (fixed)\n",
        "\n",
        "rnn = RNN(input_dim=len(word_to_ix), embedding_dim=EMDEDDING_DIM,\n",
        "          hidden_dim = 34, hidden_out = 90, output_dim=3, \n",
        "          padding_idx = word_to_ix[\"X\"], t = len(df_train.iloc[0,0]))"
      ],
      "execution_count": 0,
      "outputs": []
    },
    {
      "cell_type": "code",
      "metadata": {
        "id": "YZmhbQWkpTuq",
        "colab_type": "code",
        "outputId": "86d0c03e-0057-4dae-867b-022e035bf9cd",
        "colab": {
          "base_uri": "https://localhost:8080/",
          "height": 156
        }
      },
      "source": [
        "rnn.embedding.weight.data.copy_(model.embeddings.weight)"
      ],
      "execution_count": 63,
      "outputs": [
        {
          "output_type": "execute_result",
          "data": {
            "text/plain": [
              "tensor([[-2.0958, -0.0827,  0.0517,  ..., -0.6931, -1.0605, -0.0412],\n",
              "        [ 0.6832, -0.4075,  1.6770,  ...,  0.8553, -1.6916, -0.3104],\n",
              "        [-0.0936, -0.8667,  2.1091,  ...,  0.0122,  1.6149, -0.0303],\n",
              "        ...,\n",
              "        [ 0.3009, -0.5067, -1.0054,  ..., -0.0231,  0.8620,  0.1041],\n",
              "        [-0.8633, -0.5608, -0.2426,  ..., -0.2470,  0.7122, -0.0293],\n",
              "        [ 0.0000,  0.0000,  0.0000,  ...,  0.0000,  0.0000,  0.0000]],\n",
              "       grad_fn=<CopyBackwards>)"
            ]
          },
          "metadata": {
            "tags": []
          },
          "execution_count": 63
        }
      ]
    },
    {
      "cell_type": "markdown",
      "metadata": {
        "id": "yrH8hOnvmWE1",
        "colab_type": "text"
      },
      "source": [
        "## 5. Training loop\n"
      ]
    },
    {
      "cell_type": "markdown",
      "metadata": {
        "id": "KQ3hnv3Onw--",
        "colab_type": "text"
      },
      "source": [
        "All that is left is to split our training and testing and train the model."
      ]
    },
    {
      "cell_type": "code",
      "metadata": {
        "id": "jjL8fY-LCftw",
        "colab_type": "code",
        "colab": {}
      },
      "source": [
        "from torch.utils.data import DataLoader, Dataset\n",
        "\n",
        "class oversampdata(Dataset):\n",
        "  def __init__(self, data):\n",
        "    # first column is list of index sentence\n",
        "    self.data = torch.LongTensor(data.iloc[:,0])\n",
        "    # second column is the label\n",
        "    self.targets = torch.LongTensor(data.iloc[:,1])\n",
        "\n",
        "  def __len__(self):\n",
        "    return len(self.data)\n",
        "\n",
        "  def __getitem__(self, index):\n",
        "    data_val = self.data[index]\n",
        "    target = self.targets[index]\n",
        "    return data_val, target\n",
        "\n",
        "train_dataset = oversampdata(df_train.loc[:,[\"seq_idx\", \"label_onehot\"]])\n",
        "valid_dataset = oversampdata(df_test.loc[:,[\"seq_idx\", \"label_onehot\"]])"
      ],
      "execution_count": 0,
      "outputs": []
    },
    {
      "cell_type": "code",
      "metadata": {
        "id": "IenV-ndMvJVW",
        "colab_type": "code",
        "colab": {}
      },
      "source": [
        "BATCH_SIZE = 32\n",
        "\n",
        "trainloader = torch.utils.data.DataLoader(train_dataset, batch_size=BATCH_SIZE, \n",
        "                                          shuffle=True)\n",
        "testloader = torch.utils.data.DataLoader(valid_dataset, batch_size=BATCH_SIZE, \n",
        "                                         shuffle=False)"
      ],
      "execution_count": 0,
      "outputs": []
    },
    {
      "cell_type": "code",
      "metadata": {
        "id": "fMKJKbYoBZQD",
        "colab_type": "code",
        "colab": {}
      },
      "source": [
        "def binary_accuracy(preds, y):\n",
        "   \"\"\"\n",
        "   Returns accuracy per batch, i.e. if you get 8/10 right, this returns 0.8, NOT 8\n",
        "   \"\"\"\n",
        "   #round predictions to the closest integer\n",
        "   rounded_preds = torch.round(torch.sigmoid(preds))\n",
        "   correct = (rounded_preds == y).float() #convert into float for division\n",
        "   acc = correct.sum() / len(correct)\n",
        "   return acc"
      ],
      "execution_count": 0,
      "outputs": []
    },
    {
      "cell_type": "code",
      "metadata": {
        "id": "CUPgdWw0maX7",
        "colab_type": "code",
        "colab": {}
      },
      "source": [
        "import sys\n",
        "\n",
        "def train(model, iterator, optimizer, criterion):\n",
        "    \n",
        "    epoch_loss = 0\n",
        "    epoch_acc = 0\n",
        "    \n",
        "    model.train()\n",
        "    print(\"Training...\")\n",
        "\n",
        "    for i, batch in enumerate(iterator):\n",
        "        if i%50:\n",
        "          sys.stdout.write(f\"\\rIteration {i}        \")\n",
        "          sys.stdout.flush()\n",
        "\n",
        "        inputs, labels_onehot = batch\n",
        "\n",
        "        optimizer.zero_grad()\n",
        "                \n",
        "        predictions = model(inputs)\n",
        "        \n",
        "        labels_idx = torch.LongTensor([np.where(label==1)[0][0] for label in labels_onehot])\n",
        "\n",
        "\n",
        "        loss = criterion(predictions, labels_idx)\n",
        "        \n",
        "        acc = binary_accuracy(predictions, labels_onehot)\n",
        "        \n",
        "        loss.backward()\n",
        "        \n",
        "        optimizer.step()\n",
        "        \n",
        "        print(loss.item())\n",
        "        epoch_loss += loss.item()\n",
        "        epoch_acc += acc.item()\n",
        "        \n",
        "    print()\n",
        "    return epoch_loss / len(iterator), epoch_acc / len(iterator)\n",
        "\n",
        "\n",
        "\n",
        "def evaluate(model, iterator, criterion):\n",
        "    epoch_loss = 0\n",
        "    epoch_acc = 0\n",
        "    \n",
        "    model.eval()\n",
        "    print(\"Evaluating...\")\n",
        "    with torch.no_grad():\n",
        "    \n",
        "        for i, batch in enumerate(iterator):\n",
        "\n",
        "            inputs, labels_onehot = batch\n",
        "            predictions = model(inputs)\n",
        "            labels_idx = torch.LongTensor([np.where(label==1)[0][0] for label in labels_onehot])\n",
        "\n",
        "            loss = criterion(predictions, labels_idx)\n",
        "            acc = binary_accuracy(predictions, labels_onehot)\n",
        "\n",
        "            epoch_loss += loss.item()\n",
        "            epoch_acc += acc.item()\n",
        "    return epoch_loss / len(iterator), epoch_acc / len(iterator)\n",
        "\n",
        "optimizer = torch.optim.SGD(model.parameters(), lr=1e-2)\n",
        "#criterion = nn.BCEWithLogitsLoss()\n",
        "criterion = nn.CrossEntropyLoss()"
      ],
      "execution_count": 0,
      "outputs": []
    },
    {
      "cell_type": "code",
      "metadata": {
        "id": "OnXryGW6FmYD",
        "colab_type": "code",
        "outputId": "e9677296-47aa-446c-aeac-69e2831365d4",
        "colab": {
          "base_uri": "https://localhost:8080/",
          "height": 34
        }
      },
      "source": [
        "len(train_dataset)"
      ],
      "execution_count": 55,
      "outputs": [
        {
          "output_type": "execute_result",
          "data": {
            "text/plain": [
              "240"
            ]
          },
          "metadata": {
            "tags": []
          },
          "execution_count": 55
        }
      ]
    },
    {
      "cell_type": "code",
      "metadata": {
        "id": "KLhfluLNmn5C",
        "colab_type": "code",
        "outputId": "ff547406-eb77-4913-a796-d8c20ca28b0b",
        "colab": {
          "base_uri": "https://localhost:8080/",
          "height": 1000
        }
      },
      "source": [
        "%%time\n",
        "N_EPOCHS = 5\n",
        "model_save_name=\"ma_rnn.pt\"\n",
        "path = F\"/content/drive/My Drive/{model_save_name}\"\n",
        "\n",
        "best_valid_loss = float('inf')\n",
        "\n",
        "for epoch in range(N_EPOCHS):\n",
        "    print(\"Epoch: \" + str(epoch))\n",
        "    train_loss, train_acc = train(rnn, trainloader, optimizer, criterion)\n",
        "    valid_loss, valid_acc = evaluate(rnn, testloader, criterion)\n",
        "\n",
        "    #train_loss  = train(rnn, trainloader, optimizer, criterion)\n",
        "    #valid_loss  = evaluate(rnn, testloader, criterion)    \n",
        "    \n",
        "    if valid_loss < best_valid_loss:\n",
        "        best_valid_loss = valid_loss\n",
        "        torch.save(rnn.state_dict(), path)\n",
        "    \n",
        "    print(f'\\tTrain Loss: {train_loss:.3f} | Train Acc: {train_acc*100:.2f}%')\n",
        "    print(f'\\t Val. Loss: {valid_loss:.3f} |  Val. Acc: {valid_acc*100:.2f}%')\n",
        "    \n",
        "    #print(f'\\tTrain Loss: {train_loss:.3f}')\n",
        "    #print(f'\\t Val. Loss: {valid_loss:.3f}')"
      ],
      "execution_count": 68,
      "outputs": [
        {
          "output_type": "stream",
          "text": [
            "Epoch: 0\n",
            "Training...\n",
            "1.1022065877914429\n",
            "Iteration 1        1.0999407768249512\n",
            "Iteration 2        1.1181011199951172\n",
            "Iteration 3        1.1063838005065918\n",
            "Iteration 4        1.0966620445251465\n",
            "Iteration 5        1.1065168380737305\n",
            "Iteration 6        1.077891230583191\n",
            "Iteration 7        1.0856735706329346\n",
            "\n",
            "Evaluating...\n",
            "\tTrain Loss: 1.099 | Train Acc: 200.00%\n",
            "\t Val. Loss: 1.102 |  Val. Acc: 200.00%\n",
            "Epoch: 1\n",
            "Training...\n",
            "1.1048164367675781\n",
            "Iteration 1        1.1120909452438354\n",
            "Iteration 2        1.1098743677139282\n",
            "Iteration 3        1.0967321395874023\n",
            "Iteration 4        1.0782041549682617\n",
            "Iteration 5        1.0898891687393188\n",
            "Iteration 6        1.1022045612335205\n",
            "Iteration 7        1.0886417627334595\n",
            "\n",
            "Evaluating...\n",
            "\tTrain Loss: 1.098 | Train Acc: 200.00%\n",
            "\t Val. Loss: 1.102 |  Val. Acc: 200.00%\n",
            "Epoch: 2\n",
            "Training...\n",
            "1.087902545928955\n",
            "Iteration 1        1.1117578744888306\n",
            "Iteration 2        1.09014093875885\n",
            "Iteration 3        1.0935827493667603\n",
            "Iteration 4        1.1173139810562134\n",
            "Iteration 5        1.1037187576293945\n",
            "Iteration 6        1.1046710014343262\n",
            "Iteration 7        1.0772240161895752\n",
            "\n",
            "Evaluating...\n",
            "\tTrain Loss: 1.098 | Train Acc: 200.00%\n",
            "\t Val. Loss: 1.102 |  Val. Acc: 200.00%\n",
            "Epoch: 3\n",
            "Training...\n",
            "1.1004122495651245\n",
            "Iteration 1        1.0942105054855347\n",
            "Iteration 2        1.0912611484527588\n",
            "Iteration 3        1.1035678386688232\n",
            "Iteration 4        1.1221849918365479\n",
            "Iteration 5        1.1022388935089111\n",
            "Iteration 6        1.0866355895996094\n",
            "Iteration 7        1.109971046447754\n",
            "\n",
            "Evaluating...\n",
            "\tTrain Loss: 1.101 | Train Acc: 200.00%\n",
            "\t Val. Loss: 1.102 |  Val. Acc: 200.00%\n",
            "Epoch: 4\n",
            "Training...\n",
            "1.104164958000183\n",
            "Iteration 1        1.1002912521362305\n",
            "Iteration 2        1.098073124885559\n",
            "Iteration 3        1.1151703596115112\n",
            "Iteration 4        1.1031196117401123\n",
            "Iteration 5        1.092247486114502\n",
            "Iteration 6        1.095144510269165\n",
            "Iteration 7        1.0882556438446045\n",
            "\n",
            "Evaluating...\n",
            "\tTrain Loss: 1.100 | Train Acc: 200.00%\n",
            "\t Val. Loss: 1.102 |  Val. Acc: 200.00%\n",
            "CPU times: user 9min 45s, sys: 1.6 s, total: 9min 47s\n",
            "Wall time: 28.5 s\n"
          ],
          "name": "stdout"
        }
      ]
    }
  ]
}