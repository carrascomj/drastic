{
  "nbformat": 4,
  "nbformat_minor": 0,
  "metadata": {
    "kernelspec": {
      "name": "python3",
      "display_name": "Python 3"
    },
    "language_info": {
      "codemirror_mode": {
        "name": "ipython",
        "version": 3
      },
      "file_extension": ".py",
      "mimetype": "text/x-python",
      "name": "python",
      "nbconvert_exporter": "python",
      "pygments_lexer": "ipython3",
      "version": "3.6.8"
    },
    "colab": {
      "name": "vanilla_RNN.ipynb",
      "provenance": [],
      "collapsed_sections": [],
      "toc_visible": true,
      "machine_shape": "hm"
    },
    "accelerator": "TPU"
  },
  "cells": [
    {
      "cell_type": "markdown",
      "metadata": {
        "id": "41fhhqz9cpMY",
        "colab_type": "text"
      },
      "source": [
        "# Vanilla LSTM for Gene/No gene classification\n",
        "The Milestone 1 corresponds to the classication task of, given a sequence, predict if it contains a gene, a partial sequence of a gene or just intergenic code."
      ]
    },
    {
      "cell_type": "code",
      "metadata": {
        "id": "h-c6UAlXecMe",
        "colab_type": "code",
        "outputId": "3c6cb168-7786-4458-813b-831656de2487",
        "colab": {
          "base_uri": "https://localhost:8080/",
          "height": 34
        }
      },
      "source": [
        "!pip3 install pyfastx"
      ],
      "execution_count": 1,
      "outputs": [
        {
          "output_type": "stream",
          "text": [
            "Requirement already satisfied: pyfastx in /usr/local/lib/python3.6/dist-packages (0.5.9)\n"
          ],
          "name": "stdout"
        }
      ]
    },
    {
      "cell_type": "code",
      "metadata": {
        "id": "qRzQiKX0cpMv",
        "colab_type": "code",
        "colab": {}
      },
      "source": [
        "import numpy as np\n",
        "import pickle\n",
        "import torch\n",
        "import torch.nn as nn\n",
        "import pandas as pd\n",
        "\n",
        "from tqdm import tqdm # progress bar\n",
        "from preproc_pipeline import window_pipeline\n",
        "from warnings import simplefilter"
      ],
      "execution_count": 0,
      "outputs": []
    },
    {
      "cell_type": "code",
      "metadata": {
        "id": "vBh07oIKIT7G",
        "colab_type": "code",
        "colab": {}
      },
      "source": [
        "# from google.colab import drive\n",
        "# drive.mount('/content/drive')"
      ],
      "execution_count": 0,
      "outputs": []
    },
    {
      "cell_type": "markdown",
      "metadata": {
        "id": "pj7ghCdFcpNN",
        "colab_type": "text"
      },
      "source": [
        "## 1. Dataset for training\n",
        "The genome of E. coli will be used for this purpose."
      ]
    },
    {
      "cell_type": "code",
      "metadata": {
        "id": "xlomqEr_cpNV",
        "colab_type": "code",
        "colab": {}
      },
      "source": [
        "simplefilter(\"ignore\")\n",
        "genome = \"GCF_000008865.2_ASM886v2_genomic.fna\"\n",
        "feature_table = \"GCA_000008865.2_ASM886v2_feature_table.tsv\"\n",
        "df = window_pipeline(genome, feature_table)"
      ],
      "execution_count": 0,
      "outputs": []
    },
    {
      "cell_type": "code",
      "metadata": {
        "id": "mMNHc3Xb6uA_",
        "colab_type": "code",
        "outputId": "03ae0972-4a8e-4e45-fc07-47a597602846",
        "colab": {
          "base_uri": "https://localhost:8080/",
          "height": 52
        }
      },
      "source": [
        "print(df.sequence.apply(lambda x: len(x)).max())\n",
        "len(df)"
      ],
      "execution_count": 5,
      "outputs": [
        {
          "output_type": "stream",
          "text": [
            "50\n"
          ],
          "name": "stdout"
        },
        {
          "output_type": "execute_result",
          "data": {
            "text/plain": [
              "36522"
            ]
          },
          "metadata": {
            "tags": []
          },
          "execution_count": 5
        }
      ]
    },
    {
      "cell_type": "markdown",
      "metadata": {
        "id": "8imkCBLk_yit",
        "colab_type": "text"
      },
      "source": [
        ""
      ]
    },
    {
      "cell_type": "code",
      "metadata": {
        "id": "7yI_vjULcpNr",
        "colab_type": "code",
        "outputId": "d8a7189b-4d1c-434a-b6c5-68ef8dfe102e",
        "colab": {
          "base_uri": "https://localhost:8080/",
          "height": 52
        }
      },
      "source": [
        "print(\n",
        "    f\"columns -> {list(df.columns)}\\n\"\n",
        "    f\"labels in dataframe -> {list(df.label.unique())}\"\n",
        ")"
      ],
      "execution_count": 6,
      "outputs": [
        {
          "output_type": "stream",
          "text": [
            "columns -> ['sequence', 'label']\n",
            "labels in dataframe -> ['gene', 'intergenic', 'partial']\n"
          ],
          "name": "stdout"
        }
      ]
    },
    {
      "cell_type": "markdown",
      "metadata": {
        "id": "QWshzjeHcpN-",
        "colab_type": "text"
      },
      "source": [
        "Let's get a one hot mapping for the labels."
      ]
    },
    {
      "cell_type": "code",
      "metadata": {
        "id": "F3fD5a7LcpOD",
        "colab_type": "code",
        "outputId": "b6f572ef-4706-43cc-b760-73a2f43acd7d",
        "colab": {
          "base_uri": "https://localhost:8080/",
          "height": 52
        }
      },
      "source": [
        "labels = list(df.label.unique())\n",
        "lab0 = np.zeros(len(labels))\n",
        "lab2vec = {}\n",
        "vec2lab = {}\n",
        "for i, label in enumerate(list(df.label.unique())):\n",
        "    labv = lab0.copy()\n",
        "    labv[i] = 1\n",
        "    lab2vec[label] = labv\n",
        "    vec2lab[tuple(labv)] = label\n",
        "\n",
        "print(f\"lab2vec -> {lab2vec}\\nvec2lab -> {vec2lab}\")"
      ],
      "execution_count": 7,
      "outputs": [
        {
          "output_type": "stream",
          "text": [
            "lab2vec -> {'gene': array([1., 0., 0.]), 'intergenic': array([0., 1., 0.]), 'partial': array([0., 0., 1.])}\n",
            "vec2lab -> {(1.0, 0.0, 0.0): 'gene', (0.0, 1.0, 0.0): 'intergenic', (0.0, 0.0, 1.0): 'partial'}\n"
          ],
          "name": "stdout"
        }
      ]
    },
    {
      "cell_type": "code",
      "metadata": {
        "id": "QzAINOOA9ge1",
        "colab_type": "code",
        "outputId": "e594fb03-4a1c-452c-9ab9-d6c022d2684e",
        "colab": {
          "base_uri": "https://localhost:8080/",
          "height": 69
        }
      },
      "source": [
        "print(df[df.sequence.apply(lambda x: len(x)==0)].count())\n",
        "df = df[~df.sequence.apply(lambda x: len(x)==0)]"
      ],
      "execution_count": 8,
      "outputs": [
        {
          "output_type": "stream",
          "text": [
            "sequence    0\n",
            "label       0\n",
            "dtype: int64\n"
          ],
          "name": "stdout"
        }
      ]
    },
    {
      "cell_type": "markdown",
      "metadata": {
        "id": "KNxgBpL9QxZj",
        "colab_type": "text"
      },
      "source": [
        "Need to check why it always generate a 0 length row. I think is the last one, but I am not sure."
      ]
    },
    {
      "cell_type": "code",
      "metadata": {
        "id": "XTcHbHV8cpOT",
        "colab_type": "code",
        "outputId": "ed7d6b93-24d7-432d-d4e0-13a95e8f9c9c",
        "colab": {
          "base_uri": "https://localhost:8080/",
          "height": 424
        }
      },
      "source": [
        "df[\"label_onehot\"] = df.label.apply(lambda x: lab2vec[x])\n",
        "toy = pd.concat([df[df.label==\"gene\"].sample(n=1000),\n",
        "                df[df.label==\"intergenic\"].sample(n=1000)])\n",
        "                # df[df.label==\"partial\"].sample(n=100)]).reset_index(drop=True)\n",
        "toy[\"label_onehot\"] = toy.label_onehot.apply(lambda x: x[0:2])\n",
        "df_train = toy.sample(frac=8/10) # shuffle\n",
        "#df_test = df[~df.index.isin(df_train.index)].dropna().reset_index(drop=True)\n",
        "df_test = toy[~toy.sequence.isin(df_train.sequence)].reset_index(drop=True)\n",
        "df_train = df_train.reset_index(drop=True)\n",
        "df_train"
      ],
      "execution_count": 9,
      "outputs": [
        {
          "output_type": "execute_result",
          "data": {
            "text/html": [
              "<div>\n",
              "<style scoped>\n",
              "    .dataframe tbody tr th:only-of-type {\n",
              "        vertical-align: middle;\n",
              "    }\n",
              "\n",
              "    .dataframe tbody tr th {\n",
              "        vertical-align: top;\n",
              "    }\n",
              "\n",
              "    .dataframe thead th {\n",
              "        text-align: right;\n",
              "    }\n",
              "</style>\n",
              "<table border=\"1\" class=\"dataframe\">\n",
              "  <thead>\n",
              "    <tr style=\"text-align: right;\">\n",
              "      <th></th>\n",
              "      <th>sequence</th>\n",
              "      <th>label</th>\n",
              "      <th>label_onehot</th>\n",
              "    </tr>\n",
              "  </thead>\n",
              "  <tbody>\n",
              "    <tr>\n",
              "      <th>0</th>\n",
              "      <td>TAGTCAGAGTTTCTTGCTAACCAGCGACGCGCGCCAGATTCGGTTT...</td>\n",
              "      <td>gene</td>\n",
              "      <td>[1.0, 0.0]</td>\n",
              "    </tr>\n",
              "    <tr>\n",
              "      <th>1</th>\n",
              "      <td>TCATTGCCGTCACTGAAAGTGCTGCCGCCAGCAGCATTTTGCGCAT...</td>\n",
              "      <td>gene</td>\n",
              "      <td>[1.0, 0.0]</td>\n",
              "    </tr>\n",
              "    <tr>\n",
              "      <th>2</th>\n",
              "      <td>TGCGAATATTTGTCTACGGCAGTTTACGCCACAAACAAGGCAACAG...</td>\n",
              "      <td>gene</td>\n",
              "      <td>[1.0, 0.0]</td>\n",
              "    </tr>\n",
              "    <tr>\n",
              "      <th>3</th>\n",
              "      <td>AGACTATCTGAAAGTGTCCCATGTATGCCCCATAAGAAAGCAGGGT...</td>\n",
              "      <td>intergenic</td>\n",
              "      <td>[0.0, 1.0]</td>\n",
              "    </tr>\n",
              "    <tr>\n",
              "      <th>4</th>\n",
              "      <td>AGATGGTTGGATTATTGCTGTTAGTGAAGCTGACTTTATTATTCAT...</td>\n",
              "      <td>gene</td>\n",
              "      <td>[1.0, 0.0]</td>\n",
              "    </tr>\n",
              "    <tr>\n",
              "      <th>...</th>\n",
              "      <td>...</td>\n",
              "      <td>...</td>\n",
              "      <td>...</td>\n",
              "    </tr>\n",
              "    <tr>\n",
              "      <th>1595</th>\n",
              "      <td>CGCTAATCACTTCGCCAACGGCGATGCTGCTGGCATCTTTGCCTAA...</td>\n",
              "      <td>gene</td>\n",
              "      <td>[1.0, 0.0]</td>\n",
              "    </tr>\n",
              "    <tr>\n",
              "      <th>1596</th>\n",
              "      <td>TGTTATCCGCCAGTGTGAGCAAACCGCATTTTTCAGCAAAATATTC...</td>\n",
              "      <td>intergenic</td>\n",
              "      <td>[0.0, 1.0]</td>\n",
              "    </tr>\n",
              "    <tr>\n",
              "      <th>1597</th>\n",
              "      <td>TATTGAATGATGCCGCAGGCCATTCTCGCACCACCACCGCCCAGGG...</td>\n",
              "      <td>gene</td>\n",
              "      <td>[1.0, 0.0]</td>\n",
              "    </tr>\n",
              "    <tr>\n",
              "      <th>1598</th>\n",
              "      <td>GAATGGTTTGCAGCTCATTTACTGCTTCATCAACGAAAATTTTATC...</td>\n",
              "      <td>gene</td>\n",
              "      <td>[1.0, 0.0]</td>\n",
              "    </tr>\n",
              "    <tr>\n",
              "      <th>1599</th>\n",
              "      <td>GCATATAGATATGCTAAATCCTTACTTCCGCATATTCTCTGAGCGG...</td>\n",
              "      <td>intergenic</td>\n",
              "      <td>[0.0, 1.0]</td>\n",
              "    </tr>\n",
              "  </tbody>\n",
              "</table>\n",
              "<p>1600 rows × 3 columns</p>\n",
              "</div>"
            ],
            "text/plain": [
              "                                               sequence  ... label_onehot\n",
              "0     TAGTCAGAGTTTCTTGCTAACCAGCGACGCGCGCCAGATTCGGTTT...  ...   [1.0, 0.0]\n",
              "1     TCATTGCCGTCACTGAAAGTGCTGCCGCCAGCAGCATTTTGCGCAT...  ...   [1.0, 0.0]\n",
              "2     TGCGAATATTTGTCTACGGCAGTTTACGCCACAAACAAGGCAACAG...  ...   [1.0, 0.0]\n",
              "3     AGACTATCTGAAAGTGTCCCATGTATGCCCCATAAGAAAGCAGGGT...  ...   [0.0, 1.0]\n",
              "4     AGATGGTTGGATTATTGCTGTTAGTGAAGCTGACTTTATTATTCAT...  ...   [1.0, 0.0]\n",
              "...                                                 ...  ...          ...\n",
              "1595  CGCTAATCACTTCGCCAACGGCGATGCTGCTGGCATCTTTGCCTAA...  ...   [1.0, 0.0]\n",
              "1596  TGTTATCCGCCAGTGTGAGCAAACCGCATTTTTCAGCAAAATATTC...  ...   [0.0, 1.0]\n",
              "1597  TATTGAATGATGCCGCAGGCCATTCTCGCACCACCACCGCCCAGGG...  ...   [1.0, 0.0]\n",
              "1598  GAATGGTTTGCAGCTCATTTACTGCTTCATCAACGAAAATTTTATC...  ...   [1.0, 0.0]\n",
              "1599  GCATATAGATATGCTAAATCCTTACTTCCGCATATTCTCTGAGCGG...  ...   [0.0, 1.0]\n",
              "\n",
              "[1600 rows x 3 columns]"
            ]
          },
          "metadata": {
            "tags": []
          },
          "execution_count": 9
        }
      ]
    },
    {
      "cell_type": "code",
      "metadata": {
        "id": "9lpvqpK54LZc",
        "colab_type": "code",
        "colab": {
          "base_uri": "https://localhost:8080/",
          "height": 424
        },
        "outputId": "2d0f7323-feab-42ca-ba81-f393113be823"
      },
      "source": [
        "df_test = toy[~toy.sequence.isin(df_train.sequence)].reset_index(drop=True)\n",
        "df_test"
      ],
      "execution_count": 10,
      "outputs": [
        {
          "output_type": "execute_result",
          "data": {
            "text/html": [
              "<div>\n",
              "<style scoped>\n",
              "    .dataframe tbody tr th:only-of-type {\n",
              "        vertical-align: middle;\n",
              "    }\n",
              "\n",
              "    .dataframe tbody tr th {\n",
              "        vertical-align: top;\n",
              "    }\n",
              "\n",
              "    .dataframe thead th {\n",
              "        text-align: right;\n",
              "    }\n",
              "</style>\n",
              "<table border=\"1\" class=\"dataframe\">\n",
              "  <thead>\n",
              "    <tr style=\"text-align: right;\">\n",
              "      <th></th>\n",
              "      <th>sequence</th>\n",
              "      <th>label</th>\n",
              "      <th>label_onehot</th>\n",
              "    </tr>\n",
              "  </thead>\n",
              "  <tbody>\n",
              "    <tr>\n",
              "      <th>0</th>\n",
              "      <td>CAGCGCACAACCAGCACGGAGCACTCTGCGTGACGCACTACAGCTG...</td>\n",
              "      <td>gene</td>\n",
              "      <td>[1.0, 0.0]</td>\n",
              "    </tr>\n",
              "    <tr>\n",
              "      <th>1</th>\n",
              "      <td>GGCGATCGCACCACGCCTTCTATCATTGCCTATACCCAGGATGGTG...</td>\n",
              "      <td>gene</td>\n",
              "      <td>[1.0, 0.0]</td>\n",
              "    </tr>\n",
              "    <tr>\n",
              "      <th>2</th>\n",
              "      <td>ACTGACGTTTTGGCGCGTACATGGGGTTGCACGGCTCTGTTCCATA...</td>\n",
              "      <td>gene</td>\n",
              "      <td>[1.0, 0.0]</td>\n",
              "    </tr>\n",
              "    <tr>\n",
              "      <th>3</th>\n",
              "      <td>TGCGTCGTTTATTGTCTGTCGCACCTGTCCTTCTCTGGCTGATTAC...</td>\n",
              "      <td>gene</td>\n",
              "      <td>[1.0, 0.0]</td>\n",
              "    </tr>\n",
              "    <tr>\n",
              "      <th>4</th>\n",
              "      <td>GCGGTGAAAGCGAACTCGGTTGTTTATTCAATTTTTTACTCTGTCC...</td>\n",
              "      <td>gene</td>\n",
              "      <td>[1.0, 0.0]</td>\n",
              "    </tr>\n",
              "    <tr>\n",
              "      <th>...</th>\n",
              "      <td>...</td>\n",
              "      <td>...</td>\n",
              "      <td>...</td>\n",
              "    </tr>\n",
              "    <tr>\n",
              "      <th>393</th>\n",
              "      <td>CGCTGTTTTTGTTTTCCTTTTGGATTAATTTCAGCGTATAATGCGC...</td>\n",
              "      <td>intergenic</td>\n",
              "      <td>[0.0, 1.0]</td>\n",
              "    </tr>\n",
              "    <tr>\n",
              "      <th>394</th>\n",
              "      <td>TCAGCATTAGCAAGCCCTGTTCCCACAAGAGACAGGGACAAGCACG...</td>\n",
              "      <td>intergenic</td>\n",
              "      <td>[0.0, 1.0]</td>\n",
              "    </tr>\n",
              "    <tr>\n",
              "      <th>395</th>\n",
              "      <td>GCTCATGGTATAATTTTTAAGACATGATCAAGAAGCACGTCTATTG...</td>\n",
              "      <td>intergenic</td>\n",
              "      <td>[0.0, 1.0]</td>\n",
              "    </tr>\n",
              "    <tr>\n",
              "      <th>396</th>\n",
              "      <td>TCTGGTACGCCTGGCAGATATTTTGCCTGCCGGGCTAACAGTGTGA...</td>\n",
              "      <td>intergenic</td>\n",
              "      <td>[0.0, 1.0]</td>\n",
              "    </tr>\n",
              "    <tr>\n",
              "      <th>397</th>\n",
              "      <td>CCACACTGGCGAAAAATGTGTTCGATAGACGCAGTGTCAGGAGGAA...</td>\n",
              "      <td>intergenic</td>\n",
              "      <td>[0.0, 1.0]</td>\n",
              "    </tr>\n",
              "  </tbody>\n",
              "</table>\n",
              "<p>398 rows × 3 columns</p>\n",
              "</div>"
            ],
            "text/plain": [
              "                                              sequence       label label_onehot\n",
              "0    CAGCGCACAACCAGCACGGAGCACTCTGCGTGACGCACTACAGCTG...        gene   [1.0, 0.0]\n",
              "1    GGCGATCGCACCACGCCTTCTATCATTGCCTATACCCAGGATGGTG...        gene   [1.0, 0.0]\n",
              "2    ACTGACGTTTTGGCGCGTACATGGGGTTGCACGGCTCTGTTCCATA...        gene   [1.0, 0.0]\n",
              "3    TGCGTCGTTTATTGTCTGTCGCACCTGTCCTTCTCTGGCTGATTAC...        gene   [1.0, 0.0]\n",
              "4    GCGGTGAAAGCGAACTCGGTTGTTTATTCAATTTTTTACTCTGTCC...        gene   [1.0, 0.0]\n",
              "..                                                 ...         ...          ...\n",
              "393  CGCTGTTTTTGTTTTCCTTTTGGATTAATTTCAGCGTATAATGCGC...  intergenic   [0.0, 1.0]\n",
              "394  TCAGCATTAGCAAGCCCTGTTCCCACAAGAGACAGGGACAAGCACG...  intergenic   [0.0, 1.0]\n",
              "395  GCTCATGGTATAATTTTTAAGACATGATCAAGAAGCACGTCTATTG...  intergenic   [0.0, 1.0]\n",
              "396  TCTGGTACGCCTGGCAGATATTTTGCCTGCCGGGCTAACAGTGTGA...  intergenic   [0.0, 1.0]\n",
              "397  CCACACTGGCGAAAAATGTGTTCGATAGACGCAGTGTCAGGAGGAA...  intergenic   [0.0, 1.0]\n",
              "\n",
              "[398 rows x 3 columns]"
            ]
          },
          "metadata": {
            "tags": []
          },
          "execution_count": 10
        }
      ]
    },
    {
      "cell_type": "markdown",
      "metadata": {
        "id": "qZnhk8eFcpOj",
        "colab_type": "text"
      },
      "source": [
        "## 2. Embeddings\n",
        "The next step is to use the whole sequence to compute the embeddings. First, get a set of k-mers, that will be our words for this NLP problem."
      ]
    },
    {
      "cell_type": "code",
      "metadata": {
        "id": "jENWLxW0cpOq",
        "colab_type": "code",
        "colab": {}
      },
      "source": [
        "def window(fseq, window_size, slide = 1):\n",
        "    # create a window of size k\n",
        "    N = len(fseq)\n",
        "    for i in range(0, N - window_size + 1, slide):\n",
        "      if i+window_size+slide < N:\n",
        "        yield fseq[i:i+window_size]\n",
        "\n",
        "\n",
        "def make_context_vector(context, word_to_ix):\n",
        "    idxs = [word_to_ix[w] for w in context]\n",
        "    return torch.tensor(idxs, dtype=torch.long)\n",
        "\n",
        "def get_index_of_max(input):\n",
        "    index = 0\n",
        "    for i in range(1, len(input)):\n",
        "        if input[i] > input[index]:\n",
        "            index = i \n",
        "    return index\n",
        "\n",
        "def get_max_prob_result(input, ix_to_word):\n",
        "    return ix_to_word[get_index_of_max(input)]\n",
        "\n",
        "class CBOW(torch.nn.Module):\n",
        "\n",
        "    def __init__(self, vocab_size, embedding_dim, padding_idx):\n",
        "        super(CBOW, self).__init__()\n",
        "\n",
        "        #out: 1 x emdedding_dim\n",
        "        self.embeddings = nn.Embedding(vocab_size, embedding_dim, \n",
        "                                       padding_idx=padding_idx) #used predefined nn.Embedding\n",
        "        self.linear1 = nn.Linear(embedding_dim, 128)\n",
        "        self.activation_function1 = nn.ReLU()\n",
        "        \n",
        "        #out: 1 x vocab_size\n",
        "        self.linear2 = nn.Linear(128, vocab_size)\n",
        "        self.activation_function2 = nn.LogSoftmax(dim = -1)\n",
        "        \n",
        "\n",
        "    def forward(self, inputs):\n",
        "        embeds = sum(self.embeddings(inputs)).view(1,-1)\n",
        "        out = self.linear1(embeds)\n",
        "        out = self.activation_function1(out)\n",
        "        out = self.linear2(out)\n",
        "        out = self.activation_function2(out)\n",
        "        return out\n",
        "\n",
        "    def get_word_emdedding(self, word):\n",
        "        word = torch.LongTensor([word_to_ix[word]])\n",
        "        return self.embeddings(word).view(1,-1)\n",
        "    \n",
        "k = 3                     # so our words has length 3\n",
        "SLIDE = 1                 # sampling slide\n",
        "CONTEXT_SIZE = 2          # 2 words to the left, 2 to the right\n",
        "EMDEDDING_DIM = 25        # embedding dimension\n",
        "EPOCHS = 30               # number of epochs for training\n",
        "model = None              # CBOW model"
      ],
      "execution_count": 0,
      "outputs": []
    },
    {
      "cell_type": "markdown",
      "metadata": {
        "id": "udqIi0wBcpO3",
        "colab_type": "text"
      },
      "source": [
        "Finally, gather all the kmers and apply the CBOW algorithm."
      ]
    },
    {
      "cell_type": "code",
      "metadata": {
        "id": "nJ24vZP71HFi",
        "colab_type": "code",
        "colab": {}
      },
      "source": [
        "# Since we have the embeddings stored, we are going to ignore the following next\n",
        "# two cells and use this one\n",
        "stored = False\n",
        "\n",
        "if stored:\n",
        "  with open(\"wti.p\", \"rb\") as f:\n",
        "    word_to_ix = pickle.load(f)\n",
        "  ix_to_word = {v: k for k,v in word_to_ix.items()}\n",
        "  model_save_name = 'ma_model.pt'\n",
        "  path = model_save_name\n",
        "  #path = F\"/content/drive/My Drive/{model_save_name}\" \n",
        "  model = CBOW(len(word_to_ix), EMDEDDING_DIM, padding_idx=word_to_ix[\"X\"]).cpu()\n",
        "  model.load_state_dict(torch.load(path, map_location=torch.device('cpu')))"
      ],
      "execution_count": 0,
      "outputs": []
    },
    {
      "cell_type": "code",
      "metadata": {
        "id": "Qi4eQ1K6cpPB",
        "colab_type": "code",
        "outputId": "fe18b00c-f79b-44c8-d4f6-2ee9b73f0245",
        "colab": {
          "base_uri": "https://localhost:8080/",
          "height": 52
        }
      },
      "source": [
        "# kmer in all of the 1/4 sequences of the dataset\n",
        "kmers = [ kmer for kmer in window(\"\".join([seq for seq in df_train.loc[:,\"sequence\"]]), k, SLIDE) ]  \n",
        "vocab_size = len(kmers)\n",
        "\n",
        "data = []\n",
        "print(\"Filling context data...\")\n",
        "pbar = tqdm(total=vocab_size - 4-1) # just to output something in screen\n",
        "for i in range(2, vocab_size - 2): # first word to have 2 words before is the \"third\" one (0,1,2)\n",
        "    context = (kmers[i - 2], kmers[i - 1],\n",
        "               kmers[i + 1], kmers[i + 2])\n",
        "    target = kmers[i]\n",
        "    data.append((context, target))\n",
        "    pbar.update(1)\n",
        "\n",
        "word_to_ix, ix_to_word = {},{}\n",
        "for i, word in enumerate(set(kmers)):\n",
        "    word_to_ix[word] = i\n",
        "    ix_to_word[i] = word\n",
        "\n",
        "ix = len(ix_to_word)\n",
        "ix_to_word[ix] = \"X\"  # our padding character\n",
        "word_to_ix[\"X\"] = ix\n",
        "\n",
        "with open(\"/content/drive/My Drive/wti.p\", \"wb\") as f:\n",
        "  pickle.dump(word_to_ix, f)\n",
        "\n",
        "with open(\"/content/drive/My Drive/itw.p\", \"wb\") as f:\n",
        "  pickle.dump(ix_to_word, f)"
      ],
      "execution_count": 13,
      "outputs": [
        {
          "output_type": "stream",
          "text": [
            "\r  0%|          | 0/79991 [00:00<?, ?it/s]"
          ],
          "name": "stderr"
        },
        {
          "output_type": "stream",
          "text": [
            "Filling context data...\n"
          ],
          "name": "stdout"
        },
        {
          "output_type": "stream",
          "text": [
            "\r 27%|██▋       | 21343/79991 [00:00<00:00, 213423.59it/s]"
          ],
          "name": "stderr"
        }
      ]
    },
    {
      "cell_type": "code",
      "metadata": {
        "id": "JnBZPKyEcpPQ",
        "colab_type": "code",
        "outputId": "1c40e984-1041-4c90-bbd6-56d53bf21afd",
        "colab": {
          "base_uri": "https://localhost:8080/",
          "height": 1000
        }
      },
      "source": [
        "import sys\n",
        "from time import time \n",
        "model = CBOW(len(word_to_ix), EMDEDDING_DIM, padding_idx=word_to_ix[\"X\"])\n",
        "\n",
        "loss_function = nn.NLLLoss()\n",
        "optimizer = torch.optim.SGD(model.parameters(), lr=0.001)\n",
        "print(\"Training embeddings...\")\n",
        "\n",
        "model_save_name = 'ma_model.pt'\n",
        "path = F\"/content/drive/My Drive/{model_save_name}\" \n",
        "\n",
        "start = time()\n",
        "tot = len(data)\n",
        "print()\n",
        "for epoch in range(EPOCHS):\n",
        "  start = time()\n",
        "  total_loss = 0\n",
        "  i = 1\n",
        "  for context, target in data:\n",
        "    if not i%100:\n",
        "      sys.stdout.write(f\"\\r{i}/{tot} in {round(time()-start,2)}s        \")\n",
        "      sys.stdout.flush()\n",
        "    context_vector = make_context_vector(context, word_to_ix)  \n",
        "    model.zero_grad()\n",
        "    log_probs = model(context_vector)\n",
        "    loss = loss_function(log_probs, torch.tensor([word_to_ix[target]], dtype=torch.long))\n",
        "    loss.backward()\n",
        "    optimizer.step()\n",
        "    total_loss += loss.data\n",
        "    i+=1\n",
        "  torch.save(model.state_dict(), path)\n",
        "  print(f\"\\nEpoch {epoch+1}/{EPOCHS} in {round(time()-start,2)}\\n\\n\")"
      ],
      "execution_count": 14,
      "outputs": [
        {
          "output_type": "stream",
          "text": [
            "Training embeddings...\n",
            "\n",
            "27700/79992 in 19.74s        "
          ],
          "name": "stdout"
        },
        {
          "output_type": "stream",
          "text": [
            "\r79992it [00:20, 213423.59it/s]                           "
          ],
          "name": "stderr"
        },
        {
          "output_type": "stream",
          "text": [
            "79900/79992 in 56.32s        \n",
            "Epoch 1/30 in 56.38836646080017\n",
            "\n",
            "\n",
            "79900/79992 in 55.63s        \n",
            "Epoch 2/30 in 55.700063705444336\n",
            "\n",
            "\n",
            "79900/79992 in 58.94s        \n",
            "Epoch 3/30 in 59.00810956954956\n",
            "\n",
            "\n",
            "79900/79992 in 58.34s        \n",
            "Epoch 4/30 in 58.411818742752075\n",
            "\n",
            "\n",
            "79900/79992 in 57.09s        \n",
            "Epoch 5/30 in 57.166804790496826\n",
            "\n",
            "\n",
            "79900/79992 in 57.6s        \n",
            "Epoch 6/30 in 57.665950298309326\n",
            "\n",
            "\n",
            "79900/79992 in 56.33s        \n",
            "Epoch 7/30 in 56.40046310424805\n",
            "\n",
            "\n",
            "79900/79992 in 57.23s        \n",
            "Epoch 8/30 in 57.31258416175842\n",
            "\n",
            "\n",
            "79900/79992 in 56.69s        \n",
            "Epoch 9/30 in 56.76210379600525\n",
            "\n",
            "\n",
            "79900/79992 in 57.19s        \n",
            "Epoch 10/30 in 57.25938630104065\n",
            "\n",
            "\n",
            "79900/79992 in 57.71s        \n",
            "Epoch 11/30 in 57.78800010681152\n",
            "\n",
            "\n",
            "79900/79992 in 57.93s        \n",
            "Epoch 12/30 in 58.00145125389099\n",
            "\n",
            "\n",
            "79900/79992 in 56.46s        \n",
            "Epoch 13/30 in 56.535449266433716\n",
            "\n",
            "\n",
            "79900/79992 in 57.09s        \n",
            "Epoch 14/30 in 57.15931820869446\n",
            "\n",
            "\n",
            "79900/79992 in 56.69s        \n",
            "Epoch 15/30 in 56.76209354400635\n",
            "\n",
            "\n",
            "79900/79992 in 57.24s        \n",
            "Epoch 16/30 in 57.31186246871948\n",
            "\n",
            "\n",
            "79900/79992 in 57.6s        \n",
            "Epoch 17/30 in 57.670217990875244\n",
            "\n",
            "\n",
            "79900/79992 in 56.6s        \n",
            "Epoch 18/30 in 56.67662596702576\n",
            "\n",
            "\n",
            "79900/79992 in 58.26s        \n",
            "Epoch 19/30 in 58.330974817276\n",
            "\n",
            "\n",
            "79900/79992 in 57.37s        \n",
            "Epoch 20/30 in 57.44796872138977\n",
            "\n",
            "\n",
            "79900/79992 in 57.18s        \n",
            "Epoch 21/30 in 57.25372314453125\n",
            "\n",
            "\n",
            "79900/79992 in 58.05s        \n",
            "Epoch 22/30 in 58.12126350402832\n",
            "\n",
            "\n",
            "79900/79992 in 57.33s        \n",
            "Epoch 23/30 in 57.39873433113098\n",
            "\n",
            "\n",
            "79900/79992 in 57.83s        \n",
            "Epoch 24/30 in 57.90272617340088\n",
            "\n",
            "\n",
            "79900/79992 in 58.44s        \n",
            "Epoch 25/30 in 58.50835585594177\n",
            "\n",
            "\n",
            "79900/79992 in 57.36s        \n",
            "Epoch 26/30 in 57.43865370750427\n",
            "\n",
            "\n",
            "79900/79992 in 57.78s        \n",
            "Epoch 27/30 in 57.8593327999115\n",
            "\n",
            "\n",
            "79900/79992 in 57.74s        \n",
            "Epoch 28/30 in 57.80735421180725\n",
            "\n",
            "\n",
            "79900/79992 in 57.5s        \n",
            "Epoch 29/30 in 57.571948528289795\n",
            "\n",
            "\n",
            "79900/79992 in 58.14s        \n",
            "Epoch 30/30 in 58.21271753311157\n",
            "\n",
            "\n"
          ],
          "name": "stdout"
        }
      ]
    },
    {
      "cell_type": "markdown",
      "metadata": {
        "id": "JJKW2iVSlmGQ",
        "colab_type": "text"
      },
      "source": [
        "## 4. Vanilla RNN model"
      ]
    },
    {
      "cell_type": "code",
      "metadata": {
        "id": "GniwYJ6mlswA",
        "colab_type": "code",
        "colab": {}
      },
      "source": [
        "from torch.autograd import Variable\n",
        "\n",
        "class RNN(nn.Module):\n",
        "    def __init__(self, input_dim, embedding_dim, hidden_dim, hidden_out, output_dim,\n",
        "                 padding_idx, t):\n",
        "\n",
        "        super().__init__()\n",
        "        self.nb_tags = output_dim\n",
        "\n",
        "        self.embedding = nn.Embedding(input_dim, embedding_dim, padding_idx=padding_idx)\n",
        "        \n",
        "        self.rnn = nn.LSTM(embedding_dim, hidden_dim)\n",
        "        \n",
        "        self.lhid = nn.Linear(t*hidden_dim, hidden_out)\n",
        "        # self.lhid = nn.Linear(hidden_dim*t, hidden_out)\n",
        "\n",
        "        self.fc = nn.Linear(hidden_out, output_dim)\n",
        "\n",
        "\n",
        "    def forward(self, text):\n",
        "\n",
        "        #text = [sent len, batch size]\n",
        "        # 1. embedding\n",
        "        embedded = self.embedding(text)\n",
        "\n",
        "        #embedded = [sent len, batch size, emb dim]\n",
        "        output, (hidden, lt) = self.rnn(embedded)\n",
        "\n",
        "        # 3. get that so it's correctly packed for the hidden layer\n",
        "        output = output.contiguous()\n",
        "        output = output.reshape(output.shape[0], -1)\n",
        "\n",
        "        output = nn.functional.relu(self.lhid(output))\n",
        "        #print('after linear layer')\n",
        "        #print(output.size())\n",
        "\n",
        "        # 4. classification\n",
        "        output = self.fc(output)\n",
        "        #print(output.size())\n",
        "        output = nn.functional.log_softmax(output, dim=1)\n",
        "        #print(output.size())\n",
        "        # output = output.view(text.size()[0], -1)\n",
        "        return output"
      ],
      "execution_count": 0,
      "outputs": []
    },
    {
      "cell_type": "markdown",
      "metadata": {
        "id": "Hqnu9WvB8uvw",
        "colab_type": "text"
      },
      "source": [
        "## 4. Tweak the embeddings to accomodate varying sizes of the sequences\n",
        "Once we have the model and the embeddings, we would need to tweak the embeddings so that they are adjusted for the padded sequences.\n",
        "\n",
        "### 4.1. Add the padding char to the embeddings"
      ]
    },
    {
      "cell_type": "markdown",
      "metadata": {
        "id": "T2KEUxaSAuAh",
        "colab_type": "text"
      },
      "source": [
        "Now, get sequences as indexes."
      ]
    },
    {
      "cell_type": "code",
      "metadata": {
        "id": "F3fPAtenAtX5",
        "colab_type": "code",
        "colab": {}
      },
      "source": [
        "def to_ix(kmer, word_to_ix):\n",
        "  if \"X\" in kmer:\n",
        "    return word_to_ix[\"X\"]\n",
        "  elif kmer in word_to_ix:\n",
        "    return word_to_ix[kmer]\n",
        "  else:\n",
        "    return len(word_to_ix)\n",
        "\n",
        "def wind_idx(seq):\n",
        "  return [to_ix(kmer, word_to_ix)  for kmer in window(seq, k, SLIDE)]\n",
        "\n",
        "df_train[\"seq_idx\"] = df_train[\"sequence\"].apply(wind_idx)\n",
        "df_test[\"seq_idx\"] = df_test[\"sequence\"].apply(wind_idx)"
      ],
      "execution_count": 0,
      "outputs": []
    },
    {
      "cell_type": "code",
      "metadata": {
        "id": "S5UeEYm8E1dI",
        "colab_type": "code",
        "outputId": "12250f94-7f87-4927-a641-b6c235827672",
        "colab": {
          "base_uri": "https://localhost:8080/",
          "height": 34
        }
      },
      "source": [
        "np.unique(df_train[\"seq_idx\"].apply(lambda x: len(x)))"
      ],
      "execution_count": 17,
      "outputs": [
        {
          "output_type": "execute_result",
          "data": {
            "text/plain": [
              "array([46])"
            ]
          },
          "metadata": {
            "tags": []
          },
          "execution_count": 17
        }
      ]
    },
    {
      "cell_type": "markdown",
      "metadata": {
        "id": "L9U_zq-5FIbp",
        "colab_type": "text"
      },
      "source": [
        "Finally, instantiante the model and initialize the weigths of the embeddings."
      ]
    },
    {
      "cell_type": "code",
      "metadata": {
        "id": "7dJjn7v2lVBv",
        "colab_type": "code",
        "outputId": "4751b7ff-b182-464d-8aa1-cb27a915c9e2",
        "colab": {
          "base_uri": "https://localhost:8080/",
          "height": 52
        }
      },
      "source": [
        "print(word_to_ix[\"X\"])\n",
        "print(len(set(word_to_ix.keys()))-1)"
      ],
      "execution_count": 18,
      "outputs": [
        {
          "output_type": "stream",
          "text": [
            "64\n",
            "64\n"
          ],
          "name": "stdout"
        }
      ]
    },
    {
      "cell_type": "code",
      "metadata": {
        "id": "go5mnL9uFJQu",
        "colab_type": "code",
        "colab": {}
      },
      "source": [
        "t = len(df_train.iloc[0,0]) # Find length of seqs (fixed)\n",
        "\n",
        "rnn = RNN(input_dim=len(word_to_ix), embedding_dim=EMDEDDING_DIM,\n",
        "          hidden_dim = 34, hidden_out = 90, output_dim=2, \n",
        "          padding_idx = word_to_ix[\"X\"], t = len(df_train.iloc[0,0]))"
      ],
      "execution_count": 0,
      "outputs": []
    },
    {
      "cell_type": "code",
      "metadata": {
        "id": "YZmhbQWkpTuq",
        "colab_type": "code",
        "outputId": "7e2c5e69-7637-4907-9383-0a072761afca",
        "colab": {
          "base_uri": "https://localhost:8080/",
          "height": 156
        }
      },
      "source": [
        "rnn.embedding.weight.data.copy_(model.embeddings.weight)"
      ],
      "execution_count": 59,
      "outputs": [
        {
          "output_type": "execute_result",
          "data": {
            "text/plain": [
              "tensor([[-0.1137,  0.0999, -0.3476,  ...,  0.0821, -0.8537, -0.0803],\n",
              "        [-0.8290,  0.5165, -0.1896,  ...,  1.7026,  2.1993,  0.1653],\n",
              "        [ 0.1834,  0.8876, -0.3951,  ...,  1.8383, -1.1204, -0.7414],\n",
              "        ...,\n",
              "        [-0.5050, -0.7819, -0.1929,  ...,  0.8292, -0.1737,  0.9981],\n",
              "        [-1.3405, -1.3242, -1.5161,  ..., -0.2734, -0.5583, -1.3304],\n",
              "        [ 0.0000,  0.0000,  0.0000,  ...,  0.0000,  0.0000,  0.0000]],\n",
              "       grad_fn=<CopyBackwards>)"
            ]
          },
          "metadata": {
            "tags": []
          },
          "execution_count": 59
        }
      ]
    },
    {
      "cell_type": "markdown",
      "metadata": {
        "id": "yrH8hOnvmWE1",
        "colab_type": "text"
      },
      "source": [
        "## 5. Training loop\n"
      ]
    },
    {
      "cell_type": "markdown",
      "metadata": {
        "id": "KQ3hnv3Onw--",
        "colab_type": "text"
      },
      "source": [
        "All that is left is to split our training and testing and train the model."
      ]
    },
    {
      "cell_type": "code",
      "metadata": {
        "id": "jjL8fY-LCftw",
        "colab_type": "code",
        "colab": {}
      },
      "source": [
        "from torch.utils.data import DataLoader, Dataset\n",
        "\n",
        "class oversampdata(Dataset):\n",
        "  def __init__(self, data):\n",
        "    # first column is list of index sentence\n",
        "    self.data = torch.LongTensor(data.iloc[:,0])\n",
        "    # second column is the label\n",
        "    self.targets = torch.LongTensor(data.iloc[:,1])\n",
        "\n",
        "  def __len__(self):\n",
        "    return len(self.data)\n",
        "\n",
        "  def __getitem__(self, index):\n",
        "    data_val = self.data[index]\n",
        "    target = self.targets[index]\n",
        "    return data_val, target\n",
        "\n",
        "train_dataset = oversampdata(df_train.loc[:,[\"seq_idx\", \"label_onehot\"]])\n",
        "valid_dataset = oversampdata(df_test.loc[:,[\"seq_idx\", \"label_onehot\"]])"
      ],
      "execution_count": 0,
      "outputs": []
    },
    {
      "cell_type": "code",
      "metadata": {
        "id": "IenV-ndMvJVW",
        "colab_type": "code",
        "colab": {}
      },
      "source": [
        "BATCH_SIZE = 32\n",
        "\n",
        "trainloader = torch.utils.data.DataLoader(train_dataset, batch_size=BATCH_SIZE, \n",
        "                                          shuffle=True)\n",
        "testloader = torch.utils.data.DataLoader(valid_dataset, batch_size=BATCH_SIZE, \n",
        "                                         shuffle=False)"
      ],
      "execution_count": 0,
      "outputs": []
    },
    {
      "cell_type": "code",
      "metadata": {
        "id": "fMKJKbYoBZQD",
        "colab_type": "code",
        "colab": {}
      },
      "source": [
        "def binary_accuracy(preds, y):\n",
        "   \"\"\"\n",
        "   Returns accuracy per batch, i.e. if you get 8/10 right, this returns 0.8, NOT 8\n",
        "   \"\"\"\n",
        "   rounded_preds = torch.zeros(preds.size())\n",
        "   for i in range(len(preds)):\n",
        "     idx_max = torch.where(preds[i].abs() == preds[i].abs().max())\n",
        "     rounded_preds[i][idx_max] = 1\n",
        "   rounded_preds = torch.FloatTensor(rounded_preds).int()\n",
        "   correct = (rounded_preds == y).float() #convert into float for division\n",
        "   acc = (correct.sum()/len(preds[0])) / len(correct)\n",
        "   return acc"
      ],
      "execution_count": 0,
      "outputs": []
    },
    {
      "cell_type": "code",
      "metadata": {
        "id": "CUPgdWw0maX7",
        "colab_type": "code",
        "colab": {}
      },
      "source": [
        "import sys\n",
        "\n",
        "def train(model, iterator, optimizer, criterion):\n",
        "    \n",
        "    epoch_loss = 0\n",
        "    epoch_acc = 0\n",
        "    \n",
        "    model.train()\n",
        "    print(\"Training...\")\n",
        "\n",
        "    for i, batch in enumerate(iterator):\n",
        "        if i%50:\n",
        "          sys.stdout.write(f\"\\rIteration {i}        \")\n",
        "          sys.stdout.flush()\n",
        "\n",
        "        inputs, labels_onehot = batch\n",
        "\n",
        "        optimizer.zero_grad()\n",
        "                \n",
        "        predictions = model(inputs)\n",
        "        \n",
        "        labels_idx = torch.LongTensor([np.where(label==1)[0][0] for label in labels_onehot])\n",
        "\n",
        "\n",
        "        loss = criterion(predictions, labels_idx)\n",
        "        \n",
        "        loss.backward()\n",
        "        \n",
        "        optimizer.step()\n",
        "        \n",
        "        acc = binary_accuracy(predictions, labels_onehot)\n",
        "        # print(loss.item())\n",
        "        epoch_loss += loss.item()\n",
        "        epoch_acc += acc.item()\n",
        "        \n",
        "    print()\n",
        "    return epoch_loss / len(iterator), epoch_acc / len(iterator)\n",
        "\n",
        "\n",
        "\n",
        "def evaluate(model, iterator, criterion):\n",
        "    epoch_loss = 0\n",
        "    epoch_acc = 0\n",
        "    \n",
        "    model.eval()\n",
        "    print(\"Evaluating...\")\n",
        "    with torch.no_grad():\n",
        "    \n",
        "        for i, batch in enumerate(iterator):\n",
        "\n",
        "            inputs, labels_onehot = batch\n",
        "            predictions = model(inputs)\n",
        "            labels_idx = torch.LongTensor([np.where(label==1)[0][0] for label in labels_onehot])\n",
        "\n",
        "            loss = criterion(predictions, labels_idx)\n",
        "            acc = binary_accuracy(predictions, labels_onehot)\n",
        "\n",
        "            epoch_loss += loss.item()\n",
        "            epoch_acc += acc.item()\n",
        "    return epoch_loss / len(iterator), epoch_acc / len(iterator)\n",
        "\n",
        "optimizer = torch.optim.SGD(model.parameters(), lr=1e-2)\n",
        "#criterion = nn.BCEWithLogitsLoss()\n",
        "criterion = nn.CrossEntropyLoss()"
      ],
      "execution_count": 0,
      "outputs": []
    },
    {
      "cell_type": "code",
      "metadata": {
        "id": "OnXryGW6FmYD",
        "colab_type": "code",
        "outputId": "71b53a69-aefa-4208-e29a-669cebfd05be",
        "colab": {
          "base_uri": "https://localhost:8080/",
          "height": 34
        }
      },
      "source": [
        "len(train_dataset)"
      ],
      "execution_count": 25,
      "outputs": [
        {
          "output_type": "execute_result",
          "data": {
            "text/plain": [
              "1600"
            ]
          },
          "metadata": {
            "tags": []
          },
          "execution_count": 25
        }
      ]
    },
    {
      "cell_type": "code",
      "metadata": {
        "id": "KLhfluLNmn5C",
        "colab_type": "code",
        "outputId": "610caa72-d9f3-4f9c-84fc-2b5283ce00c4",
        "colab": {
          "base_uri": "https://localhost:8080/",
          "height": 573
        }
      },
      "source": [
        "%%time\n",
        "N_EPOCHS = 5\n",
        "model_save_name=\"ma_rnn.pt\"\n",
        "path = F\"/content/drive/My Drive/{model_save_name}\"\n",
        "\n",
        "best_valid_loss = float('inf')\n",
        "\n",
        "for epoch in range(N_EPOCHS):\n",
        "    print(\"Epoch: \" + str(epoch))\n",
        "    train_loss, train_acc = train(rnn, trainloader, optimizer, criterion)\n",
        "    valid_loss, valid_acc = evaluate(rnn, testloader, criterion)\n",
        "\n",
        "    #train_loss  = train(rnn, trainloader, optimizer, criterion)\n",
        "    #valid_loss  = evaluate(rnn, testloader, criterion)    \n",
        "    \n",
        "    if valid_loss < best_valid_loss:\n",
        "        best_valid_loss = valid_loss\n",
        "        torch.save(rnn.state_dict(), path)\n",
        "    \n",
        "    print(f'\\tTrain Loss: {train_loss:.3f} | Train Acc: {train_acc*100:.2f}%')\n",
        "    print(f'\\t Val. Loss: {valid_loss:.3f} |  Val. Acc: {valid_acc*100:.2f}%')\n",
        "    \n",
        "    #print(f'\\tTrain Loss: {train_loss:.3f}')\n",
        "    #print(f'\\t Val. Loss: {valid_loss:.3f}')"
      ],
      "execution_count": 61,
      "outputs": [
        {
          "output_type": "stream",
          "text": [
            "Epoch: 0\n",
            "Training...\n",
            "Iteration 49        \n",
            "Evaluating...\n",
            "\tTrain Loss: 0.693 | Train Acc: 49.88%\n",
            "\t Val. Loss: 0.690 |  Val. Acc: 44.75%\n",
            "Epoch: 1\n",
            "Training...\n",
            "Iteration 49        \n",
            "Evaluating...\n",
            "\tTrain Loss: 0.694 | Train Acc: 49.06%\n",
            "\t Val. Loss: 0.690 |  Val. Acc: 44.75%\n",
            "Epoch: 2\n",
            "Training...\n",
            "Iteration 49        \n",
            "Evaluating...\n",
            "\tTrain Loss: 0.694 | Train Acc: 50.69%\n",
            "\t Val. Loss: 0.690 |  Val. Acc: 44.75%\n",
            "Epoch: 3\n",
            "Training...\n",
            "Iteration 49        \n",
            "Evaluating...\n",
            "\tTrain Loss: 0.694 | Train Acc: 49.25%\n",
            "\t Val. Loss: 0.690 |  Val. Acc: 44.75%\n",
            "Epoch: 4\n",
            "Training...\n",
            "Iteration 49        \n",
            "Evaluating...\n",
            "\tTrain Loss: 0.694 | Train Acc: 50.00%\n",
            "\t Val. Loss: 0.690 |  Val. Acc: 44.75%\n",
            "CPU times: user 7min 11s, sys: 5.59 s, total: 7min 16s\n",
            "Wall time: 16.5 s\n"
          ],
          "name": "stdout"
        }
      ]
    },
    {
      "cell_type": "code",
      "metadata": {
        "id": "019Ac4tk5azt",
        "colab_type": "code",
        "colab": {
          "base_uri": "https://localhost:8080/",
          "height": 364
        },
        "outputId": "68316097-ff5f-452f-c924-c70e2cc3d46c"
      },
      "source": [
        "# result = [(rnn(df_test.sequence.iloc[i,\"sequence\"]), df_test.label[i]) for i in range(20)]\n",
        "# for r in result:\n",
        "#   print(r)\n",
        "\n",
        "result = [[rnn(torch.LongTensor(wind_idx(df_test.iloc[i,0])).unsqueeze(0)), df_test.label[i]] for i in range(20)]\n",
        "for r in result:\n",
        "  print(r)"
      ],
      "execution_count": 62,
      "outputs": [
        {
          "output_type": "stream",
          "text": [
            "[tensor([[-0.6874, -0.6989]], grad_fn=<LogSoftmaxBackward>), 'gene']\n",
            "[tensor([[-0.6958, -0.6905]], grad_fn=<LogSoftmaxBackward>), 'gene']\n",
            "[tensor([[-0.6810, -0.7054]], grad_fn=<LogSoftmaxBackward>), 'gene']\n",
            "[tensor([[-0.6628, -0.7244]], grad_fn=<LogSoftmaxBackward>), 'gene']\n",
            "[tensor([[-0.6640, -0.7232]], grad_fn=<LogSoftmaxBackward>), 'gene']\n",
            "[tensor([[-0.6595, -0.7279]], grad_fn=<LogSoftmaxBackward>), 'gene']\n",
            "[tensor([[-0.6762, -0.7104]], grad_fn=<LogSoftmaxBackward>), 'gene']\n",
            "[tensor([[-0.6958, -0.6905]], grad_fn=<LogSoftmaxBackward>), 'gene']\n",
            "[tensor([[-0.6710, -0.7158]], grad_fn=<LogSoftmaxBackward>), 'gene']\n",
            "[tensor([[-0.6848, -0.7016]], grad_fn=<LogSoftmaxBackward>), 'gene']\n",
            "[tensor([[-0.6818, -0.7046]], grad_fn=<LogSoftmaxBackward>), 'gene']\n",
            "[tensor([[-0.6588, -0.7288]], grad_fn=<LogSoftmaxBackward>), 'gene']\n",
            "[tensor([[-0.6623, -0.7250]], grad_fn=<LogSoftmaxBackward>), 'gene']\n",
            "[tensor([[-0.6740, -0.7127]], grad_fn=<LogSoftmaxBackward>), 'gene']\n",
            "[tensor([[-0.6623, -0.7250]], grad_fn=<LogSoftmaxBackward>), 'gene']\n",
            "[tensor([[-0.6785, -0.7080]], grad_fn=<LogSoftmaxBackward>), 'gene']\n",
            "[tensor([[-0.6809, -0.7056]], grad_fn=<LogSoftmaxBackward>), 'gene']\n",
            "[tensor([[-0.6955, -0.6908]], grad_fn=<LogSoftmaxBackward>), 'gene']\n",
            "[tensor([[-0.6774, -0.7091]], grad_fn=<LogSoftmaxBackward>), 'gene']\n",
            "[tensor([[-0.6980, -0.6883]], grad_fn=<LogSoftmaxBackward>), 'gene']\n"
          ],
          "name": "stdout"
        }
      ]
    }
  ]
}