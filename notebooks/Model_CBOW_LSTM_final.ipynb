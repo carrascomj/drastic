{
  "nbformat": 4,
  "nbformat_minor": 0,
  "metadata": {
    "accelerator": "GPU",
    "colab": {
      "name": "Model_CBOW_LSTM_1lstm_ASGD_72_.ipynb",
      "provenance": [],
      "collapsed_sections": [],
      "toc_visible": true
    },
    "kernelspec": {
      "name": "python3",
      "display_name": "Python 3"
    },
    "language_info": {
      "codemirror_mode": {
        "name": "ipython",
        "version": 3
      },
      "file_extension": ".py",
      "mimetype": "text/x-python",
      "name": "python",
      "nbconvert_exporter": "python",
      "pygments_lexer": "ipython3",
      "version": "3.6.9"
    }
  },
  "cells": [
    {
      "cell_type": "markdown",
      "metadata": {
        "colab_type": "text",
        "id": "dFwhBwY5-79X"
      },
      "source": [
        "# 0 - Set up -L\n",
        "\n",
        "Loading libraries and import necessary codes and files"
      ]
    },
    {
      "cell_type": "markdown",
      "metadata": {
        "colab_type": "text",
        "id": "fjKks0gWh3uq"
      },
      "source": [
        "## Install standard libraries"
      ]
    },
    {
      "cell_type": "code",
      "metadata": {
        "colab_type": "code",
        "id": "h-c6UAlXecMe",
        "outputId": "f62f92cc-6eea-40b7-d28a-06e677d6725d",
        "colab": {
          "base_uri": "https://localhost:8080/",
          "height": 248
        }
      },
      "source": [
        "!pip3 install pyfastx\n",
        "!pip install scikit-plot\n",
        "import numpy as np\n",
        "import pyfastx\n",
        "import pickle\n",
        "import torch\n",
        "import torch.nn as nn\n",
        "import pandas as pd\n",
        "import random\n",
        "from itertools import product\n",
        "import os \n",
        "from tqdm import tqdm # progress bar\n",
        "import matplotlib.pyplot as plt\n",
        "import sys\n",
        "from time import time \n"
      ],
      "execution_count": 14,
      "outputs": [
        {
          "output_type": "stream",
          "text": [
            "Requirement already satisfied: pyfastx in /usr/local/lib/python3.6/dist-packages (0.6.2)\n",
            "Requirement already satisfied: scikit-plot in /usr/local/lib/python3.6/dist-packages (0.3.7)\n",
            "Requirement already satisfied: scikit-learn>=0.18 in /usr/local/lib/python3.6/dist-packages (from scikit-plot) (0.21.3)\n",
            "Requirement already satisfied: matplotlib>=1.4.0 in /usr/local/lib/python3.6/dist-packages (from scikit-plot) (3.1.2)\n",
            "Requirement already satisfied: joblib>=0.10 in /usr/local/lib/python3.6/dist-packages (from scikit-plot) (0.14.1)\n",
            "Requirement already satisfied: scipy>=0.9 in /usr/local/lib/python3.6/dist-packages (from scikit-plot) (1.3.3)\n",
            "Requirement already satisfied: numpy>=1.11.0 in /usr/local/lib/python3.6/dist-packages (from scikit-learn>=0.18->scikit-plot) (1.17.4)\n",
            "Requirement already satisfied: python-dateutil>=2.1 in /usr/local/lib/python3.6/dist-packages (from matplotlib>=1.4.0->scikit-plot) (2.6.1)\n",
            "Requirement already satisfied: kiwisolver>=1.0.1 in /usr/local/lib/python3.6/dist-packages (from matplotlib>=1.4.0->scikit-plot) (1.1.0)\n",
            "Requirement already satisfied: pyparsing!=2.0.4,!=2.1.2,!=2.1.6,>=2.0.1 in /usr/local/lib/python3.6/dist-packages (from matplotlib>=1.4.0->scikit-plot) (2.4.5)\n",
            "Requirement already satisfied: cycler>=0.10 in /usr/local/lib/python3.6/dist-packages (from matplotlib>=1.4.0->scikit-plot) (0.10.0)\n",
            "Requirement already satisfied: six>=1.5 in /usr/local/lib/python3.6/dist-packages (from python-dateutil>=2.1->matplotlib>=1.4.0->scikit-plot) (1.12.0)\n",
            "Requirement already satisfied: setuptools in /usr/local/lib/python3.6/dist-packages (from kiwisolver>=1.0.1->matplotlib>=1.4.0->scikit-plot) (42.0.2)\n"
          ],
          "name": "stdout"
        }
      ]
    },
    {
      "cell_type": "code",
      "metadata": {
        "colab_type": "code",
        "id": "B0EeY1pEDAwp",
        "colab": {}
      },
      "source": [
        "random.seed(42)"
      ],
      "execution_count": 0,
      "outputs": []
    },
    {
      "cell_type": "code",
      "metadata": {
        "colab_type": "code",
        "id": "S9iorXtfAe7Z",
        "colab": {}
      },
      "source": [
        "dash = '-'*80"
      ],
      "execution_count": 0,
      "outputs": []
    },
    {
      "cell_type": "markdown",
      "metadata": {
        "colab_type": "text",
        "id": "xISLqjFsh_MD"
      },
      "source": [
        "## Import custom scripts "
      ]
    },
    {
      "cell_type": "markdown",
      "metadata": {
        "id": "1IsBnpqDkSTP",
        "colab_type": "text"
      },
      "source": [
        "### Load from Google drive:"
      ]
    },
    {
      "cell_type": "code",
      "metadata": {
        "colab_type": "code",
        "outputId": "e81604f8-506c-45b6-efa8-c7d2ac5394e7",
        "id": "Lqy7hvSpo04h",
        "colab": {
          "base_uri": "https://localhost:8080/",
          "height": 35
        }
      },
      "source": [
        "from google.colab import drive\n",
        "drive.mount('/content/drive')"
      ],
      "execution_count": 17,
      "outputs": [
        {
          "output_type": "stream",
          "text": [
            "Drive already mounted at /content/drive; to attempt to forcibly remount, call drive.mount(\"/content/drive\", force_remount=True).\n"
          ],
          "name": "stdout"
        }
      ]
    },
    {
      "cell_type": "code",
      "metadata": {
        "id": "RgKVZ9O7ub7z",
        "colab_type": "code",
        "outputId": "802b4bd8-1df1-4aa6-bc1b-80ef9fbaf027",
        "colab": {
          "base_uri": "https://localhost:8080/",
          "height": 70
        }
      },
      "source": [
        "!ls \"/content/drive/My Drive\""
      ],
      "execution_count": 18,
      "outputs": [
        {
          "output_type": "stream",
          "text": [
            " Booklet.docx\t   'Documents (old stuff)'   mock\n",
            "'Colab Notebooks'   Google\t\t    'Model Outputs'\n",
            " Documents\t   'intro cbow.pptx'\t     Pictures\n"
          ],
          "name": "stdout"
        }
      ]
    },
    {
      "cell_type": "code",
      "metadata": {
        "id": "ap2aOlq3kf8-",
        "colab_type": "code",
        "outputId": "b5bd29c1-59a2-4b0d-8729-aec8bc202278",
        "colab": {
          "base_uri": "https://localhost:8080/",
          "height": 426
        }
      },
      "source": [
        "!ls \"/content/drive/My Drive/Model Outputs\"  -lt"
      ],
      "execution_count": 19,
      "outputs": [
        {
          "output_type": "stream",
          "text": [
            "total 85\n",
            "drwx------ 2 root root 4096 Jan  3 16:50 20200102\n",
            "drwx------ 2 root root 4096 Jan  3 08:13 20200103\n",
            "drwx------ 5 root root 4096 Jan  2 10:10 uploads_new\n",
            "drwx------ 2 root root 4096 Jan  2 10:10 uploads201911\n",
            "drwx------ 2 root root 4096 Jan  2 10:10 uploads_201912\n",
            "drwx------ 2 root root 4096 Dec 29 11:51 dataframes\n",
            "drwx------ 2 root root 4096 Dec 29 11:23 Fastasplits_train_test\n",
            "drwx------ 2 root root 4096 Dec 29 10:40 20191204\n",
            "drwx------ 2 root root 4096 Dec 29 10:40 20191229\n",
            "drwx------ 2 root root 4096 Dec 29 10:39 20191129\n",
            "drwx------ 2 root root 4096 Dec 29 10:39 20191122\n",
            "drwx------ 2 root root 4096 Dec 29 10:39 20191201\n",
            "drwx------ 2 root root 4096 Dec 29 10:38 20191202\n",
            "drwx------ 2 root root 4096 Dec 29 10:38 20191203\n",
            "drwx------ 2 root root 4096 Dec 28 10:57 20191228\n",
            "drwx------ 2 root root 4096 Dec 27 17:14 20191227\n",
            "-rw------- 1 root root  151 Dec 27 17:14 00000_create_folders_format_YYYYMMDD.gdoc\n",
            "drwx------ 2 root root 4096 Nov 29 09:29 old_scripts\n",
            "drwx------ 2 root root 4096 Nov 25 17:23 genomes\n",
            "drwx------ 2 root root 4096 Nov 21 13:30 test-savings\n",
            "drwx------ 2 root root 4096 Nov 16 13:34 checkpoints\n",
            "drwx------ 2 root root 4096 Nov 16 12:36 __pycache__\n"
          ],
          "name": "stdout"
        }
      ]
    },
    {
      "cell_type": "code",
      "metadata": {
        "id": "jwto8fdYklH2",
        "colab_type": "code",
        "outputId": "a3d399e2-09a6-4da4-9c45-14e68f49685a",
        "colab": {
          "base_uri": "https://localhost:8080/",
          "height": 888
        }
      },
      "source": [
        "#!ls \"/content/drive/My Drive/Model Outputs/uploads_new\" -l # details of files\n",
        "!ls \"/content/drive/My Drive/Model Outputs/uploads_new\" -lt # sort by time date  (to check if the latest version you uploaded to drive is already seen) \n",
        "# more https://www.tecmint.com/sort-ls-output-by-last-modified-date-and-time/ "
      ],
      "execution_count": 20,
      "outputs": [
        {
          "output_type": "stream",
          "text": [
            "total 31939\n",
            "drwx------ 2 root root    4096 Jan  3 08:11 savepath\n",
            "drwx------ 2 root root    4096 Jan  3 08:10 %date\n",
            "-rw------- 1 root root   20480 Jan  2 10:27 GCF_003015225.1_ASM301522v1_genomic.fna.fxi\n",
            "-rw------- 1 root root   20480 Jan  2 10:27 GCF_000091665.1_ASM9166v1_genomic.fna.fxi\n",
            "-rw------- 1 root root   20480 Jan  2 10:27 GCF_000214725.1_ASM21472v1_genomic.fna.fxi\n",
            "-rw------- 1 root root   20480 Jan  2 10:27 GCF_000027345.1_ASM2734v1_genomic.fna.fxi\n",
            "-rw------- 1 root root   20480 Jan  2 10:27 GCF_000027305.1_ASM2730v1_genomic.fna.fxi\n",
            "-rw------- 1 root root   20480 Jan  2 10:27 GCF_000027325.1_ASM2732v1_genomic.fna.fxi\n",
            "-rw------- 1 root root   20480 Jan  2 10:27 GCF_000009045.1_ASM904v1_genomic.fna.fxi\n",
            "-rw------- 1 root root   20480 Jan  2 10:27 GCF_000008865.2_ASM886v2_genomic.fna.fxi\n",
            "-rw------- 1 root root   20480 Jan  2 10:27 GCF_000008665.1_ASM866v1_genomic.fna.fxi\n",
            "-rw------- 1 root root   20480 Jan  2 10:27 GCF_000008525.1_ASM852v1_genomic.fna.fxi\n",
            "-rw------- 1 root root    1381 Jan  2 10:23 cbow_model.py\n",
            "-rw------- 1 root root    1772 Jan  2 10:23 embeddings_LSTM_mod.py\n",
            "-rw------- 1 root root    1708 Jan  2 10:23 cbow_vocabulary.py\n",
            "drwx------ 2 root root    4096 Jan  2 10:22 __pycache__\n",
            "-rw------- 1 root root    7332 Jan  2 10:21 eval_dataset.py\n",
            "-rw------- 1 root root    1836 Jan  2 10:21 analysis.py\n",
            "-rw------- 1 root root    1989 Jan  2 10:20 conv_LSTM_onehot.py\n",
            "-rw------- 1 root root    2156 Jan  2 10:20 conv_LSTM.py\n",
            "-rw------- 1 root root    1632 Jan  2 10:20 embeddings_LSTM.py\n",
            "-rw------- 1 root root    4696 Jan  2 10:20 plot_conv.py\n",
            "-rw------- 1 root root     750 Jan  2 10:20 filters.py\n",
            "-rw------- 1 root root    1010 Jan  2 10:20 find_largest_gene.py\n",
            "-rw------- 1 root root   13451 Jan  2 10:20 get_labeled_genes.py\n",
            "-rw------- 1 root root    6589 Jan  2 10:20 preproc_pipeline.py\n",
            "-rw------- 1 root root    1684 Jan  2 10:20 remove_small_genes.py\n",
            "-rw------- 1 root root    5023 Jan  2 10:20 build_dataset.py\n",
            "-rw------- 1 root root 1410972 Jan  2 10:19 GCA_000009045.1_ASM904v1_feature_table.tsv\n",
            "-rw------- 1 root root 1476138 Jan  2 10:19 GCA_000008865.2_ASM886v2_feature_table.tsv\n",
            "-rw------- 1 root root 4000927 Jan  2 10:19 GCF_003015225.1_ASM301522v1_genomic.fna\n",
            "-rw------- 1 root root 2578441 Jan  2 10:19 GCF_000214725.1_ASM21472v1_genomic.fna\n",
            "-rw------- 1 root root 1761927 Jan  2 10:19 GCF_000091665.1_ASM9166v1_genomic.fna\n",
            "-rw------- 1 root root 1853087 Jan  2 10:19 GCF_000027305.1_ASM2730v1_genomic.fna\n",
            "-rw------- 1 root root 4268374 Jan  2 10:19 GCF_000009045.1_ASM904v1_genomic.fna\n",
            "-rw------- 1 root root  134935 Jan  2 10:19 GCA_000027325.1_ASM2732v1_feature_table.tsv\n",
            "-rw------- 1 root root  189574 Jan  2 10:19 GCA_000027345.1_ASM2734v1_feature_table.tsv\n",
            "-rw------- 1 root root  512128 Jan  2 10:19 GCA_000091665.1_ASM9166v1_feature_table.tsv\n",
            "-rw------- 1 root root  673560 Jan  2 10:19 GCA_000214725.1_ASM21472v1_feature_table.tsv\n",
            "-rw------- 1 root root 1023778 Jan  2 10:19 GCA_003015225.1_ASM301522v1_feature_table.tsv\n",
            "-rw------- 1 root root 5664775 Jan  2 10:19 GCF_000008865.2_ASM886v2_genomic.fna\n",
            "-rw------- 1 root root  435296 Jan  2 10:19 GCA_000008525.1_ASM852v1_feature_table.tsv\n",
            "-rw------- 1 root root  666275 Jan  2 10:19 GCA_000008665.1_ASM866v1_feature_table.tsv\n",
            "-rw------- 1 root root  466933 Jan  2 10:19 GCA_000027305.1_ASM2730v1_feature_table.tsv\n",
            "-rw------- 1 root root 2205692 Jan  2 10:19 GCF_000008665.1_ASM866v1_genomic.fna\n",
            "-rw------- 1 root root 1688783 Jan  2 10:19 GCF_000008525.1_ASM852v1_genomic.fna\n",
            "-rw------- 1 root root  826667 Jan  2 10:19 GCF_000027345.1_ASM2734v1_genomic.fna\n",
            "-rw------- 1 root root  587383 Jan  2 10:19 GCF_000027325.1_ASM2732v1_genomic.fna\n"
          ],
          "name": "stdout"
        }
      ]
    },
    {
      "cell_type": "code",
      "metadata": {
        "id": "PIPqD0druk5j",
        "colab_type": "code",
        "outputId": "88a43e59-adc2-4158-d1bf-1de14d3bf183",
        "colab": {
          "base_uri": "https://localhost:8080/",
          "height": 35
        }
      },
      "source": [
        "%cd \"/content/drive/My Drive/Model Outputs/uploads_new\"\n",
        "#%cd \"/content/drive/My Drive/Model Outputs/uploads"
      ],
      "execution_count": 21,
      "outputs": [
        {
          "output_type": "stream",
          "text": [
            "/content/drive/My Drive/Model Outputs/uploads_new\n"
          ],
          "name": "stdout"
        }
      ]
    },
    {
      "cell_type": "code",
      "metadata": {
        "colab_type": "code",
        "id": "wxh-ZUlhxueF",
        "colab": {}
      },
      "source": [
        "#jorge import\n",
        "from preproc_pipeline import window_pipeline\n",
        "from warnings import simplefilter\n",
        "from cbow_model import *\n",
        "#from cbow_vocabulary import *"
      ],
      "execution_count": 0,
      "outputs": []
    },
    {
      "cell_type": "code",
      "metadata": {
        "colab_type": "code",
        "id": "7XDPe8two042",
        "outputId": "85f8ebc5-1b67-4a9b-ab4d-35dacddcbc87",
        "colab": {
          "base_uri": "https://localhost:8080/",
          "height": 55
        }
      },
      "source": [
        "\"\"\"arita\n",
        "\n",
        "from preproc_pipeline_NEW import window_pipeline\n",
        "from preproc_pipeline_NEW import *\n",
        "from warnings import simplefilter\n",
        "from cbow_model import *\n",
        "from cbow_vocabulary import *\n",
        "\n",
        "\"\"\""
      ],
      "execution_count": 23,
      "outputs": [
        {
          "output_type": "execute_result",
          "data": {
            "text/plain": [
              "'arita\\n\\nfrom preproc_pipeline_NEW import window_pipeline\\nfrom preproc_pipeline_NEW import *\\nfrom warnings import simplefilter\\nfrom cbow_model import *\\nfrom cbow_vocabulary import *\\n\\n'"
            ]
          },
          "metadata": {
            "tags": []
          },
          "execution_count": 23
        }
      ]
    },
    {
      "cell_type": "code",
      "metadata": {
        "id": "usQNZAZ823G0",
        "colab_type": "code",
        "colab": {}
      },
      "source": [
        "from embeddings_LSTM_mod import * "
      ],
      "execution_count": 0,
      "outputs": []
    },
    {
      "cell_type": "markdown",
      "metadata": {
        "id": "c2tiAOAJSErX",
        "colab_type": "text"
      },
      "source": [
        "## **Directories**"
      ]
    },
    {
      "cell_type": "markdown",
      "metadata": {
        "id": "4NdopIlZSVrA",
        "colab_type": "text"
      },
      "source": [
        "### Root- where to load data\n"
      ]
    },
    {
      "cell_type": "code",
      "metadata": {
        "id": "3cgd2DOhULCU",
        "colab_type": "code",
        "outputId": "a83d9df7-df87-49fc-d1ea-efc97ff3df11",
        "colab": {
          "base_uri": "https://localhost:8080/",
          "height": 212
        }
      },
      "source": [
        "!ls \"/content/drive/My Drive/Model Outputs\""
      ],
      "execution_count": 25,
      "outputs": [
        {
          "output_type": "stream",
          "text": [
            "00000_create_folders_format_YYYYMMDD.gdoc  20200103\n",
            "20191122\t\t\t\t   checkpoints\n",
            "20191129\t\t\t\t   dataframes\n",
            "20191201\t\t\t\t   Fastasplits_train_test\n",
            "20191202\t\t\t\t   genomes\n",
            "20191203\t\t\t\t   old_scripts\n",
            "20191204\t\t\t\t   __pycache__\n",
            "20191227\t\t\t\t   test-savings\n",
            "20191228\t\t\t\t   uploads201911\n",
            "20191229\t\t\t\t   uploads_201912\n",
            "20200102\t\t\t\t   uploads_new\n"
          ],
          "name": "stdout"
        }
      ]
    },
    {
      "cell_type": "code",
      "metadata": {
        "id": "NU_4dHZpu1mn",
        "colab_type": "code",
        "outputId": "cae1534e-0560-4821-cd09-b350a74c79ed",
        "colab": {
          "base_uri": "https://localhost:8080/",
          "height": 35
        }
      },
      "source": [
        "root = \"/content/drive/My Drive/Model Outputs/uploads_new\"\n",
        "#root =  \"/content/drive/My Drive/Model Outputs/uploads\n",
        "root"
      ],
      "execution_count": 26,
      "outputs": [
        {
          "output_type": "execute_result",
          "data": {
            "text/plain": [
              "'/content/drive/My Drive/Model Outputs/uploads_new'"
            ]
          },
          "metadata": {
            "tags": []
          },
          "execution_count": 26
        }
      ]
    },
    {
      "cell_type": "markdown",
      "metadata": {
        "id": "h9yz3r6ng_0G",
        "colab_type": "text"
      },
      "source": [
        "### Savepath - where to save daybyday trials\n",
        "\n",
        "folder with date in format YYYYMMDD"
      ]
    },
    {
      "cell_type": "code",
      "metadata": {
        "colab_type": "code",
        "id": "M7XD3EWSwy_0",
        "outputId": "56510530-63f5-434e-ab49-c97b6c9d271c",
        "colab": {
          "base_uri": "https://localhost:8080/",
          "height": 52
        }
      },
      "source": [
        "from datetime import datetime\n",
        "\n",
        "#date = datetime.today().strftime('%Y%m%d') # current date\n",
        "date = 20200102\n",
        "#date= 'YYYYMMDD'  #date of choice\n",
        "\n",
        "savepath = \"/content/drive/My Drive/Model Outputs/%s\" %(date)\n",
        "# print (savepath) #show savepath\n",
        "# os.chdir(savepath) #change directory to (path)\n",
        "\n",
        "if os.path.exists(savepath) == False:\n",
        "  print ('YOU SHALL CREATE THE FOLDER IN DRIVE FIRST!')\n",
        "else: \n",
        "  print ('files from today will be saved in:')\n",
        "  print (savepath)\n",
        "\n",
        "\n",
        "#!ls \"/content/drive/My Drive/Model Outputs/02122019\" \n",
        "#%cd \"/content/drive/My Drive/Model Outputs/02122019\" \n",
        "#print (\"kmers%s\" %(date))"
      ],
      "execution_count": 27,
      "outputs": [
        {
          "output_type": "stream",
          "text": [
            "files from today will be saved in:\n",
            "/content/drive/My Drive/Model Outputs/20200102\n"
          ],
          "name": "stdout"
        }
      ]
    },
    {
      "cell_type": "markdown",
      "metadata": {
        "id": "WLMfRro6YK14",
        "colab_type": "text"
      },
      "source": [
        "### other directory check"
      ]
    },
    {
      "cell_type": "code",
      "metadata": {
        "id": "IMF42jzxYQU_",
        "colab_type": "code",
        "outputId": "8e1ba099-8bed-40af-cf9c-6edf649657da",
        "colab": {
          "base_uri": "https://localhost:8080/",
          "height": 106
        }
      },
      "source": [
        "# directory exists? \n",
        "test_directory = \"/content/drive/My Drive/Model Outputs/Fastasplits_train_test\"\n",
        "if os.path.exists(test_directory) == False:\n",
        "  print ('YOU SHALL CREATE THE FOLDER IN DRIVE FIRST!')\n",
        "else: \n",
        "  print ('files from today will be saved in:')\n",
        "  print (test_directory)\n",
        "  print ()\n",
        "  #directory is empty?\n",
        "  if len(os.listdir(test_directory)) == 0: \n",
        "      print(\"Empty directory\") \n",
        "  else: \n",
        "      print(\"Not empty directory\") \n",
        "      !ls test_directory"
      ],
      "execution_count": 28,
      "outputs": [
        {
          "output_type": "stream",
          "text": [
            "files from today will be saved in:\n",
            "/content/drive/My Drive/Model Outputs/Fastasplits_train_test\n",
            "\n",
            "Not empty directory\n",
            "ls: cannot access 'test_directory': No such file or directory\n"
          ],
          "name": "stdout"
        }
      ]
    },
    {
      "cell_type": "code",
      "metadata": {
        "id": "zsGUuiWsZJdy",
        "colab_type": "code",
        "outputId": "f27ea027-deaa-48c4-df45-43dacbbac07e",
        "colab": {
          "base_uri": "https://localhost:8080/",
          "height": 35
        }
      },
      "source": [
        "len(test_directory)"
      ],
      "execution_count": 29,
      "outputs": [
        {
          "output_type": "execute_result",
          "data": {
            "text/plain": [
              "60"
            ]
          },
          "metadata": {
            "tags": []
          },
          "execution_count": 29
        }
      ]
    },
    {
      "cell_type": "code",
      "metadata": {
        "id": "HdpAixgaobjN",
        "colab_type": "code",
        "outputId": "f9246d4e-0ad4-4a2c-9e6a-60c719744fd9",
        "colab": {
          "base_uri": "https://localhost:8080/",
          "height": 870
        }
      },
      "source": [
        "!ls"
      ],
      "execution_count": 30,
      "outputs": [
        {
          "output_type": "stream",
          "text": [
            "analysis.py\n",
            "build_dataset.py\n",
            "cbow_model.py\n",
            "cbow_vocabulary.py\n",
            "conv_LSTM_onehot.py\n",
            "conv_LSTM.py\n",
            "%date\n",
            "embeddings_LSTM_mod.py\n",
            "embeddings_LSTM.py\n",
            "eval_dataset.py\n",
            "filters.py\n",
            "find_largest_gene.py\n",
            "GCA_000008525.1_ASM852v1_feature_table.tsv\n",
            "GCA_000008665.1_ASM866v1_feature_table.tsv\n",
            "GCA_000008865.2_ASM886v2_feature_table.tsv\n",
            "GCA_000009045.1_ASM904v1_feature_table.tsv\n",
            "GCA_000027305.1_ASM2730v1_feature_table.tsv\n",
            "GCA_000027325.1_ASM2732v1_feature_table.tsv\n",
            "GCA_000027345.1_ASM2734v1_feature_table.tsv\n",
            "GCA_000091665.1_ASM9166v1_feature_table.tsv\n",
            "GCA_000214725.1_ASM21472v1_feature_table.tsv\n",
            "GCA_003015225.1_ASM301522v1_feature_table.tsv\n",
            "GCF_000008525.1_ASM852v1_genomic.fna\n",
            "GCF_000008525.1_ASM852v1_genomic.fna.fxi\n",
            "GCF_000008665.1_ASM866v1_genomic.fna\n",
            "GCF_000008665.1_ASM866v1_genomic.fna.fxi\n",
            "GCF_000008865.2_ASM886v2_genomic.fna\n",
            "GCF_000008865.2_ASM886v2_genomic.fna.fxi\n",
            "GCF_000009045.1_ASM904v1_genomic.fna\n",
            "GCF_000009045.1_ASM904v1_genomic.fna.fxi\n",
            "GCF_000027305.1_ASM2730v1_genomic.fna\n",
            "GCF_000027305.1_ASM2730v1_genomic.fna.fxi\n",
            "GCF_000027325.1_ASM2732v1_genomic.fna\n",
            "GCF_000027325.1_ASM2732v1_genomic.fna.fxi\n",
            "GCF_000027345.1_ASM2734v1_genomic.fna\n",
            "GCF_000027345.1_ASM2734v1_genomic.fna.fxi\n",
            "GCF_000091665.1_ASM9166v1_genomic.fna\n",
            "GCF_000091665.1_ASM9166v1_genomic.fna.fxi\n",
            "GCF_000214725.1_ASM21472v1_genomic.fna\n",
            "GCF_000214725.1_ASM21472v1_genomic.fna.fxi\n",
            "GCF_003015225.1_ASM301522v1_genomic.fna\n",
            "GCF_003015225.1_ASM301522v1_genomic.fna.fxi\n",
            "get_labeled_genes.py\n",
            "plot_conv.py\n",
            "preproc_pipeline.py\n",
            "__pycache__\n",
            "remove_small_genes.py\n",
            "savepath\n"
          ],
          "name": "stdout"
        }
      ]
    },
    {
      "cell_type": "code",
      "metadata": {
        "colab_type": "code",
        "id": "xo0MkJCClIWO",
        "outputId": "86ff8754-9b48-46b6-bd19-ba533852d493",
        "colab": {
          "base_uri": "https://localhost:8080/",
          "height": 35
        }
      },
      "source": [
        "\"\"\"\n",
        "from preproc_pipeline import window_pipeline\n",
        "from warnings import simplefilter\n",
        "from cbow_model import *\n",
        "from cbow_vocabulary import *\n",
        "\"\"\""
      ],
      "execution_count": 31,
      "outputs": [
        {
          "output_type": "execute_result",
          "data": {
            "text/plain": [
              "'\\nfrom preproc_pipeline import window_pipeline\\nfrom warnings import simplefilter\\nfrom cbow_model import *\\nfrom cbow_vocabulary import *\\n'"
            ]
          },
          "metadata": {
            "tags": []
          },
          "execution_count": 31
        }
      ]
    },
    {
      "cell_type": "code",
      "metadata": {
        "id": "61QIUXAHqaN3",
        "colab_type": "code",
        "colab": {}
      },
      "source": [
        ""
      ],
      "execution_count": 0,
      "outputs": []
    },
    {
      "cell_type": "markdown",
      "metadata": {
        "colab_type": "text",
        "id": "NyBSqSx_mKZW"
      },
      "source": [
        "# 1- Reading fasta and tsv files -L"
      ]
    },
    {
      "cell_type": "code",
      "metadata": {
        "colab_type": "code",
        "outputId": "fd99d8a2-013b-4bd2-f1f9-7baee009c2d6",
        "id": "Q0D2l7EN-7DW",
        "colab": {
          "base_uri": "https://localhost:8080/",
          "height": 35
        }
      },
      "source": [
        "%cd \"/content/drive/My Drive/Model Outputs/uploads_new\"\n",
        "#%cd \"/content/drive/My Drive/Model Outputs/uploads"
      ],
      "execution_count": 87,
      "outputs": [
        {
          "output_type": "stream",
          "text": [
            "/content/drive/My Drive/Model Outputs/uploads_new\n"
          ],
          "name": "stdout"
        }
      ]
    },
    {
      "cell_type": "code",
      "metadata": {
        "colab_type": "code",
        "id": "yFWptuqVgip0",
        "colab": {}
      },
      "source": [
        "simplefilter(\"ignore\")\n",
        "genomes = (\n",
        "     \"GCF_000008525.1_ASM852v1_genomic.fna\",\n",
        "     \"GCF_000008665.1_ASM866v1_genomic.fna\",\n",
        "     \"GCF_000008865.2_ASM886v2_genomic.fna\",\n",
        "     \"GCF_000009045.1_ASM904v1_genomic.fna\",\n",
        "     \"GCF_000027305.1_ASM2730v1_genomic.fna\",\n",
        "     \"GCF_000027325.1_ASM2732v1_genomic.fna\",\n",
        "     \"GCF_000027345.1_ASM2734v1_genomic.fna\",\n",
        "     \"GCF_000091665.1_ASM9166v1_genomic.fna\",\n",
        "     \"GCF_000214725.1_ASM21472v1_genomic.fna\",\n",
        "     \"GCF_003015225.1_ASM301522v1_genomic.fna\"\n",
        ")\n",
        "feature_tables = (\n",
        "     \"GCA_000008525.1_ASM852v1_feature_table.tsv\",\n",
        "     \"GCA_000008665.1_ASM866v1_feature_table.tsv\",\n",
        "     \"GCA_000008865.2_ASM886v2_feature_table.tsv\",\n",
        "     \"GCA_000009045.1_ASM904v1_feature_table.tsv\",\n",
        "     \"GCA_000027305.1_ASM2730v1_feature_table.tsv\",\n",
        "     \"GCA_000027325.1_ASM2732v1_feature_table.tsv\",\n",
        "     \"GCA_000027345.1_ASM2734v1_feature_table.tsv\",\n",
        "     \"GCA_000091665.1_ASM9166v1_feature_table.tsv\",\n",
        "     \"GCA_000214725.1_ASM21472v1_feature_table.tsv\",\n",
        "     \"GCA_003015225.1_ASM301522v1_feature_table.tsv\"\n",
        ")"
      ],
      "execution_count": 0,
      "outputs": []
    },
    {
      "cell_type": "code",
      "metadata": {
        "colab_type": "code",
        "id": "FyFzTWg2wT60",
        "outputId": "442ddf6e-5600-4308-8b8a-51fc217bad10",
        "colab": {
          "base_uri": "https://localhost:8080/",
          "height": 550
        }
      },
      "source": [
        "for i in range(len(genomes)):\n",
        "  c = 0\n",
        "  for name, seq in pyfastx.Fasta(genomes[i], build_index = False):\n",
        "    #print (type(seq))\n",
        "    #print (name)\n",
        "    print ('%d_%d %s %s, lenght:%d'% (i,c,genomes[i],name,len(seq)))\n",
        "    c = c+1\n",
        "  print (dash)\n",
        "\n",
        "  "
      ],
      "execution_count": 18,
      "outputs": [
        {
          "output_type": "stream",
          "text": [
            "0_0 GCF_000008525.1_ASM852v1_genomic.fna NC_000915.1, lenght:1667867\n",
            "--------------------------------------------------------------------------------\n",
            "1_0 GCF_000008665.1_ASM866v1_genomic.fna NC_000917.1, lenght:2178400\n",
            "--------------------------------------------------------------------------------\n",
            "2_0 GCF_000008865.2_ASM886v2_genomic.fna NC_002695.2, lenght:5498578\n",
            "2_1 GCF_000008865.2_ASM886v2_genomic.fna NC_002128.1, lenght:92721\n",
            "2_2 GCF_000008865.2_ASM886v2_genomic.fna NC_002127.1, lenght:3306\n",
            "--------------------------------------------------------------------------------\n",
            "3_0 GCF_000009045.1_ASM904v1_genomic.fna NC_000964.3, lenght:4215606\n",
            "--------------------------------------------------------------------------------\n",
            "4_0 GCF_000027305.1_ASM2730v1_genomic.fna NC_000907.1, lenght:1830138\n",
            "--------------------------------------------------------------------------------\n",
            "5_0 GCF_000027325.1_ASM2732v1_genomic.fna NC_000908.2, lenght:580076\n",
            "--------------------------------------------------------------------------------\n",
            "6_0 GCF_000027345.1_ASM2734v1_genomic.fna NC_000912.1, lenght:816394\n",
            "--------------------------------------------------------------------------------\n",
            "7_0 GCF_000091665.1_ASM9166v1_genomic.fna NC_000909.1, lenght:1664970\n",
            "7_1 GCF_000091665.1_ASM9166v1_genomic.fna NC_001732.1, lenght:58407\n",
            "7_2 GCF_000091665.1_ASM9166v1_genomic.fna NC_001733.1, lenght:16550\n",
            "--------------------------------------------------------------------------------\n",
            "8_0 GCF_000214725.1_ASM21472v1_genomic.fna NC_015574.1, lenght:2546541\n",
            "--------------------------------------------------------------------------------\n",
            "9_0 GCF_003015225.1_ASM301522v1_genomic.fna NZ_CP028094.1, lenght:3574310\n",
            "9_1 GCF_003015225.1_ASM301522v1_genomic.fna NZ_CP028095.1, lenght:2505\n",
            "9_2 GCF_003015225.1_ASM301522v1_genomic.fna NZ_CP028096.1, lenght:2621\n",
            "9_3 GCF_003015225.1_ASM301522v1_genomic.fna NZ_CP028097.1, lenght:103230\n",
            "9_4 GCF_003015225.1_ASM301522v1_genomic.fna NZ_CP028098.1, lenght:44343\n",
            "9_5 GCF_003015225.1_ASM301522v1_genomic.fna NZ_CP028099.1, lenght:118712\n",
            "9_6 GCF_003015225.1_ASM301522v1_genomic.fna NZ_CP028100.1, lenght:105272\n",
            "--------------------------------------------------------------------------------\n"
          ],
          "name": "stdout"
        }
      ]
    },
    {
      "cell_type": "markdown",
      "metadata": {
        "colab_type": "text",
        "id": "k3QGdWCoK4sN"
      },
      "source": [
        "we choose only the first file for each of the 10 genomes"
      ]
    },
    {
      "cell_type": "code",
      "metadata": {
        "colab_type": "code",
        "id": "r5SzWM8iA5IT",
        "colab": {}
      },
      "source": [
        "gen = dict()\n",
        "for i in range(len(genomes)):\n",
        "  c = 0\n",
        "  fna= pyfastx.Fasta(genomes[i], build_index = False)\n",
        "  gen[i] = str(fna[0])\n",
        "  l = len(gen[i])\n",
        "  split = int(l/2)\n",
        "  print ('%d_%d %s '% (i,c,genomes[i]))\n",
        "  print ('%s... '%(gen[i][0:10]))\n",
        "  print ('(0,%d)'%split)\n",
        "  print ('(%d,%d)'%(split,l))\n",
        "  print (dash)"
      ],
      "execution_count": 0,
      "outputs": []
    },
    {
      "cell_type": "markdown",
      "metadata": {
        "colab_type": "text",
        "id": "pj7ghCdFcpNN"
      },
      "source": [
        "#2 - Splitting Genomes in train and set\n",
        "\n",
        "to be run only first time"
      ]
    },
    {
      "cell_type": "markdown",
      "metadata": {
        "colab_type": "text",
        "id": "Jhb60UXGchyR"
      },
      "source": [
        "### Fastasplits directory"
      ]
    },
    {
      "cell_type": "code",
      "metadata": {
        "id": "ygLSM04SvNgz",
        "colab_type": "code",
        "outputId": "51170b0c-b0c7-48f1-e690-0cdae8c7406d",
        "colab": {
          "base_uri": "https://localhost:8080/",
          "height": 33
        }
      },
      "source": [
        "\"\"\"\n",
        "#make a new directory!\n",
        "!mkdir \"/content/drive/My Drive/mock\"\n",
        "\"\"\""
      ],
      "execution_count": 0,
      "outputs": [
        {
          "output_type": "execute_result",
          "data": {
            "text/plain": [
              "'\\n!mkdir \"/content/drive/My Drive/mock\"\\n'"
            ]
          },
          "metadata": {
            "tags": []
          },
          "execution_count": 31
        }
      ]
    },
    {
      "cell_type": "markdown",
      "metadata": {
        "id": "IorHjD6MZoep",
        "colab_type": "text"
      },
      "source": [
        "## Savefasta -L"
      ]
    },
    {
      "cell_type": "code",
      "metadata": {
        "colab_type": "code",
        "id": "JOdXx1AmaKun",
        "colab": {}
      },
      "source": [
        "savefasta = \"/content/drive/My Drive/Model Outputs/Fastasplits_train_test\"\n",
        "#root = \"/content/\""
      ],
      "execution_count": 0,
      "outputs": []
    },
    {
      "cell_type": "code",
      "metadata": {
        "colab_type": "code",
        "id": "B4mJifUgJM93",
        "colab": {}
      },
      "source": [
        "twist = True #taking for training first half for even genomes, and second half of uneven\n",
        "#twist = False # taking always first half as training and second half as test"
      ],
      "execution_count": 0,
      "outputs": []
    },
    {
      "cell_type": "code",
      "metadata": {
        "colab_type": "code",
        "id": "yI2H8yNJD6U7",
        "outputId": "c1cbc54f-e010-421d-86ed-ce1d3297225a",
        "colab": {
          "base_uri": "https://localhost:8080/",
          "height": 50
        }
      },
      "source": [
        "if os.path.exists(savefasta):\n",
        "  print ('directory exists')\n",
        "  if len(os.listdir(savefasta)) == 0:  # if we havent produced this already\n",
        "    print ('directory is currently empty')\n",
        "\n",
        "    if twist: \n",
        "      \n",
        "      print ('creating Train and test genomes, with twist, saving in:')\n",
        "      print (savefasta)\n",
        "      print (dash)\n",
        "\n",
        "      os.chdir(root)\n",
        "\n",
        "      GEN = dict()\n",
        "      splitting_loc = list()\n",
        "      train_splits = list()\n",
        "      test_splits = list()\n",
        "      for i in range(len(genomes)):\n",
        "        c = 0\n",
        "        fna= pyfastx.Fasta(genomes[i], build_index = False)\n",
        "        GEN[i] = str(fna[0])\n",
        "        l = len(GEN[i])\n",
        "        s = int(l/2)\n",
        "        print ('%d_%d %s '% (i,c,genomes[i]))\n",
        "        print ('%s... tot lenght:%d '%(GEN[i][0:10],l))\n",
        "        #s = int(len(GEN[i])/2)\n",
        "        splitting_loc.append(s)\n",
        "        if i % 2 ==0: \n",
        "          training_fasta = GEN[i][0:s] # first half for training \n",
        "          testing_fasta = GEN[i][-s:]  # second half for testing \n",
        "\n",
        "          a = (0,s)\n",
        "          b = (s,l)\n",
        "\n",
        "          train_splits.append(a)\n",
        "          test_splits.append(b)\n",
        "\n",
        "          os.chdir(savefasta)\n",
        "\n",
        "          ofile = open(\"%s_%s_TRAIN_%s\" % (i,c,genomes[i]), \"w\")\n",
        "          ofile.write(\">%s_%s_TRAIN_%s\\n%s\\n\" % (i,c,genomes[i], training_fasta))\n",
        "          ofile.close()\n",
        "          print ('file %s_%s_TRAIN_%s saved' %(i,c,genomes[i]))\n",
        "\n",
        "          ofile = open(\"%s_%s_TEST_%s\" % (i,c,genomes[i]), \"w\")\n",
        "          ofile.write(\">%s_%s_TEST_%s\\n%s\\n\" % (i,c,genomes[i], testing_fasta))\n",
        "          ofile.close()\n",
        "          print ('file %s_%s_TEST_%s saved' %(i,c,genomes[i]))\n",
        "          print ()\n",
        "          os.chdir(root)\n",
        "\n",
        "        else:\n",
        "          os.chdir(root)\n",
        "          training_fasta = GEN[i][-s:]  # second half for training \n",
        "          testing_fasta = GEN[i][0:s] # first half for testing \n",
        "\n",
        "          a = (s,l)\n",
        "          b = (0,s)\n",
        "\n",
        "          train_splits.append(a)\n",
        "          test_splits.append(b)\n",
        "        \n",
        "          os.chdir(savefasta)\n",
        "\n",
        "          ofile = open(\"%s_%s_TRAIN_%s\" % (i,c,genomes[i]), \"w\")\n",
        "          ofile.write(\">%s_%s_TRAIN_%s\\n%s\\n\" % (i,c,genomes[i], training_fasta))\n",
        "          ofile.close()\n",
        "          print ('file %s_%s_TRAIN_%s saved' %(i,c,genomes[i]))\n",
        "\n",
        "          ofile = open(\"%s_%s_TEST_%s\" % (i,c,genomes[i]), \"w\")\n",
        "          ofile.write(\">%s_%s_TEST_%s\\n%s\\n\" % (i,c,genomes[i], testing_fasta))\n",
        "          ofile.close()\n",
        "          print ('file %s_%s_TEST_%s saved' %(i,c,genomes[i]))\n",
        "          print ()\n",
        "          os.chdir(root)\n",
        "        c = c+1\n",
        "\n",
        "      os.chdir(savefasta)\n",
        "      print (splitting_loc)\n",
        "      with open(\"splitting_loc.pkl\", \"wb\") as fp:   #Pickling\n",
        "        pickle.dump(splitting_loc, fp)\n",
        "      print ('splitting_loc saved')\n",
        "      print ()\n",
        "\n",
        "      print (train_splits)\n",
        "      with open(\"train_splits.pkl\", \"wb\") as fp:   #Pickling\n",
        "        pickle.dump(train_splits, fp)\n",
        "      print ('train_splits saved')\n",
        "      print ()\n",
        "\n",
        "      print (test_splits)\n",
        "      with open(\"test_splits.pkl\", \"wb\") as fp:   #Pickling\n",
        "        pickle.dump(test_splits, fp)\n",
        "      print ('test_splits saved')\n",
        "      print ()\n",
        "\n",
        "    else:#twist false \n",
        "      print ('creating Train and test genomes, with twist, saving in:')\n",
        "      print (savefasta)\n",
        "      print (dash)\n",
        "      \n",
        "      os.chdir(root) #load from root\n",
        "      \n",
        "      GEN = dict()\n",
        "      splitting_loc = list()\n",
        "      for i in range(len(genomes)):\n",
        "        c = 0\n",
        "        fna= pyfastx.Fasta(genomes[i], build_index = False)\n",
        "        GEN[i] = str(fna[0])\n",
        "        l = len(gen[i])\n",
        "        s = int(l/2)\n",
        "        print ('%d_%d %s '% (i,c,genomes[i]))\n",
        "        print ('%s... tot lenght:%d '%(GEN[i][0:10],l))\n",
        "        #s = int(len(GEN[i])/2)\n",
        "\n",
        "        a = (0,s)\n",
        "        b = (s,l)\n",
        "\n",
        "        train_splits.append(a)\n",
        "        test_splits.append(b)\n",
        "        splitting_loc.append(s)\n",
        "        \n",
        "        training_fasta = GEN[i][0:s] # first half for training \n",
        "        testing_fasta = GEN[i][-s:]  # second half for testing \n",
        "\n",
        "        os.chdir(savefasta)\n",
        "\n",
        "        ofile = open(\"%s_%s_TRAIN_%s\" % (i,c,genomes[i]), \"w\")\n",
        "        ofile.write(\">%s_%s_TRAIN_%s\\n%s\\n\" % (i,c,genomes[i], training_fasta))\n",
        "        ofile.close()\n",
        "        print ('file %s_%s_TRAIN_%s loaded' %(i,c,genomes[i]))\n",
        "\n",
        "\n",
        "        ofile = open(\"%s_%s_TEST_%s\" % (i,c,genomes[i]), \"w\")\n",
        "        ofile.write(\">%s_%s_TEST_%s\\n%s\\n\" % (i,c,genomes[i], testing_fasta))\n",
        "        ofile.close()\n",
        "        print ('file %s_%s_TEST_%s loaded' %(i,c,genomes[i]))\n",
        "        print ()\n",
        "        os.chdir(root)\n",
        "        c = c+1\n",
        "\n",
        "      os.chdir(savefasta)\n",
        "      print (splitting_loc)\n",
        "      with open(\"splitting_loc.pkl\", \"wb\") as fp:   #Pickling\n",
        "        pickle.dump(splitting_loc, fp)\n",
        "      print ('splitting_loc saved')\n",
        "      print ()\n",
        "\n",
        "      print (train_splits)\n",
        "      with open(\"train_splits.pkl\", \"wb\") as fp:   #Pickling\n",
        "        pickle.dump(train_splits, fp)\n",
        "      print ('train_splits saved')\n",
        "      print ()\n",
        "\n",
        "      print (test_splits)\n",
        "      with open(\"test_splits.pkl\", \"wb\") as fp:   #Pickling\n",
        "        pickle.dump(test_splits, fp)\n",
        "      print ('test_splits saved')\n",
        "      print ()\n",
        "\n",
        "\n",
        "  else:\n",
        "    print ('files are already in the directory')\n",
        "else:\n",
        "  print ('YOU SHALL CREATE THE FOLDER IN DRIVE FIRST!')"
      ],
      "execution_count": 0,
      "outputs": [
        {
          "output_type": "stream",
          "text": [
            "directory exists\n",
            "files are already in the directory\n"
          ],
          "name": "stdout"
        }
      ]
    },
    {
      "cell_type": "markdown",
      "metadata": {
        "colab_type": "text",
        "id": "1xDL-JNVGSiJ"
      },
      "source": [
        "### unpickling test and train splits -L"
      ]
    },
    {
      "cell_type": "code",
      "metadata": {
        "colab_type": "code",
        "id": "P7PYuuhsGW7r",
        "outputId": "f3186b89-fa2f-4a46-dc08-850565eca825",
        "colab": {
          "base_uri": "https://localhost:8080/",
          "height": 72
        }
      },
      "source": [
        "os.chdir(savefasta) # if needed to reset the directory\n",
        "with open(\"train_splits.pkl\", \"rb\") as fp:   # Unpickling\n",
        "  train_splits = pickle.load(fp)\n",
        "print (train_splits)\n",
        "\n",
        "with open(\"test_splits.pkl\", \"rb\") as fp:   # Unpickling\n",
        "  test_splits = pickle.load(fp)\n",
        "print (test_splits)"
      ],
      "execution_count": 52,
      "outputs": [
        {
          "output_type": "stream",
          "text": [
            "[(0, 833933), (1089200, 2178400), (0, 2749289), (2107803, 4215606), (0, 915069), (290038, 580076), (0, 408197), (832485, 1664970), (0, 1273270), (1787155, 3574310)]\n",
            "[(833933, 1667867), (0, 1089200), (2749289, 5498578), (0, 2107803), (915069, 1830138), (0, 290038), (408197, 816394), (0, 832485), (1273270, 2546541), (0, 1787155)]\n"
          ],
          "name": "stdout"
        }
      ]
    },
    {
      "cell_type": "markdown",
      "metadata": {
        "colab_type": "text",
        "id": "fE4ZBDmWzyl5"
      },
      "source": [
        "#3 -Create train dataframe and test dataframe\n"
      ]
    },
    {
      "cell_type": "markdown",
      "metadata": {
        "id": "zPgww9aBJy7d",
        "colab_type": "text"
      },
      "source": [
        "## Dataframe parameters - L"
      ]
    },
    {
      "cell_type": "code",
      "metadata": {
        "id": "LmzDUVczJzY1",
        "colab_type": "code",
        "colab": {}
      },
      "source": [
        "num_windows = 1 #window slide with our settings\n",
        "window_size = 50\n",
        "annotate = False\n",
        "NSAMPLE = 2000\n",
        "\n",
        "df_parameters = \"NSAMPLE%s_num_windows%s_window_size%s\" %(NSAMPLE,num_windows,window_size)"
      ],
      "execution_count": 0,
      "outputs": []
    },
    {
      "cell_type": "markdown",
      "metadata": {
        "colab_type": "text",
        "id": "gR0BWIhpshaU"
      },
      "source": [
        "## Dataframes directory - L"
      ]
    },
    {
      "cell_type": "code",
      "metadata": {
        "colab_type": "code",
        "id": "jo5HmZgcshaV",
        "colab": {
          "base_uri": "https://localhost:8080/",
          "height": 35
        },
        "outputId": "f4e5f983-76a7-4fe6-f983-158b83e2af10"
      },
      "source": [
        "#!mkdir \"/content/drive/My Drive/Model Outputs/dataframes\"\n",
        "savedf = \"/content/drive/My Drive/Model Outputs/%s\"%date\n",
        "#os.chdir(savedf) #change directory to (path)\n",
        "print (savedf)"
      ],
      "execution_count": 48,
      "outputs": [
        {
          "output_type": "stream",
          "text": [
            "/content/drive/My Drive/Model Outputs/20200102\n"
          ],
          "name": "stdout"
        }
      ]
    },
    {
      "cell_type": "markdown",
      "metadata": {
        "id": "AWq2hpMYKXEw",
        "colab_type": "text"
      },
      "source": [
        "## directory names of df_train and df_test"
      ]
    },
    {
      "cell_type": "code",
      "metadata": {
        "id": "nDv3A7QWKXik",
        "colab_type": "code",
        "colab": {
          "base_uri": "https://localhost:8080/",
          "height": 52
        },
        "outputId": "87656d70-d35e-48b4-af98-20e71ea743da"
      },
      "source": [
        "#train_df_name = savedf +'/NSAMPLE%s_num_windows%s_window_size%s_train_df.pkl'%(NSAMPLE,num_windows,window_size)\n",
        "train_df_name = savedf + \"/\"+ df_parameters + '_train_df.pkl'\n",
        "test_df_name = savedf +\"/\"+ df_parameters + '_test_df.pkl'\n",
        "print (train_df_name)\n",
        "print (test_df_name)"
      ],
      "execution_count": 53,
      "outputs": [
        {
          "output_type": "stream",
          "text": [
            "/content/drive/My Drive/Model Outputs/20200102/NSAMPLE2000_num_windows1_window_size50_train_df.pkl\n",
            "/content/drive/My Drive/Model Outputs/20200102/NSAMPLE2000_num_windows1_window_size50_test_df.pkl\n"
          ],
          "name": "stdout"
        }
      ]
    },
    {
      "cell_type": "markdown",
      "metadata": {
        "id": "c2z7TJQQJr3N",
        "colab_type": "text"
      },
      "source": [
        "## **pickle/unpickle switch dataframes** -L"
      ]
    },
    {
      "cell_type": "code",
      "metadata": {
        "colab_type": "code",
        "id": "avWKdC44pkHS",
        "colab": {}
      },
      "source": [
        "unpickle_df = True\n",
        "#unpickle_df = False"
      ],
      "execution_count": 0,
      "outputs": []
    },
    {
      "cell_type": "markdown",
      "metadata": {
        "id": "4W6n137PnvsM",
        "colab_type": "text"
      },
      "source": [
        "## Loading FASTA files and TSV tables\n",
        "together with features tables in dataframes"
      ]
    },
    {
      "cell_type": "markdown",
      "metadata": {
        "id": "FbTOPcKONcxp",
        "colab_type": "text"
      },
      "source": [
        "check the folder is the right one, where the X_X_TRAIN and X_X_TEST files are saved"
      ]
    },
    {
      "cell_type": "code",
      "metadata": {
        "id": "u2m2YeTwaWue",
        "colab_type": "code",
        "outputId": "5e1348cc-0f7c-4229-f79a-3630bff658fd",
        "colab": {
          "base_uri": "https://localhost:8080/",
          "height": 959
        }
      },
      "source": [
        "!ls \n",
        "os.chdir(savefasta) # if needed to reset the directory"
      ],
      "execution_count": 91,
      "outputs": [
        {
          "output_type": "stream",
          "text": [
            "0_0_TEST_GCF_000008525.1_ASM852v1_genomic.fna\n",
            "0_0_TEST_GCF_000008525.1_ASM852v1_genomic.fna.fxi\n",
            "0_0_TRAIN_GCF_000008525.1_ASM852v1_genomic.fna\n",
            "0_0_TRAIN_GCF_000008525.1_ASM852v1_genomic.fna.fxi\n",
            "1_0_TEST_GCF_000008665.1_ASM866v1_genomic.fna\n",
            "1_0_TEST_GCF_000008665.1_ASM866v1_genomic.fna.fxi\n",
            "1_0_TRAIN_GCF_000008665.1_ASM866v1_genomic.fna\n",
            "1_0_TRAIN_GCF_000008665.1_ASM866v1_genomic.fna.fxi\n",
            "2_0_TEST_GCF_000008865.2_ASM886v2_genomic.fna\n",
            "2_0_TEST_GCF_000008865.2_ASM886v2_genomic.fna.fxi\n",
            "2_0_TRAIN_GCF_000008865.2_ASM886v2_genomic.fna\n",
            "2_0_TRAIN_GCF_000008865.2_ASM886v2_genomic.fna.fxi\n",
            "3_0_TEST_GCF_000009045.1_ASM904v1_genomic.fna\n",
            "3_0_TEST_GCF_000009045.1_ASM904v1_genomic.fna.fxi\n",
            "3_0_TRAIN_GCF_000009045.1_ASM904v1_genomic.fna\n",
            "3_0_TRAIN_GCF_000009045.1_ASM904v1_genomic.fna.fxi\n",
            "4_0_TEST_GCF_000027305.1_ASM2730v1_genomic.fna\n",
            "4_0_TEST_GCF_000027305.1_ASM2730v1_genomic.fna.fxi\n",
            "4_0_TRAIN_GCF_000027305.1_ASM2730v1_genomic.fna\n",
            "4_0_TRAIN_GCF_000027305.1_ASM2730v1_genomic.fna.fxi\n",
            "5_0_TEST_GCF_000027325.1_ASM2732v1_genomic.fna\n",
            "5_0_TEST_GCF_000027325.1_ASM2732v1_genomic.fna.fxi\n",
            "5_0_TRAIN_GCF_000027325.1_ASM2732v1_genomic.fna\n",
            "5_0_TRAIN_GCF_000027325.1_ASM2732v1_genomic.fna.fxi\n",
            "6_0_TEST_GCF_000027345.1_ASM2734v1_genomic.fna\n",
            "6_0_TEST_GCF_000027345.1_ASM2734v1_genomic.fna.fxi\n",
            "6_0_TRAIN_GCF_000027345.1_ASM2734v1_genomic.fna\n",
            "6_0_TRAIN_GCF_000027345.1_ASM2734v1_genomic.fna.fxi\n",
            "7_0_TEST_GCF_000091665.1_ASM9166v1_genomic.fna\n",
            "7_0_TEST_GCF_000091665.1_ASM9166v1_genomic.fna.fxi\n",
            "7_0_TRAIN_GCF_000091665.1_ASM9166v1_genomic.fna\n",
            "7_0_TRAIN_GCF_000091665.1_ASM9166v1_genomic.fna.fxi\n",
            "8_0_TEST_GCF_000214725.1_ASM21472v1_genomic.fna\n",
            "8_0_TEST_GCF_000214725.1_ASM21472v1_genomic.fna.fxi\n",
            "8_0_TRAIN_GCF_000214725.1_ASM21472v1_genomic.fna\n",
            "8_0_TRAIN_GCF_000214725.1_ASM21472v1_genomic.fna.fxi\n",
            "9_0_TEST_GCF_003015225.1_ASM301522v1_genomic.fna\n",
            "9_0_TEST_GCF_003015225.1_ASM301522v1_genomic.fna.fxi\n",
            "9_0_TRAIN_GCF_003015225.1_ASM301522v1_genomic.fna\n",
            "9_0_TRAIN_GCF_003015225.1_ASM301522v1_genomic.fna.fxi\n",
            "GCA_000008525.1_ASM852v1_feature_table.tsv\n",
            "GCA_000008665.1_ASM866v1_feature_table.tsv\n",
            "GCA_000008865.2_ASM886v2_feature_table.tsv\n",
            "GCA_000009045.1_ASM904v1_feature_table.tsv\n",
            "GCA_000027305.1_ASM2730v1_feature_table.tsv\n",
            "GCA_000027325.1_ASM2732v1_feature_table.tsv\n",
            "GCA_000027345.1_ASM2734v1_feature_table.tsv\n",
            "GCA_000091665.1_ASM9166v1_feature_table.tsv\n",
            "GCA_000214725.1_ASM21472v1_feature_table.tsv\n",
            "GCA_003015225.1_ASM301522v1_feature_table.tsv\n",
            "splitting_loc.pkl\n",
            "test_splits.pkl\n",
            "train_splits.pkl\n"
          ],
          "name": "stdout"
        }
      ]
    },
    {
      "cell_type": "code",
      "metadata": {
        "colab_type": "code",
        "id": "fg3eGxAfshaY",
        "colab": {}
      },
      "source": [
        "os.chdir(savefasta)\n",
        "\n",
        "simplefilter(\"ignore\")\n",
        "\n",
        "train_genomes = [\"0_0_TRAIN_GCF_000008525.1_ASM852v1_genomic.fna\",\n",
        "\"1_0_TRAIN_GCF_000008665.1_ASM866v1_genomic.fna\",\n",
        "\"2_0_TRAIN_GCF_000008865.2_ASM886v2_genomic.fna\",\n",
        "\"3_0_TRAIN_GCF_000009045.1_ASM904v1_genomic.fna\",\n",
        "\"4_0_TRAIN_GCF_000027305.1_ASM2730v1_genomic.fna\",\n",
        "\"5_0_TRAIN_GCF_000027325.1_ASM2732v1_genomic.fna\",\n",
        "\"6_0_TRAIN_GCF_000027345.1_ASM2734v1_genomic.fna\",\n",
        "\"7_0_TRAIN_GCF_000091665.1_ASM9166v1_genomic.fna\",\n",
        "\"8_0_TRAIN_GCF_000214725.1_ASM21472v1_genomic.fna\",\n",
        "\"9_0_TRAIN_GCF_003015225.1_ASM301522v1_genomic.fna\"]\n",
        "\n",
        "test_genomes = [\"0_0_TEST_GCF_000008525.1_ASM852v1_genomic.fna\",\n",
        "\"1_0_TEST_GCF_000008665.1_ASM866v1_genomic.fna\",\n",
        "\"2_0_TEST_GCF_000008865.2_ASM886v2_genomic.fna\",\n",
        "\"3_0_TEST_GCF_000009045.1_ASM904v1_genomic.fna\",\n",
        "\"4_0_TEST_GCF_000027305.1_ASM2730v1_genomic.fna\",\n",
        "\"5_0_TEST_GCF_000027325.1_ASM2732v1_genomic.fna\",\n",
        "\"6_0_TEST_GCF_000027345.1_ASM2734v1_genomic.fna\",\n",
        "\"7_0_TEST_GCF_000091665.1_ASM9166v1_genomic.fna\",\n",
        "\"8_0_TEST_GCF_000214725.1_ASM21472v1_genomic.fna\",\n",
        "\"9_0_TEST_GCF_003015225.1_ASM301522v1_genomic.fna\"]\n"
      ],
      "execution_count": 0,
      "outputs": []
    },
    {
      "cell_type": "code",
      "metadata": {
        "colab_type": "code",
        "id": "9iytIyUcshaa",
        "colab": {}
      },
      "source": [
        "\"\"\"\n",
        "#os.chdir(root) # if needed to reset the directory\n",
        "simplefilter(\"ignore\")\n",
        "\n",
        "train_feature_tables = (\"GCA_000008525.1_ASM852v1_feature_table.tsv\",\n",
        "\"GCA_000008665.1_ASM866v1_feature_table.tsv\",\n",
        "\"GCA_000008865.2_ASM886v2_feature_table.tsv\",\n",
        "\"GCA_000009045.1_ASM904v1_feature_table.tsv\",\n",
        "\"GCA_000027305.1_ASM2730v1_feature_table.tsv\",\n",
        "\"GCA_000027325.1_ASM2732v1_feature_table.tsv\",\n",
        "\"GCA_000027345.1_ASM2734v1_feature_table.tsv\",\n",
        "\"GCA_000091665.1_ASM9166v1_feature_table.tsv\",\n",
        "\"GCA_000214725.1_ASM21472v1_feature_table.tsv\",\n",
        "\"GCA_003015225.1_ASM301522v1_feature_table.tsv\")\n",
        "\n",
        "test_feature_tables = (\"GCA_000008525.1_ASM852v1_feature_table.tsv\",\n",
        "\"GCA_000008665.1_ASM866v1_feature_table.tsv\",\n",
        "\"GCA_000008865.2_ASM886v2_feature_table.tsv\",\n",
        "\"GCA_000009045.1_ASM904v1_feature_table.tsv\",\n",
        "\"GCA_000027305.1_ASM2730v1_feature_table.tsv\",\n",
        "\"GCA_000027325.1_ASM2732v1_feature_table.tsv\",\n",
        "\"GCA_000027345.1_ASM2734v1_feature_table.tsv\",\n",
        "\"GCA_000091665.1_ASM9166v1_feature_table.tsv\",\n",
        "\"GCA_000214725.1_ASM21472v1_feature_table.tsv\",\n",
        "\"GCA_003015225.1_ASM301522v1_feature_table.tsv\")\n",
        "\"\"\"\n",
        "\n",
        "train_feature_tables = feature_tables\n",
        "test_feature_tables = feature_tables"
      ],
      "execution_count": 0,
      "outputs": []
    },
    {
      "cell_type": "code",
      "metadata": {
        "id": "pK9K680i9AtQ",
        "colab_type": "code",
        "outputId": "b01c0f9d-e4b6-474a-e999-97cb7fdabd27",
        "colab": {
          "base_uri": "https://localhost:8080/",
          "height": 195
        }
      },
      "source": [
        "feature_tables"
      ],
      "execution_count": 27,
      "outputs": [
        {
          "output_type": "execute_result",
          "data": {
            "text/plain": [
              "('GCA_000008525.1_ASM852v1_feature_table.tsv',\n",
              " 'GCA_000008665.1_ASM866v1_feature_table.tsv',\n",
              " 'GCA_000008865.2_ASM886v2_feature_table.tsv',\n",
              " 'GCA_000009045.1_ASM904v1_feature_table.tsv',\n",
              " 'GCA_000027305.1_ASM2730v1_feature_table.tsv',\n",
              " 'GCA_000027325.1_ASM2732v1_feature_table.tsv',\n",
              " 'GCA_000027345.1_ASM2734v1_feature_table.tsv',\n",
              " 'GCA_000091665.1_ASM9166v1_feature_table.tsv',\n",
              " 'GCA_000214725.1_ASM21472v1_feature_table.tsv',\n",
              " 'GCA_003015225.1_ASM301522v1_feature_table.tsv')"
            ]
          },
          "metadata": {
            "tags": []
          },
          "execution_count": 27
        }
      ]
    },
    {
      "cell_type": "code",
      "metadata": {
        "id": "2ocHmhkgxisu",
        "colab_type": "code",
        "colab": {}
      },
      "source": [
        "\"\"\"\n",
        "!mkdir \"/content/drive/My Drive/dataframes\"\n",
        "\"\"\""
      ],
      "execution_count": 0,
      "outputs": []
    },
    {
      "cell_type": "code",
      "metadata": {
        "colab_type": "code",
        "id": "XNk1zP55fpwY",
        "colab": {}
      },
      "source": [
        "\"\"\"\n",
        "savedf = \"/content/drive/My Drive/dataframes\"\n",
        "#os.chdir(savedf) #change directory to (path) \"\n",
        "\"\"\""
      ],
      "execution_count": 0,
      "outputs": []
    },
    {
      "cell_type": "code",
      "metadata": {
        "colab_type": "code",
        "id": "oOS-Z7pdYdJK",
        "colab": {}
      },
      "source": [
        "\"\"\"\n",
        "train_genomes = [\n",
        "    \"0_0_TEST_GCF_000008865.2_ASM886v2_genomic.fna\"\n",
        "]\n",
        "\n",
        "test_genomes = [\n",
        "    \"0_0_TRAIN_GCF_000008865.2_ASM886v2_genomic.fna\"\n",
        "]\n",
        "\"\"\"\n"
      ],
      "execution_count": 0,
      "outputs": []
    },
    {
      "cell_type": "code",
      "metadata": {
        "colab_type": "code",
        "id": "XUhroXKviprD",
        "colab": {}
      },
      "source": [
        "\"\"\"\n",
        "train_feature_tables = feature_tables\n",
        "test_feature_tables = feature_tables\n",
        "\"\"\""
      ],
      "execution_count": 0,
      "outputs": []
    },
    {
      "cell_type": "markdown",
      "metadata": {
        "colab_type": "text",
        "id": "VGjyjPvBR3A5"
      },
      "source": [
        "## **window_pipeline**"
      ]
    },
    {
      "cell_type": "code",
      "metadata": {
        "id": "-sDQtP32ymcP",
        "colab_type": "code",
        "outputId": "833fc9da-0b10-4dba-a123-cca7c17ee561",
        "colab": {
          "base_uri": "https://localhost:8080/",
          "height": 195
        }
      },
      "source": [
        "train_genomes"
      ],
      "execution_count": 28,
      "outputs": [
        {
          "output_type": "execute_result",
          "data": {
            "text/plain": [
              "['0_0_TRAIN_GCF_000008525.1_ASM852v1_genomic.fna',\n",
              " '1_0_TRAIN_GCF_000008665.1_ASM866v1_genomic.fna',\n",
              " '2_0_TRAIN_GCF_000008865.2_ASM886v2_genomic.fna',\n",
              " '3_0_TRAIN_GCF_000009045.1_ASM904v1_genomic.fna',\n",
              " '4_0_TRAIN_GCF_000027305.1_ASM2730v1_genomic.fna',\n",
              " '5_0_TRAIN_GCF_000027325.1_ASM2732v1_genomic.fna',\n",
              " '6_0_TRAIN_GCF_000027345.1_ASM2734v1_genomic.fna',\n",
              " '7_0_TRAIN_GCF_000091665.1_ASM9166v1_genomic.fna',\n",
              " '8_0_TRAIN_GCF_000214725.1_ASM21472v1_genomic.fna',\n",
              " '9_0_TRAIN_GCF_003015225.1_ASM301522v1_genomic.fna']"
            ]
          },
          "metadata": {
            "tags": []
          },
          "execution_count": 28
        }
      ]
    },
    {
      "cell_type": "code",
      "metadata": {
        "colab_type": "code",
        "id": "OCFjmNINaY3s",
        "outputId": "4b175ebf-f017-4fb4-dbbc-b7e57cd35ef2",
        "colab": {
          "base_uri": "https://localhost:8080/",
          "height": 50
        }
      },
      "source": [
        "#os.chdir(root)\n",
        "df_train = [\n",
        "            window_pipeline(f\"{savefasta}/{train_genomes[i]}\", \n",
        "                            train_feature_tables[i], \n",
        "                            by = train_splits[i],\n",
        "                            #annotate=False,\n",
        "                            )\n",
        "            for i in range(len(train_feature_tables))\n",
        "]\n",
        "print (f'df_train created\\n{dash}')"
      ],
      "execution_count": 0,
      "outputs": [
        {
          "output_type": "stream",
          "text": [
            "df_train created\n",
            "--------------------------------------------------------------------------------\n"
          ],
          "name": "stdout"
        }
      ]
    },
    {
      "cell_type": "code",
      "metadata": {
        "id": "tfz900Myzr7M",
        "colab_type": "code",
        "outputId": "2c43e328-108e-48fb-8d01-9edf68d68882",
        "colab": {
          "base_uri": "https://localhost:8080/",
          "height": 50
        }
      },
      "source": [
        "df_test = [\n",
        "            window_pipeline(f\"{savefasta}/{test_genomes[i]}\", \n",
        "                            test_feature_tables[i], \n",
        "                            by = test_splits[i]\n",
        "                            #annotate=False,\n",
        "                            )\n",
        "            for i in range(len(test_feature_tables))\n",
        "]\n",
        "print (f'df_test created\\n{dash}')"
      ],
      "execution_count": 0,
      "outputs": [
        {
          "output_type": "stream",
          "text": [
            "df_test created\n",
            "--------------------------------------------------------------------------------\n"
          ],
          "name": "stdout"
        }
      ]
    },
    {
      "cell_type": "code",
      "metadata": {
        "id": "awFB3CACzNY4",
        "colab_type": "code",
        "outputId": "8992c7ce-3922-4b49-d6fc-8e7272865065",
        "colab": {
          "base_uri": "https://localhost:8080/",
          "height": 391
        }
      },
      "source": [
        "df_train[0]"
      ],
      "execution_count": 0,
      "outputs": [
        {
          "output_type": "execute_result",
          "data": {
            "text/html": [
              "<div>\n",
              "<style scoped>\n",
              "    .dataframe tbody tr th:only-of-type {\n",
              "        vertical-align: middle;\n",
              "    }\n",
              "\n",
              "    .dataframe tbody tr th {\n",
              "        vertical-align: top;\n",
              "    }\n",
              "\n",
              "    .dataframe thead th {\n",
              "        text-align: right;\n",
              "    }\n",
              "</style>\n",
              "<table border=\"1\" class=\"dataframe\">\n",
              "  <thead>\n",
              "    <tr style=\"text-align: right;\">\n",
              "      <th></th>\n",
              "      <th>sequence</th>\n",
              "      <th>label</th>\n",
              "      <th>start</th>\n",
              "      <th>end</th>\n",
              "      <th>name</th>\n",
              "      <th>product_accession</th>\n",
              "    </tr>\n",
              "  </thead>\n",
              "  <tbody>\n",
              "    <tr>\n",
              "      <th>0</th>\n",
              "      <td>CAATTCAAGGGTTTTTGAGTGAGCTTTTTGCTCAAAGAATCCAAGA...</td>\n",
              "      <td>gene</td>\n",
              "      <td>217</td>\n",
              "      <td>266</td>\n",
              "      <td>predicted coding region HP0001</td>\n",
              "      <td>AAD07074.1</td>\n",
              "    </tr>\n",
              "    <tr>\n",
              "      <th>1</th>\n",
              "      <td>TTCAAGGGTTTTTGAGTGAGCTTTTTGCTCAAAGAATCCAAGATAG...</td>\n",
              "      <td>gene</td>\n",
              "      <td>220</td>\n",
              "      <td>269</td>\n",
              "      <td>predicted coding region HP0001</td>\n",
              "      <td>AAD07074.1</td>\n",
              "    </tr>\n",
              "    <tr>\n",
              "      <th>2</th>\n",
              "      <td>AAGGGTTTTTGAGTGAGCTTTTTGCTCAAAGAATCCAAGATAGCGT...</td>\n",
              "      <td>gene</td>\n",
              "      <td>223</td>\n",
              "      <td>272</td>\n",
              "      <td>predicted coding region HP0001</td>\n",
              "      <td>AAD07074.1</td>\n",
              "    </tr>\n",
              "    <tr>\n",
              "      <th>3</th>\n",
              "      <td>GGTTTTTGAGTGAGCTTTTTGCTCAAAGAATCCAAGATAGCGTTTA...</td>\n",
              "      <td>gene</td>\n",
              "      <td>226</td>\n",
              "      <td>275</td>\n",
              "      <td>predicted coding region HP0001</td>\n",
              "      <td>AAD07074.1</td>\n",
              "    </tr>\n",
              "    <tr>\n",
              "      <th>4</th>\n",
              "      <td>TTTTGAGTGAGCTTTTTGCTCAAAGAATCCAAGATAGCGTTTAAAA...</td>\n",
              "      <td>gene</td>\n",
              "      <td>229</td>\n",
              "      <td>278</td>\n",
              "      <td>predicted coding region HP0001</td>\n",
              "      <td>AAD07074.1</td>\n",
              "    </tr>\n",
              "    <tr>\n",
              "      <th>...</th>\n",
              "      <td>...</td>\n",
              "      <td>...</td>\n",
              "      <td>...</td>\n",
              "      <td>...</td>\n",
              "      <td>...</td>\n",
              "      <td>...</td>\n",
              "    </tr>\n",
              "    <tr>\n",
              "      <th>123663</th>\n",
              "      <td>TATCAAAAGCGTTTTTTGTATCCACAACCAGCACGCTTAAAACTTC...</td>\n",
              "      <td>partial</td>\n",
              "      <td>831521</td>\n",
              "      <td>831570</td>\n",
              "      <td>False</td>\n",
              "      <td>False</td>\n",
              "    </tr>\n",
              "    <tr>\n",
              "      <th>123664</th>\n",
              "      <td>CAAAAGCGTTTTTTGTATCCACAACCAGCACGCTTAAAACTTCCTT...</td>\n",
              "      <td>partial</td>\n",
              "      <td>831524</td>\n",
              "      <td>831573</td>\n",
              "      <td>False</td>\n",
              "      <td>False</td>\n",
              "    </tr>\n",
              "    <tr>\n",
              "      <th>123665</th>\n",
              "      <td>AAGCGTTTTTTGTATCCACAACCAGCACGCTTAAAACTTCCTTATA...</td>\n",
              "      <td>partial</td>\n",
              "      <td>831527</td>\n",
              "      <td>831576</td>\n",
              "      <td>False</td>\n",
              "      <td>False</td>\n",
              "    </tr>\n",
              "    <tr>\n",
              "      <th>123666</th>\n",
              "      <td>CGTTTTTTGTATCCACAACCAGCACGCTTAAAACTTCCTTATAAGC...</td>\n",
              "      <td>partial</td>\n",
              "      <td>831530</td>\n",
              "      <td>831579</td>\n",
              "      <td>False</td>\n",
              "      <td>False</td>\n",
              "    </tr>\n",
              "    <tr>\n",
              "      <th>123667</th>\n",
              "      <td>TTTTTGTATCCACAACCAGCACGCTTAAAACTTCCTTATAAGCGAC...</td>\n",
              "      <td>partial</td>\n",
              "      <td>831533</td>\n",
              "      <td>831582</td>\n",
              "      <td>False</td>\n",
              "      <td>False</td>\n",
              "    </tr>\n",
              "  </tbody>\n",
              "</table>\n",
              "<p>384000 rows × 6 columns</p>\n",
              "</div>"
            ],
            "text/plain": [
              "                                                 sequence  ... product_accession\n",
              "0       CAATTCAAGGGTTTTTGAGTGAGCTTTTTGCTCAAAGAATCCAAGA...  ...        AAD07074.1\n",
              "1       TTCAAGGGTTTTTGAGTGAGCTTTTTGCTCAAAGAATCCAAGATAG...  ...        AAD07074.1\n",
              "2       AAGGGTTTTTGAGTGAGCTTTTTGCTCAAAGAATCCAAGATAGCGT...  ...        AAD07074.1\n",
              "3       GGTTTTTGAGTGAGCTTTTTGCTCAAAGAATCCAAGATAGCGTTTA...  ...        AAD07074.1\n",
              "4       TTTTGAGTGAGCTTTTTGCTCAAAGAATCCAAGATAGCGTTTAAAA...  ...        AAD07074.1\n",
              "...                                                   ...  ...               ...\n",
              "123663  TATCAAAAGCGTTTTTTGTATCCACAACCAGCACGCTTAAAACTTC...  ...             False\n",
              "123664  CAAAAGCGTTTTTTGTATCCACAACCAGCACGCTTAAAACTTCCTT...  ...             False\n",
              "123665  AAGCGTTTTTTGTATCCACAACCAGCACGCTTAAAACTTCCTTATA...  ...             False\n",
              "123666  CGTTTTTTGTATCCACAACCAGCACGCTTAAAACTTCCTTATAAGC...  ...             False\n",
              "123667  TTTTTGTATCCACAACCAGCACGCTTAAAACTTCCTTATAAGCGAC...  ...             False\n",
              "\n",
              "[384000 rows x 6 columns]"
            ]
          },
          "metadata": {
            "tags": []
          },
          "execution_count": 77
        }
      ]
    },
    {
      "cell_type": "code",
      "metadata": {
        "id": "niT5XSpf1VMj",
        "colab_type": "code",
        "outputId": "10ef28d3-cb34-48fb-b581-0b32f1f9afed",
        "colab": {
          "base_uri": "https://localhost:8080/",
          "height": 1000
        }
      },
      "source": [
        "for i in range(len(train_genomes)):\n",
        "  print (train_genomes[i])\n",
        "  print (df_train[i].groupby(\"label\").count())\n",
        "  print (dash)\n"
      ],
      "execution_count": 0,
      "outputs": [
        {
          "output_type": "stream",
          "text": [
            "0_0_TRAIN_GCF_000008525.1_ASM852v1_genomic.fna\n",
            "            sequence   start     end    name  product_accession\n",
            "label                                                          \n",
            "gene          193345  193345  193345  186852             186852\n",
            "intergenic     67053   67053   67053   67053              67053\n",
            "partial       123602  123602  123602  123602             123602\n",
            "--------------------------------------------------------------------------------\n",
            "1_0_TRAIN_GCF_000008665.1_ASM866v1_genomic.fna\n",
            "            sequence   start     end    name  product_accession\n",
            "label                                                          \n",
            "gene          276687  276687  276687   59944              59944\n",
            "intergenic     62062   62062   62062   62062              62062\n",
            "partial       175415  175415  175415  175415             175415\n",
            "--------------------------------------------------------------------------------\n",
            "2_0_TRAIN_GCF_000008865.2_ASM886v2_genomic.fna\n",
            "            sequence   start     end    name  product_accession\n",
            "label                                                          \n",
            "gene          592020  592020  592020  571901             571901\n",
            "intergenic    262304  262304  262304  262304             262304\n",
            "partial       374388  374388  374388  374388             374388\n",
            "--------------------------------------------------------------------------------\n",
            "3_0_TRAIN_GCF_000009045.1_ASM904v1_genomic.fna\n",
            "            sequence   start     end    name  product_accession\n",
            "label                                                          \n",
            "gene          522705  522705  522705   95759              95058\n",
            "intergenic    126893  126893  126893  126893             126893\n",
            "partial       329049  329049  329049  329049             329049\n",
            "--------------------------------------------------------------------------------\n",
            "4_0_TRAIN_GCF_000027305.1_ASM2730v1_genomic.fna\n",
            "            sequence   start     end    name  product_accession\n",
            "label                                                          \n",
            "gene          211495  211495  211495  204834             204834\n",
            "intergenic     71214   71214   71214   71214              71214\n",
            "partial       133943  133943  133943  133943             133943\n",
            "--------------------------------------------------------------------------------\n",
            "5_0_TRAIN_GCF_000027325.1_ASM2732v1_genomic.fna\n",
            "            sequence  start    end   name  product_accession\n",
            "label                                                       \n",
            "gene           59615  59615  59615  10656              10656\n",
            "intergenic     32331  32331  32331  32331              32331\n",
            "partial        39138  39138  39138  39138              39138\n",
            "--------------------------------------------------------------------------------\n",
            "6_0_TRAIN_GCF_000027345.1_ASM2734v1_genomic.fna\n",
            "            sequence  start    end   name  product_accession\n",
            "label                                                       \n",
            "gene           83820  83820  83820  81407              81407\n",
            "intergenic     44955  44955  44955  44955              44955\n",
            "partial        54828  54828  54828  54828              54828\n",
            "--------------------------------------------------------------------------------\n",
            "7_0_TRAIN_GCF_000091665.1_ASM9166v1_genomic.fna\n",
            "            sequence   start     end    name  product_accession\n",
            "label                                                          \n",
            "gene          196000  196000  196000   43135              43135\n",
            "intergenic     62699   62699   62699   62699              62699\n",
            "partial       124985  124985  124985  124985             124985\n",
            "--------------------------------------------------------------------------------\n",
            "8_0_TRAIN_GCF_000214725.1_ASM21472v1_genomic.fna\n",
            "            sequence   start     end    name  product_accession\n",
            "label                                                          \n",
            "gene          265779  265779  265779  258747             258747\n",
            "intergenic    127129  127129  127129  127129             127129\n",
            "partial       169863  169863  169863  169863             169863\n",
            "--------------------------------------------------------------------------------\n",
            "9_0_TRAIN_GCF_003015225.1_ASM301522v1_genomic.fna\n",
            "            sequence   start     end    name  product_accession\n",
            "label                                                          \n",
            "gene          382583  382583  382583   68747              67715\n",
            "intergenic    171801  171801  171801  171801             171801\n",
            "partial       242013  242013  242013  242013             242013\n",
            "--------------------------------------------------------------------------------\n"
          ],
          "name": "stdout"
        }
      ]
    },
    {
      "cell_type": "markdown",
      "metadata": {
        "colab_type": "text",
        "id": "QWshzjeHcpN-"
      },
      "source": [
        "## One-hot labels encoding"
      ]
    },
    {
      "cell_type": "code",
      "metadata": {
        "colab_type": "code",
        "id": "7yI_vjULcpNr",
        "colab": {}
      },
      "source": [
        "n = 0\n",
        "print(\n",
        "    f\"columns -> {list(df_train[n].columns)}\\n\"\n",
        "    f\"labels in dataframe -> {list(df_train[n].label.unique())}\"\n",
        ")"
      ],
      "execution_count": 0,
      "outputs": []
    },
    {
      "cell_type": "code",
      "metadata": {
        "id": "zczWmpE6Fc97",
        "colab_type": "code",
        "outputId": "9552310b-44ca-4da5-badd-e88e8e834db9",
        "colab": {
          "base_uri": "https://localhost:8080/",
          "height": 50
        }
      },
      "source": [
        "labels = list(df_train.label.unique())\n",
        "lab0 = np.zeros(len(labels))\n",
        "lab2vec = {} # create empty dictionaries\n",
        "vec2lab = {}\n",
        "for i, label in enumerate(list(df_train.label.unique())):\n",
        "    labv = lab0.copy()\n",
        "    labv[i] = 1\n",
        "    lab2vec[label] = labv\n",
        "    vec2lab[tuple(labv)] = label\n",
        "\n",
        "print(f\"lab2vec -> {lab2vec}\\nvec2lab -> {vec2lab}\")"
      ],
      "execution_count": 0,
      "outputs": [
        {
          "output_type": "stream",
          "text": [
            "lab2vec -> {'gene': array([1., 0.]), 'intergenic': array([0., 1.])}\n",
            "vec2lab -> {(1.0, 0.0): 'gene', (0.0, 1.0): 'intergenic'}\n"
          ],
          "name": "stdout"
        }
      ]
    },
    {
      "cell_type": "code",
      "metadata": {
        "colab_type": "code",
        "id": "F3fD5a7LcpOD",
        "colab": {}
      },
      "source": [
        "labels = list(df_train[n].label.unique())\n",
        "lab0 = np.zeros(len(labels))\n",
        "lab2vec = {} # create empty dictionaries\n",
        "vec2lab = {}\n",
        "for i, label in enumerate(list(df_train[n].label.unique())):\n",
        "    labv = lab0.copy()\n",
        "    labv[i] = 1\n",
        "    lab2vec[label] = labv\n",
        "    vec2lab[tuple(labv)] = label\n",
        "\n",
        "print(f\"lab2vec -> {lab2vec}\\nvec2lab -> {vec2lab}\")"
      ],
      "execution_count": 0,
      "outputs": []
    },
    {
      "cell_type": "code",
      "metadata": {
        "colab_type": "code",
        "id": "KRotEiDrHgSa",
        "outputId": "57125fc0-8ec2-48af-c37c-dafb7ca8a522",
        "colab": {
          "base_uri": "https://localhost:8080/",
          "height": 33
        }
      },
      "source": [
        "print (type(lab2vec))\n",
        "unique_labels = lab2vec.values()"
      ],
      "execution_count": 0,
      "outputs": [
        {
          "output_type": "stream",
          "text": [
            "<class 'dict'>\n"
          ],
          "name": "stdout"
        }
      ]
    },
    {
      "cell_type": "markdown",
      "metadata": {
        "colab_type": "text",
        "id": "2yBidkFQlmyO"
      },
      "source": [
        "## Training dataframe \"training_data\""
      ]
    },
    {
      "cell_type": "code",
      "metadata": {
        "colab_type": "code",
        "id": "81V9oYbsfg9c",
        "colab": {}
      },
      "source": [
        "appended_data = []\n",
        "for i in range(len(df_train)):\n",
        "  if not i == 5:\n",
        "    data = df_train[i][df_train[i].label==\"gene\"].sample(n=2000)\n",
        "    appended_data.append(data)\n",
        "    data = df_train[i][df_train[i].label==\"intergenic\"].sample(n=2000)\n",
        "    appended_data.append(data)\n",
        "    #data = df_train[i][df_train[i].label==\"partial\"].sample(n=300)\n",
        "    #appended_data.append(data)\n",
        "  else: \n",
        "    data = df_train[i][df_train[i].label==\"gene\"].sample(n=2000)\n",
        "    appended_data.append(data)\n",
        "    data = df_train[i][df_train[i].label==\"intergenic\"].sample(n=2000)\n",
        "    appended_data.append(data)\n",
        "    #data = df_train[i][df_train[i].label==\"partial\"].sample(n=100)\n",
        "    #appended_data.append(data)\n",
        "\n",
        "# see pd.concat documentation for more info\n",
        "training_data = pd.concat(appended_data).reset_index(drop=True)\n",
        "df_train = training_data.sample(frac=8/10) # separate training from testing\n",
        "df_test = training_data[~training_data.sequence.isin(df_train.sequence)].reset_index(drop=True)\n",
        "df_train = df_train.reset_index(drop=True)\n",
        "df_test = df_test.sample(frac=1).reset_index(drop=True) # shuffle\n",
        "\n",
        "#shuffle\n",
        "#training_data = training_data.sample(frac=1)\n",
        "#print (training_data)\n"
      ],
      "execution_count": 0,
      "outputs": []
    },
    {
      "cell_type": "markdown",
      "metadata": {
        "colab_type": "text",
        "id": "zKySnCk7RhJw"
      },
      "source": [
        "## Save df_train and df_test"
      ]
    },
    {
      "cell_type": "code",
      "metadata": {
        "colab_type": "code",
        "id": "3oLNJ3USTpTk",
        "colab": {}
      },
      "source": [
        "train_df_name = savedf +'/train_df.pkl'\n",
        "test_df_name = savedf  + '/test_df.pkl'"
      ],
      "execution_count": 0,
      "outputs": []
    },
    {
      "cell_type": "markdown",
      "metadata": {
        "colab_type": "text",
        "id": "P0ThHy0uQviM"
      },
      "source": [
        "#### pickle dataframes\n",
        "saving in directory \"savedf\""
      ]
    },
    {
      "cell_type": "code",
      "metadata": {
        "colab_type": "code",
        "id": "rqQ2QEjQQsEK",
        "colab": {}
      },
      "source": [
        "os.chdir(savedf) #change directory to (path)\n",
        "df_train.to_pickle(train_df_name)\n",
        "df_test.to_pickle(test_df_name)"
      ],
      "execution_count": 0,
      "outputs": []
    },
    {
      "cell_type": "markdown",
      "metadata": {
        "colab_type": "text",
        "id": "cjJFB4fnQyny"
      },
      "source": [
        "## unpickle dataframes -L\n",
        "\n",
        "loading saved dataframes "
      ]
    },
    {
      "cell_type": "code",
      "metadata": {
        "colab_type": "code",
        "id": "Ja6jr4kWRyri",
        "outputId": "0376b520-39eb-4c72-91eb-bc742205081d",
        "colab": {
          "base_uri": "https://localhost:8080/",
          "height": 195
        }
      },
      "source": [
        "if unpickle_df == True:\n",
        "  print (savedf)\n",
        "  train_df_name = savedf +'/train_df.pkl'\n",
        "  test_df_name = savedf  + '/test_df.pkl'\n",
        "  print (train_df_name)\n",
        "  print (test_df_name)\n",
        "  #savedf = \"/content/drive/My Drive/Model Outputs/dataframes\" old directories\n",
        "  #train_df_name = savedf +'/train_df.pkl'\n",
        "  #test_df_name = savedf  + '/test_df.pkl'\n",
        "\n",
        "  if os.path.exists(savedf) == False:\n",
        "    print ('the folder you look for is not in drive')\n",
        "    print (dash)\n",
        "  else: \n",
        "    os.chdir(savedf)\n",
        "    print ('loading files from :')\n",
        "    print (savedf)\n",
        "    print (dash)\n",
        "\n",
        "    if os.path.exists(train_df_name) == False:\n",
        "      print ('the file you look for is not in drive')\n",
        "      print (dash)\n",
        "    else: \n",
        "      df_train=pd.read_pickle(train_df_name)\n",
        "      print ('loaded %s as df_train'%(train_df_name))\n",
        "      print (dash)\n",
        "\n",
        "    if os.path.exists(test_df_name) == False:\n",
        "      print ('the file you look for is not in drive')\n",
        "      print (dash)\n",
        "    else: \n",
        "      df_test=pd.read_pickle(test_df_name)\n",
        "      print ('loaded %s as df_test'%(test_df_name))\n",
        "      print (dash)"
      ],
      "execution_count": 55,
      "outputs": [
        {
          "output_type": "stream",
          "text": [
            "/content/drive/My Drive/Model Outputs/20200102\n",
            "/content/drive/My Drive/Model Outputs/20200102/train_df.pkl\n",
            "/content/drive/My Drive/Model Outputs/20200102/test_df.pkl\n",
            "loading files from :\n",
            "/content/drive/My Drive/Model Outputs/20200102\n",
            "--------------------------------------------------------------------------------\n",
            "loaded /content/drive/My Drive/Model Outputs/20200102/train_df.pkl as df_train\n",
            "--------------------------------------------------------------------------------\n",
            "loaded /content/drive/My Drive/Model Outputs/20200102/test_df.pkl as df_test\n",
            "--------------------------------------------------------------------------------\n"
          ],
          "name": "stdout"
        }
      ]
    },
    {
      "cell_type": "markdown",
      "metadata": {
        "colab_type": "text",
        "id": "JlP0h_W8Q0OG"
      },
      "source": [
        "#4 - CBOW training \n",
        "\n",
        "We train CBOW model to get to pre-trained embeddings"
      ]
    },
    {
      "cell_type": "markdown",
      "metadata": {
        "colab_type": "text",
        "id": "yeCaQpCnkQG0"
      },
      "source": [
        "### ** **STORED SWITCH** ** -L"
      ]
    },
    {
      "cell_type": "code",
      "metadata": {
        "colab_type": "code",
        "id": "MunhFOgeUC54",
        "colab": {}
      },
      "source": [
        "#stored = False #train new embeddings\n",
        "stored = True # load new embeddings"
      ],
      "execution_count": 0,
      "outputs": []
    },
    {
      "cell_type": "markdown",
      "metadata": {
        "colab_type": "text",
        "id": "fDo-O6w5xCd3"
      },
      "source": [
        "## Check on GPU"
      ]
    },
    {
      "cell_type": "code",
      "metadata": {
        "colab_type": "code",
        "id": "Q-65BibwTf1f",
        "outputId": "d663d73c-ad97-44d3-8146-3c2545e6003a",
        "colab": {
          "base_uri": "https://localhost:8080/",
          "height": 35
        }
      },
      "source": [
        "# make sure to enable GPU acceleration!\n",
        "\n",
        "use_cuda = True\n",
        "device = 'cuda'\n",
        "if torch.cuda.is_available():\n",
        "            print ('cuda!')"
      ],
      "execution_count": 31,
      "outputs": [
        {
          "output_type": "stream",
          "text": [
            "cuda!\n"
          ],
          "name": "stdout"
        }
      ]
    },
    {
      "cell_type": "markdown",
      "metadata": {
        "colab_type": "text",
        "id": "BvZzW8_Chct_"
      },
      "source": [
        "## set CBOW HyperParameters"
      ]
    },
    {
      "cell_type": "code",
      "metadata": {
        "colab_type": "code",
        "id": "XsrqVoqHWwPk",
        "colab": {}
      },
      "source": [
        "#date ='' #date of choice in format YYYYMMDD\n",
        "#date = datetime.today().strftime('%Y%m%d') # current date\n",
        "savepath = \"/content/drive/My Drive/Model Outputs/%s\" %(date)\n",
        "os.chdir(savepath)"
      ],
      "execution_count": 0,
      "outputs": []
    },
    {
      "cell_type": "code",
      "metadata": {
        "colab_type": "code",
        "id": "O3xJycI5XuTm",
        "colab": {}
      },
      "source": [
        "#\"fixed\" parameters\n",
        "#SLIDE = 1                 # sampling slide -assumed fixed to 1\n",
        "#CONTEXT_SIZE = 2          # 2 words to the left, 2 to the right -assumed fixed to 2\n",
        "\n",
        "# variable parameters\n",
        "k = 3                     #kmer lenght k =3: AGT GTC CTT... ; k =7 ACGTACG CGTACGA ... \n",
        "EMDEDDING_DIM = 25        # embedding dimension\n",
        "EPOCHS = 5               # number of epochs for training\n",
        "\n",
        "# all\n",
        "#cbow_hp = (k,SLIDE,CONTEXT_SIZE,EMDEDDING_DIM,EPOCHS) # list of all the bow hyperparameters\n",
        "model = None              # CBOW model"
      ],
      "execution_count": 0,
      "outputs": []
    },
    {
      "cell_type": "markdown",
      "metadata": {
        "colab_type": "text",
        "id": "jSgqH5wIxPgm"
      },
      "source": [
        "## create Vocabulary -L"
      ]
    },
    {
      "cell_type": "code",
      "metadata": {
        "colab_type": "code",
        "id": "AarKnq6QhDqq",
        "outputId": "42521343-0bfd-4fb6-b799-257c88b19237",
        "colab": {
          "base_uri": "https://localhost:8080/",
          "height": 266
        }
      },
      "source": [
        "# create saving path\n",
        "\n",
        "wti_save_name = '/kmer%d_len%d_epoch%d_wti.p' %(k,EMDEDDING_DIM,EPOCHS)\n",
        "itw_save_name = '/kmer%d_len%d_epoch%d_itw.p' %(k,EMDEDDING_DIM,EPOCHS)\n",
        "model_save_name = '/kmer%d_len%d_epoch%d_cbow_model.pt' %(k,EMDEDDING_DIM,EPOCHS)\n",
        "train_df_name = '/kmer%d_len%d_epoch%d_train_df.pkl'%(k,EMDEDDING_DIM,EPOCHS)\n",
        "test_df_name = '/kmer%d_len%d_epoch%d_test_df.pkl'%(k,EMDEDDING_DIM,EPOCHS)\n",
        "\n",
        "\n",
        "#wti_save_name ='/'+df_parameters + 'kmer%d_len%d_epoch%d_wti.p' %(k,EMDEDDING_DIM,EPOCHS)\n",
        "#itw_save_name ='/'+ df_parameters +'kmer%d_len%d_epoch%d_itw.p' %(k,EMDEDDING_DIM,EPOCHS)\n",
        "#model_save_name = '/'+df_parameters +'kmer%d_len%d_epoch%d_cbow_model.pt' %(k,EMDEDDING_DIM,EPOCHS)\n",
        "#train_df_name = '/'+df_parameters +'kmer%d_len%d_epoch%d_train_df.pkl'%(k,EMDEDDING_DIM,EPOCHS)\n",
        "#test_df_name ='/'+ df_parameters +'kmer%d_len%d_epoch%d_test_df.pkl'%(k,EMDEDDING_DIM,EPOCHS)\n",
        "\n",
        "\n",
        "\n",
        "\n",
        "wti_open = savepath+ wti_save_name\n",
        "itw_open = savepath + itw_save_name \n",
        "model_open = savepath + model_save_name\n",
        "print (wti_open) \n",
        "print (itw_open)  \n",
        "print (model_open)\n",
        "\n",
        "\n",
        "#create CBOW vocabulary \n",
        "print (dash)\n",
        "# since we have overlapping data, let's use non-overlapping k-mers\n",
        "kmers = [ kmer for kmer in window(\"\".join([seq for seq in df_train.loc[:,\"sequence\"]]), k, k) ]  \n",
        "print ('kmers ', len(set(kmers)))\n",
        "vocab_size = len(kmers)\n",
        "print ('vocabulary size:', len(set(kmers)))\n",
        "\n",
        "data = []\n",
        "\n",
        "for i in range(2, vocab_size - 2): # first word to have 2 words before is the \"third\" one (0,1,2)\n",
        "    context = (kmers[i - 2], kmers[i - 1],\n",
        "               kmers[i + 1], kmers[i + 2])\n",
        "    target = kmers[i]\n",
        "    data.append((context, target))\n",
        "    \n",
        "\n",
        "print ('data entries:',len(data), type(data))\n",
        "\n",
        "word_to_ix, ix_to_word = {},{}\n",
        "for i, word in enumerate(set(kmers)):\n",
        "    word_to_ix[word] = i\n",
        "    ix_to_word[i] = word\n",
        "\n",
        "print (len(word_to_ix))\n",
        "\n",
        "ix = len(ix_to_word)\n",
        "ix_to_word[ix] = \"X\"  # our padding character\n",
        "word_to_ix[\"X\"] = ix\n",
        "\n",
        "#save in drive\n",
        "print (dash)\n",
        "with open(wti_open, \"wb\") as f: #rb or wb\n",
        "  pickle.dump(word_to_ix, f)\n",
        "with open(itw_open, \"wb\") as f: #rb or wb\n",
        "  pickle.dump(ix_to_word, f)\n",
        "\n",
        "print (\"files will be  saved in Google drive directory:\")\n",
        "print (savepath)\n",
        "print ('as')\n",
        "print (wti_open)\n",
        "print (itw_open)\n"
      ],
      "execution_count": 57,
      "outputs": [
        {
          "output_type": "stream",
          "text": [
            "/content/drive/My Drive/Model Outputs/20200102/kmer3_len25_epoch5_wti.p\n",
            "/content/drive/My Drive/Model Outputs/20200102/kmer3_len25_epoch5_itw.p\n",
            "/content/drive/My Drive/Model Outputs/20200102/kmer3_len25_epoch5_cbow_model.pt\n",
            "--------------------------------------------------------------------------------\n",
            "kmers  64\n",
            "vocabulary size: 64\n",
            "data entries: 533328 <class 'list'>\n",
            "64\n",
            "--------------------------------------------------------------------------------\n",
            "files will be  saved in Google drive directory:\n",
            "/content/drive/My Drive/Model Outputs/20200102\n",
            "as\n",
            "/content/drive/My Drive/Model Outputs/20200102/kmer3_len25_epoch5_wti.p\n",
            "/content/drive/My Drive/Model Outputs/20200102/kmer3_len25_epoch5_itw.p\n"
          ],
          "name": "stdout"
        }
      ]
    },
    {
      "cell_type": "markdown",
      "metadata": {
        "colab_type": "text",
        "id": "yDBBebYrVlwM"
      },
      "source": [
        "## train CBOW"
      ]
    },
    {
      "cell_type": "code",
      "metadata": {
        "id": "ReUVBeNS1tpT",
        "colab_type": "code",
        "outputId": "197d7656-b5e3-4426-8fb8-2aab7a0673a4",
        "colab": {
          "base_uri": "https://localhost:8080/",
          "height": 35
        }
      },
      "source": [
        "len(word_to_ix)"
      ],
      "execution_count": 42,
      "outputs": [
        {
          "output_type": "execute_result",
          "data": {
            "text/plain": [
              "65"
            ]
          },
          "metadata": {
            "tags": []
          },
          "execution_count": 42
        }
      ]
    },
    {
      "cell_type": "code",
      "metadata": {
        "colab_type": "code",
        "id": "JnBZPKyEcpPQ",
        "colab": {}
      },
      "source": [
        "if stored == False: # we want to train new embeddings\n",
        "  if use_cuda and torch.cuda.is_available():\n",
        "    print (\"power of cuda!\")\n",
        "    model = CBOW(len(word_to_ix), EMDEDDING_DIM, padding_idx=word_to_ix[\"X\"]).cuda()\n",
        "  else: \n",
        "    model = CBOW(len(word_to_ix), EMDEDDING_DIM, padding_idx=word_to_ix[\"X\"])\n",
        "\n",
        "  loss_function = nn.NLLLoss()\n",
        "  optimizer = torch.optim.SGD(model.parameters(), lr=0.001)\n",
        "  print(\"Training embeddings...\")\n",
        "\n",
        "  path = model_open\n",
        "  start = time()\n",
        "  tot = len(data)\n",
        "  #print()\n",
        "  for epoch in range(EPOCHS):\n",
        "    start = time()\n",
        "    total_loss = 0\n",
        "    i = 1\n",
        "    target_list = list()\n",
        "    for context, target in data:\n",
        "      target_list.append(target)\n",
        "      if not i%100:\n",
        "        sys.stdout.write(f\"\\r{i}/{tot} in {round(time()-start,2)}s        \")\n",
        "        sys.stdout.flush()\n",
        "      \n",
        "      \n",
        "      if use_cuda and torch.cuda.is_available():\n",
        "              context_vector = make_context_vector(context, word_to_ix).cuda()\n",
        "              target = torch.tensor([word_to_ix[target]], dtype=torch.long).cuda()\n",
        "      else:\n",
        "        context_vector = make_context_vector(context, word_to_ix) \n",
        "        target = torch.tensor([word_to_ix[target]], dtype=torch.long)\n",
        "\n",
        "      model.zero_grad()\n",
        "      log_probs = model(context_vector)\n",
        "      loss = loss_function(log_probs, target)\n",
        "      loss.backward()\n",
        "      optimizer.step()\n",
        "      total_loss += loss.data\n",
        "    \n",
        "      i+=1\n",
        "    print(f\"\\nEpoch {epoch+1}/{EPOCHS} in {round(time()-start,2)}\\n\\n\")\n",
        "\n",
        "    # Save a checkpoint\n",
        "    #checkpoint_filename = 'checkpoints/cbow_kmer3_len100_epoch5-{:03d}.pkl'.format(epoch)\n",
        "    #save_checkpoint(optimizer, model, epoch, checkpoint_filename)\n",
        "\n",
        "  torch.save(model.state_dict(), path)"
      ],
      "execution_count": 0,
      "outputs": []
    },
    {
      "cell_type": "markdown",
      "metadata": {
        "id": "j9IrevisoCaq",
        "colab_type": "text"
      },
      "source": [
        "## load CBOW -L\n",
        "\n",
        "mark \"stored switch = True\"\n",
        "\n",
        "run \"Unpickle dataframes\"\n",
        "\n",
        "run \"set CBOW Hyperparameters\""
      ]
    },
    {
      "cell_type": "code",
      "metadata": {
        "id": "xelkEhMDCZxI",
        "colab_type": "code",
        "outputId": "eec7d945-fac8-4152-b424-611f7520cce0",
        "colab": {
          "base_uri": "https://localhost:8080/",
          "height": 35
        }
      },
      "source": [
        "#!ls \"/content/drive/My Drive/Model Outputs\"\n",
        "#!ls \"/content/drive/My Drive/Model Outputs/02122019\"\n",
        "loadpath = \"/content/drive/My Drive/Model Outputs/%s\" %(date)\n",
        "loadpath \n",
        "os.chdir(loadpath)\n",
        "date"
      ],
      "execution_count": 43,
      "outputs": [
        {
          "output_type": "execute_result",
          "data": {
            "text/plain": [
              "'20200102'"
            ]
          },
          "metadata": {
            "tags": []
          },
          "execution_count": 43
        }
      ]
    },
    {
      "cell_type": "code",
      "metadata": {
        "id": "Qv7Juvxlg8BV",
        "colab_type": "code",
        "outputId": "f075c2ab-0e2b-4471-bf1e-065629039e62",
        "colab": {
          "base_uri": "https://localhost:8080/",
          "height": 106
        }
      },
      "source": [
        "if stored == True:\n",
        "  \n",
        "  model_load_name = '/kmer%d_len%d_epoch%d_cbow_model.pt' %(k,EMDEDDING_DIM,EPOCHS)\n",
        "  wti_load_name = '/kmer%d_len%d_epoch%d_wti.p' %(k,EMDEDDING_DIM,EPOCHS)\n",
        "  #-----------------------------------------------------------------\n",
        "  path1 =loadpath + wti_load_name\n",
        "  #print (path1)\n",
        "  path = loadpath + model_load_name\n",
        "  print (path)\n",
        "  if stored == True:\n",
        "    with open(path1, \"rb\") as f:\n",
        "      word_to_ix = pickle.load(f)\n",
        "    ix_to_word = {v: k for k,v in word_to_ix.items()}\n",
        "    model = CBOW(len(word_to_ix), EMDEDDING_DIM, padding_idx=word_to_ix[\"X\"]).cpu()\n",
        "    model.load_state_dict(torch.load(path, map_location=torch.device('cpu')))\n",
        "    print (\"pretrained vectors loaded\")\n",
        "    print (dash)\n",
        "\n",
        "    labels = list(df_train.label.unique())\n",
        "    lab0 = np.zeros(len(labels))\n",
        "    lab2vec = {} # create empty dictionaries\n",
        "    vec2lab = {}\n",
        "    for i, label in enumerate(list(df_train.label.unique())):\n",
        "        labv = lab0.copy()\n",
        "        labv[i] = 1\n",
        "        lab2vec[label] = labv\n",
        "        vec2lab[tuple(labv)] = label\n",
        "\n",
        "    print(f\"lab2vec -> {lab2vec}\\nvec2lab -> {vec2lab}\")\n",
        "\n"
      ],
      "execution_count": 58,
      "outputs": [
        {
          "output_type": "stream",
          "text": [
            "/content/drive/My Drive/Model Outputs/20200102/kmer3_len25_epoch5_cbow_model.pt\n",
            "pretrained vectors loaded\n",
            "--------------------------------------------------------------------------------\n",
            "lab2vec -> {'gene': array([1., 0.]), 'intergenic': array([0., 1.])}\n",
            "vec2lab -> {(1.0, 0.0): 'gene', (0.0, 1.0): 'intergenic'}\n"
          ],
          "name": "stdout"
        }
      ]
    },
    {
      "cell_type": "markdown",
      "metadata": {
        "colab_type": "text",
        "id": "Hqnu9WvB8uvw"
      },
      "source": [
        "# 5- Tweak the embeddings to accomodate varying sizes of the sequences -L\n",
        "Once we have the model and the embeddings, we would need to tweak the embeddings so that they are adjusted for the padded sequences."
      ]
    },
    {
      "cell_type": "markdown",
      "metadata": {
        "colab_type": "text",
        "id": "T2KEUxaSAuAh"
      },
      "source": [
        "Now, get sequences as indexes."
      ]
    },
    {
      "cell_type": "code",
      "metadata": {
        "colab_type": "code",
        "id": "F3fPAtenAtX5",
        "outputId": "6901abfa-35a8-47b0-8707-d2d9bc570685",
        "colab": {
          "base_uri": "https://localhost:8080/",
          "height": 52
        }
      },
      "source": [
        "def to_ix(kmer, word_to_ix):\n",
        "  if \"X\" in kmer:\n",
        "    return word_to_ix[\"X\"]\n",
        "  elif kmer in word_to_ix:\n",
        "    return word_to_ix[kmer]\n",
        "  else:\n",
        "    return len(word_to_ix)\n",
        "\n",
        "def wind_idx(seq):\n",
        "  # non overlapping k-mers\n",
        "  return [to_ix(kmer, word_to_ix)  for kmer in window(seq, k, k)]\n",
        "\n",
        "df_train[\"seq_idx\"] = df_train[\"sequence\"].apply(wind_idx)\n",
        "df_test[\"seq_idx\"] = df_test[\"sequence\"].apply(wind_idx)\n",
        "np.unique(df_train[\"seq_idx\"].apply(lambda x: len(x)))\n",
        "print(word_to_ix[\"X\"])\n",
        "print(len(set(word_to_ix.keys()))-1)"
      ],
      "execution_count": 59,
      "outputs": [
        {
          "output_type": "stream",
          "text": [
            "64\n",
            "64\n"
          ],
          "name": "stdout"
        }
      ]
    },
    {
      "cell_type": "code",
      "metadata": {
        "colab_type": "code",
        "id": "AcYwRTg77hjQ",
        "outputId": "48e7b660-a70d-4eb0-b7d4-2049f4e79544",
        "colab": {
          "base_uri": "https://localhost:8080/",
          "height": 230
        }
      },
      "source": [
        "  df_train[\"seq_idx\"]"
      ],
      "execution_count": 40,
      "outputs": [
        {
          "output_type": "execute_result",
          "data": {
            "text/plain": [
              "0        [45, 44, 0, 61, 32, 21, 10, 39, 49, 46, 4, 62,...\n",
              "1        [23, 24, 53, 53, 28, 8, 48, 32, 51, 55, 3, 62,...\n",
              "2        [63, 51, 6, 6, 8, 62, 23, 46, 60, 9, 59, 28, 3...\n",
              "3        [52, 25, 24, 59, 41, 49, 10, 28, 51, 8, 62, 63...\n",
              "4        [23, 58, 17, 19, 17, 46, 38, 35, 51, 3, 48, 14...\n",
              "                               ...                        \n",
              "31995    [38, 60, 10, 4, 3, 26, 46, 57, 42, 38, 58, 50,...\n",
              "31996    [25, 33, 28, 59, 28, 2, 46, 49, 46, 16, 31, 0,...\n",
              "31997    [12, 60, 10, 58, 52, 16, 61, 56, 5, 18, 5, 17,...\n",
              "31998    [25, 40, 0, 38, 0, 50, 50, 14, 46, 31, 22, 31,...\n",
              "31999    [60, 29, 17, 60, 17, 29, 40, 34, 33, 39, 1, 58...\n",
              "Name: seq_idx, Length: 32000, dtype: object"
            ]
          },
          "metadata": {
            "tags": []
          },
          "execution_count": 40
        }
      ]
    },
    {
      "cell_type": "markdown",
      "metadata": {
        "colab_type": "text",
        "id": "JJKW2iVSlmGQ"
      },
      "source": [
        "#6 - RNN model"
      ]
    },
    {
      "cell_type": "markdown",
      "metadata": {
        "colab_type": "text",
        "id": "YcwvXskrjNLM"
      },
      "source": [
        "### Define binary accuracy of the model -L"
      ]
    },
    {
      "cell_type": "code",
      "metadata": {
        "colab_type": "code",
        "id": "fMKJKbYoBZQD",
        "colab": {}
      },
      "source": [
        "def binary_accuracy(preds, y):\n",
        "   \"\"\"\n",
        "   Returns accuracy per batch, i.e. if you get 8/10 right, this returns 0.8, NOT 8\n",
        "   \"\"\"\n",
        "   rounded_preds = torch.zeros(preds.size())\n",
        "   for i in range(len(preds)):\n",
        "     idx_max = torch.where(preds[i] == preds[i].max())\n",
        "     rounded_preds[i][idx_max] = 1\n",
        "   rounded_preds = torch.FloatTensor(rounded_preds).int()\n",
        "   correct = (rounded_preds == y).float() #convert into float for division\n",
        "   acc = (correct.sum()/len(preds[0])) / len(correct)\n",
        "   return acc"
      ],
      "execution_count": 0,
      "outputs": []
    },
    {
      "cell_type": "markdown",
      "metadata": {
        "id": "ywMSWKHxxVq2",
        "colab_type": "text"
      },
      "source": [
        "## Define code_one_hot -L"
      ]
    },
    {
      "cell_type": "code",
      "metadata": {
        "id": "pkCEM04FxZUR",
        "colab_type": "code",
        "colab": {}
      },
      "source": [
        "def code_one_hot(seq,vocab):\n",
        "  encoding = [s if s in vocab else 'UNK' for s in seq]\n",
        "  encoding = np.array([vocab[ch] for ch in encoding], dtype=\"int64\")\n",
        "\n",
        "  encoding.reshape(encoding.shape[0], encoding.shape[1], 1)\n",
        "  return encoding\n",
        "\n",
        "nuc_to_class = {\"A\": [0], \"G\": [1], \"T\": [2], \"C\" : [3], \"UNK\": [0]}\n",
        "\n",
        "nuc_to_ix = {\"A\": [1,0,0,0], \"G\": [0,1,0,0], \"T\": [0,0,1,0], \"C\" : [0,0,0,1], \"UNK\": [0,0,0,0]}\n",
        "nuc_to_class = {k: np.array(v, \"int64\") for k,v in nuc_to_class.items()}\n",
        "\n",
        "df_train[\"onehot\"] = df_train.sequence.apply(lambda x: code_one_hot(x, nuc_to_ix))\n",
        "df_test[\"onehot\"] = df_test.sequence.apply(lambda x: code_one_hot(x, nuc_to_ix))\n",
        "\n",
        "df_train[\"c_class\"] = df_train.sequence.apply(lambda x: code_one_hot(x, nuc_to_class))\n",
        "df_test[\"c_class\"] = df_test.sequence.apply(lambda x: code_one_hot(x, nuc_to_class))"
      ],
      "execution_count": 0,
      "outputs": []
    },
    {
      "cell_type": "markdown",
      "metadata": {
        "colab_type": "text",
        "id": "l1KEur9Hjft2"
      },
      "source": [
        "### Definition of the LSTM model"
      ]
    },
    {
      "cell_type": "code",
      "metadata": {
        "id": "3yuCABPGkhGQ",
        "colab_type": "code",
        "outputId": "3bcbe8b8-57cc-4151-bcd4-2a4937534397",
        "colab": {
          "base_uri": "https://localhost:8080/",
          "height": 390
        }
      },
      "source": [
        "!ls"
      ],
      "execution_count": 50,
      "outputs": [
        {
          "output_type": "stream",
          "text": [
            "20200102epochs21_batch70_lstmnum1_hdim40_hout150_dropout0_lstm_model.pt\n",
            "20200102epochs51_batch70_lstmnum1_hdim40_hout150_dropout0_lstm_model.pt\n",
            "epochs101_batch70_lstmnum1_hdim40_hout150_dropout0_lstm_model_ASGD.pt\n",
            "epochs21_batch36_lstmnum1_hdim40_hout150_dropout0_lstm_model_SGD_NSAMPLE_20000.pt\n",
            "epochs21_batch70_lstmnum1_hdim400_hout150_dropout0.5_lstm_model_ASGD.pt\n",
            "epochs21_batch70_lstmnum1_hdim400_hout150_dropout0.75_lstm_model_adaDelta.pt\n",
            "epochs21_batch70_lstmnum1_hdim400_hout150_dropout0.75_lstm_model_ASGD.pt\n",
            "epochs21_batch70_lstmnum1_hdim400_hout150_dropout0_lstm_model_ASGD.pt\n",
            "epochs21_batch70_lstmnum1_hdim40_hout150_dropout0.75_lstm_model_adaDelta.pt\n",
            "epochs21_batch70_lstmnum1_hdim40_hout150_dropout0.75_lstm_model_ada.pt\n",
            "epochs21_batch70_lstmnum1_hdim4_hout150_dropout0.5_lstm_model_ASGD.pt\n",
            "epochs50_batch70_lstmnum1_hdim40_hout150_dropout0_lstm_model_ASGD_NSAMPLE_20000.pt\n",
            "epochs51_batch70_lstmnum1_hdim40_hout150_dropout0.5_lstm_model_ada.pt\n",
            "epochs51_batch70_lstmnum1_hdim40_hout150_dropout0.5_lstm_model.pt\n",
            "epochs51_batch70_lstmnum1_hdim40_hout150_dropout0_lstm_model_ASGD.pt\n",
            "epochs51_batch70_lstmnum2_hdim40_hout150_dropout0_lstm_model.pt\n",
            "kmer3_len25_epoch5_cbow_model.pt\n",
            "kmer3_len25_epoch5_itw.p\n",
            "kmer3_len25_epoch5_wti.p\n",
            "test_df.pkl\n",
            "train_df.pkl\n"
          ],
          "name": "stdout"
        }
      ]
    },
    {
      "cell_type": "code",
      "metadata": {
        "id": "DFG3TYuPMnY5",
        "colab_type": "code",
        "colab": {}
      },
      "source": [
        "#os.chdir(\"/content/\")"
      ],
      "execution_count": 0,
      "outputs": []
    },
    {
      "cell_type": "code",
      "metadata": {
        "id": "4_RY5aZUMdbM",
        "colab_type": "code",
        "colab": {}
      },
      "source": [
        "class embedLSTM(nn.Module):\n",
        "    \"\"\"We still need the DropConnect.\"\"\"\n",
        "\n",
        "    def __init__(\n",
        "        self,\n",
        "        input_dim,\n",
        "        embedding_dim,\n",
        "        hidden_dim,\n",
        "        lstm_layers,\n",
        "        hidden_out,\n",
        "        output_dim,\n",
        "        padding_idx,\n",
        "        dropout,\n",
        "        t,\n",
        "    ):\n",
        "\n",
        "        super().__init__()\n",
        "        self.nb_tags = output_dim\n",
        "\n",
        "        self.embedding = nn.Embedding(input_dim, embedding_dim, padding_idx=padding_idx)\n",
        "\n",
        "        self.rnn = nn.LSTM(\n",
        "            embedding_dim,\n",
        "            hidden_dim,\n",
        "            bidirectional=True,\n",
        "            num_layers=lstm_layers,\n",
        "            dropout=dropout,\n",
        "        )\n",
        "#MODEL 1\n",
        "        self.fnn2 = nn.Sequential(\n",
        "            nn.Linear(t * hidden_dim * 2, hidden_out),\n",
        "            nn.ReLU(),\n",
        "            nn.Linear(hidden_out, output_dim),\n",
        "        )\n",
        "\n",
        "#MODEL 1-regularization\n",
        "#        self.fnn2 = nn.Sequential(\n",
        "#            nn.Linear(t * hidden_dim * 2, hidden_out),\n",
        "#            nn.BatchNorm1d(hidden_out),\n",
        "#            nn.ReLU(),\n",
        "#            nn.AlphaDropout(),\n",
        "#            nn.Linear(hidden_out, output_dim),\n",
        "#        )\n",
        "#MODEL 2\n",
        "#        self.fnn2 = nn.Sequential(\n",
        "#            nn.Linear(t * hidden_dim * 2, hidden_out),\n",
        "#            nn.BatchNorm1d(hidden_out),\n",
        "#            nn.SELU(),\n",
        "#            nn.AlphaDropout(0.5),\n",
        "#            nn.Linear(hidden_out, 70),\n",
        "#            nn.BatchNorm1d(70),\n",
        "#            nn.SELU(),\n",
        "#            nn.AlphaDropout(0.5),\n",
        "#            nn.Linear(70, output_dim),\n",
        "#        )\n",
        "\n",
        "\n",
        "    def forward(self, text):\n",
        "\n",
        "        # text = [sent len, batch size]\n",
        "        # 1. embedding\n",
        "        embedded = self.embedding(text)\n",
        "\n",
        "        # 2. LSTM\n",
        "        output, (hidden, lt) = self.rnn(embedded)\n",
        "        # 3. get that so it's correctly packed for the hidden layer\n",
        "        output = output.contiguous()\n",
        "        output = output.reshape(output.shape[0], -1)\n",
        "\n",
        "        # 4. classification through the 2 FF layers\n",
        "        output = self.fnn2(output)\n",
        "        return output"
      ],
      "execution_count": 0,
      "outputs": []
    },
    {
      "cell_type": "markdown",
      "metadata": {
        "id": "Omm3uYF9po4y",
        "colab_type": "text"
      },
      "source": [
        "## Initialization of the model"
      ]
    },
    {
      "cell_type": "code",
      "metadata": {
        "id": "w8N5MxyK2SOw",
        "colab_type": "code",
        "colab": {}
      },
      "source": [
        "#t = len(df_train.iloc[0,0]) # Find length of seqs (fixed)\n",
        "#print (\"t :\",t)\n",
        "N_EPOCHS = 51\n",
        "BATCH_SIZE = 70\n",
        "hidden_dim = 40\n",
        "lstm_layers= 1\n",
        "hidden_out = 150\n",
        "output_dim= 2 #(NUMBER OF CLASSES)<--------------------------------------\n",
        "dropout= 0"
      ],
      "execution_count": 0,
      "outputs": []
    },
    {
      "cell_type": "code",
      "metadata": {
        "colab_type": "code",
        "id": "go5mnL9uFJQu",
        "outputId": "db3a9ae3-fda2-478e-ee35-5c1a9c4ab127",
        "colab": {
          "base_uri": "https://localhost:8080/",
          "height": 70
        }
      },
      "source": [
        "t = len(df_train.iloc[0,0]) # Find length of seqs (fixed)\n",
        "print (\"t :\",t)\n",
        "N_EPOCHS = 51\n",
        "BATCH_SIZE = 70\n",
        "hidden_dim = 40\n",
        "lstm_layers= 1\n",
        "hidden_out = 150\n",
        "output_dim= 2 #(NUMBER OF CLASSES)<--------------------------------------\n",
        "dropout= 0\n",
        "\n",
        "rnn = embedLSTM(input_dim=len(word_to_ix), \n",
        "                embedding_dim=EMDEDDING_DIM,\n",
        "                hidden_dim = hidden_dim, \n",
        "                lstm_layers=lstm_layers, \n",
        "                hidden_out = hidden_out, \n",
        "                output_dim=output_dim, \n",
        "                padding_idx = word_to_ix[\"X\"], \n",
        "                t=len(df_train.loc[:,\"seq_idx\"][0]),\n",
        "                dropout=dropout).cuda()\n",
        "\n",
        "\n",
        "\n",
        "rnn.embedding.weight.data.copy_(model.cuda().embeddings.weight)\n",
        "\n",
        "#optimizer = torch.optim.SGD(rnn.parameters(), lr=1e-3,  momentum=0.9)\n",
        "#optimizer = torch.optim.Adam(rnn.parameters(), lr=1e-3)\n",
        "#optimizer = torch.optim.Adam(rnn.parameters(), lr=0.01, eps=1e-06, weight_decay=0)\n",
        "#optimizer = torch.optim.Adadelta(rnn.parameters(), lr=0.01, rho=0.9, eps=1e-06, weight_decay=0)\n",
        "optimizer = torch.optim.ASGD(rnn.parameters(), lr=1e-2)\n",
        "criterion = nn.CrossEntropyLoss().cuda()\n",
        "\n",
        "\n",
        "print (savepath)\n",
        "lstm_save_name = '/epochs%d_batch%d_lstmnum%d_hdim%d_hout%d_dropout%s_lstm_model_ASGD.pt' %(N_EPOCHS,BATCH_SIZE,lstm_layers,hidden_dim,hidden_out,dropout)\n",
        "lstm_open = savepath + lstm_save_name\n",
        "print (lstm_open)"
      ],
      "execution_count": 69,
      "outputs": [
        {
          "output_type": "stream",
          "text": [
            "t : 50\n",
            "/content/drive/My Drive/Model Outputs/20200102\n",
            "/content/drive/My Drive/Model Outputs/20200102/epochs51_batch70_lstmnum1_hdim40_hout150_dropout0_lstm_model_ASGD.pt\n"
          ],
          "name": "stdout"
        }
      ]
    },
    {
      "cell_type": "code",
      "metadata": {
        "id": "_A97EYlK2daA",
        "colab_type": "code",
        "outputId": "413d2c70-8467-4d02-ed12-766fdc7a30c4",
        "colab": {
          "base_uri": "https://localhost:8080/",
          "height": 177
        }
      },
      "source": [
        "rnn.embedding.weight"
      ],
      "execution_count": 70,
      "outputs": [
        {
          "output_type": "execute_result",
          "data": {
            "text/plain": [
              "Parameter containing:\n",
              "tensor([[ 1.9472, -0.7663,  1.5641,  ..., -0.8278,  0.7848, -0.4403],\n",
              "        [-0.1745, -2.0631,  0.8683,  ..., -0.5614,  0.9532, -0.6130],\n",
              "        [-0.6896, -0.9328,  0.1572,  ...,  1.9284, -0.0635, -0.1313],\n",
              "        ...,\n",
              "        [ 0.5958, -0.5287, -0.8439,  ...,  0.1407,  1.4758, -0.6722],\n",
              "        [-0.3006,  1.5494,  0.9421,  ...,  1.6847, -0.9700, -0.2212],\n",
              "        [ 0.0000,  0.0000,  0.0000,  ...,  0.0000,  0.0000,  0.0000]],\n",
              "       device='cuda:0', requires_grad=True)"
            ]
          },
          "metadata": {
            "tags": []
          },
          "execution_count": 70
        }
      ]
    },
    {
      "cell_type": "code",
      "metadata": {
        "id": "8HKgudxRpw2B",
        "colab_type": "code",
        "outputId": "928ea458-7d2d-422f-80af-4c02ed40b532",
        "colab": {
          "base_uri": "https://localhost:8080/",
          "height": 177
        }
      },
      "source": [
        "rnn"
      ],
      "execution_count": 71,
      "outputs": [
        {
          "output_type": "execute_result",
          "data": {
            "text/plain": [
              "embedLSTM(\n",
              "  (embedding): Embedding(65, 25, padding_idx=64)\n",
              "  (rnn): LSTM(25, 40, bidirectional=True)\n",
              "  (fnn2): Sequential(\n",
              "    (0): Linear(in_features=1200, out_features=150, bias=True)\n",
              "    (1): ReLU()\n",
              "    (2): Linear(in_features=150, out_features=2, bias=True)\n",
              "  )\n",
              ")"
            ]
          },
          "metadata": {
            "tags": []
          },
          "execution_count": 71
        }
      ]
    },
    {
      "cell_type": "code",
      "metadata": {
        "colab_type": "code",
        "id": "kz5EElhaQBN6",
        "colab": {}
      },
      "source": [
        "# le =  (len(model.embeddings.weight))\n",
        "# pte =torch.cat([model.embeddings.weight[0:10], model.embeddings.weight[10:(len(model.embeddings.weight)-1)]])\n",
        "# pte2 = (model.embeddings.weight[0:le])\n",
        "# #pte2 = torch.cat([model.embeddings.weight[0:le], model.embeddings.weight[le-1:le]])\n",
        "# rnn.embedding.weight.data.copy_(pte2)\n"
      ],
      "execution_count": 0,
      "outputs": []
    },
    {
      "cell_type": "code",
      "metadata": {
        "colab_type": "code",
        "id": "npYdT1SZU-wI",
        "outputId": "bef2e578-2ce7-49b2-c715-6b8f81ce7f8f",
        "colab": {
          "base_uri": "https://localhost:8080/",
          "height": 35
        }
      },
      "source": [
        "\"\"\"\n",
        "print (len (kmers))\n",
        "print (len (set(kmers))) \n",
        "print (len (word_to_ix)) \n",
        "\"\"\""
      ],
      "execution_count": 57,
      "outputs": [
        {
          "output_type": "execute_result",
          "data": {
            "text/plain": [
              "'\\nprint (len (kmers))\\nprint (len (set(kmers))) \\nprint (len (word_to_ix)) \\n'"
            ]
          },
          "metadata": {
            "tags": []
          },
          "execution_count": 57
        }
      ]
    },
    {
      "cell_type": "code",
      "metadata": {
        "colab_type": "code",
        "id": "gIN64mPVZQU7",
        "outputId": "0e09fa71-5cea-4fc8-b324-c025c96d3e98",
        "colab": {
          "base_uri": "https://localhost:8080/",
          "height": 35
        }
      },
      "source": [
        "df_train['seq_idx'].apply(lambda x: max(x)).max()"
      ],
      "execution_count": 72,
      "outputs": [
        {
          "output_type": "execute_result",
          "data": {
            "text/plain": [
              "63"
            ]
          },
          "metadata": {
            "tags": []
          },
          "execution_count": 72
        }
      ]
    },
    {
      "cell_type": "code",
      "metadata": {
        "colab_type": "code",
        "id": "z_2m8fNWY6-o",
        "colab": {}
      },
      "source": [
        "df_train[\"label_onehot\"] = df_train.label.apply(lambda x: lab2vec[x][0:2])\n",
        "df_test[\"label_onehot\"] = df_test.label.apply(lambda x: lab2vec[x][0:2])"
      ],
      "execution_count": 0,
      "outputs": []
    },
    {
      "cell_type": "markdown",
      "metadata": {
        "colab_type": "text",
        "id": "eUUQdMRKalZh"
      },
      "source": [
        "### count of parameters in our model"
      ]
    },
    {
      "cell_type": "code",
      "metadata": {
        "colab_type": "code",
        "id": "PZOtIr_ZajGe",
        "outputId": "1d47d866-c298-4db8-d193-c8cb897178ba",
        "colab": {
          "base_uri": "https://localhost:8080/",
          "height": 35
        }
      },
      "source": [
        "def count_parameters(model):\n",
        "    return sum(p.numel() for p in model.parameters() if p.requires_grad)\n",
        "\n",
        "print(f'The model has {count_parameters(rnn):,} trainable parameters')"
      ],
      "execution_count": 74,
      "outputs": [
        {
          "output_type": "stream",
          "text": [
            "The model has 203,517 trainable parameters\n"
          ],
          "name": "stdout"
        }
      ]
    },
    {
      "cell_type": "markdown",
      "metadata": {
        "colab_type": "text",
        "id": "KQ3hnv3Onw--"
      },
      "source": [
        "## Getting training and validation set\n"
      ]
    },
    {
      "cell_type": "code",
      "metadata": {
        "colab_type": "code",
        "id": "jjL8fY-LCftw",
        "colab": {}
      },
      "source": [
        "from torch.utils.data import DataLoader, Dataset\n",
        "\n",
        "class oversampdata(Dataset):\n",
        "  def __init__(self, data):\n",
        "    # first column is list of index sentence\n",
        "    self.data = torch.LongTensor(data.iloc[:,0])\n",
        "    # second column is the label\n",
        "    self.targets = torch.LongTensor(data.iloc[:,1])\n",
        "\n",
        "  def __len__(self):\n",
        "    return len(self.data)\n",
        "\n",
        "  def __getitem__(self, index):\n",
        "    data_val = self.data[index]\n",
        "    target = self.targets[index]\n",
        "    return data_val, target\n",
        "\n",
        "train_dataset = oversampdata(df_train.loc[:,[\"seq_idx\", \"label_onehot\"]])\n",
        "valid_dataset = oversampdata(df_test.loc[:,[\"seq_idx\", \"label_onehot\"]])"
      ],
      "execution_count": 0,
      "outputs": []
    },
    {
      "cell_type": "code",
      "metadata": {
        "colab_type": "code",
        "id": "IenV-ndMvJVW",
        "colab": {}
      },
      "source": [
        "trainloader = torch.utils.data.DataLoader(train_dataset, batch_size=BATCH_SIZE, \n",
        "                                          shuffle=True)\n",
        "testloader = torch.utils.data.DataLoader(valid_dataset, batch_size=BATCH_SIZE, \n",
        "                                         shuffle=False)"
      ],
      "execution_count": 0,
      "outputs": []
    },
    {
      "cell_type": "markdown",
      "metadata": {
        "colab_type": "text",
        "id": "yrH8hOnvmWE1"
      },
      "source": [
        "##Training the model\n"
      ]
    },
    {
      "cell_type": "code",
      "metadata": {
        "colab_type": "code",
        "id": "aLmBIgMEACTg",
        "outputId": "3cf43f5d-2329-415d-8942-467c7ef1144b",
        "colab": {
          "base_uri": "https://localhost:8080/",
          "height": 35
        }
      },
      "source": [
        "savepath"
      ],
      "execution_count": 77,
      "outputs": [
        {
          "output_type": "execute_result",
          "data": {
            "text/plain": [
              "'/content/drive/My Drive/Model Outputs/20200102'"
            ]
          },
          "metadata": {
            "tags": []
          },
          "execution_count": 77
        }
      ]
    },
    {
      "cell_type": "code",
      "metadata": {
        "colab_type": "code",
        "id": "Bt1Eibx-_Y7Q",
        "outputId": "830c45a6-df5c-4486-96e9-05d4011a3088",
        "colab": {
          "base_uri": "https://localhost:8080/",
          "height": 33
        }
      },
      "source": [
        "\"\"\"\n",
        "print (savepath)\n",
        "lstm_save_name = '/epochs%d_batch%d_lstmnum%d_hdim%d_hout%d_dropout%s_lstm_model_ada.pt' %(N_EPOCHS,BATCH_SIZE,lstm_layers,hidden_dim,hidden_out,dropout)\n",
        "lstm_open = savepath + lstm_save_name\n",
        "print (lstm_open)\n",
        "\"\"\""
      ],
      "execution_count": 0,
      "outputs": [
        {
          "output_type": "execute_result",
          "data": {
            "text/plain": [
              "\"\\nprint (savepath)\\nlstm_save_name = '/epochs%d_batch%d_lstmnum%d_hdim%d_hout%d_dropout%s_lstm_model_ada.pt' %(N_EPOCHS,BATCH_SIZE,lstm_layers,hidden_dim,hidden_out,dropout)\\nlstm_open = savepath + lstm_save_name\\nprint (lstm_open)\\n\""
            ]
          },
          "metadata": {
            "tags": []
          },
          "execution_count": 173
        }
      ]
    },
    {
      "cell_type": "code",
      "metadata": {
        "colab_type": "code",
        "id": "CUPgdWw0maX7",
        "colab": {}
      },
      "source": [
        "from torch.autograd import Variable\n",
        "import sys\n",
        "import matplotlib.pyplot as plt\n",
        "\n",
        "path = lstm_open\n",
        "# Colab in dark mode, guys :)\n",
        "plt.style.use(['seaborn-dark', 'dark_background'])\n",
        "\n",
        "def train(model, iterator, optimizer, criterion):\n",
        "    control  = 0\n",
        "    epoch_loss = 0\n",
        "    epoch_acc = 0\n",
        "    \n",
        "    model.train()\n",
        "    print(\"Training...\")\n",
        "\n",
        "    for i, batch in enumerate(iterator):\n",
        "        if i%50:\n",
        "          sys.stdout.write(f\"\\rIteration {i}        \")\n",
        "          sys.stdout.flush()\n",
        "\n",
        "        inputs, labels_onehot = batch\n",
        "        #print (inputs, labels_onehot)\n",
        "        #if control ==0:\n",
        "          #print (type(inputs))\n",
        "        inputs = Variable(inputs).cuda()\n",
        "        #if control ==0:\n",
        "          #print (type(inputs))\n",
        "        optimizer.zero_grad()\n",
        "        predictions = model(inputs)\n",
        "        labels_idx = torch.LongTensor([np.where(label==1)[0][0] for label in labels_onehot]).cuda()\n",
        "        loss = criterion(predictions, labels_idx)\n",
        "        loss.backward()\n",
        "        optimizer.step()\n",
        "        #print (predictions.size(), labels_onehot.size())\n",
        "        acc = binary_accuracy(predictions, labels_onehot)\n",
        "        # print(loss.item())\n",
        "        epoch_loss += loss.item()\n",
        "        epoch_acc += acc.item()\n",
        "        control = control +1\n",
        "    print()\n",
        "    return epoch_loss / len(iterator), epoch_acc / len(iterator)\n",
        "\n",
        "\n",
        "\n",
        "def evaluate(model, iterator, criterion):\n",
        "    epoch_loss = 0\n",
        "    epoch_acc = 0\n",
        "    \n",
        "    model.eval()\n",
        "    print(\"Evaluating...\")\n",
        "\n",
        "    for i, batch in enumerate(iterator):\n",
        "\n",
        "        inputs, labels_onehot = batch\n",
        "        inputs = Variable(inputs).cuda()\n",
        "        #if prediction.size()\n",
        "        #print (inputs.size()) \n",
        "        predictions = model(inputs)\n",
        "        labels_idx = torch.LongTensor([np.where(label==1)[0][0] for label in labels_onehot]).cuda()\n",
        "\n",
        "        #print (predictions.size(), labels_onehot.size())\n",
        "        loss = criterion(predictions, labels_idx)\n",
        "        acc = binary_accuracy(predictions, labels_onehot)\n",
        "\n",
        "        epoch_loss += loss.item()\n",
        "        epoch_acc += acc.item()\n",
        "\n",
        "    #predictions = predictions.detach().numpy()   \n",
        "    #labels_onehot = labels_onehot.detach().numpy()\n",
        "    #conf_matrix = confusion_matrix(predictions, labels_onehot)\n",
        "        \n",
        "    return epoch_loss / len(iterator), epoch_acc / len(iterator), predictions,labels_onehot,labels_idx \n",
        "\n",
        "def plot_network(epochs, train_loss, test_loss):\n",
        "    \"\"\" Neon \"\"\"\n",
        "    plt.figure()\n",
        "    # Other Neon colors of the palette -> #13CA91 #3B27BA #E847AE #FF9472\n",
        "    plt.plot(epochs, train_loss, color='#13CA91', marker = \"o\", linestyle='-', label='Training loss',)\n",
        "    plt.plot(epochs, test_loss, color='#3B27BA', marker = \"o\", linestyle='-', label='Validation loss')\n",
        "    plt.legend()\n",
        "    plt.xlabel('Epoch'), plt.ylabel('NLL')\n",
        "    plt.show()\n",
        "\n",
        "\n",
        "torch.save(rnn.state_dict(), path)"
      ],
      "execution_count": 0,
      "outputs": []
    },
    {
      "cell_type": "markdown",
      "metadata": {
        "colab_type": "text",
        "id": "ms-HG_FBqzVj"
      },
      "source": [
        "## Check results"
      ]
    },
    {
      "cell_type": "code",
      "metadata": {
        "id": "vPFzP4n4QNs2",
        "colab_type": "code",
        "colab": {}
      },
      "source": [
        "savepath = \"/content/drive/My Drive/Model Outputs/%s\" %(date)\n",
        "os.chdir(savepath)"
      ],
      "execution_count": 0,
      "outputs": []
    },
    {
      "cell_type": "code",
      "metadata": {
        "id": "IWCZ7buuUYM-",
        "colab_type": "code",
        "colab": {
          "base_uri": "https://localhost:8080/",
          "height": 35
        },
        "outputId": "84f9656c-3e28-4f80-9b59-f069d2c9eb75"
      },
      "source": [
        "lstm_open"
      ],
      "execution_count": 80,
      "outputs": [
        {
          "output_type": "execute_result",
          "data": {
            "text/plain": [
              "'/content/drive/My Drive/Model Outputs/20200102/epochs51_batch70_lstmnum1_hdim40_hout150_dropout0_lstm_model_ASGD.pt'"
            ]
          },
          "metadata": {
            "tags": []
          },
          "execution_count": 80
        }
      ]
    },
    {
      "cell_type": "code",
      "metadata": {
        "colab_type": "code",
        "id": "KLhfluLNmn5C",
        "outputId": "9f349fe1-f7b5-4203-bbd3-4b2351aea400",
        "colab": {
          "base_uri": "https://localhost:8080/",
          "height": 1000
        }
      },
      "source": [
        "import numpy as np\n",
        "import matplotlib.pyplot as plt\n",
        "\n",
        "\n",
        "#model_save_name = 'rnn_epoch%d_batch%d_drop%d.pt' %(N_EPOCHS,BATCH_SIZE,dropout)\n",
        "#model_save_name=\"rnn_epoch20_batch32_drop01_bitrue.pt\"\n",
        "#path = F\"/content/drive/My Drive/Model Outputs/{model_save_name}\"\n",
        "path = lstm_open\n",
        "\n",
        "all_train_loss = []\n",
        "all_test_loss = []\n",
        "all_epochs = []\n",
        "best_test_loss = float('inf')\n",
        "all_predictions = list()\n",
        "all_targets = list()\n",
        "all_labels_idx = list()\n",
        "\n",
        "for epoch in range(N_EPOCHS):\n",
        "    print(\"Epoch: \" + str(epoch))\n",
        "    train_loss, train_acc = train(rnn, trainloader, optimizer, criterion)\n",
        "    test_loss, test_acc, predictions, y, labels_idx= evaluate(rnn, testloader, criterion)\n",
        "    #print (type(predictions))\n",
        "    all_predictions.append(predictions)\n",
        "    all_targets.append(y)\n",
        "    all_labels_idx.append(labels_idx)\n",
        "    #all_predictions = torch.cat((x, y), 0)\n",
        "\n",
        "\n",
        "    #print (len(predictions), len(y))\n",
        "    #train_loss  = train(rnn, trainloader, optimizer, criterion)\n",
        "    #test_loss  = evaluate(rnn, testloader, criterion)    \n",
        "    \n",
        "    if test_loss < best_test_loss:\n",
        "        best_test_loss = test_loss\n",
        "        torch.save(rnn.state_dict(), path)\n",
        "    \n",
        "    print(f'\\tTrain Loss: {train_loss:.3f} | Train Acc: {train_acc*100:.2f}%')\n",
        "    print(f'\\t Test Loss: {test_loss:.3f} |  Test Acc: {test_acc*100:.2f}%')\n",
        "    all_train_loss.append(train_loss)\n",
        "    all_test_loss.append(test_loss)\n",
        "    all_epochs.append(epoch)\n",
        "\n",
        "    if epoch%10 == 0:\n",
        "      plot_network(all_epochs, all_train_loss, all_test_loss)\n",
        "    print (dash)\n",
        "    #CM"
      ],
      "execution_count": 81,
      "outputs": [
        {
          "output_type": "stream",
          "text": [
            "Epoch: 0\n",
            "Training...\n",
            "Iteration 457        \n",
            "Evaluating...\n",
            "\tTrain Loss: 0.693 | Train Acc: 50.63%\n",
            "\t Test Loss: 0.693 |  Test Acc: 51.90%\n"
          ],
          "name": "stdout"
        },
        {
          "output_type": "display_data",
          "data": {
            "image/png": "[encoded data removed]",
            "text/plain": [
              "<Figure size 432x288 with 1 Axes>"
            ]
          },
          "metadata": {
            "tags": []
          }
        },
        {
          "output_type": "stream",
          "text": [
            "--------------------------------------------------------------------------------\n",
            "Epoch: 1\n",
            "Training...\n",
            "Iteration 457        \n",
            "Evaluating...\n",
            "\tTrain Loss: 0.692 | Train Acc: 53.16%\n",
            "\t Test Loss: 0.692 |  Test Acc: 53.32%\n",
            "--------------------------------------------------------------------------------\n",
            "Epoch: 2\n",
            "Training...\n",
            "Iteration 457        \n",
            "Evaluating...\n",
            "\tTrain Loss: 0.691 | Train Acc: 54.90%\n",
            "\t Test Loss: 0.690 |  Test Acc: 54.94%\n",
            "--------------------------------------------------------------------------------\n",
            "Epoch: 3\n",
            "Training...\n",
            "Iteration 457        \n",
            "Evaluating...\n",
            "\tTrain Loss: 0.689 | Train Acc: 57.14%\n",
            "\t Test Loss: 0.689 |  Test Acc: 56.12%\n",
            "--------------------------------------------------------------------------------\n",
            "Epoch: 4\n",
            "Training...\n",
            "Iteration 457        \n",
            "Evaluating...\n",
            "\tTrain Loss: 0.687 | Train Acc: 58.34%\n",
            "\t Test Loss: 0.686 |  Test Acc: 58.06%\n",
            "--------------------------------------------------------------------------------\n",
            "Epoch: 5\n",
            "Training...\n",
            "Iteration 457        \n",
            "Evaluating...\n",
            "\tTrain Loss: 0.683 | Train Acc: 59.77%\n",
            "\t Test Loss: 0.682 |  Test Acc: 59.61%\n",
            "--------------------------------------------------------------------------------\n",
            "Epoch: 6\n",
            "Training...\n",
            "Iteration 457        \n",
            "Evaluating...\n",
            "\tTrain Loss: 0.678 | Train Acc: 60.80%\n",
            "\t Test Loss: 0.676 |  Test Acc: 60.97%\n",
            "--------------------------------------------------------------------------------\n",
            "Epoch: 7\n",
            "Training...\n",
            "Iteration 457        \n",
            "Evaluating...\n",
            "\tTrain Loss: 0.671 | Train Acc: 61.73%\n",
            "\t Test Loss: 0.669 |  Test Acc: 61.73%\n",
            "--------------------------------------------------------------------------------\n",
            "Epoch: 8\n",
            "Training...\n",
            "Iteration 457        \n",
            "Evaluating...\n",
            "\tTrain Loss: 0.661 | Train Acc: 62.79%\n",
            "\t Test Loss: 0.660 |  Test Acc: 61.30%\n",
            "--------------------------------------------------------------------------------\n",
            "Epoch: 9\n",
            "Training...\n",
            "Iteration 457        \n",
            "Evaluating...\n",
            "\tTrain Loss: 0.650 | Train Acc: 63.21%\n",
            "\t Test Loss: 0.649 |  Test Acc: 63.50%\n",
            "--------------------------------------------------------------------------------\n",
            "Epoch: 10\n",
            "Training...\n",
            "Iteration 457        \n",
            "Evaluating...\n",
            "\tTrain Loss: 0.641 | Train Acc: 64.08%\n",
            "\t Test Loss: 0.641 |  Test Acc: 64.14%\n"
          ],
          "name": "stdout"
        },
        {
          "output_type": "display_data",
          "data": {
            "image/png": "[encoded data removed]",
            "text/plain": [
              "<Figure size 432x288 with 1 Axes>"
            ]
          },
          "metadata": {
            "tags": []
          }
        },
        {
          "output_type": "stream",
          "text": [
            "--------------------------------------------------------------------------------\n",
            "Epoch: 11\n",
            "Training...\n",
            "Iteration 457        \n",
            "Evaluating...\n",
            "\tTrain Loss: 0.632 | Train Acc: 64.92%\n",
            "\t Test Loss: 0.633 |  Test Acc: 64.84%\n",
            "--------------------------------------------------------------------------------\n",
            "Epoch: 12\n",
            "Training...\n",
            "Iteration 457        \n",
            "Evaluating...\n",
            "\tTrain Loss: 0.623 | Train Acc: 65.84%\n",
            "\t Test Loss: 0.626 |  Test Acc: 65.21%\n",
            "--------------------------------------------------------------------------------\n",
            "Epoch: 13\n",
            "Training...\n",
            "Iteration 457        \n",
            "Evaluating...\n",
            "\tTrain Loss: 0.616 | Train Acc: 66.42%\n",
            "\t Test Loss: 0.622 |  Test Acc: 65.78%\n",
            "--------------------------------------------------------------------------------\n",
            "Epoch: 14\n",
            "Training...\n",
            "Iteration 457        \n",
            "Evaluating...\n",
            "\tTrain Loss: 0.611 | Train Acc: 66.88%\n",
            "\t Test Loss: 0.619 |  Test Acc: 66.48%\n",
            "--------------------------------------------------------------------------------\n",
            "Epoch: 15\n",
            "Training...\n",
            "Iteration 457        \n",
            "Evaluating...\n",
            "\tTrain Loss: 0.605 | Train Acc: 67.58%\n",
            "\t Test Loss: 0.614 |  Test Acc: 66.75%\n",
            "--------------------------------------------------------------------------------\n",
            "Epoch: 16\n",
            "Training...\n",
            "Iteration 457        \n",
            "Evaluating...\n",
            "\tTrain Loss: 0.604 | Train Acc: 67.69%\n",
            "\t Test Loss: 0.611 |  Test Acc: 66.89%\n",
            "--------------------------------------------------------------------------------\n",
            "Epoch: 17\n",
            "Training...\n",
            "Iteration 457        \n",
            "Evaluating...\n",
            "\tTrain Loss: 0.598 | Train Acc: 68.43%\n",
            "\t Test Loss: 0.609 |  Test Acc: 67.04%\n",
            "--------------------------------------------------------------------------------\n",
            "Epoch: 18\n",
            "Training...\n",
            "Iteration 457        \n",
            "Evaluating...\n",
            "\tTrain Loss: 0.593 | Train Acc: 68.80%\n",
            "\t Test Loss: 0.615 |  Test Acc: 67.68%\n",
            "--------------------------------------------------------------------------------\n",
            "Epoch: 19\n",
            "Training...\n",
            "Iteration 457        \n",
            "Evaluating...\n",
            "\tTrain Loss: 0.591 | Train Acc: 68.97%\n",
            "\t Test Loss: 0.601 |  Test Acc: 67.98%\n",
            "--------------------------------------------------------------------------------\n",
            "Epoch: 20\n",
            "Training...\n",
            "Iteration 457        \n",
            "Evaluating...\n",
            "\tTrain Loss: 0.587 | Train Acc: 69.50%\n",
            "\t Test Loss: 0.599 |  Test Acc: 68.14%\n"
          ],
          "name": "stdout"
        },
        {
          "output_type": "display_data",
          "data": {
            "image/png": "[encoded data removed]",
            "text/plain": [
              "<Figure size 432x288 with 1 Axes>"
            ]
          },
          "metadata": {
            "tags": []
          }
        },
        {
          "output_type": "stream",
          "text": [
            "--------------------------------------------------------------------------------\n",
            "Epoch: 21\n",
            "Training...\n",
            "Iteration 457        \n",
            "Evaluating...\n",
            "\tTrain Loss: 0.583 | Train Acc: 69.67%\n",
            "\t Test Loss: 0.608 |  Test Acc: 66.68%\n",
            "--------------------------------------------------------------------------------\n",
            "Epoch: 22\n",
            "Training...\n",
            "Iteration 457        \n",
            "Evaluating...\n",
            "\tTrain Loss: 0.581 | Train Acc: 69.73%\n",
            "\t Test Loss: 0.601 |  Test Acc: 68.81%\n",
            "--------------------------------------------------------------------------------\n",
            "Epoch: 23\n",
            "Training...\n",
            "Iteration 457        \n",
            "Evaluating...\n",
            "\tTrain Loss: 0.578 | Train Acc: 70.11%\n",
            "\t Test Loss: 0.595 |  Test Acc: 68.04%\n",
            "--------------------------------------------------------------------------------\n",
            "Epoch: 24\n",
            "Training...\n",
            "Iteration 457        \n",
            "Evaluating...\n",
            "\tTrain Loss: 0.576 | Train Acc: 70.35%\n",
            "\t Test Loss: 0.591 |  Test Acc: 69.39%\n",
            "--------------------------------------------------------------------------------\n",
            "Epoch: 25\n",
            "Training...\n",
            "Iteration 457        \n",
            "Evaluating...\n",
            "\tTrain Loss: 0.573 | Train Acc: 70.56%\n",
            "\t Test Loss: 0.589 |  Test Acc: 69.62%\n",
            "--------------------------------------------------------------------------------\n",
            "Epoch: 26\n",
            "Training...\n",
            "Iteration 457        \n",
            "Evaluating...\n",
            "\tTrain Loss: 0.573 | Train Acc: 70.49%\n",
            "\t Test Loss: 0.590 |  Test Acc: 68.47%\n",
            "--------------------------------------------------------------------------------\n",
            "Epoch: 27\n",
            "Training...\n",
            "Iteration 457        \n",
            "Evaluating...\n",
            "\tTrain Loss: 0.569 | Train Acc: 70.84%\n",
            "\t Test Loss: 0.594 |  Test Acc: 69.46%\n",
            "--------------------------------------------------------------------------------\n",
            "Epoch: 28\n",
            "Training...\n",
            "Iteration 457        \n",
            "Evaluating...\n",
            "\tTrain Loss: 0.568 | Train Acc: 71.01%\n",
            "\t Test Loss: 0.587 |  Test Acc: 70.12%\n",
            "--------------------------------------------------------------------------------\n",
            "Epoch: 29\n",
            "Training...\n",
            "Iteration 457        \n",
            "Evaluating...\n",
            "\tTrain Loss: 0.567 | Train Acc: 70.99%\n",
            "\t Test Loss: 0.589 |  Test Acc: 68.90%\n",
            "--------------------------------------------------------------------------------\n",
            "Epoch: 30\n",
            "Training...\n",
            "Iteration 457        \n",
            "Evaluating...\n",
            "\tTrain Loss: 0.565 | Train Acc: 71.27%\n",
            "\t Test Loss: 0.585 |  Test Acc: 69.50%\n"
          ],
          "name": "stdout"
        },
        {
          "output_type": "display_data",
          "data": {
            "image/png": "[encoded data removed]",
            "text/plain": [
              "<Figure size 432x288 with 1 Axes>"
            ]
          },
          "metadata": {
            "tags": []
          }
        },
        {
          "output_type": "stream",
          "text": [
            "--------------------------------------------------------------------------------\n",
            "Epoch: 31\n",
            "Training...\n",
            "Iteration 457        \n",
            "Evaluating...\n",
            "\tTrain Loss: 0.565 | Train Acc: 71.15%\n",
            "\t Test Loss: 0.583 |  Test Acc: 69.84%\n",
            "--------------------------------------------------------------------------------\n",
            "Epoch: 32\n",
            "Training...\n",
            "Iteration 457        \n",
            "Evaluating...\n",
            "\tTrain Loss: 0.563 | Train Acc: 71.60%\n",
            "\t Test Loss: 0.590 |  Test Acc: 69.90%\n",
            "--------------------------------------------------------------------------------\n",
            "Epoch: 33\n",
            "Training...\n",
            "Iteration 457        \n",
            "Evaluating...\n",
            "\tTrain Loss: 0.562 | Train Acc: 71.48%\n",
            "\t Test Loss: 0.605 |  Test Acc: 67.50%\n",
            "--------------------------------------------------------------------------------\n",
            "Epoch: 34\n",
            "Training...\n",
            "Iteration 457        \n",
            "Evaluating...\n",
            "\tTrain Loss: 0.561 | Train Acc: 71.56%\n",
            "\t Test Loss: 0.589 |  Test Acc: 69.84%\n",
            "--------------------------------------------------------------------------------\n",
            "Epoch: 35\n",
            "Training...\n",
            "Iteration 457        \n",
            "Evaluating...\n",
            "\tTrain Loss: 0.561 | Train Acc: 71.52%\n",
            "\t Test Loss: 0.584 |  Test Acc: 70.30%\n",
            "--------------------------------------------------------------------------------\n",
            "Epoch: 36\n",
            "Training...\n",
            "Iteration 457        \n",
            "Evaluating...\n",
            "\tTrain Loss: 0.559 | Train Acc: 71.64%\n",
            "\t Test Loss: 0.584 |  Test Acc: 69.65%\n",
            "--------------------------------------------------------------------------------\n",
            "Epoch: 37\n",
            "Training...\n",
            "Iteration 457        \n",
            "Evaluating...\n",
            "\tTrain Loss: 0.559 | Train Acc: 71.62%\n",
            "\t Test Loss: 0.582 |  Test Acc: 70.61%\n",
            "--------------------------------------------------------------------------------\n",
            "Epoch: 38\n",
            "Training...\n",
            "Iteration 457        \n",
            "Evaluating...\n",
            "\tTrain Loss: 0.558 | Train Acc: 71.85%\n",
            "\t Test Loss: 0.589 |  Test Acc: 69.80%\n",
            "--------------------------------------------------------------------------------\n",
            "Epoch: 39\n",
            "Training...\n",
            "Iteration 457        \n",
            "Evaluating...\n",
            "\tTrain Loss: 0.557 | Train Acc: 72.02%\n",
            "\t Test Loss: 0.594 |  Test Acc: 69.42%\n",
            "--------------------------------------------------------------------------------\n",
            "Epoch: 40\n",
            "Training...\n",
            "Iteration 457        \n",
            "Evaluating...\n",
            "\tTrain Loss: 0.557 | Train Acc: 71.83%\n",
            "\t Test Loss: 0.580 |  Test Acc: 70.50%\n"
          ],
          "name": "stdout"
        },
        {
          "output_type": "display_data",
          "data": {
            "image/png": "[encoded data removed]",
            "text/plain": [
              "<Figure size 432x288 with 1 Axes>"
            ]
          },
          "metadata": {
            "tags": []
          }
        },
        {
          "output_type": "stream",
          "text": [
            "--------------------------------------------------------------------------------\n",
            "Epoch: 41\n",
            "Training...\n",
            "Iteration 457        \n",
            "Evaluating...\n",
            "\tTrain Loss: 0.557 | Train Acc: 71.84%\n",
            "\t Test Loss: 0.590 |  Test Acc: 69.12%\n",
            "--------------------------------------------------------------------------------\n",
            "Epoch: 42\n",
            "Training...\n",
            "Iteration 457        \n",
            "Evaluating...\n",
            "\tTrain Loss: 0.556 | Train Acc: 71.77%\n",
            "\t Test Loss: 0.580 |  Test Acc: 70.47%\n",
            "--------------------------------------------------------------------------------\n",
            "Epoch: 43\n",
            "Training...\n",
            "Iteration 457        \n",
            "Evaluating...\n",
            "\tTrain Loss: 0.556 | Train Acc: 71.85%\n",
            "\t Test Loss: 0.581 |  Test Acc: 70.42%\n",
            "--------------------------------------------------------------------------------\n",
            "Epoch: 44\n",
            "Training...\n",
            "Iteration 457        \n",
            "Evaluating...\n",
            "\tTrain Loss: 0.555 | Train Acc: 71.82%\n",
            "\t Test Loss: 0.580 |  Test Acc: 70.42%\n",
            "--------------------------------------------------------------------------------\n",
            "Epoch: 45\n",
            "Training...\n",
            "Iteration 457        \n",
            "Evaluating...\n",
            "\tTrain Loss: 0.554 | Train Acc: 72.02%\n",
            "\t Test Loss: 0.579 |  Test Acc: 70.34%\n",
            "--------------------------------------------------------------------------------\n",
            "Epoch: 46\n",
            "Training...\n",
            "Iteration 457        \n",
            "Evaluating...\n",
            "\tTrain Loss: 0.554 | Train Acc: 71.87%\n",
            "\t Test Loss: 0.583 |  Test Acc: 70.23%\n",
            "--------------------------------------------------------------------------------\n",
            "Epoch: 47\n",
            "Training...\n",
            "Iteration 457        \n",
            "Evaluating...\n",
            "\tTrain Loss: 0.553 | Train Acc: 72.13%\n",
            "\t Test Loss: 0.587 |  Test Acc: 69.87%\n",
            "--------------------------------------------------------------------------------\n",
            "Epoch: 48\n",
            "Training...\n",
            "Iteration 457        \n",
            "Evaluating...\n",
            "\tTrain Loss: 0.553 | Train Acc: 72.11%\n",
            "\t Test Loss: 0.582 |  Test Acc: 70.57%\n",
            "--------------------------------------------------------------------------------\n",
            "Epoch: 49\n",
            "Training...\n",
            "Iteration 457        \n",
            "Evaluating...\n",
            "\tTrain Loss: 0.552 | Train Acc: 72.00%\n",
            "\t Test Loss: 0.586 |  Test Acc: 69.61%\n",
            "--------------------------------------------------------------------------------\n",
            "Epoch: 50\n",
            "Training...\n",
            "Iteration 457        \n",
            "Evaluating...\n",
            "\tTrain Loss: 0.551 | Train Acc: 72.31%\n",
            "\t Test Loss: 0.580 |  Test Acc: 70.15%\n"
          ],
          "name": "stdout"
        },
        {
          "output_type": "display_data",
          "data": {
            "image/png": "[encoded data removed]",
            "text/plain": [
              "<Figure size 432x288 with 1 Axes>"
            ]
          },
          "metadata": {
            "tags": []
          }
        },
        {
          "output_type": "stream",
          "text": [
            "--------------------------------------------------------------------------------\n"
          ],
          "name": "stdout"
        }
      ]
    },
    {
      "cell_type": "markdown",
      "metadata": {
        "colab_type": "text",
        "id": "r0nhArMmSjC6"
      },
      "source": [
        "## load lstm\n"
      ]
    },
    {
      "cell_type": "code",
      "metadata": {
        "id": "LPPnjZbRVosm",
        "colab_type": "code",
        "colab": {}
      },
      "source": [
        "#stored_lstm = True\n",
        "stored_lstm = False"
      ],
      "execution_count": 0,
      "outputs": []
    },
    {
      "cell_type": "code",
      "metadata": {
        "colab_type": "code",
        "outputId": "e403e6a5-636a-4faa-df27-26ad19776a0e",
        "id": "ZZPX4t6ySjDB",
        "colab": {
          "base_uri": "https://localhost:8080/",
          "height": 88
        }
      },
      "source": [
        "#loadpath = \"/content/drive/My Drive/Model Outputs/%s\" %(date)\n",
        "date = '20200102'\n",
        "savepath = \"/content/drive/My Drive/Model Outputs/%s\" %(date)\n",
        "print (savepath)\n",
        "lstm_save_name = '/epochs%d_batch%d_lstmnum%d_hdim%d_hout%d_dropout%s_lstm_model_ASGD.pt' %(N_EPOCHS,BATCH_SIZE,lstm_layers,hidden_dim,hidden_out,dropout)\n",
        "print ('correct directory: epochs51_batch70_lstmnum1_hdim40_hout150_dropout0_lstm_model_ASGD')\n",
        "lstm_open = savepath + lstm_save_name\n",
        "print (lstm_open)\n",
        "\n",
        "loadpath = lstm_open\n",
        "#os.chdir(loadpath)\n",
        "date"
      ],
      "execution_count": 63,
      "outputs": [
        {
          "output_type": "stream",
          "text": [
            "/content/drive/My Drive/Model Outputs/20200102\n",
            "correct directory: epochs51_batch70_lstmnum1_hdim40_hout150_dropout0_lstm_model_ASGD\n",
            "/content/drive/My Drive/Model Outputs/20200102/epochs51_batch70_lstmnum1_hdim40_hout150_dropout0_lstm_model_ASGD.pt\n"
          ],
          "name": "stdout"
        },
        {
          "output_type": "execute_result",
          "data": {
            "text/plain": [
              "'20200102'"
            ]
          },
          "metadata": {
            "tags": []
          },
          "execution_count": 63
        }
      ]
    },
    {
      "cell_type": "code",
      "metadata": {
        "colab_type": "code",
        "outputId": "df841164-a8d8-4998-c15c-862c9748f0e8",
        "id": "CdmA0CgsSjDH",
        "colab": {
          "base_uri": "https://localhost:8080/",
          "height": 472
        }
      },
      "source": [
        "if stored_lstm == True:\n",
        "  path = loadpath\n",
        "  print (path) \n",
        "\n",
        "  rnn = embedLSTM(input_dim=len(word_to_ix), \n",
        "              embedding_dim=EMDEDDING_DIM,\n",
        "              hidden_dim = hidden_dim, \n",
        "              lstm_layers=lstm_layers, \n",
        "              hidden_out = hidden_out, \n",
        "              output_dim=output_dim, \n",
        "              padding_idx = word_to_ix[\"X\"], \n",
        "              t=len(df_train.loc[:,\"seq_idx\"][0]),\n",
        "              dropout=dropout).cuda()\n",
        "\n",
        "  rnn.load_state_dict(torch.load(path, map_location=torch.device('cpu'),strict=False)) #try strict= False\n",
        "\n",
        "  \n",
        "  print (\"pretrained lstm loaded\")\n",
        "  print (dash)\n",
        "\n"
      ],
      "execution_count": 65,
      "outputs": [
        {
          "output_type": "stream",
          "text": [
            "/content/drive/My Drive/Model Outputs/20200102/epochs51_batch70_lstmnum1_hdim40_hout150_dropout0_lstm_model_ASGD.pt\n"
          ],
          "name": "stdout"
        },
        {
          "output_type": "stream",
          "text": [
            "/usr/local/lib/python3.6/dist-packages/torch/nn/modules/rnn.py:51: UserWarning: dropout option adds dropout after all but last recurrent layer, so non-zero dropout expects num_layers greater than 1, but got dropout=0.4 and num_layers=1\n",
            "  \"num_layers={}\".format(dropout, num_layers))\n"
          ],
          "name": "stderr"
        },
        {
          "output_type": "error",
          "ename": "RuntimeError",
          "evalue": "ignored",
          "traceback": [
            "\u001b[0;31m---------------------------------------------------------------------------\u001b[0m",
            "\u001b[0;31mRuntimeError\u001b[0m                              Traceback (most recent call last)",
            "\u001b[0;32m<ipython-input-65-154f4d3ea31a>\u001b[0m in \u001b[0;36m<module>\u001b[0;34m()\u001b[0m\n\u001b[1;32m     13\u001b[0m               dropout=dropout).cuda()\n\u001b[1;32m     14\u001b[0m \u001b[0;34m\u001b[0m\u001b[0m\n\u001b[0;32m---> 15\u001b[0;31m   \u001b[0mrnn\u001b[0m\u001b[0;34m.\u001b[0m\u001b[0mload_state_dict\u001b[0m\u001b[0;34m(\u001b[0m\u001b[0mtorch\u001b[0m\u001b[0;34m.\u001b[0m\u001b[0mload\u001b[0m\u001b[0;34m(\u001b[0m\u001b[0mpath\u001b[0m\u001b[0;34m,\u001b[0m \u001b[0mmap_location\u001b[0m\u001b[0;34m=\u001b[0m\u001b[0mtorch\u001b[0m\u001b[0;34m.\u001b[0m\u001b[0mdevice\u001b[0m\u001b[0;34m(\u001b[0m\u001b[0;34m'cpu'\u001b[0m\u001b[0;34m)\u001b[0m\u001b[0;34m)\u001b[0m\u001b[0;34m)\u001b[0m\u001b[0;34m\u001b[0m\u001b[0;34m\u001b[0m\u001b[0m\n\u001b[0m\u001b[1;32m     16\u001b[0m \u001b[0;34m\u001b[0m\u001b[0m\n\u001b[1;32m     17\u001b[0m \u001b[0;34m\u001b[0m\u001b[0m\n",
            "\u001b[0;32m/usr/local/lib/python3.6/dist-packages/torch/nn/modules/module.py\u001b[0m in \u001b[0;36mload_state_dict\u001b[0;34m(self, state_dict, strict)\u001b[0m\n\u001b[1;32m    837\u001b[0m         \u001b[0;32mif\u001b[0m \u001b[0mlen\u001b[0m\u001b[0;34m(\u001b[0m\u001b[0merror_msgs\u001b[0m\u001b[0;34m)\u001b[0m \u001b[0;34m>\u001b[0m \u001b[0;36m0\u001b[0m\u001b[0;34m:\u001b[0m\u001b[0;34m\u001b[0m\u001b[0;34m\u001b[0m\u001b[0m\n\u001b[1;32m    838\u001b[0m             raise RuntimeError('Error(s) in loading state_dict for {}:\\n\\t{}'.format(\n\u001b[0;32m--> 839\u001b[0;31m                                self.__class__.__name__, \"\\n\\t\".join(error_msgs)))\n\u001b[0m\u001b[1;32m    840\u001b[0m         \u001b[0;32mreturn\u001b[0m \u001b[0m_IncompatibleKeys\u001b[0m\u001b[0;34m(\u001b[0m\u001b[0mmissing_keys\u001b[0m\u001b[0;34m,\u001b[0m \u001b[0munexpected_keys\u001b[0m\u001b[0;34m)\u001b[0m\u001b[0;34m\u001b[0m\u001b[0;34m\u001b[0m\u001b[0m\n\u001b[1;32m    841\u001b[0m \u001b[0;34m\u001b[0m\u001b[0m\n",
            "\u001b[0;31mRuntimeError\u001b[0m: Error(s) in loading state_dict for embedLSTM:\n\tMissing key(s) in state_dict: \"fnn2.1.weight\", \"fnn2.1.bias\", \"fnn2.1.running_mean\", \"fnn2.1.running_var\", \"fnn2.4.weight\", \"fnn2.4.bias\", \"fnn2.5.weight\", \"fnn2.5.bias\", \"fnn2.5.running_mean\", \"fnn2.5.running_var\", \"fnn2.8.weight\", \"fnn2.8.bias\". \n\tUnexpected key(s) in state_dict: \"fnn2.2.weight\", \"fnn2.2.bias\". "
          ]
        }
      ]
    },
    {
      "cell_type": "markdown",
      "metadata": {
        "id": "cmsyi5iaNvJ6",
        "colab_type": "text"
      },
      "source": [
        "# 7 - Filter and Confusion matrix - MAYBE RUNS\n",
        "First, generate a sliding window of every test chunk of each genome in the dataset."
      ]
    },
    {
      "cell_type": "markdown",
      "metadata": {
        "id": "zlMwW3txQa_H",
        "colab_type": "text"
      },
      "source": [
        "We annotate the procedence of each gene to see if we can cluster different cases by gene function."
      ]
    },
    {
      "cell_type": "code",
      "metadata": {
        "id": "KtmARCIpt7j3",
        "colab_type": "code",
        "colab": {}
      },
      "source": [
        "#%cd \"/content/drive/My Drive/Model Outputs/uploads_new\"\n",
        "savefasta = \"/content/drive/My Drive/Model Outputs/Fastasplits_train_test\"\n",
        "os.chdir(savefasta)"
      ],
      "execution_count": 0,
      "outputs": []
    },
    {
      "cell_type": "code",
      "metadata": {
        "id": "ytybE-RurBZo",
        "colab_type": "code",
        "outputId": "1d608fca-7cf5-48dd-c1f7-b9a8766025a9",
        "colab": {
          "base_uri": "https://localhost:8080/",
          "height": 195
        }
      },
      "source": [
        "all_tests = []\n",
        "for i in range(len(test_feature_tables)):\n",
        "  print(f\"Processing {test_genomes[i]}\")\n",
        "  tmp = window_pipeline(test_genomes[i], \n",
        "                        test_feature_tables[i], \n",
        "                        by = test_splits[i],\n",
        "                        window_size=window_size, \n",
        "                        num_windows=num_windows, \n",
        "                        annotate=False)  \n",
        "\n",
        "  tmp = tmp[tmp[\"label\"]!=\"partial\"]\n",
        "  tmp = tmp.sort_values(by=\"start\")  # sequential data\n",
        "  # to differentiate one genome from another\n",
        "  # I guess it could be better managed with levels at pd.concat\n",
        "  tmp[\"genome\"] = test_genomes[i]\n",
        "  all_tests.append(tmp)\n",
        "\n",
        "all_tests = pd.concat(all_tests)"
      ],
      "execution_count": 92,
      "outputs": [
        {
          "output_type": "stream",
          "text": [
            "Processing 0_0_TEST_GCF_000008525.1_ASM852v1_genomic.fna\n",
            "Processing 1_0_TEST_GCF_000008665.1_ASM866v1_genomic.fna\n",
            "Processing 2_0_TEST_GCF_000008865.2_ASM886v2_genomic.fna\n",
            "Processing 3_0_TEST_GCF_000009045.1_ASM904v1_genomic.fna\n",
            "Processing 4_0_TEST_GCF_000027305.1_ASM2730v1_genomic.fna\n",
            "Processing 5_0_TEST_GCF_000027325.1_ASM2732v1_genomic.fna\n",
            "Processing 6_0_TEST_GCF_000027345.1_ASM2734v1_genomic.fna\n",
            "Processing 7_0_TEST_GCF_000091665.1_ASM9166v1_genomic.fna\n",
            "Processing 8_0_TEST_GCF_000214725.1_ASM21472v1_genomic.fna\n",
            "Processing 9_0_TEST_GCF_003015225.1_ASM301522v1_genomic.fna\n"
          ],
          "name": "stdout"
        }
      ]
    },
    {
      "cell_type": "code",
      "metadata": {
        "id": "sWAN1mToy5BH",
        "colab_type": "code",
        "outputId": "b5ae53e3-3292-4088-81f0-c600b3bd6922",
        "colab": {
          "base_uri": "https://localhost:8080/",
          "height": 35
        }
      },
      "source": [
        "len(all_tests)"
      ],
      "execution_count": 95,
      "outputs": [
        {
          "output_type": "execute_result",
          "data": {
            "text/plain": [
              "100000"
            ]
          },
          "metadata": {
            "tags": []
          },
          "execution_count": 95
        }
      ]
    },
    {
      "cell_type": "code",
      "metadata": {
        "id": "kju369hLWzNs",
        "colab_type": "code",
        "colab": {}
      },
      "source": [
        "all_tests = all_tests.iloc[:100000,:] # necesssary to reduce dimensionality"
      ],
      "execution_count": 0,
      "outputs": []
    },
    {
      "cell_type": "code",
      "metadata": {
        "id": "3GravAYkTXTF",
        "colab_type": "code",
        "colab": {
          "base_uri": "https://localhost:8080/",
          "height": 304
        },
        "outputId": "4a45e5e4-b95b-4243-f8ec-7c358fe90424"
      },
      "source": [
        "from torch.utils.data import DataLoader, Dataset\n",
        "\n",
        "class oversampdata(Dataset):\n",
        "  def __init__(self, data):\n",
        "    # first column is list of index sentence\n",
        "    self.data = torch.LongTensor(np.ndarray.astype(np.array([\n",
        "                    np.array(r) \n",
        "                    for r in data.iloc[:,0].to_numpy()]), \"int64\"))\n",
        "    # second column is the labels\n",
        "    self.targets = torch.LongTensor(np.ndarray.astype(np.array([\n",
        "                    np.array(r) \n",
        "                    for r in data.iloc[:,1].to_numpy()]), \"int64\"))\n",
        "\n",
        "  def __len__(self):\n",
        "    return len(self.data)\n",
        "\n",
        "  def __getitem__(self, index):\n",
        "    data_val = self.data[index]\n",
        "    target = self.targets[index]\n",
        "    return data_val, target\n",
        "\n",
        "\n",
        "all_tests[\"onehot\"] = all_tests.sequence.apply(lambda x: code_one_hot(x, nuc_to_ix))\n",
        "all_tests[\"onehot_label\"] = all_tests.label.apply(lambda x: lab2vec[x][0:2])\n",
        "\n",
        "all_tests[\"seq_idx\"] = all_tests[\"sequence\"].apply(wind_idx) #<-------------------------\n",
        "\n",
        "print (all_tests)\n",
        "\n",
        "#testing_dataset = oversampdata(all_tests.loc[:,[\"onehot\", \"onehot_label\"]].iloc[:300000,:])\n",
        "testing_dataset = oversampdata(all_tests.loc[:,[\"seq_idx\", \"onehot_label\"]].iloc[:100000,:])\n",
        "#testingloader = torch.utils.data.DataLoader(testing_dataset, batch_size=1, \n",
        "#                                         shuffle=False, drop_last = False)\n",
        "testingloader = torch.utils.data.DataLoader(testing_dataset, batch_size=1, \n",
        "                                         shuffle=False, drop_last = False)\n",
        "\n",
        "\"\"\"\n",
        "df_test[\"seq_idx\"] = df_test[\"sequence\"].apply(wind_idx)\n",
        "valid_dataset = oversampdata(df_test.loc[:,[\"seq_idx\", \"label_onehot\"]])\n",
        "testloader = torch.utils.data.DataLoader(valid_dataset, batch_size=BATCH_SIZE, \n",
        "                                         shuffle=False)\n",
        "                                         \"\"\""
      ],
      "execution_count": 96,
      "outputs": [
        {
          "output_type": "stream",
          "text": [
            "                                                sequence  ...                                            seq_idx\n",
            "0      GCCTATTTTGGCATGCCCTAATGACCCTGATGATGTCGCTACTTTG...  ...  [49, 17, 62, 53, 12, 16, 29, 45, 16, 45, 45, 5...\n",
            "1      CCTATTTTGGCATGCCCTAATGACCCTGATGATGTCGCTACTTTGA...  ...  [19, 3, 21, 9, 27, 19, 28, 54, 19, 23, 23, 2, ...\n",
            "2      CTATTTTGGCATGCCCTAATGACCCTGATGATGTCGCTACTTTGAG...  ...  [37, 62, 18, 58, 49, 37, 12, 44, 13, 12, 12, 3...\n",
            "3      TATTTTGGCATGCCCTAATGACCCTGATGATGTCGCTACTTTGAGC...  ...  [17, 62, 53, 12, 16, 29, 45, 16, 45, 45, 51, 1...\n",
            "4      ATTTTGGCATGCCCTAATGACCCTGATGATGTCGCTACTTTGAGCG...  ...  [3, 21, 9, 27, 19, 28, 54, 19, 23, 23, 2, 39, ...\n",
            "...                                                  ...  ...                                                ...\n",
            "24880  AAACACCACTAGCAATGTGCGTTCTGCCAACAACGCCCTTGCGCAA...  ...  [33, 25, 25, 31, 1, 51, 47, 11, 27, 1, 1, 14, ...\n",
            "24881  AACACCACTAGCAATGTGCGTTCTGCCAACAACGCCCTTGCGCAAA...  ...  [8, 44, 15, 0, 28, 6, 34, 26, 49, 8, 8, 49, 52...\n",
            "24882  ACACCACTAGCAATGTGCGTTCTGCCAACAACGCCCTTGCGCAAAA...  ...  [35, 41, 37, 9, 12, 27, 10, 13, 41, 35, 43, 16...\n",
            "24883  CACCACTAGCAATGTGCGTTCTGCCAACAACGCCCTTGCGCAAAAC...  ...  [25, 25, 31, 1, 51, 47, 11, 27, 1, 1, 14, 19, ...\n",
            "24884  ACCACTAGCAATGTGCGTTCTGCCAACAACGCCCTTGCGCAAAACG...  ...  [44, 15, 0, 28, 6, 34, 26, 49, 8, 8, 49, 52, 4...\n",
            "\n",
            "[100000 rows x 8 columns]\n"
          ],
          "name": "stdout"
        },
        {
          "output_type": "execute_result",
          "data": {
            "text/plain": [
              "'\\ndf_test[\"seq_idx\"] = df_test[\"sequence\"].apply(wind_idx)\\nvalid_dataset = oversampdata(df_test.loc[:,[\"seq_idx\", \"label_onehot\"]])\\ntestloader = torch.utils.data.DataLoader(valid_dataset, batch_size=BATCH_SIZE, \\n                                         shuffle=False)\\n                                         '"
            ]
          },
          "metadata": {
            "tags": []
          },
          "execution_count": 96
        }
      ]
    },
    {
      "cell_type": "code",
      "metadata": {
        "id": "le8OsAa2A16b",
        "colab_type": "code",
        "colab": {}
      },
      "source": [
        "#all_tests[\"seq_idx\"] = all_tests[\"sequence\"].apply(wind_idx)"
      ],
      "execution_count": 0,
      "outputs": []
    },
    {
      "cell_type": "code",
      "metadata": {
        "id": "uEox336e-TxB",
        "colab_type": "code",
        "colab": {}
      },
      "source": [
        "df_test\n",
        "#df_test.loc[:,[\"seq_idx\", \"label_onehot\"]]"
      ],
      "execution_count": 0,
      "outputs": []
    },
    {
      "cell_type": "code",
      "metadata": {
        "id": "q_pUeKXczeoQ",
        "colab_type": "code",
        "colab": {}
      },
      "source": [
        "all_tests"
      ],
      "execution_count": 0,
      "outputs": []
    },
    {
      "cell_type": "code",
      "metadata": {
        "id": "-ZOIlztWtKPY",
        "colab_type": "code",
        "outputId": "4df45895-2695-4d19-a575-58a3f9e67891",
        "colab": {
          "base_uri": "https://localhost:8080/",
          "height": 34
        }
      },
      "source": [
        "# convlstm model recalled froom other notebook\n",
        "\"\"\"\n",
        "t = len(all_tests.iloc[0,0]) # Find length of seqs (fixed)\n",
        "\n",
        "rnn = convLSTM(input_dim=4, out_channels=4, stride=5,\n",
        "               hidden_dim=60, hidden_out=140, output_dim=2, t = t).cuda()\n",
        "path = \"/content/drive/My Drive/convlstm_big.pt\" \n",
        "optimizer = torch.optim.ASGD(rnn.parameters(), lr=1e-3)\n",
        "criterion = nn.CrossEntropyLoss().cuda()\n",
        "rnn.load_state_dict(torch.load(path, map_location=torch.device('cuda')))\n",
        "\"\"\""
      ],
      "execution_count": 0,
      "outputs": [
        {
          "output_type": "execute_result",
          "data": {
            "text/plain": [
              "<All keys matched successfully>"
            ]
          },
          "metadata": {
            "tags": []
          },
          "execution_count": 41
        }
      ]
    },
    {
      "cell_type": "markdown",
      "metadata": {
        "id": "y2-H0TVeQL8W",
        "colab_type": "text"
      },
      "source": [
        "### Evaluation and Lowpass"
      ]
    },
    {
      "cell_type": "code",
      "metadata": {
        "id": "w5EC-n1-6Vpq",
        "colab_type": "code",
        "colab": {}
      },
      "source": [
        "from torch.nn import Parameter\n",
        "import matplotlib.pyplot as plt\n",
        "import sys\n",
        "# Colab in dark mode, guys :)\n",
        "plt.style.use(['seaborn-dark', 'dark_background'])\n",
        "\n",
        "def evaluate_test(model, iterator, criterion):\n",
        "    epoch_loss = 0\n",
        "    epoch_acc = 0\n",
        "    \n",
        "    model.eval()\n",
        "    print(\"Evaluating...\")\n",
        "    predictions_all = []\n",
        "\n",
        "    for i, batch in enumerate(iterator):\n",
        "        if not i%10:\n",
        "            sys.stdout.write(f\"\\rIteration {i}        \")\n",
        "            sys.stdout.flush()\n",
        "        inputs, labels_onehot = batch\n",
        "        inputs = Variable(inputs).cuda()\n",
        "        #if prediction.size()\n",
        "        #print (inputs.size()) \n",
        "        predictions = model(inputs)\n",
        "        labels_idx = torch.LongTensor([np.where(label==1)[0][0] for label in labels_onehot]).cuda()\n",
        "\n",
        "        #print (predictions.size(), labels_onehot.size())\n",
        "        loss = criterion(predictions, labels_idx)\n",
        "        acc = binary_accuracy(predictions, labels_onehot)\n",
        "\n",
        "        epoch_loss += loss.item()\n",
        "        epoch_acc += acc.item()\n",
        "\n",
        "        predictions_all.append(predictions)\n",
        "    return epoch_loss / len(iterator), epoch_acc / len(iterator), predictions_all\n",
        "\n",
        "def bin_acc(preds, y):\n",
        "  correct = 0\n",
        "  for idx, pred in enumerate(preds):\n",
        "    if pred == y[idx]:\n",
        "      correct += 1\n",
        "  return correct/len(preds)\n",
        "\n",
        "# execute!\n",
        "valid_loss, valid_acc, preds = evaluate_test(rnn, testingloader, criterion)"
      ],
      "execution_count": 0,
      "outputs": []
    },
    {
      "cell_type": "code",
      "metadata": {
        "id": "5JlJc9Pi6ang",
        "colab_type": "code",
        "outputId": "a6b17970-7e5b-4033-db80-73759a1b2bda",
        "colab": {
          "base_uri": "https://localhost:8080/",
          "height": 275
        }
      },
      "source": [
        "test_annotation = [1 if lab==\"gene\" else 0 for lab in all_tests.loc[:,\"label\"]]\n",
        "preds = preds[:len(test_annotation)]\n",
        "rounded_preds = torch.zeros(len(preds))\n",
        "for i in range(len(preds)):\n",
        "  if preds[i][0][0] > preds[i][0][1]:\n",
        "    rounded_preds[i] = 0\n",
        "  else:\n",
        "    rounded_preds[i] = 1\n",
        "\n",
        "acc = bin_acc(rounded_preds,test_annotation)\n",
        "print(\"Test acc: \" + str(acc))"
      ],
      "execution_count": 98,
      "outputs": [
        {
          "output_type": "stream",
          "text": [
            "Evaluating...\n",
            "Iteration 99990        "
          ],
          "name": "stdout"
        },
        {
          "output_type": "error",
          "ename": "NameError",
          "evalue": "ignored",
          "traceback": [
            "\u001b[0;31m---------------------------------------------------------------------------\u001b[0m",
            "\u001b[0;31mNameError\u001b[0m                                 Traceback (most recent call last)",
            "\u001b[0;32m<ipython-input-98-ef90d6ec1616>\u001b[0m in \u001b[0;36m<module>\u001b[0;34m()\u001b[0m\n\u001b[1;32m      2\u001b[0m \u001b[0;31m#valid_loss, valid_acc, preds = evaluate(rnn, testingloader, criterion)\u001b[0m\u001b[0;34m\u001b[0m\u001b[0;34m\u001b[0m\u001b[0;34m\u001b[0m\u001b[0m\n\u001b[1;32m      3\u001b[0m \u001b[0;31m# test_loss, test_acc, predictions, y, labels_idx= evaluate(rnn, testloader, criterion) # from training\u001b[0m\u001b[0;34m\u001b[0m\u001b[0;34m\u001b[0m\u001b[0;34m\u001b[0m\u001b[0m\n\u001b[0;32m----> 4\u001b[0;31m \u001b[0mpreds\u001b[0m \u001b[0;34m=\u001b[0m \u001b[0mpreds\u001b[0m\u001b[0;34m[\u001b[0m\u001b[0;34m:\u001b[0m\u001b[0mlen\u001b[0m\u001b[0;34m(\u001b[0m\u001b[0mtest_annotation\u001b[0m\u001b[0;34m)\u001b[0m\u001b[0;34m]\u001b[0m\u001b[0;34m\u001b[0m\u001b[0;34m\u001b[0m\u001b[0m\n\u001b[0m\u001b[1;32m      5\u001b[0m \u001b[0mrounded_preds\u001b[0m \u001b[0;34m=\u001b[0m \u001b[0mtorch\u001b[0m\u001b[0;34m.\u001b[0m\u001b[0mzeros\u001b[0m\u001b[0;34m(\u001b[0m\u001b[0mlen\u001b[0m\u001b[0;34m(\u001b[0m\u001b[0mpreds\u001b[0m\u001b[0;34m)\u001b[0m\u001b[0;34m)\u001b[0m\u001b[0;34m\u001b[0m\u001b[0;34m\u001b[0m\u001b[0m\n\u001b[1;32m      6\u001b[0m \u001b[0;32mfor\u001b[0m \u001b[0mi\u001b[0m \u001b[0;32min\u001b[0m \u001b[0mrange\u001b[0m\u001b[0;34m(\u001b[0m\u001b[0mlen\u001b[0m\u001b[0;34m(\u001b[0m\u001b[0mpreds\u001b[0m\u001b[0;34m)\u001b[0m\u001b[0;34m)\u001b[0m\u001b[0;34m:\u001b[0m\u001b[0;34m\u001b[0m\u001b[0;34m\u001b[0m\u001b[0m\n",
            "\u001b[0;31mNameError\u001b[0m: name 'test_annotation' is not defined"
          ]
        }
      ]
    },
    {
      "cell_type": "code",
      "metadata": {
        "id": "Le8B0x86P5AG",
        "colab_type": "code",
        "colab": {}
      },
      "source": [
        "#https://discuss.pytorch.org/t/expected-tensor-for-argument-1-indices-to-have-scalar-type-long-but-got-cpufloattensor-instead-while-checking-arguments-for-embedding/32441/5"
      ],
      "execution_count": 0,
      "outputs": []
    },
    {
      "cell_type": "code",
      "metadata": {
        "id": "8JWICXHV0AOk",
        "colab_type": "code",
        "outputId": "6f821e4b-17fe-477c-bd14-3248f92de710",
        "colab": {
          "base_uri": "https://localhost:8080/",
          "height": 52
        }
      },
      "source": [
        "test_annotation = [1 if lab==\"gene\" else 0 for lab in all_tests.loc[:,\"label\"]]\n",
        "rounded_preds = torch.zeros(len(preds))\n",
        "for i in range(len(preds)):\n",
        "  if preds[i][0][0] > preds[i][0][1]:\n",
        "    rounded_preds[i] = 0\n",
        "  else:\n",
        "    rounded_preds[i] = 1\n",
        "\n",
        "print(\"Validation acc: \" + str(valid_acc))\n",
        "\n",
        "acc = bin_acc(rounded_preds,test_annotation)\n",
        "\n",
        "print(\"Val acc: \" + str(acc))"
      ],
      "execution_count": 100,
      "outputs": [
        {
          "output_type": "stream",
          "text": [
            "Validation acc: 0.42497\n",
            "Val acc: 0.57503\n"
          ],
          "name": "stdout"
        }
      ]
    },
    {
      "cell_type": "code",
      "metadata": {
        "id": "TVsuTzOBQBnX",
        "colab_type": "code",
        "colab": {}
      },
      "source": [
        "import numpy as np\n",
        "from scipy.signal import butter, lfilter, freqz\n",
        "\n",
        "def lowpass(cutoff, fs, order):\n",
        "    nyq = 0.5 * fs\n",
        "    normal_cutoff = cutoff / nyq\n",
        "    b, a = butter(order, normal_cutoff, btype='low', analog=False)\n",
        "    return b, a\n",
        "\n",
        "# Define lowpass filter\n",
        "def lowpass_filter(data, cutoff, fs, order):\n",
        "    b, a = lowpass(cutoff, fs, order)\n",
        "    y = lfilter(b, a, data)\n",
        "    return y\n",
        "\n",
        "# Filter requirements.\n",
        "order = 1\n",
        "fs = 100.0       # sample rate, Hz\n",
        "cutoff = 5  # desired cutoff frequency of the filter, Hz"
      ],
      "execution_count": 0,
      "outputs": []
    },
    {
      "cell_type": "code",
      "metadata": {
        "id": "vjY75Y5ZQhoY",
        "colab_type": "code",
        "outputId": "d09e1a16-802b-45ae-fd96-c067d03535e0",
        "colab": {
          "base_uri": "https://localhost:8080/",
          "height": 35
        }
      },
      "source": [
        "output_vector = test_annotation\n",
        "filtered_output = lowpass_filter(rounded_preds, cutoff, fs, order)\n",
        "filtered = [i >= 0.5 for i in filtered_output]\n",
        "filt_acc = bin_acc(filtered, output_vector)\n",
        "filt_acc"
      ],
      "execution_count": 102,
      "outputs": [
        {
          "output_type": "execute_result",
          "data": {
            "text/plain": [
              "0.67499"
            ]
          },
          "metadata": {
            "tags": []
          },
          "execution_count": 102
        }
      ]
    },
    {
      "cell_type": "markdown",
      "metadata": {
        "colab_type": "text",
        "id": "iiPKOkJZtyTu"
      },
      "source": [
        "### Confusion matrix for filtered output"
      ]
    },
    {
      "cell_type": "code",
      "metadata": {
        "colab_type": "code",
        "id": "AZ854g-5tyTv",
        "colab": {}
      },
      "source": [
        "from sklearn.metrics import confusion_matrix\n",
        "\n",
        "output_vector = output_vector[:len(preds)]\n",
        "tn, fp, fn, tp = confusion_matrix(filtered, output_vector).ravel()"
      ],
      "execution_count": 0,
      "outputs": []
    },
    {
      "cell_type": "code",
      "metadata": {
        "colab_type": "code",
        "outputId": "aa32a02d-51f1-4893-a6ca-31534da7ba7d",
        "id": "O_VLBXFbtyTw",
        "colab": {
          "base_uri": "https://localhost:8080/",
          "height": 35
        }
      },
      "source": [
        "all_tests.onehot_label.apply(lambda x: x[0] == 1).count()"
      ],
      "execution_count": 104,
      "outputs": [
        {
          "output_type": "execute_result",
          "data": {
            "text/plain": [
              "100000"
            ]
          },
          "metadata": {
            "tags": []
          },
          "execution_count": 104
        }
      ]
    },
    {
      "cell_type": "code",
      "metadata": {
        "colab_type": "code",
        "id": "wgAJJ1KvtyTy",
        "colab": {}
      },
      "source": [
        "precision = tp/(tp+fp)\n",
        "recall = tp/(tp+fn)\n",
        "f1 = 2*(precision*recall)/(precision+recall)"
      ],
      "execution_count": 0,
      "outputs": []
    },
    {
      "cell_type": "code",
      "metadata": {
        "colab_type": "code",
        "outputId": "f9b60deb-4de4-441e-82cd-eabc1f7d0ce7",
        "id": "qWkIQ-dCtyT0",
        "colab": {
          "base_uri": "https://localhost:8080/",
          "height": 70
        }
      },
      "source": [
        "print(f\"precision -> {precision}\\nrecall -> {recall}\\nf1 score -> {f1}\")"
      ],
      "execution_count": 106,
      "outputs": [
        {
          "output_type": "stream",
          "text": [
            "precision -> 0.8572056180523198\n",
            "recall -> 0.7472842486421243\n",
            "f1 score -> 0.7984796532716596\n"
          ],
          "name": "stdout"
        }
      ]
    }
  ]
}