{
  "nbformat": 4,
  "nbformat_minor": 0,
  "metadata": {
    "accelerator": "GPU",
    "colab": {
      "name": "RNN_2000each_window_overlapping.ipynb",
      "provenance": [],
      "collapsed_sections": [],
      "toc_visible": true,
      "machine_shape": "hm"
    },
    "kernelspec": {
      "name": "python3",
      "display_name": "Python 3"
    },
    "language_info": {
      "codemirror_mode": {
        "name": "ipython",
        "version": 3
      },
      "file_extension": ".py",
      "mimetype": "text/x-python",
      "name": "python",
      "nbconvert_exporter": "python",
      "pygments_lexer": "ipython3",
      "version": "3.6.8"
    }
  },
  "cells": [
    {
      "cell_type": "markdown",
      "metadata": {
        "colab_type": "text",
        "id": "41fhhqz9cpMY"
      },
      "source": [
        "# Vanilla LSTM for Gene/No gene classification\n",
        "The Milestone 1 corresponds to the classication task of, given a sequence, predict if it contains a gene, a partial sequence of a gene or just intergenic code."
      ]
    },
    {
      "cell_type": "code",
      "metadata": {
        "colab_type": "code",
        "id": "h-c6UAlXecMe",
        "outputId": "283637cd-9aad-43b4-c6ad-8a05f4c91c86",
        "colab": {
          "base_uri": "https://localhost:8080/",
          "height": 104
        }
      },
      "source": [
        "!pip3 install pyfastx"
      ],
      "execution_count": 0,
      "outputs": [
        {
          "output_type": "stream",
          "text": [
            "Collecting pyfastx\n",
            "\u001b[?25l  Downloading https://files.pythonhosted.org/packages/0c/59/91bee13f66f55daa522153992176a2bfa664f00057047da5ddb9b46ecd72/pyfastx-0.5.10-cp36-cp36m-manylinux2010_x86_64.whl (765kB)\n",
            "\u001b[K     |████████████████████████████████| 768kB 2.8MB/s \n",
            "\u001b[?25hInstalling collected packages: pyfastx\n",
            "Successfully installed pyfastx-0.5.10\n"
          ],
          "name": "stdout"
        }
      ]
    },
    {
      "cell_type": "code",
      "metadata": {
        "colab_type": "code",
        "id": "qRzQiKX0cpMv",
        "colab": {}
      },
      "source": [
        "import numpy as np\n",
        "import pickle\n",
        "import torch\n",
        "import torch.nn as nn\n",
        "import pandas as pd\n",
        "\n",
        "from tqdm import tqdm # progress bar\n",
        "from preproc_pipeline import window_pipeline\n",
        "from warnings import simplefilter"
      ],
      "execution_count": 0,
      "outputs": []
    },
    {
      "cell_type": "code",
      "metadata": {
        "colab_type": "code",
        "id": "vBh07oIKIT7G",
        "outputId": "95571b15-d6c2-4d0f-94bf-0a864738da00",
        "colab": {
          "base_uri": "https://localhost:8080/",
          "height": 124
        }
      },
      "source": [
        "from google.colab import drive\n",
        "drive.mount('/content/drive')"
      ],
      "execution_count": 0,
      "outputs": [
        {
          "output_type": "stream",
          "text": [
            "Go to this URL in a browser: https://accounts.google.com/o/oauth2/auth?client_id=947318989803-6bn6qk8qdgf4n4g3pfee6491hc0brc4i.apps.googleusercontent.com&redirect_uri=urn%3aietf%3awg%3aoauth%3a2.0%3aoob&response_type=code&scope=email%20https%3a%2f%2fwww.googleapis.com%2fauth%2fdocs.test%20https%3a%2f%2fwww.googleapis.com%2fauth%2fdrive%20https%3a%2f%2fwww.googleapis.com%2fauth%2fdrive.photos.readonly%20https%3a%2f%2fwww.googleapis.com%2fauth%2fpeopleapi.readonly\n",
            "\n",
            "Enter your authorization code:\n",
            "··········\n",
            "Mounted at /content/drive\n"
          ],
          "name": "stdout"
        }
      ]
    },
    {
      "cell_type": "markdown",
      "metadata": {
        "colab_type": "text",
        "id": "pj7ghCdFcpNN"
      },
      "source": [
        "## 1. Dataset for training\n",
        "The genome of E. coli will be used for this purpose."
      ]
    },
    {
      "cell_type": "code",
      "metadata": {
        "colab_type": "code",
        "id": "xlomqEr_cpNV",
        "colab": {}
      },
      "source": [
        "simplefilter(\"ignore\")\n",
        "genome = \"GCF_000008865.2_ASM886v2_genomic.fna\"\n",
        "feature_table = \"GCA_000008865.2_ASM886v2_feature_table.tsv\"\n",
        "df = window_pipeline(genome, feature_table)"
      ],
      "execution_count": 0,
      "outputs": []
    },
    {
      "cell_type": "code",
      "metadata": {
        "colab_type": "code",
        "id": "mMNHc3Xb6uA_",
        "outputId": "98fd2c6b-b088-4400-cccb-b81ea95bf75c",
        "colab": {
          "base_uri": "https://localhost:8080/",
          "height": 52
        }
      },
      "source": [
        "print(df.sequence.apply(lambda x: len(x)).max())\n",
        "len(df)"
      ],
      "execution_count": 0,
      "outputs": [
        {
          "output_type": "stream",
          "text": [
            "50\n"
          ],
          "name": "stdout"
        },
        {
          "output_type": "execute_result",
          "data": {
            "text/plain": [
              "36162"
            ]
          },
          "metadata": {
            "tags": []
          },
          "execution_count": 5
        }
      ]
    },
    {
      "cell_type": "markdown",
      "metadata": {
        "colab_type": "text",
        "id": "8imkCBLk_yit"
      },
      "source": [
        ""
      ]
    },
    {
      "cell_type": "code",
      "metadata": {
        "colab_type": "code",
        "id": "7yI_vjULcpNr",
        "outputId": "006c6140-730e-47cd-8f79-18be4aea8e54",
        "colab": {
          "base_uri": "https://localhost:8080/",
          "height": 52
        }
      },
      "source": [
        "print(\n",
        "    f\"columns -> {list(df.columns)}\\n\"\n",
        "    f\"labels in dataframe -> {list(df.label.unique())}\"\n",
        ")"
      ],
      "execution_count": 0,
      "outputs": [
        {
          "output_type": "stream",
          "text": [
            "columns -> ['sequence', 'label']\n",
            "labels in dataframe -> ['gene', 'intergenic', 'partial']\n"
          ],
          "name": "stdout"
        }
      ]
    },
    {
      "cell_type": "markdown",
      "metadata": {
        "colab_type": "text",
        "id": "QWshzjeHcpN-"
      },
      "source": [
        "Let's get a one hot mapping for the labels."
      ]
    },
    {
      "cell_type": "code",
      "metadata": {
        "colab_type": "code",
        "id": "F3fD5a7LcpOD",
        "outputId": "45d89ca4-2a5a-4db8-d3b8-b6b12663a677",
        "colab": {
          "base_uri": "https://localhost:8080/",
          "height": 52
        }
      },
      "source": [
        "labels = list(df.label.unique())\n",
        "lab0 = np.zeros(len(labels))\n",
        "lab2vec = {}\n",
        "vec2lab = {}\n",
        "for i, label in enumerate(list(df.label.unique())):\n",
        "    labv = lab0.copy()\n",
        "    labv[i] = 1\n",
        "    lab2vec[label] = labv\n",
        "    vec2lab[tuple(labv)] = label\n",
        "\n",
        "print(f\"lab2vec -> {lab2vec}\\nvec2lab -> {vec2lab}\")"
      ],
      "execution_count": 0,
      "outputs": [
        {
          "output_type": "stream",
          "text": [
            "lab2vec -> {'gene': array([1., 0., 0.]), 'intergenic': array([0., 1., 0.]), 'partial': array([0., 0., 1.])}\n",
            "vec2lab -> {(1.0, 0.0, 0.0): 'gene', (0.0, 1.0, 0.0): 'intergenic', (0.0, 0.0, 1.0): 'partial'}\n"
          ],
          "name": "stdout"
        }
      ]
    },
    {
      "cell_type": "code",
      "metadata": {
        "colab_type": "code",
        "id": "QzAINOOA9ge1",
        "outputId": "8735d6a0-9066-4b67-e339-1560bfcc506d",
        "colab": {
          "base_uri": "https://localhost:8080/",
          "height": 69
        }
      },
      "source": [
        "print(df[df.sequence.apply(lambda x: len(x)==0)].count())\n",
        "df = df[~df.sequence.apply(lambda x: len(x)==0)]"
      ],
      "execution_count": 0,
      "outputs": [
        {
          "output_type": "stream",
          "text": [
            "sequence    0\n",
            "label       0\n",
            "dtype: int64\n"
          ],
          "name": "stdout"
        }
      ]
    },
    {
      "cell_type": "markdown",
      "metadata": {
        "colab_type": "text",
        "id": "KNxgBpL9QxZj"
      },
      "source": [
        "Need to check why it always generate a 0 length row. I think is the last one, but I am not sure."
      ]
    },
    {
      "cell_type": "code",
      "metadata": {
        "colab_type": "code",
        "id": "XTcHbHV8cpOT",
        "outputId": "bb026562-84b7-485d-acb2-cccc69334653",
        "colab": {
          "base_uri": "https://localhost:8080/",
          "height": 424
        }
      },
      "source": [
        "df[\"label_onehot\"] = df.label.apply(lambda x: lab2vec[x])\n",
        "toy = pd.concat([df[df.label==\"gene\"].sample(n=2000),\n",
        "                df[df.label==\"intergenic\"].sample(n=2000),\n",
        "                df[df.label==\"partial\"].sample(n=2000)]).reset_index(drop=True)\n",
        "df_train = toy.sample(frac=8/10) # shuffle\n",
        "df_test = toy[~toy.sequence.isin(df_train.sequence)].reset_index(drop=True)\n",
        "df_train = df_train.reset_index(drop=True)\n",
        "df_train"
      ],
      "execution_count": 0,
      "outputs": [
        {
          "output_type": "execute_result",
          "data": {
            "text/html": [
              "<div>\n",
              "<style scoped>\n",
              "    .dataframe tbody tr th:only-of-type {\n",
              "        vertical-align: middle;\n",
              "    }\n",
              "\n",
              "    .dataframe tbody tr th {\n",
              "        vertical-align: top;\n",
              "    }\n",
              "\n",
              "    .dataframe thead th {\n",
              "        text-align: right;\n",
              "    }\n",
              "</style>\n",
              "<table border=\"1\" class=\"dataframe\">\n",
              "  <thead>\n",
              "    <tr style=\"text-align: right;\">\n",
              "      <th></th>\n",
              "      <th>sequence</th>\n",
              "      <th>label</th>\n",
              "      <th>label_onehot</th>\n",
              "    </tr>\n",
              "  </thead>\n",
              "  <tbody>\n",
              "    <tr>\n",
              "      <th>0</th>\n",
              "      <td>TATTAATAAAACCTTCTGGGTCAGATATCTCAATAAATATCATATC...</td>\n",
              "      <td>intergenic</td>\n",
              "      <td>[0.0, 1.0, 0.0]</td>\n",
              "    </tr>\n",
              "    <tr>\n",
              "      <th>1</th>\n",
              "      <td>AATGTAAAGCTGGCCCTGAGAATTATCCGCCGATTGGTGTTGTTTC...</td>\n",
              "      <td>intergenic</td>\n",
              "      <td>[0.0, 1.0, 0.0]</td>\n",
              "    </tr>\n",
              "    <tr>\n",
              "      <th>2</th>\n",
              "      <td>CATCAACGCCCTGATCAAATTGTTTGCTGATGTCCATAATATAACC...</td>\n",
              "      <td>partial</td>\n",
              "      <td>[0.0, 0.0, 1.0]</td>\n",
              "    </tr>\n",
              "    <tr>\n",
              "      <th>3</th>\n",
              "      <td>TCACCTCGTTGTCATATAGCGAGAGCGGGGAGTTTTTGAATTATTC...</td>\n",
              "      <td>partial</td>\n",
              "      <td>[0.0, 0.0, 1.0]</td>\n",
              "    </tr>\n",
              "    <tr>\n",
              "      <th>4</th>\n",
              "      <td>AGGCTGAAATTCGCGATATCGCGCTGACCATCCCTAACCTGCCTGC...</td>\n",
              "      <td>partial</td>\n",
              "      <td>[0.0, 0.0, 1.0]</td>\n",
              "    </tr>\n",
              "    <tr>\n",
              "      <th>...</th>\n",
              "      <td>...</td>\n",
              "      <td>...</td>\n",
              "      <td>...</td>\n",
              "    </tr>\n",
              "    <tr>\n",
              "      <th>4795</th>\n",
              "      <td>TCGTAAAAAGGGGCAGCGTTCATCCCTGAAAGGTGGCGGCAGCGTG...</td>\n",
              "      <td>gene</td>\n",
              "      <td>[1.0, 0.0, 0.0]</td>\n",
              "    </tr>\n",
              "    <tr>\n",
              "      <th>4796</th>\n",
              "      <td>CGCGTTTCACGGGATTTCACAGAGCCGCCGCCAGTAGCCAGCACAA...</td>\n",
              "      <td>partial</td>\n",
              "      <td>[0.0, 0.0, 1.0]</td>\n",
              "    </tr>\n",
              "    <tr>\n",
              "      <th>4797</th>\n",
              "      <td>AATGATGTATTCAGGGCCAAAGCTCAGATCCTGATCGCCATACGCT...</td>\n",
              "      <td>gene</td>\n",
              "      <td>[1.0, 0.0, 0.0]</td>\n",
              "    </tr>\n",
              "    <tr>\n",
              "      <th>4798</th>\n",
              "      <td>TATTGAGTTACGACCTCGTTACCGTTAACGATGGTCTTGGTGATTT...</td>\n",
              "      <td>gene</td>\n",
              "      <td>[1.0, 0.0, 0.0]</td>\n",
              "    </tr>\n",
              "    <tr>\n",
              "      <th>4799</th>\n",
              "      <td>AAGTGAATCTCAGGTGAAGGCACGACAACAAAAGTATTGTGATAAA...</td>\n",
              "      <td>intergenic</td>\n",
              "      <td>[0.0, 1.0, 0.0]</td>\n",
              "    </tr>\n",
              "  </tbody>\n",
              "</table>\n",
              "<p>4800 rows × 3 columns</p>\n",
              "</div>"
            ],
            "text/plain": [
              "                                               sequence  ...     label_onehot\n",
              "0     TATTAATAAAACCTTCTGGGTCAGATATCTCAATAAATATCATATC...  ...  [0.0, 1.0, 0.0]\n",
              "1     AATGTAAAGCTGGCCCTGAGAATTATCCGCCGATTGGTGTTGTTTC...  ...  [0.0, 1.0, 0.0]\n",
              "2     CATCAACGCCCTGATCAAATTGTTTGCTGATGTCCATAATATAACC...  ...  [0.0, 0.0, 1.0]\n",
              "3     TCACCTCGTTGTCATATAGCGAGAGCGGGGAGTTTTTGAATTATTC...  ...  [0.0, 0.0, 1.0]\n",
              "4     AGGCTGAAATTCGCGATATCGCGCTGACCATCCCTAACCTGCCTGC...  ...  [0.0, 0.0, 1.0]\n",
              "...                                                 ...  ...              ...\n",
              "4795  TCGTAAAAAGGGGCAGCGTTCATCCCTGAAAGGTGGCGGCAGCGTG...  ...  [1.0, 0.0, 0.0]\n",
              "4796  CGCGTTTCACGGGATTTCACAGAGCCGCCGCCAGTAGCCAGCACAA...  ...  [0.0, 0.0, 1.0]\n",
              "4797  AATGATGTATTCAGGGCCAAAGCTCAGATCCTGATCGCCATACGCT...  ...  [1.0, 0.0, 0.0]\n",
              "4798  TATTGAGTTACGACCTCGTTACCGTTAACGATGGTCTTGGTGATTT...  ...  [1.0, 0.0, 0.0]\n",
              "4799  AAGTGAATCTCAGGTGAAGGCACGACAACAAAAGTATTGTGATAAA...  ...  [0.0, 1.0, 0.0]\n",
              "\n",
              "[4800 rows x 3 columns]"
            ]
          },
          "metadata": {
            "tags": []
          },
          "execution_count": 9
        }
      ]
    },
    {
      "cell_type": "markdown",
      "metadata": {
        "colab_type": "text",
        "id": "qZnhk8eFcpOj"
      },
      "source": [
        "## 2. Embeddings\n",
        "The next step is to use the whole sequence to compute the embeddings. First, get a set of k-mers, that will be our words for this NLP problem."
      ]
    },
    {
      "cell_type": "code",
      "metadata": {
        "colab_type": "code",
        "id": "jENWLxW0cpOq",
        "colab": {}
      },
      "source": [
        "def window(fseq, window_size, slide = 1):\n",
        "    # create a window of size k\n",
        "    N = len(fseq)\n",
        "    for i in range(0, N - window_size + 1, slide):\n",
        "      if i+window_size+slide < N:\n",
        "        yield fseq[i:i+window_size]\n",
        "\n",
        "\n",
        "def make_context_vector(context, word_to_ix):\n",
        "    idxs = [word_to_ix[w] for w in context]\n",
        "    return torch.tensor(idxs, dtype=torch.long)\n",
        "\n",
        "def get_index_of_max(input):\n",
        "    index = 0\n",
        "    for i in range(1, len(input)):\n",
        "        if input[i] > input[index]:\n",
        "            index = i \n",
        "    return index\n",
        "\n",
        "def get_max_prob_result(input, ix_to_word):\n",
        "    return ix_to_word[get_index_of_max(input)]\n",
        "\n",
        "class CBOW(torch.nn.Module):\n",
        "\n",
        "    def __init__(self, vocab_size, embedding_dim, padding_idx):\n",
        "        super(CBOW, self).__init__()\n",
        "\n",
        "        #out: 1 x emdedding_dim\n",
        "        self.embeddings = nn.Embedding(vocab_size, embedding_dim, \n",
        "                                       padding_idx=padding_idx) #used predefined nn.Embedding\n",
        "        self.linear1 = nn.Linear(embedding_dim, 128)\n",
        "        self.activation_function1 = nn.ReLU()\n",
        "        \n",
        "        #out: 1 x vocab_size\n",
        "        self.linear2 = nn.Linear(128, vocab_size)\n",
        "        self.activation_function2 = nn.LogSoftmax(dim = -1)\n",
        "        \n",
        "\n",
        "    def forward(self, inputs):\n",
        "        embeds = sum(self.embeddings(inputs)).view(1,-1)\n",
        "        out = self.linear1(embeds)\n",
        "        out = self.activation_function1(out)\n",
        "        out = self.linear2(out)\n",
        "        out = self.activation_function2(out)\n",
        "        return out\n",
        "\n",
        "    def get_word_emdedding(self, word):\n",
        "        word = torch.LongTensor([word_to_ix[word]])\n",
        "        return self.embeddings(word).view(1,-1)\n",
        "    \n",
        "k = 3                     # so our words has length 3\n",
        "SLIDE = 1                 # sampling slide\n",
        "CONTEXT_SIZE = 2          # 2 words to the left, 2 to the right\n",
        "EMDEDDING_DIM = 25        # embedding dimension\n",
        "EPOCHS = 30               # number of epochs for training\n",
        "model = None              # CBOW model"
      ],
      "execution_count": 0,
      "outputs": []
    },
    {
      "cell_type": "markdown",
      "metadata": {
        "colab_type": "text",
        "id": "udqIi0wBcpO3"
      },
      "source": [
        "Finally, gather all the kmers and apply the CBOW algorithm."
      ]
    },
    {
      "cell_type": "code",
      "metadata": {
        "colab_type": "code",
        "id": "nJ24vZP71HFi",
        "colab": {}
      },
      "source": [
        "# Since we have the embeddings stored, we are going to ignore the following next\n",
        "# two cells and use this one instead\n",
        "stored = True\n",
        "\n",
        "if stored:\n",
        "  with open(\"/content/drive/My Drive/wti.p\", \"rb\") as f:\n",
        "    word_to_ix = pickle.load(f)\n",
        "  ix_to_word = {v: k for k,v in word_to_ix.items()}\n",
        "  model_save_name = 'ma_model.pt'\n",
        "  path = model_save_name\n",
        "  path = F\"/content/drive/My Drive/{model_save_name}\" \n",
        "  model = CBOW(len(word_to_ix), EMDEDDING_DIM, padding_idx=word_to_ix[\"X\"]).cpu()\n",
        "  model.load_state_dict(torch.load(path, map_location=torch.device('cpu')))"
      ],
      "execution_count": 0,
      "outputs": []
    },
    {
      "cell_type": "code",
      "metadata": {
        "colab_type": "code",
        "id": "Qi4eQ1K6cpPB",
        "outputId": "fe18b00c-f79b-44c8-d4f6-2ee9b73f0245",
        "colab": {
          "base_uri": "https://localhost:8080/",
          "height": 52
        }
      },
      "source": [
        "# kmer in all of the 1/4 sequences of the dataset\n",
        "kmers = [ kmer for kmer in window(\"\".join([seq for seq in df_train.loc[:,\"sequence\"]]), k, SLIDE) ]  \n",
        "vocab_size = len(kmers)\n",
        "\n",
        "data = []\n",
        "print(\"Filling context data...\")\n",
        "pbar = tqdm(total=vocab_size - 4-1) # just to output something in screen\n",
        "for i in range(2, vocab_size - 2): # first word to have 2 words before is the \"third\" one (0,1,2)\n",
        "    context = (kmers[i - 2], kmers[i - 1],\n",
        "               kmers[i + 1], kmers[i + 2])\n",
        "    target = kmers[i]\n",
        "    data.append((context, target))\n",
        "    pbar.update(1)\n",
        "\n",
        "word_to_ix, ix_to_word = {},{}\n",
        "for i, word in enumerate(set(kmers)):\n",
        "    word_to_ix[word] = i\n",
        "    ix_to_word[i] = word\n",
        "\n",
        "ix = len(ix_to_word)\n",
        "ix_to_word[ix] = \"X\"  # our padding character\n",
        "word_to_ix[\"X\"] = ix\n",
        "\n",
        "with open(\"/content/drive/My Drive/wti.p\", \"wb\") as f:\n",
        "  pickle.dump(word_to_ix, f)\n",
        "\n",
        "with open(\"/content/drive/My Drive/itw.p\", \"wb\") as f:\n",
        "  pickle.dump(ix_to_word, f)"
      ],
      "execution_count": 0,
      "outputs": [
        {
          "output_type": "stream",
          "text": [
            "\r  0%|          | 0/79991 [00:00<?, ?it/s]"
          ],
          "name": "stderr"
        },
        {
          "output_type": "stream",
          "text": [
            "Filling context data...\n"
          ],
          "name": "stdout"
        },
        {
          "output_type": "stream",
          "text": [
            "\r 27%|██▋       | 21343/79991 [00:00<00:00, 213423.59it/s]"
          ],
          "name": "stderr"
        }
      ]
    },
    {
      "cell_type": "code",
      "metadata": {
        "colab_type": "code",
        "id": "JnBZPKyEcpPQ",
        "outputId": "1c40e984-1041-4c90-bbd6-56d53bf21afd",
        "colab": {
          "base_uri": "https://localhost:8080/",
          "height": 1000
        }
      },
      "source": [
        "import sys\n",
        "from time import time \n",
        "model = CBOW(len(word_to_ix), EMDEDDING_DIM, padding_idx=word_to_ix[\"X\"])\n",
        "\n",
        "loss_function = nn.NLLLoss()\n",
        "optimizer = torch.optim.SGD(model.parameters(), lr=0.001)\n",
        "print(\"Training embeddings...\")\n",
        "\n",
        "model_save_name = 'ma_model.pt'\n",
        "path = F\"/content/drive/My Drive/{model_save_name}\" \n",
        "\n",
        "start = time()\n",
        "tot = len(data)\n",
        "print()\n",
        "for epoch in range(EPOCHS):\n",
        "  start = time()\n",
        "  total_loss = 0\n",
        "  i = 1\n",
        "  for context, target in data:\n",
        "    if not i%100:\n",
        "      sys.stdout.write(f\"\\r{i}/{tot} in {round(time()-start,2)}s        \")\n",
        "      sys.stdout.flush()\n",
        "    context_vector = make_context_vector(context, word_to_ix)  \n",
        "    model.zero_grad()\n",
        "    log_probs = model(context_vector)\n",
        "    loss = loss_function(log_probs, torch.tensor([word_to_ix[target]], dtype=torch.long))\n",
        "    loss.backward()\n",
        "    optimizer.step()\n",
        "    total_loss += loss.data\n",
        "    i+=1\n",
        "  torch.save(model.state_dict(), path)\n",
        "  print(f\"\\nEpoch {epoch+1}/{EPOCHS} in {round(time()-start,2)}\\n\\n\")"
      ],
      "execution_count": 0,
      "outputs": [
        {
          "output_type": "stream",
          "text": [
            "Training embeddings...\n",
            "\n",
            "27700/79992 in 19.74s        "
          ],
          "name": "stdout"
        },
        {
          "output_type": "stream",
          "text": [
            "\r79992it [00:20, 213423.59it/s]                           "
          ],
          "name": "stderr"
        },
        {
          "output_type": "stream",
          "text": [
            "79900/79992 in 56.32s        \n",
            "Epoch 1/30 in 56.38836646080017\n",
            "\n",
            "\n",
            "79900/79992 in 55.63s        \n",
            "Epoch 2/30 in 55.700063705444336\n",
            "\n",
            "\n",
            "79900/79992 in 58.94s        \n",
            "Epoch 3/30 in 59.00810956954956\n",
            "\n",
            "\n",
            "79900/79992 in 58.34s        \n",
            "Epoch 4/30 in 58.411818742752075\n",
            "\n",
            "\n",
            "79900/79992 in 57.09s        \n",
            "Epoch 5/30 in 57.166804790496826\n",
            "\n",
            "\n",
            "79900/79992 in 57.6s        \n",
            "Epoch 6/30 in 57.665950298309326\n",
            "\n",
            "\n",
            "79900/79992 in 56.33s        \n",
            "Epoch 7/30 in 56.40046310424805\n",
            "\n",
            "\n",
            "79900/79992 in 57.23s        \n",
            "Epoch 8/30 in 57.31258416175842\n",
            "\n",
            "\n",
            "79900/79992 in 56.69s        \n",
            "Epoch 9/30 in 56.76210379600525\n",
            "\n",
            "\n",
            "79900/79992 in 57.19s        \n",
            "Epoch 10/30 in 57.25938630104065\n",
            "\n",
            "\n",
            "79900/79992 in 57.71s        \n",
            "Epoch 11/30 in 57.78800010681152\n",
            "\n",
            "\n",
            "79900/79992 in 57.93s        \n",
            "Epoch 12/30 in 58.00145125389099\n",
            "\n",
            "\n",
            "79900/79992 in 56.46s        \n",
            "Epoch 13/30 in 56.535449266433716\n",
            "\n",
            "\n",
            "79900/79992 in 57.09s        \n",
            "Epoch 14/30 in 57.15931820869446\n",
            "\n",
            "\n",
            "79900/79992 in 56.69s        \n",
            "Epoch 15/30 in 56.76209354400635\n",
            "\n",
            "\n",
            "79900/79992 in 57.24s        \n",
            "Epoch 16/30 in 57.31186246871948\n",
            "\n",
            "\n",
            "79900/79992 in 57.6s        \n",
            "Epoch 17/30 in 57.670217990875244\n",
            "\n",
            "\n",
            "79900/79992 in 56.6s        \n",
            "Epoch 18/30 in 56.67662596702576\n",
            "\n",
            "\n",
            "79900/79992 in 58.26s        \n",
            "Epoch 19/30 in 58.330974817276\n",
            "\n",
            "\n",
            "79900/79992 in 57.37s        \n",
            "Epoch 20/30 in 57.44796872138977\n",
            "\n",
            "\n",
            "79900/79992 in 57.18s        \n",
            "Epoch 21/30 in 57.25372314453125\n",
            "\n",
            "\n",
            "79900/79992 in 58.05s        \n",
            "Epoch 22/30 in 58.12126350402832\n",
            "\n",
            "\n",
            "79900/79992 in 57.33s        \n",
            "Epoch 23/30 in 57.39873433113098\n",
            "\n",
            "\n",
            "79900/79992 in 57.83s        \n",
            "Epoch 24/30 in 57.90272617340088\n",
            "\n",
            "\n",
            "79900/79992 in 58.44s        \n",
            "Epoch 25/30 in 58.50835585594177\n",
            "\n",
            "\n",
            "79900/79992 in 57.36s        \n",
            "Epoch 26/30 in 57.43865370750427\n",
            "\n",
            "\n",
            "79900/79992 in 57.78s        \n",
            "Epoch 27/30 in 57.8593327999115\n",
            "\n",
            "\n",
            "79900/79992 in 57.74s        \n",
            "Epoch 28/30 in 57.80735421180725\n",
            "\n",
            "\n",
            "79900/79992 in 57.5s        \n",
            "Epoch 29/30 in 57.571948528289795\n",
            "\n",
            "\n",
            "79900/79992 in 58.14s        \n",
            "Epoch 30/30 in 58.21271753311157\n",
            "\n",
            "\n"
          ],
          "name": "stdout"
        }
      ]
    },
    {
      "cell_type": "markdown",
      "metadata": {
        "colab_type": "text",
        "id": "JJKW2iVSlmGQ"
      },
      "source": [
        "## 4. Vanilla RNN model"
      ]
    },
    {
      "cell_type": "code",
      "metadata": {
        "colab_type": "code",
        "id": "GniwYJ6mlswA",
        "colab": {}
      },
      "source": [
        "class RNN(nn.Module):\n",
        "    def __init__(self, input_dim, embedding_dim, hidden_dim, lstm_layers,\n",
        "                 hidden_out, output_dim, padding_idx, t):\n",
        "\n",
        "        super().__init__()\n",
        "        self.nb_tags = output_dim\n",
        "\n",
        "        self.embedding = nn.Embedding(input_dim, embedding_dim, padding_idx=padding_idx)\n",
        "        \n",
        "        self.rnn = nn.LSTM(embedding_dim, hidden_dim, bidirectional=True, \n",
        "                           num_layers=lstm_layers)# ,dropout=0.4)\n",
        "\n",
        "        self.fnn2 = nn.Sequential(\n",
        "            nn.Linear(t*hidden_dim*2, hidden_out),\n",
        "           # nn.BatchNorm1d(hidden_out), \n",
        "            nn.ReLU(),\n",
        "           # nn.AlphaDropout(),\n",
        "            nn.Linear(hidden_out, output_dim)\n",
        "        )        \n",
        "\n",
        "\n",
        "    def forward(self, text):\n",
        "\n",
        "        #text = [sent len, batch size]\n",
        "        # 1. embedding\n",
        "        embedded = self.embedding(text)\n",
        "\n",
        "        # 2. LSTM\n",
        "        output, (hidden, lt) = self.rnn(embedded)\n",
        "\n",
        "        # 3. get that so it's correctly packed for the hidden layer\n",
        "        output = output.contiguous()\n",
        "        output = output.reshape(output.shape[0], -1)\n",
        "\n",
        "        # 4. classification through the 2 FF layers\n",
        "        output = self.fnn2(output)\n",
        "        return output"
      ],
      "execution_count": 0,
      "outputs": []
    },
    {
      "cell_type": "markdown",
      "metadata": {
        "colab_type": "text",
        "id": "Hqnu9WvB8uvw"
      },
      "source": [
        "## 4. Tweak the embeddings to accomodate varying sizes of the sequences\n",
        "Once we have the model and the embeddings, we would need to tweak the embeddings so that they are adjusted for the padded sequences.\n",
        "\n",
        "### 4.1. Add the padding char to the embeddings"
      ]
    },
    {
      "cell_type": "markdown",
      "metadata": {
        "colab_type": "text",
        "id": "T2KEUxaSAuAh"
      },
      "source": [
        "Now, get sequences as indexes."
      ]
    },
    {
      "cell_type": "code",
      "metadata": {
        "colab_type": "code",
        "id": "F3fPAtenAtX5",
        "colab": {}
      },
      "source": [
        "def to_ix(kmer, word_to_ix):\n",
        "  if \"X\" in kmer:\n",
        "    return word_to_ix[\"X\"]\n",
        "  elif kmer in word_to_ix:\n",
        "    return word_to_ix[kmer]\n",
        "  else:\n",
        "    return len(word_to_ix)\n",
        "\n",
        "def wind_idx(seq):\n",
        "  return [to_ix(kmer, word_to_ix)  for kmer in window(seq, k, SLIDE)]\n",
        "\n",
        "df_train[\"seq_idx\"] = df_train[\"sequence\"].apply(wind_idx)\n",
        "df_test[\"seq_idx\"] = df_test[\"sequence\"].apply(wind_idx)"
      ],
      "execution_count": 0,
      "outputs": []
    },
    {
      "cell_type": "code",
      "metadata": {
        "colab_type": "code",
        "id": "S5UeEYm8E1dI",
        "outputId": "e828eddf-8a75-40aa-af3d-d5a9364e9c9f",
        "colab": {
          "base_uri": "https://localhost:8080/",
          "height": 34
        }
      },
      "source": [
        "np.unique(df_train[\"seq_idx\"].apply(lambda x: len(x)))"
      ],
      "execution_count": 0,
      "outputs": [
        {
          "output_type": "execute_result",
          "data": {
            "text/plain": [
              "array([46])"
            ]
          },
          "metadata": {
            "tags": []
          },
          "execution_count": 49
        }
      ]
    },
    {
      "cell_type": "markdown",
      "metadata": {
        "colab_type": "text",
        "id": "L9U_zq-5FIbp"
      },
      "source": [
        "Finally, instantiante the model and initialize the weigths of the embeddings."
      ]
    },
    {
      "cell_type": "code",
      "metadata": {
        "colab_type": "code",
        "id": "7dJjn7v2lVBv",
        "outputId": "c6532088-a33a-49d9-ebab-23ffa48d6a72",
        "colab": {
          "base_uri": "https://localhost:8080/",
          "height": 52
        }
      },
      "source": [
        "print(word_to_ix[\"X\"])\n",
        "print(len(set(word_to_ix.keys()))-1)"
      ],
      "execution_count": 0,
      "outputs": [
        {
          "output_type": "stream",
          "text": [
            "64\n",
            "64\n"
          ],
          "name": "stdout"
        }
      ]
    },
    {
      "cell_type": "code",
      "metadata": {
        "colab_type": "code",
        "id": "go5mnL9uFJQu",
        "colab": {}
      },
      "source": [
        "t = len(df_train.iloc[0,0]) # Find length of seqs (fixed)\n",
        "\n",
        "rnn = RNN(input_dim=len(word_to_ix), embedding_dim=EMDEDDING_DIM,\n",
        "          hidden_dim = 30, lstm_layers=1, hidden_out = 140, output_dim=3, \n",
        "          padding_idx = word_to_ix[\"X\"], t = len(df_train.iloc[0,3])).cuda()"
      ],
      "execution_count": 0,
      "outputs": []
    },
    {
      "cell_type": "code",
      "metadata": {
        "colab_type": "code",
        "id": "YZmhbQWkpTuq",
        "colab": {}
      },
      "source": [
        "rnn.embedding.weight.data.copy_(model.embeddings.weight).cuda()\n",
        "# optimizer = torch.optim.SGD(rnn.parameters(), lr=1e-3)\n",
        "optimizer = torch.optim.ASGD(rnn.parameters(), lr=1e-3)\n",
        "criterion = nn.CrossEntropyLoss().cuda()"
      ],
      "execution_count": 0,
      "outputs": []
    },
    {
      "cell_type": "markdown",
      "metadata": {
        "colab_type": "text",
        "id": "yrH8hOnvmWE1"
      },
      "source": [
        "## 5. Training loop\n"
      ]
    },
    {
      "cell_type": "markdown",
      "metadata": {
        "colab_type": "text",
        "id": "KQ3hnv3Onw--"
      },
      "source": [
        "All that is left is to split our training and testing and train the model."
      ]
    },
    {
      "cell_type": "code",
      "metadata": {
        "colab_type": "code",
        "id": "jjL8fY-LCftw",
        "colab": {}
      },
      "source": [
        "from torch.utils.data import DataLoader, Dataset\n",
        "\n",
        "class oversampdata(Dataset):\n",
        "  def __init__(self, data):\n",
        "    # first column is list of index sentence\n",
        "    self.data = torch.LongTensor(data.iloc[:,0])\n",
        "    # second column is the label\n",
        "    self.targets = torch.LongTensor(data.iloc[:,1])\n",
        "\n",
        "  def __len__(self):\n",
        "    return len(self.data)\n",
        "\n",
        "  def __getitem__(self, index):\n",
        "    data_val = self.data[index]\n",
        "    target = self.targets[index]\n",
        "    return data_val, target\n",
        "\n",
        "train_dataset = oversampdata(df_train.loc[:,[\"seq_idx\", \"label_onehot\"]])\n",
        "valid_dataset = oversampdata(df_test.loc[:,[\"seq_idx\", \"label_onehot\"]])"
      ],
      "execution_count": 0,
      "outputs": []
    },
    {
      "cell_type": "code",
      "metadata": {
        "colab_type": "code",
        "id": "IenV-ndMvJVW",
        "colab": {}
      },
      "source": [
        "BATCH_SIZE = 32\n",
        "\n",
        "trainloader = torch.utils.data.DataLoader(train_dataset, batch_size=BATCH_SIZE, \n",
        "                                          shuffle=True)\n",
        "testloader = torch.utils.data.DataLoader(valid_dataset, batch_size=BATCH_SIZE, \n",
        "                                         shuffle=True)"
      ],
      "execution_count": 0,
      "outputs": []
    },
    {
      "cell_type": "code",
      "metadata": {
        "colab_type": "code",
        "id": "fMKJKbYoBZQD",
        "colab": {}
      },
      "source": [
        "def binary_accuracy(preds, y):\n",
        "   \"\"\"\n",
        "   Returns accuracy per batch, i.e. if you get 8/10 right, this returns 0.8, NOT 8\n",
        "   \"\"\"\n",
        "   rounded_preds = torch.zeros(preds.size())\n",
        "   for i in range(len(preds)):\n",
        "     idx_max = torch.where(preds[i] == preds[i].max())\n",
        "     rounded_preds[i][idx_max] = 1\n",
        "   rounded_preds = torch.FloatTensor(rounded_preds).int()\n",
        "   correct = (rounded_preds == y).float() #convert into float for division\n",
        "   acc = (correct.sum()/len(preds[0])) / len(correct)\n",
        "   return acc"
      ],
      "execution_count": 0,
      "outputs": []
    },
    {
      "cell_type": "code",
      "metadata": {
        "colab_type": "code",
        "id": "CUPgdWw0maX7",
        "colab": {}
      },
      "source": [
        "from torch.autograd import Variable\n",
        "import sys\n",
        "import matplotlib.pyplot as plt\n",
        "# Colab in dark mode, guys :)\n",
        "plt.style.use(['seaborn-dark', 'dark_background'])\n",
        "\n",
        "def train(model, iterator, optimizer, criterion):\n",
        "    \n",
        "    epoch_loss = 0\n",
        "    epoch_acc = 0\n",
        "    \n",
        "    model.train()\n",
        "    print(\"Training...\")\n",
        "\n",
        "    for i, batch in enumerate(iterator):\n",
        "        if i%10:\n",
        "          sys.stdout.write(f\"\\rIteration {i}        \")\n",
        "          sys.stdout.flush()\n",
        "\n",
        "        inputs, labels_onehot = batch\n",
        "\n",
        "        inputs = Variable(inputs).cuda()\n",
        "\n",
        "        optimizer.zero_grad()\n",
        "                \n",
        "        predictions = model(inputs)\n",
        "        \n",
        "        labels_idx = torch.LongTensor([np.where(label==1)[0][0] for label in labels_onehot]).cuda()\n",
        "\n",
        "\n",
        "        loss = criterion(predictions, labels_idx)\n",
        "        \n",
        "        loss.backward()\n",
        "        \n",
        "        optimizer.step()\n",
        "        \n",
        "        acc = binary_accuracy(predictions, labels_onehot)\n",
        "        # print(loss.item())\n",
        "        epoch_loss += loss.item()\n",
        "        epoch_acc += acc.item()\n",
        "        \n",
        "    print()\n",
        "    return epoch_loss / len(iterator), epoch_acc / len(iterator)\n",
        "\n",
        "\n",
        "\n",
        "def evaluate(model, iterator, criterion):\n",
        "    epoch_loss = 0\n",
        "    epoch_acc = 0\n",
        "    \n",
        "    model.eval()\n",
        "    print(\"Evaluating...\")\n",
        "\n",
        "    for i, batch in enumerate(iterator):\n",
        "\n",
        "        inputs, labels_onehot = batch\n",
        "        inputs = inputs.cuda()\n",
        "        predictions = model(inputs)\n",
        "        labels_idx = torch.LongTensor([np.where(label==1)[0][0] for label in labels_onehot]).cuda()\n",
        "\n",
        "        loss = criterion(predictions, labels_idx)\n",
        "        acc = binary_accuracy(predictions, labels_onehot)\n",
        "\n",
        "        epoch_loss += loss.item()\n",
        "        epoch_acc += acc.item()\n",
        "    return epoch_loss / len(iterator), epoch_acc / len(iterator)\n",
        "\n",
        "def plot_network(epochs, train_loss, test_loss):\n",
        "    \"\"\" Neon \"\"\"\n",
        "    plt.figure()\n",
        "    # Other Neon colors of the palette -> #13CA91 #3B27BA #E847AE #FF9472\n",
        "    plt.plot(epochs, train_loss, color='#13CA91', marker = \"o\", linestyle='-', label='Training loss',)\n",
        "    plt.plot(epochs, test_loss, color='#3B27BA', marker = \"o\", linestyle='-', label='Validation loss')\n",
        "    plt.legend()\n",
        "    plt.xlabel('Epoch'), plt.ylabel('NLL')\n",
        "    plt.show()\n",
        "    "
      ],
      "execution_count": 0,
      "outputs": []
    },
    {
      "cell_type": "code",
      "metadata": {
        "colab_type": "code",
        "id": "KLhfluLNmn5C",
        "outputId": "ca500d16-a24d-40c1-ab95-313b03c6b6ee",
        "colab": {
          "base_uri": "https://localhost:8080/",
          "height": 1000
        }
      },
      "source": [
        "N_EPOCHS = 200\n",
        "model_save_name=\"ma_rnn.pt\"\n",
        "path = F\"/content/drive/My Drive/{model_save_name}\"\n",
        "\n",
        "all_train_loss = []\n",
        "all_val_loss = []\n",
        "all_epochs = []\n",
        "best_valid_loss = float('inf')\n",
        "\n",
        "for epoch in range(N_EPOCHS):\n",
        "    print(\"Epoch: \" + str(epoch))\n",
        "    train_loss, train_acc = train(rnn, trainloader, optimizer, criterion)\n",
        "    valid_loss, valid_acc = evaluate(rnn, testloader, criterion)\n",
        "\n",
        "    #train_loss  = train(rnn, trainloader, optimizer, criterion)\n",
        "    #valid_loss  = evaluate(rnn, testloader, criterion)    \n",
        "    \n",
        "    if valid_loss < best_valid_loss:\n",
        "        best_valid_loss = valid_loss\n",
        "        torch.save(rnn.state_dict(), path)\n",
        "    \n",
        "    print(f'\\tTrain Loss: {train_loss:.3f} | Train Acc: {train_acc*100:.2f}%')\n",
        "    print(f'\\t Val. Loss: {valid_loss:.3f} |  Val. Acc: {valid_acc*100:.2f}%')\n",
        "    all_train_loss.append(train_loss)\n",
        "    all_val_loss.append(valid_loss)\n",
        "    all_epochs.append(epoch)\n",
        "\n",
        "    if not epoch%10 and epoch != 0:\n",
        "      plot_network(all_epochs, all_train_loss, all_val_loss)"
      ],
      "execution_count": 0,
      "outputs": [
        {
          "output_type": "stream",
          "text": [
            "Epoch: 0\n",
            "Training...\n",
            "Iteration 149        \n",
            "Evaluating...\n",
            "\tTrain Loss: 1.099 | Train Acc: 55.96%\n",
            "\t Val. Loss: 1.098 |  Val. Acc: 56.40%\n",
            "Epoch: 1\n",
            "Training...\n",
            "Iteration 149        \n",
            "Evaluating...\n",
            "\tTrain Loss: 1.099 | Train Acc: 55.89%\n",
            "\t Val. Loss: 1.098 |  Val. Acc: 54.75%\n",
            "Epoch: 2\n",
            "Training...\n",
            "Iteration 149        \n",
            "Evaluating...\n",
            "\tTrain Loss: 1.098 | Train Acc: 56.15%\n",
            "\t Val. Loss: 1.098 |  Val. Acc: 56.70%\n",
            "Epoch: 3\n",
            "Training...\n",
            "Iteration 149        \n",
            "Evaluating...\n",
            "\tTrain Loss: 1.098 | Train Acc: 56.94%\n",
            "\t Val. Loss: 1.098 |  Val. Acc: 55.88%\n",
            "Epoch: 4\n",
            "Training...\n",
            "Iteration 149        \n",
            "Evaluating...\n",
            "\tTrain Loss: 1.098 | Train Acc: 57.14%\n",
            "\t Val. Loss: 1.098 |  Val. Acc: 55.90%\n",
            "Epoch: 5\n",
            "Training...\n",
            "Iteration 149        \n",
            "Evaluating...\n",
            "\tTrain Loss: 1.098 | Train Acc: 57.75%\n",
            "\t Val. Loss: 1.098 |  Val. Acc: 55.18%\n",
            "Epoch: 6\n",
            "Training...\n",
            "Iteration 149        \n",
            "Evaluating...\n",
            "\tTrain Loss: 1.098 | Train Acc: 57.15%\n",
            "\t Val. Loss: 1.098 |  Val. Acc: 56.86%\n",
            "Epoch: 7\n",
            "Training...\n",
            "Iteration 149        \n",
            "Evaluating...\n",
            "\tTrain Loss: 1.097 | Train Acc: 58.17%\n",
            "\t Val. Loss: 1.097 |  Val. Acc: 56.97%\n",
            "Epoch: 8\n",
            "Training...\n",
            "Iteration 149        \n",
            "Evaluating...\n",
            "\tTrain Loss: 1.097 | Train Acc: 58.49%\n",
            "\t Val. Loss: 1.098 |  Val. Acc: 56.99%\n",
            "Epoch: 9\n",
            "Training...\n",
            "Iteration 149        \n",
            "Evaluating...\n",
            "\tTrain Loss: 1.096 | Train Acc: 58.64%\n",
            "\t Val. Loss: 1.098 |  Val. Acc: 55.08%\n",
            "Epoch: 10\n",
            "Training...\n",
            "Iteration 149        \n",
            "Evaluating...\n",
            "\tTrain Loss: 1.096 | Train Acc: 58.67%\n",
            "\t Val. Loss: 1.097 |  Val. Acc: 57.44%\n"
          ],
          "name": "stdout"
        },
        {
          "output_type": "display_data",
          "data": {
            "image/png": "[encoded data removed]",
            "text/plain": [
              "<Figure size 432x288 with 1 Axes>"
            ]
          },
          "metadata": {
            "tags": []
          }
        },
        {
          "output_type": "stream",
          "text": [
            "Epoch: 11\n",
            "Training...\n",
            "Iteration 149        \n",
            "Evaluating...\n",
            "\tTrain Loss: 1.096 | Train Acc: 58.83%\n",
            "\t Val. Loss: 1.097 |  Val. Acc: 56.40%\n",
            "Epoch: 12\n",
            "Training...\n",
            "Iteration 149        \n",
            "Evaluating...\n",
            "\tTrain Loss: 1.096 | Train Acc: 58.69%\n",
            "\t Val. Loss: 1.097 |  Val. Acc: 56.29%\n",
            "Epoch: 13\n",
            "Training...\n",
            "Iteration 149        \n",
            "Evaluating...\n",
            "\tTrain Loss: 1.096 | Train Acc: 58.90%\n",
            "\t Val. Loss: 1.097 |  Val. Acc: 57.93%\n",
            "Epoch: 14\n",
            "Training...\n",
            "Iteration 149        \n",
            "Evaluating...\n",
            "\tTrain Loss: 1.095 | Train Acc: 59.38%\n",
            "\t Val. Loss: 1.097 |  Val. Acc: 56.34%\n",
            "Epoch: 15\n",
            "Training...\n",
            "Iteration 149        \n",
            "Evaluating...\n",
            "\tTrain Loss: 1.096 | Train Acc: 58.94%\n",
            "\t Val. Loss: 1.097 |  Val. Acc: 56.56%\n",
            "Epoch: 16\n",
            "Training...\n",
            "Iteration 149        \n",
            "Evaluating...\n",
            "\tTrain Loss: 1.095 | Train Acc: 59.71%\n",
            "\t Val. Loss: 1.097 |  Val. Acc: 57.80%\n",
            "Epoch: 17\n",
            "Training...\n",
            "Iteration 149        \n",
            "Evaluating...\n",
            "\tTrain Loss: 1.095 | Train Acc: 60.18%\n",
            "\t Val. Loss: 1.096 |  Val. Acc: 58.34%\n",
            "Epoch: 18\n",
            "Training...\n",
            "Iteration 149        \n",
            "Evaluating...\n",
            "\tTrain Loss: 1.094 | Train Acc: 60.50%\n",
            "\t Val. Loss: 1.096 |  Val. Acc: 58.32%\n",
            "Epoch: 19\n",
            "Training...\n",
            "Iteration 149        \n",
            "Evaluating...\n",
            "\tTrain Loss: 1.094 | Train Acc: 60.32%\n",
            "\t Val. Loss: 1.097 |  Val. Acc: 57.66%\n",
            "Epoch: 20\n",
            "Training...\n",
            "Iteration 149        \n",
            "Evaluating...\n",
            "\tTrain Loss: 1.094 | Train Acc: 60.33%\n",
            "\t Val. Loss: 1.096 |  Val. Acc: 59.44%\n"
          ],
          "name": "stdout"
        },
        {
          "output_type": "display_data",
          "data": {
            "image/png": "[encoded data removed]",
            "text/plain": [
              "<Figure size 432x288 with 1 Axes>"
            ]
          },
          "metadata": {
            "tags": []
          }
        },
        {
          "output_type": "stream",
          "text": [
            "Epoch: 21\n",
            "Training...\n",
            "Iteration 149        \n",
            "Evaluating...\n",
            "\tTrain Loss: 1.094 | Train Acc: 61.00%\n",
            "\t Val. Loss: 1.096 |  Val. Acc: 57.99%\n",
            "Epoch: 22\n",
            "Training...\n",
            "Iteration 149        \n",
            "Evaluating...\n",
            "\tTrain Loss: 1.093 | Train Acc: 61.17%\n",
            "\t Val. Loss: 1.096 |  Val. Acc: 57.63%\n",
            "Epoch: 23\n",
            "Training...\n",
            "Iteration 149        \n",
            "Evaluating...\n",
            "\tTrain Loss: 1.093 | Train Acc: 61.38%\n",
            "\t Val. Loss: 1.095 |  Val. Acc: 58.67%\n",
            "Epoch: 24\n",
            "Training...\n",
            "Iteration 149        \n",
            "Evaluating...\n",
            "\tTrain Loss: 1.093 | Train Acc: 61.19%\n",
            "\t Val. Loss: 1.095 |  Val. Acc: 59.71%\n",
            "Epoch: 25\n",
            "Training...\n",
            "Iteration 149        \n",
            "Evaluating...\n",
            "\tTrain Loss: 1.093 | Train Acc: 61.82%\n",
            "\t Val. Loss: 1.096 |  Val. Acc: 58.17%\n",
            "Epoch: 26\n",
            "Training...\n",
            "Iteration 149        \n",
            "Evaluating...\n",
            "\tTrain Loss: 1.092 | Train Acc: 61.72%\n",
            "\t Val. Loss: 1.095 |  Val. Acc: 60.20%\n",
            "Epoch: 27\n",
            "Training...\n",
            "Iteration 149        \n",
            "Evaluating...\n",
            "\tTrain Loss: 1.092 | Train Acc: 61.71%\n",
            "\t Val. Loss: 1.094 |  Val. Acc: 59.06%\n",
            "Epoch: 28\n",
            "Training...\n",
            "Iteration 149        \n",
            "Evaluating...\n",
            "\tTrain Loss: 1.092 | Train Acc: 62.50%\n",
            "\t Val. Loss: 1.094 |  Val. Acc: 59.47%\n",
            "Epoch: 29\n",
            "Training...\n",
            "Iteration 149        \n",
            "Evaluating...\n",
            "\tTrain Loss: 1.091 | Train Acc: 62.35%\n",
            "\t Val. Loss: 1.095 |  Val. Acc: 59.53%\n",
            "Epoch: 30\n",
            "Training...\n",
            "Iteration 149        \n",
            "Evaluating...\n",
            "\tTrain Loss: 1.091 | Train Acc: 62.81%\n",
            "\t Val. Loss: 1.094 |  Val. Acc: 59.90%\n"
          ],
          "name": "stdout"
        },
        {
          "output_type": "display_data",
          "data": {
            "image/png": "[encoded data removed]",
            "text/plain": [
              "<Figure size 432x288 with 1 Axes>"
            ]
          },
          "metadata": {
            "tags": []
          }
        },
        {
          "output_type": "stream",
          "text": [
            "Epoch: 31\n",
            "Training...\n",
            "Iteration 149        \n",
            "Evaluating...\n",
            "\tTrain Loss: 1.091 | Train Acc: 63.28%\n",
            "\t Val. Loss: 1.094 |  Val. Acc: 58.67%\n",
            "Epoch: 32\n",
            "Training...\n",
            "Iteration 149        \n",
            "Evaluating...\n",
            "\tTrain Loss: 1.090 | Train Acc: 63.49%\n",
            "\t Val. Loss: 1.094 |  Val. Acc: 60.04%\n",
            "Epoch: 33\n",
            "Training...\n",
            "Iteration 149        \n",
            "Evaluating...\n",
            "\tTrain Loss: 1.090 | Train Acc: 63.22%\n",
            "\t Val. Loss: 1.094 |  Val. Acc: 58.83%\n",
            "Epoch: 34\n",
            "Training...\n",
            "Iteration 149        \n",
            "Evaluating...\n",
            "\tTrain Loss: 1.090 | Train Acc: 64.00%\n",
            "\t Val. Loss: 1.094 |  Val. Acc: 59.64%\n",
            "Epoch: 35\n",
            "Training...\n",
            "Iteration 149        \n",
            "Evaluating...\n",
            "\tTrain Loss: 1.090 | Train Acc: 63.43%\n",
            "\t Val. Loss: 1.094 |  Val. Acc: 61.36%\n",
            "Epoch: 36\n",
            "Training...\n",
            "Iteration 149        \n",
            "Evaluating...\n",
            "\tTrain Loss: 1.089 | Train Acc: 63.31%\n",
            "\t Val. Loss: 1.093 |  Val. Acc: 59.41%\n",
            "Epoch: 37\n",
            "Training...\n",
            "Iteration 149        \n",
            "Evaluating...\n",
            "\tTrain Loss: 1.089 | Train Acc: 64.31%\n",
            "\t Val. Loss: 1.093 |  Val. Acc: 59.49%\n",
            "Epoch: 38\n",
            "Training...\n",
            "Iteration 149        \n",
            "Evaluating...\n",
            "\tTrain Loss: 1.088 | Train Acc: 64.12%\n",
            "\t Val. Loss: 1.093 |  Val. Acc: 60.26%\n",
            "Epoch: 39\n",
            "Training...\n",
            "Iteration 149        \n",
            "Evaluating...\n",
            "\tTrain Loss: 1.088 | Train Acc: 64.51%\n",
            "\t Val. Loss: 1.092 |  Val. Acc: 60.95%\n",
            "Epoch: 40\n",
            "Training...\n",
            "Iteration 149        \n",
            "Evaluating...\n",
            "\tTrain Loss: 1.088 | Train Acc: 64.67%\n",
            "\t Val. Loss: 1.092 |  Val. Acc: 60.22%\n"
          ],
          "name": "stdout"
        },
        {
          "output_type": "display_data",
          "data": {
            "image/png": "[encoded data removed]",
            "text/plain": [
              "<Figure size 432x288 with 1 Axes>"
            ]
          },
          "metadata": {
            "tags": []
          }
        },
        {
          "output_type": "stream",
          "text": [
            "Epoch: 41\n",
            "Training...\n",
            "Iteration 149        \n",
            "Evaluating...\n",
            "\tTrain Loss: 1.087 | Train Acc: 64.53%\n",
            "\t Val. Loss: 1.093 |  Val. Acc: 60.40%\n",
            "Epoch: 42\n",
            "Training...\n",
            "Iteration 149        \n",
            "Evaluating...\n",
            "\tTrain Loss: 1.087 | Train Acc: 64.97%\n",
            "\t Val. Loss: 1.092 |  Val. Acc: 60.02%\n",
            "Epoch: 43\n",
            "Training...\n",
            "Iteration 149        \n",
            "Evaluating...\n",
            "\tTrain Loss: 1.087 | Train Acc: 64.92%\n",
            "\t Val. Loss: 1.092 |  Val. Acc: 60.23%\n",
            "Epoch: 44\n",
            "Training...\n",
            "Iteration 149        \n",
            "Evaluating...\n",
            "\tTrain Loss: 1.086 | Train Acc: 65.37%\n",
            "\t Val. Loss: 1.092 |  Val. Acc: 60.98%\n",
            "Epoch: 45\n",
            "Training...\n",
            "Iteration 149        \n",
            "Evaluating...\n",
            "\tTrain Loss: 1.086 | Train Acc: 65.51%\n",
            "\t Val. Loss: 1.090 |  Val. Acc: 61.93%\n",
            "Epoch: 46\n",
            "Training...\n",
            "Iteration 149        \n",
            "Evaluating...\n",
            "\tTrain Loss: 1.085 | Train Acc: 66.22%\n",
            "\t Val. Loss: 1.090 |  Val. Acc: 62.37%\n",
            "Epoch: 47\n",
            "Training...\n",
            "Iteration 149        \n",
            "Evaluating...\n",
            "\tTrain Loss: 1.084 | Train Acc: 65.93%\n",
            "\t Val. Loss: 1.090 |  Val. Acc: 61.71%\n",
            "Epoch: 48\n",
            "Training...\n",
            "Iteration 149        \n",
            "Evaluating...\n",
            "\tTrain Loss: 1.084 | Train Acc: 66.74%\n",
            "\t Val. Loss: 1.089 |  Val. Acc: 61.63%\n",
            "Epoch: 49\n",
            "Training...\n",
            "Iteration 149        \n",
            "Evaluating...\n",
            "\tTrain Loss: 1.084 | Train Acc: 66.38%\n",
            "\t Val. Loss: 1.090 |  Val. Acc: 62.27%\n",
            "Epoch: 50\n",
            "Training...\n",
            "Iteration 149        \n",
            "Evaluating...\n",
            "\tTrain Loss: 1.083 | Train Acc: 66.43%\n",
            "\t Val. Loss: 1.089 |  Val. Acc: 62.13%\n"
          ],
          "name": "stdout"
        },
        {
          "output_type": "display_data",
          "data": {
            "image/png": "[encoded data removed]",
            "text/plain": [
              "<Figure size 432x288 with 1 Axes>"
            ]
          },
          "metadata": {
            "tags": []
          }
        },
        {
          "output_type": "stream",
          "text": [
            "Epoch: 51\n",
            "Training...\n",
            "Iteration 149        \n",
            "Evaluating...\n",
            "\tTrain Loss: 1.083 | Train Acc: 66.79%\n",
            "\t Val. Loss: 1.089 |  Val. Acc: 62.21%\n",
            "Epoch: 52\n",
            "Training...\n",
            "Iteration 149        \n",
            "Evaluating...\n",
            "\tTrain Loss: 1.083 | Train Acc: 66.43%\n",
            "\t Val. Loss: 1.090 |  Val. Acc: 61.30%\n",
            "Epoch: 53\n",
            "Training...\n",
            "Iteration 149        \n",
            "Evaluating...\n",
            "\tTrain Loss: 1.082 | Train Acc: 66.83%\n",
            "\t Val. Loss: 1.088 |  Val. Acc: 63.06%\n",
            "Epoch: 54\n",
            "Training...\n",
            "Iteration 149        \n",
            "Evaluating...\n",
            "\tTrain Loss: 1.081 | Train Acc: 67.46%\n",
            "\t Val. Loss: 1.088 |  Val. Acc: 62.71%\n",
            "Epoch: 55\n",
            "Training...\n",
            "Iteration 149        \n",
            "Evaluating...\n",
            "\tTrain Loss: 1.081 | Train Acc: 67.51%\n",
            "\t Val. Loss: 1.088 |  Val. Acc: 62.79%\n",
            "Epoch: 56\n",
            "Training...\n",
            "Iteration 149        \n",
            "Evaluating...\n",
            "\tTrain Loss: 1.080 | Train Acc: 68.64%\n",
            "\t Val. Loss: 1.087 |  Val. Acc: 63.52%\n",
            "Epoch: 57\n",
            "Training...\n",
            "Iteration 149        \n",
            "Evaluating...\n",
            "\tTrain Loss: 1.079 | Train Acc: 68.03%\n",
            "\t Val. Loss: 1.087 |  Val. Acc: 61.88%\n",
            "Epoch: 58\n",
            "Training...\n",
            "Iteration 149        \n",
            "Evaluating...\n",
            "\tTrain Loss: 1.078 | Train Acc: 68.36%\n",
            "\t Val. Loss: 1.086 |  Val. Acc: 64.27%\n",
            "Epoch: 59\n",
            "Training...\n",
            "Iteration 149        \n",
            "Evaluating...\n",
            "\tTrain Loss: 1.078 | Train Acc: 68.28%\n",
            "\t Val. Loss: 1.087 |  Val. Acc: 62.26%\n",
            "Epoch: 60\n",
            "Training...\n",
            "Iteration 149        \n",
            "Evaluating...\n",
            "\tTrain Loss: 1.078 | Train Acc: 68.31%\n",
            "\t Val. Loss: 1.086 |  Val. Acc: 62.40%\n"
          ],
          "name": "stdout"
        },
        {
          "output_type": "display_data",
          "data": {
            "image/png": "[encoded data removed]",
            "text/plain": [
              "<Figure size 432x288 with 1 Axes>"
            ]
          },
          "metadata": {
            "tags": []
          }
        },
        {
          "output_type": "stream",
          "text": [
            "Epoch: 61\n",
            "Training...\n",
            "Iteration 149        \n",
            "Evaluating...\n",
            "\tTrain Loss: 1.078 | Train Acc: 68.78%\n",
            "\t Val. Loss: 1.084 |  Val. Acc: 63.66%\n",
            "Epoch: 62\n",
            "Training...\n",
            "Iteration 149        \n",
            "Evaluating...\n",
            "\tTrain Loss: 1.077 | Train Acc: 68.64%\n",
            "\t Val. Loss: 1.085 |  Val. Acc: 64.42%\n",
            "Epoch: 63\n",
            "Training...\n",
            "Iteration 149        \n",
            "Evaluating...\n",
            "\tTrain Loss: 1.076 | Train Acc: 67.93%\n",
            "\t Val. Loss: 1.085 |  Val. Acc: 63.52%\n",
            "Epoch: 64\n",
            "Training...\n",
            "Iteration 149        \n",
            "Evaluating...\n",
            "\tTrain Loss: 1.075 | Train Acc: 68.99%\n",
            "\t Val. Loss: 1.084 |  Val. Acc: 64.63%\n",
            "Epoch: 65\n",
            "Training...\n",
            "Iteration 149        \n",
            "Evaluating...\n",
            "\tTrain Loss: 1.075 | Train Acc: 69.19%\n",
            "\t Val. Loss: 1.084 |  Val. Acc: 63.19%\n",
            "Epoch: 66\n",
            "Training...\n",
            "Iteration 149        \n",
            "Evaluating...\n",
            "\tTrain Loss: 1.074 | Train Acc: 69.04%\n",
            "\t Val. Loss: 1.083 |  Val. Acc: 63.55%\n",
            "Epoch: 67\n",
            "Training...\n",
            "Iteration 149        \n",
            "Evaluating...\n",
            "\tTrain Loss: 1.074 | Train Acc: 68.47%\n",
            "\t Val. Loss: 1.082 |  Val. Acc: 65.54%\n",
            "Epoch: 68\n",
            "Training...\n",
            "Iteration 149        \n",
            "Evaluating...\n",
            "\tTrain Loss: 1.072 | Train Acc: 69.64%\n",
            "\t Val. Loss: 1.083 |  Val. Acc: 63.14%\n",
            "Epoch: 69\n",
            "Training...\n",
            "Iteration 149        \n",
            "Evaluating...\n",
            "\tTrain Loss: 1.072 | Train Acc: 69.31%\n",
            "\t Val. Loss: 1.080 |  Val. Acc: 65.22%\n",
            "Epoch: 70\n",
            "Training...\n",
            "Iteration 149        \n",
            "Evaluating...\n",
            "\tTrain Loss: 1.071 | Train Acc: 69.26%\n",
            "\t Val. Loss: 1.081 |  Val. Acc: 64.33%\n"
          ],
          "name": "stdout"
        },
        {
          "output_type": "display_data",
          "data": {
            "image/png": "[encoded data removed]",
            "text/plain": [
              "<Figure size 432x288 with 1 Axes>"
            ]
          },
          "metadata": {
            "tags": []
          }
        },
        {
          "output_type": "stream",
          "text": [
            "Epoch: 71\n",
            "Training...\n",
            "Iteration 149        \n",
            "Evaluating...\n",
            "\tTrain Loss: 1.070 | Train Acc: 69.54%\n",
            "\t Val. Loss: 1.081 |  Val. Acc: 63.58%\n",
            "Epoch: 72\n",
            "Training...\n",
            "Iteration 149        \n",
            "Evaluating...\n",
            "\tTrain Loss: 1.070 | Train Acc: 69.01%\n",
            "\t Val. Loss: 1.079 |  Val. Acc: 64.46%\n",
            "Epoch: 73\n",
            "Training...\n",
            "Iteration 149        \n",
            "Evaluating...\n",
            "\tTrain Loss: 1.069 | Train Acc: 69.46%\n",
            "\t Val. Loss: 1.078 |  Val. Acc: 65.25%\n",
            "Epoch: 74\n",
            "Training...\n",
            "Iteration 149        \n",
            "Evaluating...\n",
            "\tTrain Loss: 1.067 | Train Acc: 70.10%\n",
            "\t Val. Loss: 1.078 |  Val. Acc: 64.57%\n",
            "Epoch: 75\n",
            "Training...\n",
            "Iteration 149        \n",
            "Evaluating...\n",
            "\tTrain Loss: 1.066 | Train Acc: 69.71%\n",
            "\t Val. Loss: 1.079 |  Val. Acc: 63.80%\n",
            "Epoch: 76\n",
            "Training...\n",
            "Iteration 149        \n",
            "Evaluating...\n",
            "\tTrain Loss: 1.066 | Train Acc: 70.15%\n",
            "\t Val. Loss: 1.077 |  Val. Acc: 65.03%\n",
            "Epoch: 77\n",
            "Training...\n",
            "Iteration 149        \n",
            "Evaluating...\n",
            "\tTrain Loss: 1.065 | Train Acc: 70.11%\n",
            "\t Val. Loss: 1.078 |  Val. Acc: 64.89%\n",
            "Epoch: 78\n",
            "Training...\n",
            "Iteration 149        \n",
            "Evaluating...\n",
            "\tTrain Loss: 1.064 | Train Acc: 70.10%\n",
            "\t Val. Loss: 1.075 |  Val. Acc: 65.94%\n",
            "Epoch: 79\n",
            "Training...\n",
            "Iteration 149        \n",
            "Evaluating...\n",
            "\tTrain Loss: 1.063 | Train Acc: 70.31%\n",
            "\t Val. Loss: 1.075 |  Val. Acc: 64.88%\n",
            "Epoch: 80\n",
            "Training...\n",
            "Iteration 149        \n",
            "Evaluating...\n",
            "\tTrain Loss: 1.062 | Train Acc: 70.39%\n",
            "\t Val. Loss: 1.076 |  Val. Acc: 64.43%\n"
          ],
          "name": "stdout"
        },
        {
          "output_type": "display_data",
          "data": {
            "image/png": "[encoded data removed]",
            "text/plain": [
              "<Figure size 432x288 with 1 Axes>"
            ]
          },
          "metadata": {
            "tags": []
          }
        },
        {
          "output_type": "stream",
          "text": [
            "Epoch: 81\n",
            "Training...\n",
            "Iteration 149        \n",
            "Evaluating...\n",
            "\tTrain Loss: 1.061 | Train Acc: 70.14%\n",
            "\t Val. Loss: 1.073 |  Val. Acc: 65.02%\n",
            "Epoch: 82\n",
            "Training...\n",
            "Iteration 149        \n",
            "Evaluating...\n",
            "\tTrain Loss: 1.060 | Train Acc: 70.51%\n",
            "\t Val. Loss: 1.074 |  Val. Acc: 65.64%\n",
            "Epoch: 83\n",
            "Training...\n",
            "Iteration 149        \n",
            "Evaluating...\n",
            "\tTrain Loss: 1.060 | Train Acc: 70.65%\n",
            "\t Val. Loss: 1.074 |  Val. Acc: 64.87%\n",
            "Epoch: 84\n",
            "Training...\n",
            "Iteration 149        \n",
            "Evaluating...\n",
            "\tTrain Loss: 1.058 | Train Acc: 70.92%\n",
            "\t Val. Loss: 1.071 |  Val. Acc: 65.78%\n",
            "Epoch: 85\n",
            "Training...\n",
            "Iteration 149        \n",
            "Evaluating...\n",
            "\tTrain Loss: 1.057 | Train Acc: 70.56%\n",
            "\t Val. Loss: 1.069 |  Val. Acc: 65.36%\n",
            "Epoch: 86\n",
            "Training...\n",
            "Iteration 149        \n",
            "Evaluating...\n",
            "\tTrain Loss: 1.055 | Train Acc: 70.46%\n",
            "\t Val. Loss: 1.071 |  Val. Acc: 65.39%\n",
            "Epoch: 87\n",
            "Training...\n",
            "Iteration 149        \n",
            "Evaluating...\n",
            "\tTrain Loss: 1.055 | Train Acc: 70.76%\n",
            "\t Val. Loss: 1.070 |  Val. Acc: 64.43%\n",
            "Epoch: 88\n",
            "Training...\n",
            "Iteration 149        \n",
            "Evaluating...\n",
            "\tTrain Loss: 1.054 | Train Acc: 70.44%\n",
            "\t Val. Loss: 1.070 |  Val. Acc: 64.86%\n",
            "Epoch: 89\n",
            "Training...\n",
            "Iteration 149        \n",
            "Evaluating...\n",
            "\tTrain Loss: 1.052 | Train Acc: 70.97%\n",
            "\t Val. Loss: 1.070 |  Val. Acc: 64.70%\n",
            "Epoch: 90\n",
            "Training...\n",
            "Iteration 149        \n",
            "Evaluating...\n",
            "\tTrain Loss: 1.053 | Train Acc: 70.71%\n",
            "\t Val. Loss: 1.069 |  Val. Acc: 65.44%\n"
          ],
          "name": "stdout"
        },
        {
          "output_type": "display_data",
          "data": {
            "image/png": "[encoded data removed]",
            "text/plain": [
              "<Figure size 432x288 with 1 Axes>"
            ]
          },
          "metadata": {
            "tags": []
          }
        },
        {
          "output_type": "stream",
          "text": [
            "Epoch: 91\n",
            "Training...\n",
            "Iteration 149        \n",
            "Evaluating...\n",
            "\tTrain Loss: 1.051 | Train Acc: 70.92%\n",
            "\t Val. Loss: 1.067 |  Val. Acc: 65.75%\n",
            "Epoch: 92\n",
            "Training...\n",
            "Iteration 149        \n",
            "Evaluating...\n",
            "\tTrain Loss: 1.049 | Train Acc: 71.14%\n",
            "\t Val. Loss: 1.068 |  Val. Acc: 65.03%\n",
            "Epoch: 93\n",
            "Training...\n",
            "Iteration 149        \n",
            "Evaluating...\n",
            "\tTrain Loss: 1.049 | Train Acc: 71.24%\n",
            "\t Val. Loss: 1.066 |  Val. Acc: 66.32%\n",
            "Epoch: 94\n",
            "Training...\n",
            "Iteration 149        \n",
            "Evaluating...\n",
            "\tTrain Loss: 1.047 | Train Acc: 71.33%\n",
            "\t Val. Loss: 1.063 |  Val. Acc: 65.97%\n",
            "Epoch: 95\n",
            "Training...\n",
            "Iteration 149        \n",
            "Evaluating...\n",
            "\tTrain Loss: 1.045 | Train Acc: 70.79%\n",
            "\t Val. Loss: 1.063 |  Val. Acc: 66.30%\n",
            "Epoch: 96\n",
            "Training...\n",
            "Iteration 149        \n",
            "Evaluating...\n",
            "\tTrain Loss: 1.045 | Train Acc: 70.46%\n",
            "\t Val. Loss: 1.063 |  Val. Acc: 64.71%\n",
            "Epoch: 97\n",
            "Training...\n",
            "Iteration 149        \n",
            "Evaluating...\n",
            "\tTrain Loss: 1.045 | Train Acc: 70.92%\n",
            "\t Val. Loss: 1.062 |  Val. Acc: 65.30%\n",
            "Epoch: 98\n",
            "Training...\n",
            "Iteration 149        \n",
            "Evaluating...\n",
            "\tTrain Loss: 1.042 | Train Acc: 70.99%\n",
            "\t Val. Loss: 1.062 |  Val. Acc: 64.87%\n",
            "Epoch: 99\n",
            "Training...\n",
            "Iteration 149        \n",
            "Evaluating...\n",
            "\tTrain Loss: 1.041 | Train Acc: 71.11%\n",
            "\t Val. Loss: 1.059 |  Val. Acc: 67.54%\n",
            "Epoch: 100\n",
            "Training...\n",
            "Iteration 149        \n",
            "Evaluating...\n",
            "\tTrain Loss: 1.040 | Train Acc: 71.46%\n",
            "\t Val. Loss: 1.058 |  Val. Acc: 66.11%\n"
          ],
          "name": "stdout"
        },
        {
          "output_type": "display_data",
          "data": {
            "image/png": "[encoded data removed]",
            "text/plain": [
              "<Figure size 432x288 with 1 Axes>"
            ]
          },
          "metadata": {
            "tags": []
          }
        },
        {
          "output_type": "stream",
          "text": [
            "Epoch: 101\n",
            "Training...\n",
            "Iteration 149        \n",
            "Evaluating...\n",
            "\tTrain Loss: 1.038 | Train Acc: 71.53%\n",
            "\t Val. Loss: 1.057 |  Val. Acc: 65.56%\n",
            "Epoch: 102\n",
            "Training...\n",
            "Iteration 149        \n",
            "Evaluating...\n",
            "\tTrain Loss: 1.037 | Train Acc: 70.61%\n",
            "\t Val. Loss: 1.057 |  Val. Acc: 66.24%\n",
            "Epoch: 103\n",
            "Training...\n",
            "Iteration 149        \n",
            "Evaluating...\n",
            "\tTrain Loss: 1.034 | Train Acc: 71.14%\n",
            "\t Val. Loss: 1.053 |  Val. Acc: 66.62%\n",
            "Epoch: 104\n",
            "Training...\n",
            "Iteration 149        \n",
            "Evaluating...\n",
            "\tTrain Loss: 1.033 | Train Acc: 71.58%\n",
            "\t Val. Loss: 1.060 |  Val. Acc: 64.51%\n",
            "Epoch: 105\n",
            "Training...\n",
            "Iteration 149        \n",
            "Evaluating...\n",
            "\tTrain Loss: 1.032 | Train Acc: 71.76%\n",
            "\t Val. Loss: 1.056 |  Val. Acc: 65.28%\n",
            "Epoch: 106\n",
            "Training...\n",
            "Iteration 149        \n",
            "Evaluating...\n",
            "\tTrain Loss: 1.030 | Train Acc: 71.22%\n",
            "\t Val. Loss: 1.054 |  Val. Acc: 66.10%\n",
            "Epoch: 107\n",
            "Training...\n",
            "Iteration 149        \n",
            "Evaluating...\n",
            "\tTrain Loss: 1.029 | Train Acc: 71.49%\n",
            "\t Val. Loss: 1.053 |  Val. Acc: 67.04%\n",
            "Epoch: 108\n",
            "Training...\n",
            "Iteration 149        \n",
            "Evaluating...\n",
            "\tTrain Loss: 1.027 | Train Acc: 71.46%\n",
            "\t Val. Loss: 1.051 |  Val. Acc: 65.22%\n",
            "Epoch: 109\n",
            "Training...\n",
            "Iteration 149        \n",
            "Evaluating...\n",
            "\tTrain Loss: 1.027 | Train Acc: 71.78%\n",
            "\t Val. Loss: 1.052 |  Val. Acc: 66.15%\n",
            "Epoch: 110\n",
            "Training...\n",
            "Iteration 149        \n",
            "Evaluating...\n",
            "\tTrain Loss: 1.026 | Train Acc: 71.21%\n",
            "\t Val. Loss: 1.048 |  Val. Acc: 67.23%\n"
          ],
          "name": "stdout"
        },
        {
          "output_type": "display_data",
          "data": {
            "image/png": "[encoded data removed]",
            "text/plain": [
              "<Figure size 432x288 with 1 Axes>"
            ]
          },
          "metadata": {
            "tags": []
          }
        },
        {
          "output_type": "stream",
          "text": [
            "Epoch: 111\n",
            "Training...\n",
            "Iteration 149        \n",
            "Evaluating...\n",
            "\tTrain Loss: 1.022 | Train Acc: 72.43%\n",
            "\t Val. Loss: 1.045 |  Val. Acc: 66.30%\n",
            "Epoch: 112\n",
            "Training...\n",
            "Iteration 149        \n",
            "Evaluating...\n",
            "\tTrain Loss: 1.021 | Train Acc: 71.64%\n",
            "\t Val. Loss: 1.044 |  Val. Acc: 66.83%\n",
            "Epoch: 113\n",
            "Training...\n",
            "Iteration 149        \n",
            "Evaluating...\n",
            "\tTrain Loss: 1.022 | Train Acc: 71.69%\n",
            "\t Val. Loss: 1.046 |  Val. Acc: 66.40%\n",
            "Epoch: 114\n",
            "Training...\n",
            "Iteration 149        \n",
            "Evaluating...\n",
            "\tTrain Loss: 1.019 | Train Acc: 71.64%\n",
            "\t Val. Loss: 1.041 |  Val. Acc: 67.48%\n",
            "Epoch: 115\n",
            "Training...\n",
            "Iteration 149        \n",
            "Evaluating...\n",
            "\tTrain Loss: 1.017 | Train Acc: 71.46%\n",
            "\t Val. Loss: 1.042 |  Val. Acc: 67.15%\n",
            "Epoch: 116\n",
            "Training...\n",
            "Iteration 149        \n",
            "Evaluating...\n",
            "\tTrain Loss: 1.015 | Train Acc: 71.50%\n",
            "\t Val. Loss: 1.043 |  Val. Acc: 66.78%\n",
            "Epoch: 117\n",
            "Training...\n",
            "Iteration 149        \n",
            "Evaluating...\n",
            "\tTrain Loss: 1.014 | Train Acc: 71.78%\n",
            "\t Val. Loss: 1.044 |  Val. Acc: 66.02%\n",
            "Epoch: 118\n",
            "Training...\n",
            "Iteration 149        \n",
            "Evaluating...\n",
            "\tTrain Loss: 1.011 | Train Acc: 72.14%\n",
            "\t Val. Loss: 1.039 |  Val. Acc: 67.14%\n",
            "Epoch: 119\n",
            "Training...\n",
            "Iteration 149        \n",
            "Evaluating...\n",
            "\tTrain Loss: 1.009 | Train Acc: 71.96%\n",
            "\t Val. Loss: 1.039 |  Val. Acc: 66.02%\n",
            "Epoch: 120\n",
            "Training...\n",
            "Iteration 149        \n",
            "Evaluating...\n",
            "\tTrain Loss: 1.008 | Train Acc: 71.82%\n",
            "\t Val. Loss: 1.040 |  Val. Acc: 66.76%\n"
          ],
          "name": "stdout"
        },
        {
          "output_type": "display_data",
          "data": {
            "image/png": "[encoded data removed]",
            "text/plain": [
              "<Figure size 432x288 with 1 Axes>"
            ]
          },
          "metadata": {
            "tags": []
          }
        },
        {
          "output_type": "stream",
          "text": [
            "Epoch: 121\n",
            "Training...\n",
            "Iteration 149        \n",
            "Evaluating...\n",
            "\tTrain Loss: 1.007 | Train Acc: 71.82%\n",
            "\t Val. Loss: 1.037 |  Val. Acc: 66.98%\n",
            "Epoch: 122\n",
            "Training...\n",
            "Iteration 149        \n",
            "Evaluating...\n",
            "\tTrain Loss: 1.006 | Train Acc: 72.25%\n",
            "\t Val. Loss: 1.035 |  Val. Acc: 66.54%\n",
            "Epoch: 123\n",
            "Training...\n",
            "Iteration 149        \n",
            "Evaluating...\n",
            "\tTrain Loss: 1.005 | Train Acc: 71.81%\n",
            "\t Val. Loss: 1.034 |  Val. Acc: 66.93%\n",
            "Epoch: 124\n",
            "Training...\n",
            "Iteration 149        \n",
            "Evaluating...\n",
            "\tTrain Loss: 1.000 | Train Acc: 71.60%\n",
            "\t Val. Loss: 1.034 |  Val. Acc: 66.76%\n",
            "Epoch: 125\n",
            "Training...\n",
            "Iteration 149        \n",
            "Evaluating...\n",
            "\tTrain Loss: 0.999 | Train Acc: 71.86%\n",
            "\t Val. Loss: 1.031 |  Val. Acc: 67.54%\n",
            "Epoch: 126\n",
            "Training...\n",
            "Iteration 149        \n",
            "Evaluating...\n",
            "\tTrain Loss: 0.997 | Train Acc: 72.14%\n",
            "\t Val. Loss: 1.028 |  Val. Acc: 66.52%\n",
            "Epoch: 127\n",
            "Training...\n",
            "Iteration 149        \n",
            "Evaluating...\n",
            "\tTrain Loss: 0.995 | Train Acc: 71.90%\n",
            "\t Val. Loss: 1.026 |  Val. Acc: 68.31%\n",
            "Epoch: 128\n",
            "Training...\n",
            "Iteration 149        \n",
            "Evaluating...\n",
            "\tTrain Loss: 0.995 | Train Acc: 72.22%\n",
            "\t Val. Loss: 1.029 |  Val. Acc: 66.90%\n",
            "Epoch: 129\n",
            "Training...\n",
            "Iteration 149        \n",
            "Evaluating...\n",
            "\tTrain Loss: 0.994 | Train Acc: 72.75%\n",
            "\t Val. Loss: 1.026 |  Val. Acc: 66.73%\n",
            "Epoch: 130\n",
            "Training...\n",
            "Iteration 149        \n",
            "Evaluating...\n",
            "\tTrain Loss: 0.990 | Train Acc: 72.35%\n",
            "\t Val. Loss: 1.025 |  Val. Acc: 67.57%\n"
          ],
          "name": "stdout"
        },
        {
          "output_type": "display_data",
          "data": {
            "image/png": "[encoded data removed]",
            "text/plain": [
              "<Figure size 432x288 with 1 Axes>"
            ]
          },
          "metadata": {
            "tags": []
          }
        },
        {
          "output_type": "stream",
          "text": [
            "Epoch: 131\n",
            "Training...\n",
            "Iteration 149        \n",
            "Evaluating...\n",
            "\tTrain Loss: 0.989 | Train Acc: 72.35%\n",
            "\t Val. Loss: 1.024 |  Val. Acc: 67.15%\n",
            "Epoch: 132\n",
            "Training...\n",
            "Iteration 149        \n",
            "Evaluating...\n",
            "\tTrain Loss: 0.989 | Train Acc: 71.86%\n",
            "\t Val. Loss: 1.027 |  Val. Acc: 66.98%\n",
            "Epoch: 133\n",
            "Training...\n",
            "Iteration 149        \n",
            "Evaluating...\n",
            "\tTrain Loss: 0.984 | Train Acc: 72.31%\n",
            "\t Val. Loss: 1.023 |  Val. Acc: 66.33%\n",
            "Epoch: 134\n",
            "Training...\n",
            "Iteration 149        \n",
            "Evaluating...\n",
            "\tTrain Loss: 0.985 | Train Acc: 72.38%\n",
            "\t Val. Loss: 1.026 |  Val. Acc: 67.15%\n",
            "Epoch: 135\n",
            "Training...\n",
            "Iteration 149        \n",
            "Evaluating...\n",
            "\tTrain Loss: 0.978 | Train Acc: 72.49%\n",
            "\t Val. Loss: 1.018 |  Val. Acc: 67.37%\n",
            "Epoch: 136\n",
            "Training...\n",
            "Iteration 149        \n",
            "Evaluating...\n",
            "\tTrain Loss: 0.980 | Train Acc: 71.83%\n",
            "\t Val. Loss: 1.022 |  Val. Acc: 66.48%\n",
            "Epoch: 137\n",
            "Training...\n",
            "Iteration 149        \n",
            "Evaluating...\n",
            "\tTrain Loss: 0.977 | Train Acc: 72.83%\n",
            "\t Val. Loss: 1.018 |  Val. Acc: 66.95%\n",
            "Epoch: 138\n",
            "Training...\n",
            "Iteration 149        \n",
            "Evaluating...\n",
            "\tTrain Loss: 0.977 | Train Acc: 72.56%\n",
            "\t Val. Loss: 1.011 |  Val. Acc: 67.17%\n",
            "Epoch: 139\n",
            "Training...\n",
            "Iteration 149        \n",
            "Evaluating...\n",
            "\tTrain Loss: 0.975 | Train Acc: 72.01%\n",
            "\t Val. Loss: 1.017 |  Val. Acc: 67.91%\n",
            "Epoch: 140\n",
            "Training...\n",
            "Iteration 149        \n",
            "Evaluating...\n",
            "\tTrain Loss: 0.973 | Train Acc: 72.36%\n",
            "\t Val. Loss: 1.015 |  Val. Acc: 67.78%\n"
          ],
          "name": "stdout"
        },
        {
          "output_type": "display_data",
          "data": {
            "image/png": "[encoded data removed]",
            "text/plain": [
              "<Figure size 432x288 with 1 Axes>"
            ]
          },
          "metadata": {
            "tags": []
          }
        },
        {
          "output_type": "stream",
          "text": [
            "Epoch: 141\n",
            "Training...\n",
            "Iteration 149        \n",
            "Evaluating...\n",
            "\tTrain Loss: 0.969 | Train Acc: 72.61%\n",
            "\t Val. Loss: 1.018 |  Val. Acc: 66.76%\n",
            "Epoch: 142\n",
            "Training...\n",
            "Iteration 149        \n",
            "Evaluating...\n",
            "\tTrain Loss: 0.970 | Train Acc: 72.29%\n",
            "\t Val. Loss: 1.017 |  Val. Acc: 67.40%\n",
            "Epoch: 143\n",
            "Training...\n",
            "Iteration 149        \n",
            "Evaluating...\n",
            "\tTrain Loss: 0.968 | Train Acc: 72.53%\n",
            "\t Val. Loss: 1.016 |  Val. Acc: 66.45%\n",
            "Epoch: 144\n",
            "Training...\n",
            "Iteration 149        \n",
            "Evaluating...\n",
            "\tTrain Loss: 0.963 | Train Acc: 73.06%\n",
            "\t Val. Loss: 1.007 |  Val. Acc: 68.38%\n",
            "Epoch: 145\n",
            "Training...\n",
            "Iteration 149        \n",
            "Evaluating...\n",
            "\tTrain Loss: 0.964 | Train Acc: 72.11%\n",
            "\t Val. Loss: 1.007 |  Val. Acc: 68.41%\n",
            "Epoch: 146\n",
            "Training...\n",
            "Iteration 149        \n",
            "Evaluating...\n",
            "\tTrain Loss: 0.961 | Train Acc: 73.10%\n",
            "\t Val. Loss: 1.001 |  Val. Acc: 69.21%\n",
            "Epoch: 147\n",
            "Training...\n",
            "Iteration 149        \n",
            "Evaluating...\n",
            "\tTrain Loss: 0.958 | Train Acc: 73.29%\n",
            "\t Val. Loss: 1.004 |  Val. Acc: 67.42%\n",
            "Epoch: 148\n",
            "Training...\n",
            "Iteration 149        \n",
            "Evaluating...\n",
            "\tTrain Loss: 0.959 | Train Acc: 72.53%\n",
            "\t Val. Loss: 1.013 |  Val. Acc: 66.08%\n",
            "Epoch: 149\n",
            "Training...\n",
            "Iteration 149        \n",
            "Evaluating...\n",
            "\tTrain Loss: 0.956 | Train Acc: 72.53%\n",
            "\t Val. Loss: 1.003 |  Val. Acc: 67.15%\n",
            "Epoch: 150\n",
            "Training...\n",
            "Iteration 149        \n",
            "Evaluating...\n",
            "\tTrain Loss: 0.953 | Train Acc: 72.53%\n",
            "\t Val. Loss: 1.002 |  Val. Acc: 67.75%\n"
          ],
          "name": "stdout"
        },
        {
          "output_type": "display_data",
          "data": {
            "image/png": "[encoded data removed]",
            "text/plain": [
              "<Figure size 432x288 with 1 Axes>"
            ]
          },
          "metadata": {
            "tags": []
          }
        },
        {
          "output_type": "stream",
          "text": [
            "Epoch: 151\n",
            "Training...\n",
            "Iteration 149        \n",
            "Evaluating...\n",
            "\tTrain Loss: 0.953 | Train Acc: 72.67%\n",
            "\t Val. Loss: 1.003 |  Val. Acc: 67.04%\n",
            "Epoch: 152\n",
            "Training...\n",
            "Iteration 149        \n",
            "Evaluating...\n",
            "\tTrain Loss: 0.951 | Train Acc: 72.82%\n",
            "\t Val. Loss: 0.997 |  Val. Acc: 67.97%\n",
            "Epoch: 153\n",
            "Training...\n",
            "Iteration 149        \n",
            "Evaluating...\n",
            "\tTrain Loss: 0.947 | Train Acc: 72.85%\n",
            "\t Val. Loss: 1.000 |  Val. Acc: 67.70%\n",
            "Epoch: 154\n",
            "Training...\n",
            "Iteration 149        \n",
            "Evaluating...\n",
            "\tTrain Loss: 0.948 | Train Acc: 72.68%\n",
            "\t Val. Loss: 1.006 |  Val. Acc: 65.91%\n",
            "Epoch: 155\n",
            "Training...\n",
            "Iteration 149        \n",
            "Evaluating...\n",
            "\tTrain Loss: 0.946 | Train Acc: 72.60%\n",
            "\t Val. Loss: 1.002 |  Val. Acc: 67.81%\n",
            "Epoch: 156\n",
            "Training...\n",
            "Iteration 149        \n",
            "Evaluating...\n",
            "\tTrain Loss: 0.946 | Train Acc: 72.39%\n",
            "\t Val. Loss: 0.999 |  Val. Acc: 67.42%\n",
            "Epoch: 157\n",
            "Training...\n",
            "Iteration 149        \n",
            "Evaluating...\n",
            "\tTrain Loss: 0.946 | Train Acc: 72.58%\n",
            "\t Val. Loss: 0.996 |  Val. Acc: 67.39%\n",
            "Epoch: 158\n",
            "Training...\n",
            "Iteration 149        \n",
            "Evaluating...\n",
            "\tTrain Loss: 0.940 | Train Acc: 72.89%\n",
            "\t Val. Loss: 0.996 |  Val. Acc: 67.48%\n",
            "Epoch: 159\n",
            "Training...\n",
            "Iteration 149        \n",
            "Evaluating...\n",
            "\tTrain Loss: 0.940 | Train Acc: 73.18%\n",
            "\t Val. Loss: 1.002 |  Val. Acc: 66.58%\n",
            "Epoch: 160\n",
            "Training...\n",
            "Iteration 149        \n",
            "Evaluating...\n",
            "\tTrain Loss: 0.931 | Train Acc: 73.33%\n",
            "\t Val. Loss: 0.994 |  Val. Acc: 67.96%\n"
          ],
          "name": "stdout"
        },
        {
          "output_type": "display_data",
          "data": {
            "image/png": "[encoded data removed]",
            "text/plain": [
              "<Figure size 432x288 with 1 Axes>"
            ]
          },
          "metadata": {
            "tags": []
          }
        },
        {
          "output_type": "stream",
          "text": [
            "Epoch: 161\n",
            "Training...\n",
            "Iteration 149        \n",
            "Evaluating...\n",
            "\tTrain Loss: 0.937 | Train Acc: 73.26%\n",
            "\t Val. Loss: 0.987 |  Val. Acc: 68.43%\n",
            "Epoch: 162\n",
            "Training...\n",
            "Iteration 149        \n",
            "Evaluating...\n",
            "\tTrain Loss: 0.931 | Train Acc: 73.01%\n",
            "\t Val. Loss: 0.991 |  Val. Acc: 67.53%\n",
            "Epoch: 163\n",
            "Training...\n",
            "Iteration 149        \n",
            "Evaluating...\n",
            "\tTrain Loss: 0.932 | Train Acc: 73.15%\n",
            "\t Val. Loss: 0.994 |  Val. Acc: 67.18%\n",
            "Epoch: 164\n",
            "Training...\n",
            "Iteration 149        \n",
            "Evaluating...\n",
            "\tTrain Loss: 0.931 | Train Acc: 73.26%\n",
            "\t Val. Loss: 1.003 |  Val. Acc: 66.62%\n",
            "Epoch: 165\n",
            "Training...\n",
            "Iteration 149        \n",
            "Evaluating...\n",
            "\tTrain Loss: 0.929 | Train Acc: 73.28%\n",
            "\t Val. Loss: 0.994 |  Val. Acc: 67.09%\n",
            "Epoch: 166\n",
            "Training...\n",
            "Iteration 149        \n",
            "Evaluating...\n",
            "\tTrain Loss: 0.926 | Train Acc: 73.47%\n",
            "\t Val. Loss: 0.991 |  Val. Acc: 67.70%\n",
            "Epoch: 167\n",
            "Training...\n",
            "Iteration 149        \n",
            "Evaluating...\n",
            "\tTrain Loss: 0.929 | Train Acc: 73.17%\n",
            "\t Val. Loss: 0.994 |  Val. Acc: 66.40%\n",
            "Epoch: 168\n",
            "Training...\n",
            "Iteration 149        \n",
            "Evaluating...\n",
            "\tTrain Loss: 0.926 | Train Acc: 73.25%\n",
            "\t Val. Loss: 0.990 |  Val. Acc: 68.08%\n",
            "Epoch: 169\n",
            "Training...\n",
            "Iteration 149        \n",
            "Evaluating...\n",
            "\tTrain Loss: 0.918 | Train Acc: 73.54%\n",
            "\t Val. Loss: 0.986 |  Val. Acc: 67.45%\n",
            "Epoch: 170\n",
            "Training...\n",
            "Iteration 149        \n",
            "Evaluating...\n",
            "\tTrain Loss: 0.920 | Train Acc: 73.25%\n",
            "\t Val. Loss: 0.992 |  Val. Acc: 67.33%\n"
          ],
          "name": "stdout"
        },
        {
          "output_type": "display_data",
          "data": {
            "image/png": "[encoded data removed]",
            "text/plain": [
              "<Figure size 432x288 with 1 Axes>"
            ]
          },
          "metadata": {
            "tags": []
          }
        },
        {
          "output_type": "stream",
          "text": [
            "Epoch: 171\n",
            "Training...\n",
            "Iteration 149        \n",
            "Evaluating...\n",
            "\tTrain Loss: 0.920 | Train Acc: 73.61%\n",
            "\t Val. Loss: 0.990 |  Val. Acc: 68.08%\n",
            "Epoch: 172\n",
            "Training...\n",
            "Iteration 149        \n",
            "Evaluating...\n",
            "\tTrain Loss: 0.917 | Train Acc: 73.57%\n",
            "\t Val. Loss: 0.979 |  Val. Acc: 68.46%\n",
            "Epoch: 173\n",
            "Training...\n",
            "Iteration 149        \n",
            "Evaluating...\n",
            "\tTrain Loss: 0.915 | Train Acc: 73.90%\n",
            "\t Val. Loss: 0.987 |  Val. Acc: 67.54%\n",
            "Epoch: 174\n",
            "Training...\n",
            "Iteration 149        \n",
            "Evaluating...\n",
            "\tTrain Loss: 0.917 | Train Acc: 72.60%\n",
            "\t Val. Loss: 0.990 |  Val. Acc: 67.37%\n",
            "Epoch: 175\n",
            "Training...\n",
            "Iteration 149        \n",
            "Evaluating...\n",
            "\tTrain Loss: 0.914 | Train Acc: 73.50%\n",
            "\t Val. Loss: 0.981 |  Val. Acc: 66.38%\n",
            "Epoch: 176\n",
            "Training...\n",
            "Iteration 149        \n",
            "Evaluating...\n",
            "\tTrain Loss: 0.908 | Train Acc: 73.78%\n",
            "\t Val. Loss: 1.000 |  Val. Acc: 67.36%\n",
            "Epoch: 177\n",
            "Training...\n",
            "Iteration 149        \n",
            "Evaluating...\n",
            "\tTrain Loss: 0.906 | Train Acc: 74.25%\n",
            "\t Val. Loss: 0.988 |  Val. Acc: 67.75%\n",
            "Epoch: 178\n",
            "Training...\n",
            "Iteration 149        \n",
            "Evaluating...\n",
            "\tTrain Loss: 0.907 | Train Acc: 73.89%\n",
            "\t Val. Loss: 0.982 |  Val. Acc: 68.21%\n",
            "Epoch: 179\n",
            "Training...\n",
            "Iteration 149        \n",
            "Evaluating...\n",
            "\tTrain Loss: 0.903 | Train Acc: 74.06%\n",
            "\t Val. Loss: 0.986 |  Val. Acc: 66.89%\n",
            "Epoch: 180\n",
            "Training...\n",
            "Iteration 149        \n",
            "Evaluating...\n",
            "\tTrain Loss: 0.903 | Train Acc: 74.11%\n",
            "\t Val. Loss: 0.982 |  Val. Acc: 67.78%\n"
          ],
          "name": "stdout"
        },
        {
          "output_type": "display_data",
          "data": {
            "image/png": "[encoded data removed]",
            "text/plain": [
              "<Figure size 432x288 with 1 Axes>"
            ]
          },
          "metadata": {
            "tags": []
          }
        },
        {
          "output_type": "stream",
          "text": [
            "Epoch: 181\n",
            "Training...\n",
            "Iteration 149        \n",
            "Evaluating...\n",
            "\tTrain Loss: 0.902 | Train Acc: 74.38%\n",
            "\t Val. Loss: 0.982 |  Val. Acc: 68.71%\n",
            "Epoch: 182\n",
            "Training...\n",
            "Iteration 149        \n",
            "Evaluating...\n",
            "\tTrain Loss: 0.904 | Train Acc: 73.83%\n",
            "\t Val. Loss: 0.985 |  Val. Acc: 67.70%\n",
            "Epoch: 183\n",
            "Training...\n",
            "Iteration 149        \n",
            "Evaluating...\n",
            "\tTrain Loss: 0.900 | Train Acc: 73.67%\n",
            "\t Val. Loss: 0.977 |  Val. Acc: 67.61%\n",
            "Epoch: 184\n",
            "Training...\n",
            "Iteration 149        \n",
            "Evaluating...\n",
            "\tTrain Loss: 0.901 | Train Acc: 73.58%\n",
            "\t Val. Loss: 0.978 |  Val. Acc: 67.31%\n",
            "Epoch: 185\n",
            "Training...\n",
            "Iteration 149        \n",
            "Evaluating...\n",
            "\tTrain Loss: 0.896 | Train Acc: 73.99%\n",
            "\t Val. Loss: 0.988 |  Val. Acc: 67.34%\n",
            "Epoch: 186\n",
            "Training...\n",
            "Iteration 149        \n",
            "Evaluating...\n",
            "\tTrain Loss: 0.898 | Train Acc: 73.74%\n",
            "\t Val. Loss: 0.971 |  Val. Acc: 69.07%\n",
            "Epoch: 187\n",
            "Training...\n",
            "Iteration 149        \n",
            "Evaluating...\n",
            "\tTrain Loss: 0.896 | Train Acc: 73.81%\n",
            "\t Val. Loss: 0.986 |  Val. Acc: 68.46%\n",
            "Epoch: 188\n",
            "Training...\n",
            "Iteration 149        \n",
            "Evaluating...\n",
            "\tTrain Loss: 0.892 | Train Acc: 74.28%\n",
            "\t Val. Loss: 0.986 |  Val. Acc: 67.00%\n",
            "Epoch: 189\n",
            "Training...\n",
            "Iteration 149        \n",
            "Evaluating...\n",
            "\tTrain Loss: 0.891 | Train Acc: 74.26%\n",
            "\t Val. Loss: 0.972 |  Val. Acc: 69.53%\n",
            "Epoch: 190\n",
            "Training...\n",
            "Iteration 149        \n",
            "Evaluating...\n",
            "\tTrain Loss: 0.887 | Train Acc: 73.97%\n",
            "\t Val. Loss: 0.974 |  Val. Acc: 68.26%\n"
          ],
          "name": "stdout"
        },
        {
          "output_type": "display_data",
          "data": {
            "image/png": "[encoded data removed]",
            "text/plain": [
              "<Figure size 432x288 with 1 Axes>"
            ]
          },
          "metadata": {
            "tags": []
          }
        },
        {
          "output_type": "stream",
          "text": [
            "Epoch: 191\n",
            "Training...\n",
            "Iteration 149        \n",
            "Evaluating...\n",
            "\tTrain Loss: 0.889 | Train Acc: 73.93%\n",
            "\t Val. Loss: 0.968 |  Val. Acc: 69.06%\n",
            "Epoch: 192\n",
            "Training...\n",
            "Iteration 149        \n",
            "Evaluating...\n",
            "\tTrain Loss: 0.889 | Train Acc: 74.28%\n",
            "\t Val. Loss: 0.978 |  Val. Acc: 68.22%\n",
            "Epoch: 193\n",
            "Training...\n",
            "Iteration 149        \n",
            "Evaluating...\n",
            "\tTrain Loss: 0.890 | Train Acc: 74.22%\n",
            "\t Val. Loss: 0.976 |  Val. Acc: 68.54%\n",
            "Epoch: 194\n",
            "Training...\n",
            "Iteration 149        \n",
            "Evaluating...\n",
            "\tTrain Loss: 0.884 | Train Acc: 74.97%\n",
            "\t Val. Loss: 0.976 |  Val. Acc: 68.43%\n",
            "Epoch: 195\n",
            "Training...\n",
            "Iteration 149        \n",
            "Evaluating...\n",
            "\tTrain Loss: 0.880 | Train Acc: 74.22%\n",
            "\t Val. Loss: 0.973 |  Val. Acc: 68.54%\n",
            "Epoch: 196\n",
            "Training...\n",
            "Iteration 149        \n",
            "Evaluating...\n",
            "\tTrain Loss: 0.881 | Train Acc: 74.11%\n",
            "\t Val. Loss: 0.976 |  Val. Acc: 68.77%\n",
            "Epoch: 197\n",
            "Training...\n",
            "Iteration 149        \n",
            "Evaluating...\n",
            "\tTrain Loss: 0.882 | Train Acc: 74.56%\n",
            "\t Val. Loss: 0.971 |  Val. Acc: 66.95%\n",
            "Epoch: 198\n",
            "Training...\n",
            "Iteration 149        \n",
            "Evaluating...\n",
            "\tTrain Loss: 0.879 | Train Acc: 74.46%\n",
            "\t Val. Loss: 0.982 |  Val. Acc: 68.41%\n",
            "Epoch: 199\n",
            "Training...\n",
            "Iteration 149        \n",
            "Evaluating...\n",
            "\tTrain Loss: 0.877 | Train Acc: 74.08%\n",
            "\t Val. Loss: 0.989 |  Val. Acc: 67.72%\n"
          ],
          "name": "stdout"
        }
      ]
    },
    {
      "cell_type": "code",
      "metadata": {
        "id": "CcKRXxRT3q3L",
        "colab_type": "code",
        "outputId": "93187460-6529-4f8f-e740-360f9a911881",
        "colab": {
          "base_uri": "https://localhost:8080/",
          "height": 276
        }
      },
      "source": [
        "plot_network(all_epochs, all_train_loss, all_val_loss) # with regularization"
      ],
      "execution_count": 0,
      "outputs": [
        {
          "output_type": "display_data",
          "data": {
            "image/png": "[encoded data removed]",
            "text/plain": [
              "<Figure size 432x288 with 1 Axes>"
            ]
          },
          "metadata": {
            "tags": []
          }
        }
      ]
    },
    {
      "cell_type": "code",
      "metadata": {
        "id": "jPLjvPp8_xaY",
        "colab_type": "code",
        "outputId": "324f5e42-3511-4b1f-8d22-4e989267e390",
        "colab": {
          "base_uri": "https://localhost:8080/",
          "height": 276
        }
      },
      "source": [
        "plot_network(all_epochs, all_train_loss, all_val_loss) # without regularization"
      ],
      "execution_count": 0,
      "outputs": [
        {
          "output_type": "display_data",
          "data": {
            "image/png": "[encoded data removed]",
            "text/plain": [
              "<Figure size 432x288 with 1 Axes>"
            ]
          },
          "metadata": {
            "tags": []
          }
        }
      ]
    },
    {
      "cell_type": "code",
      "metadata": {
        "id": "lUXVZ9d9Ii34",
        "colab_type": "code",
        "colab": {}
      },
      "source": [
        "model_save_name=\"rnn_embed.pt\"\n",
        "path = F\"/content/drive/My Drive/{model_save_name}\"\n",
        "torch.save(rnn.state_dict(), path)"
      ],
      "execution_count": 0,
      "outputs": []
    }
  ]
}