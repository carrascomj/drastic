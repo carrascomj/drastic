{
  "nbformat": 4,
  "nbformat_minor": 0,
  "metadata": {
    "kernelspec": {
      "name": "python3",
      "display_name": "Python 3"
    },
    "language_info": {
      "codemirror_mode": {
        "name": "ipython",
        "version": 3
      },
      "file_extension": ".py",
      "mimetype": "text/x-python",
      "name": "python",
      "nbconvert_exporter": "python",
      "pygments_lexer": "ipython3",
      "version": "3.6.8"
    },
    "colab": {
      "name": "RNN_nopartial_1000each.ipynb",
      "provenance": [],
      "collapsed_sections": [],
      "toc_visible": true,
      "machine_shape": "hm"
    },
    "accelerator": "TPU"
  },
  "cells": [
    {
      "cell_type": "markdown",
      "metadata": {
        "id": "41fhhqz9cpMY",
        "colab_type": "text"
      },
      "source": [
        "# Vanilla LSTM for Gene/No gene classification\n",
        "The Milestone 1 corresponds to the classication task of, given a sequence, predict if it contains a gene, a partial sequence of a gene or just intergenic code."
      ]
    },
    {
      "cell_type": "code",
      "metadata": {
        "id": "h-c6UAlXecMe",
        "colab_type": "code",
        "outputId": "e989be42-e157-44e1-f650-6a674b4be72c",
        "colab": {
          "base_uri": "https://localhost:8080/",
          "height": 104
        }
      },
      "source": [
        "!pip3 install pyfastx"
      ],
      "execution_count": 1,
      "outputs": [
        {
          "output_type": "stream",
          "text": [
            "Collecting pyfastx\n",
            "\u001b[?25l  Downloading https://files.pythonhosted.org/packages/f5/15/5e891f5cf52383fe5dc13c83a4642347472e0ab4f5a09b7e4fc847f7f599/pyfastx-0.5.9-cp36-cp36m-manylinux2010_x86_64.whl (764kB)\n",
            "\r\u001b[K     |▍                               | 10kB 17.5MB/s eta 0:00:01\r\u001b[K     |▉                               | 20kB 2.2MB/s eta 0:00:01\r\u001b[K     |█▎                              | 30kB 3.2MB/s eta 0:00:01\r\u001b[K     |█▊                              | 40kB 2.1MB/s eta 0:00:01\r\u001b[K     |██▏                             | 51kB 2.6MB/s eta 0:00:01\r\u001b[K     |██▋                             | 61kB 3.1MB/s eta 0:00:01\r\u001b[K     |███                             | 71kB 3.6MB/s eta 0:00:01\r\u001b[K     |███▍                            | 81kB 4.1MB/s eta 0:00:01\r\u001b[K     |███▉                            | 92kB 4.5MB/s eta 0:00:01\r\u001b[K     |████▎                           | 102kB 3.4MB/s eta 0:00:01\r\u001b[K     |████▊                           | 112kB 3.4MB/s eta 0:00:01\r\u001b[K     |█████▏                          | 122kB 3.4MB/s eta 0:00:01\r\u001b[K     |█████▋                          | 133kB 3.4MB/s eta 0:00:01\r\u001b[K     |██████                          | 143kB 3.4MB/s eta 0:00:01\r\u001b[K     |██████▍                         | 153kB 3.4MB/s eta 0:00:01\r\u001b[K     |██████▉                         | 163kB 3.4MB/s eta 0:00:01\r\u001b[K     |███████▎                        | 174kB 3.4MB/s eta 0:00:01\r\u001b[K     |███████▊                        | 184kB 3.4MB/s eta 0:00:01\r\u001b[K     |████████▏                       | 194kB 3.4MB/s eta 0:00:01\r\u001b[K     |████████▋                       | 204kB 3.4MB/s eta 0:00:01\r\u001b[K     |█████████                       | 215kB 3.4MB/s eta 0:00:01\r\u001b[K     |█████████▍                      | 225kB 3.4MB/s eta 0:00:01\r\u001b[K     |█████████▉                      | 235kB 3.4MB/s eta 0:00:01\r\u001b[K     |██████████▎                     | 245kB 3.4MB/s eta 0:00:01\r\u001b[K     |██████████▊                     | 256kB 3.4MB/s eta 0:00:01\r\u001b[K     |███████████▏                    | 266kB 3.4MB/s eta 0:00:01\r\u001b[K     |███████████▋                    | 276kB 3.4MB/s eta 0:00:01\r\u001b[K     |████████████                    | 286kB 3.4MB/s eta 0:00:01\r\u001b[K     |████████████▍                   | 296kB 3.4MB/s eta 0:00:01\r\u001b[K     |████████████▉                   | 307kB 3.4MB/s eta 0:00:01\r\u001b[K     |█████████████▎                  | 317kB 3.4MB/s eta 0:00:01\r\u001b[K     |█████████████▊                  | 327kB 3.4MB/s eta 0:00:01\r\u001b[K     |██████████████▏                 | 337kB 3.4MB/s eta 0:00:01\r\u001b[K     |██████████████▋                 | 348kB 3.4MB/s eta 0:00:01\r\u001b[K     |███████████████                 | 358kB 3.4MB/s eta 0:00:01\r\u001b[K     |███████████████▍                | 368kB 3.4MB/s eta 0:00:01\r\u001b[K     |███████████████▉                | 378kB 3.4MB/s eta 0:00:01\r\u001b[K     |████████████████▎               | 389kB 3.4MB/s eta 0:00:01\r\u001b[K     |████████████████▊               | 399kB 3.4MB/s eta 0:00:01\r\u001b[K     |█████████████████▏              | 409kB 3.4MB/s eta 0:00:01\r\u001b[K     |█████████████████▋              | 419kB 3.4MB/s eta 0:00:01\r\u001b[K     |██████████████████              | 430kB 3.4MB/s eta 0:00:01\r\u001b[K     |██████████████████▍             | 440kB 3.4MB/s eta 0:00:01\r\u001b[K     |██████████████████▉             | 450kB 3.4MB/s eta 0:00:01\r\u001b[K     |███████████████████▎            | 460kB 3.4MB/s eta 0:00:01\r\u001b[K     |███████████████████▊            | 471kB 3.4MB/s eta 0:00:01\r\u001b[K     |████████████████████▏           | 481kB 3.4MB/s eta 0:00:01\r\u001b[K     |████████████████████▋           | 491kB 3.4MB/s eta 0:00:01\r\u001b[K     |█████████████████████           | 501kB 3.4MB/s eta 0:00:01\r\u001b[K     |█████████████████████▍          | 512kB 3.4MB/s eta 0:00:01\r\u001b[K     |█████████████████████▉          | 522kB 3.4MB/s eta 0:00:01\r\u001b[K     |██████████████████████▎         | 532kB 3.4MB/s eta 0:00:01\r\u001b[K     |██████████████████████▊         | 542kB 3.4MB/s eta 0:00:01\r\u001b[K     |███████████████████████▏        | 552kB 3.4MB/s eta 0:00:01\r\u001b[K     |███████████████████████▋        | 563kB 3.4MB/s eta 0:00:01\r\u001b[K     |████████████████████████        | 573kB 3.4MB/s eta 0:00:01\r\u001b[K     |████████████████████████▍       | 583kB 3.4MB/s eta 0:00:01\r\u001b[K     |████████████████████████▉       | 593kB 3.4MB/s eta 0:00:01\r\u001b[K     |█████████████████████████▎      | 604kB 3.4MB/s eta 0:00:01\r\u001b[K     |█████████████████████████▊      | 614kB 3.4MB/s eta 0:00:01\r\u001b[K     |██████████████████████████▏     | 624kB 3.4MB/s eta 0:00:01\r\u001b[K     |██████████████████████████▋     | 634kB 3.4MB/s eta 0:00:01\r\u001b[K     |███████████████████████████     | 645kB 3.4MB/s eta 0:00:01\r\u001b[K     |███████████████████████████▍    | 655kB 3.4MB/s eta 0:00:01\r\u001b[K     |███████████████████████████▉    | 665kB 3.4MB/s eta 0:00:01\r\u001b[K     |████████████████████████████▎   | 675kB 3.4MB/s eta 0:00:01\r\u001b[K     |████████████████████████████▊   | 686kB 3.4MB/s eta 0:00:01\r\u001b[K     |█████████████████████████████▏  | 696kB 3.4MB/s eta 0:00:01\r\u001b[K     |█████████████████████████████▋  | 706kB 3.4MB/s eta 0:00:01\r\u001b[K     |██████████████████████████████  | 716kB 3.4MB/s eta 0:00:01\r\u001b[K     |██████████████████████████████▍ | 727kB 3.4MB/s eta 0:00:01\r\u001b[K     |██████████████████████████████▉ | 737kB 3.4MB/s eta 0:00:01\r\u001b[K     |███████████████████████████████▎| 747kB 3.4MB/s eta 0:00:01\r\u001b[K     |███████████████████████████████▊| 757kB 3.4MB/s eta 0:00:01\r\u001b[K     |████████████████████████████████| 768kB 3.4MB/s \n",
            "\u001b[?25hInstalling collected packages: pyfastx\n",
            "Successfully installed pyfastx-0.5.9\n"
          ],
          "name": "stdout"
        }
      ]
    },
    {
      "cell_type": "code",
      "metadata": {
        "id": "qRzQiKX0cpMv",
        "colab_type": "code",
        "colab": {}
      },
      "source": [
        "import numpy as np\n",
        "import pickle\n",
        "import torch\n",
        "import torch.nn as nn\n",
        "import pandas as pd\n",
        "\n",
        "from tqdm import tqdm # progress bar\n",
        "from preproc_pipeline import window_pipeline\n",
        "from warnings import simplefilter"
      ],
      "execution_count": 0,
      "outputs": []
    },
    {
      "cell_type": "code",
      "metadata": {
        "id": "vBh07oIKIT7G",
        "colab_type": "code",
        "colab": {
          "base_uri": "https://localhost:8080/",
          "height": 124
        },
        "outputId": "e8d836ac-9a47-481f-b832-1b7d4f96d22a"
      },
      "source": [
        "from google.colab import drive\n",
        "drive.mount('/content/drive')"
      ],
      "execution_count": 3,
      "outputs": [
        {
          "output_type": "stream",
          "text": [
            "Go to this URL in a browser: https://accounts.google.com/o/oauth2/auth?client_id=947318989803-6bn6qk8qdgf4n4g3pfee6491hc0brc4i.apps.googleusercontent.com&redirect_uri=urn%3aietf%3awg%3aoauth%3a2.0%3aoob&response_type=code&scope=email%20https%3a%2f%2fwww.googleapis.com%2fauth%2fdocs.test%20https%3a%2f%2fwww.googleapis.com%2fauth%2fdrive%20https%3a%2f%2fwww.googleapis.com%2fauth%2fdrive.photos.readonly%20https%3a%2f%2fwww.googleapis.com%2fauth%2fpeopleapi.readonly\n",
            "\n",
            "Enter your authorization code:\n",
            "··········\n",
            "Mounted at /content/drive\n"
          ],
          "name": "stdout"
        }
      ]
    },
    {
      "cell_type": "markdown",
      "metadata": {
        "id": "pj7ghCdFcpNN",
        "colab_type": "text"
      },
      "source": [
        "## 1. Dataset for training\n",
        "The genome of E. coli will be used for this purpose."
      ]
    },
    {
      "cell_type": "code",
      "metadata": {
        "id": "xlomqEr_cpNV",
        "colab_type": "code",
        "colab": {}
      },
      "source": [
        "simplefilter(\"ignore\")\n",
        "genome = \"GCF_000008865.2_ASM886v2_genomic.fna\"\n",
        "feature_table = \"GCA_000008865.2_ASM886v2_feature_table.tsv\"\n",
        "df = window_pipeline(genome, feature_table)"
      ],
      "execution_count": 0,
      "outputs": []
    },
    {
      "cell_type": "code",
      "metadata": {
        "id": "mMNHc3Xb6uA_",
        "colab_type": "code",
        "outputId": "3cd59122-84f3-4176-dc2d-97671399af27",
        "colab": {
          "base_uri": "https://localhost:8080/",
          "height": 52
        }
      },
      "source": [
        "print(df.sequence.apply(lambda x: len(x)).max())\n",
        "len(df)"
      ],
      "execution_count": 71,
      "outputs": [
        {
          "output_type": "stream",
          "text": [
            "50\n"
          ],
          "name": "stdout"
        },
        {
          "output_type": "execute_result",
          "data": {
            "text/plain": [
              "36513"
            ]
          },
          "metadata": {
            "tags": []
          },
          "execution_count": 71
        }
      ]
    },
    {
      "cell_type": "markdown",
      "metadata": {
        "id": "8imkCBLk_yit",
        "colab_type": "text"
      },
      "source": [
        ""
      ]
    },
    {
      "cell_type": "code",
      "metadata": {
        "id": "7yI_vjULcpNr",
        "colab_type": "code",
        "outputId": "947deef1-d08e-4e20-b246-81453c3d33c9",
        "colab": {
          "base_uri": "https://localhost:8080/",
          "height": 52
        }
      },
      "source": [
        "print(\n",
        "    f\"columns -> {list(df.columns)}\\n\"\n",
        "    f\"labels in dataframe -> {list(df.label.unique())}\"\n",
        ")"
      ],
      "execution_count": 72,
      "outputs": [
        {
          "output_type": "stream",
          "text": [
            "columns -> ['sequence', 'label']\n",
            "labels in dataframe -> ['gene', 'intergenic', 'partial']\n"
          ],
          "name": "stdout"
        }
      ]
    },
    {
      "cell_type": "markdown",
      "metadata": {
        "id": "QWshzjeHcpN-",
        "colab_type": "text"
      },
      "source": [
        "Let's get a one hot mapping for the labels."
      ]
    },
    {
      "cell_type": "code",
      "metadata": {
        "id": "F3fD5a7LcpOD",
        "colab_type": "code",
        "outputId": "d991a32b-6f3c-4fbd-c650-8d383accc2db",
        "colab": {
          "base_uri": "https://localhost:8080/",
          "height": 52
        }
      },
      "source": [
        "labels = list(df.label.unique())\n",
        "lab0 = np.zeros(len(labels))\n",
        "lab2vec = {}\n",
        "vec2lab = {}\n",
        "for i, label in enumerate(list(df.label.unique())):\n",
        "    labv = lab0.copy()\n",
        "    labv[i] = 1\n",
        "    lab2vec[label] = labv\n",
        "    vec2lab[tuple(labv)] = label\n",
        "\n",
        "print(f\"lab2vec -> {lab2vec}\\nvec2lab -> {vec2lab}\")"
      ],
      "execution_count": 73,
      "outputs": [
        {
          "output_type": "stream",
          "text": [
            "lab2vec -> {'gene': array([1., 0., 0.]), 'intergenic': array([0., 1., 0.]), 'partial': array([0., 0., 1.])}\n",
            "vec2lab -> {(1.0, 0.0, 0.0): 'gene', (0.0, 1.0, 0.0): 'intergenic', (0.0, 0.0, 1.0): 'partial'}\n"
          ],
          "name": "stdout"
        }
      ]
    },
    {
      "cell_type": "code",
      "metadata": {
        "id": "QzAINOOA9ge1",
        "colab_type": "code",
        "outputId": "4da2956e-41e2-4aed-e63e-d819afbe9f9d",
        "colab": {
          "base_uri": "https://localhost:8080/",
          "height": 69
        }
      },
      "source": [
        "print(df[df.sequence.apply(lambda x: len(x)==0)].count())\n",
        "df = df[~df.sequence.apply(lambda x: len(x)==0)]"
      ],
      "execution_count": 74,
      "outputs": [
        {
          "output_type": "stream",
          "text": [
            "sequence    0\n",
            "label       0\n",
            "dtype: int64\n"
          ],
          "name": "stdout"
        }
      ]
    },
    {
      "cell_type": "markdown",
      "metadata": {
        "id": "KNxgBpL9QxZj",
        "colab_type": "text"
      },
      "source": [
        "Need to check why it always generate a 0 length row. I think is the last one, but I am not sure."
      ]
    },
    {
      "cell_type": "code",
      "metadata": {
        "id": "XTcHbHV8cpOT",
        "colab_type": "code",
        "outputId": "fe281670-b492-496b-ce64-9a816eff1c64",
        "colab": {
          "base_uri": "https://localhost:8080/",
          "height": 424
        }
      },
      "source": [
        "df[\"label_onehot\"] = df.label.apply(lambda x: lab2vec[x])\n",
        "toy = pd.concat([df[df.label==\"gene\"].sample(n=2000),\n",
        "                df[df.label==\"intergenic\"].sample(n=2000),\n",
        "                df[df.label==\"partial\"].sample(n=2000)]).reset_index(drop=True)\n",
        "df_train = toy.sample(frac=8/10) # shuffle\n",
        "df_test = toy[~toy.sequence.isin(df_train.sequence)].reset_index(drop=True)\n",
        "df_train = df_train.reset_index(drop=True)\n",
        "df_train"
      ],
      "execution_count": 75,
      "outputs": [
        {
          "output_type": "execute_result",
          "data": {
            "text/html": [
              "<div>\n",
              "<style scoped>\n",
              "    .dataframe tbody tr th:only-of-type {\n",
              "        vertical-align: middle;\n",
              "    }\n",
              "\n",
              "    .dataframe tbody tr th {\n",
              "        vertical-align: top;\n",
              "    }\n",
              "\n",
              "    .dataframe thead th {\n",
              "        text-align: right;\n",
              "    }\n",
              "</style>\n",
              "<table border=\"1\" class=\"dataframe\">\n",
              "  <thead>\n",
              "    <tr style=\"text-align: right;\">\n",
              "      <th></th>\n",
              "      <th>sequence</th>\n",
              "      <th>label</th>\n",
              "      <th>label_onehot</th>\n",
              "    </tr>\n",
              "  </thead>\n",
              "  <tbody>\n",
              "    <tr>\n",
              "      <th>0</th>\n",
              "      <td>AGCAATTTCCCCTTGAATATAGTACTGGTGATGAAACGATGAATCT...</td>\n",
              "      <td>partial</td>\n",
              "      <td>[0.0, 0.0, 1.0]</td>\n",
              "    </tr>\n",
              "    <tr>\n",
              "      <th>1</th>\n",
              "      <td>TAAACCAGTTCGTTCGGGCAGGTTTCACCTTTTTCCAGATTGCTTA...</td>\n",
              "      <td>gene</td>\n",
              "      <td>[1.0, 0.0, 0.0]</td>\n",
              "    </tr>\n",
              "    <tr>\n",
              "      <th>2</th>\n",
              "      <td>TCATGCTCTCAGAATTAACTTAACTGTGAATCATGATGTTTTTAAC...</td>\n",
              "      <td>intergenic</td>\n",
              "      <td>[0.0, 1.0, 0.0]</td>\n",
              "    </tr>\n",
              "    <tr>\n",
              "      <th>3</th>\n",
              "      <td>TAATCCTTTAGGCGTAATAAAAAATAATTTATCATGCTAATTATTT...</td>\n",
              "      <td>intergenic</td>\n",
              "      <td>[0.0, 1.0, 0.0]</td>\n",
              "    </tr>\n",
              "    <tr>\n",
              "      <th>4</th>\n",
              "      <td>CTTATTATCGACGGCTAAACTATTTTTTTGGCTGATACTGATATCG...</td>\n",
              "      <td>intergenic</td>\n",
              "      <td>[0.0, 1.0, 0.0]</td>\n",
              "    </tr>\n",
              "    <tr>\n",
              "      <th>...</th>\n",
              "      <td>...</td>\n",
              "      <td>...</td>\n",
              "      <td>...</td>\n",
              "    </tr>\n",
              "    <tr>\n",
              "      <th>4795</th>\n",
              "      <td>AGAAACTAAAAACTCTTTTTGTTGATTGAGATACCCGATGCGTAAG...</td>\n",
              "      <td>intergenic</td>\n",
              "      <td>[0.0, 1.0, 0.0]</td>\n",
              "    </tr>\n",
              "    <tr>\n",
              "      <th>4796</th>\n",
              "      <td>TGCGCTGGTGAATGCCGTTGACCGCGCGCTGGAATTATTGGTGGAT...</td>\n",
              "      <td>gene</td>\n",
              "      <td>[1.0, 0.0, 0.0]</td>\n",
              "    </tr>\n",
              "    <tr>\n",
              "      <th>4797</th>\n",
              "      <td>CAGATGGCCTCTTTCATATGGCGAGTCAGTTCAATACGGTCGGACG...</td>\n",
              "      <td>gene</td>\n",
              "      <td>[1.0, 0.0, 0.0]</td>\n",
              "    </tr>\n",
              "    <tr>\n",
              "      <th>4798</th>\n",
              "      <td>TTTCAAATCCGGCACGGGCCAGCATCGCCTGGCGGATCCCGTCCCC...</td>\n",
              "      <td>gene</td>\n",
              "      <td>[1.0, 0.0, 0.0]</td>\n",
              "    </tr>\n",
              "    <tr>\n",
              "      <th>4799</th>\n",
              "      <td>GATTATGCGAGCAGACTCGCACTCCTGCCAGTCTGCTGCAAAAGAA...</td>\n",
              "      <td>intergenic</td>\n",
              "      <td>[0.0, 1.0, 0.0]</td>\n",
              "    </tr>\n",
              "  </tbody>\n",
              "</table>\n",
              "<p>4800 rows × 3 columns</p>\n",
              "</div>"
            ],
            "text/plain": [
              "                                               sequence  ...     label_onehot\n",
              "0     AGCAATTTCCCCTTGAATATAGTACTGGTGATGAAACGATGAATCT...  ...  [0.0, 0.0, 1.0]\n",
              "1     TAAACCAGTTCGTTCGGGCAGGTTTCACCTTTTTCCAGATTGCTTA...  ...  [1.0, 0.0, 0.0]\n",
              "2     TCATGCTCTCAGAATTAACTTAACTGTGAATCATGATGTTTTTAAC...  ...  [0.0, 1.0, 0.0]\n",
              "3     TAATCCTTTAGGCGTAATAAAAAATAATTTATCATGCTAATTATTT...  ...  [0.0, 1.0, 0.0]\n",
              "4     CTTATTATCGACGGCTAAACTATTTTTTTGGCTGATACTGATATCG...  ...  [0.0, 1.0, 0.0]\n",
              "...                                                 ...  ...              ...\n",
              "4795  AGAAACTAAAAACTCTTTTTGTTGATTGAGATACCCGATGCGTAAG...  ...  [0.0, 1.0, 0.0]\n",
              "4796  TGCGCTGGTGAATGCCGTTGACCGCGCGCTGGAATTATTGGTGGAT...  ...  [1.0, 0.0, 0.0]\n",
              "4797  CAGATGGCCTCTTTCATATGGCGAGTCAGTTCAATACGGTCGGACG...  ...  [1.0, 0.0, 0.0]\n",
              "4798  TTTCAAATCCGGCACGGGCCAGCATCGCCTGGCGGATCCCGTCCCC...  ...  [1.0, 0.0, 0.0]\n",
              "4799  GATTATGCGAGCAGACTCGCACTCCTGCCAGTCTGCTGCAAAAGAA...  ...  [0.0, 1.0, 0.0]\n",
              "\n",
              "[4800 rows x 3 columns]"
            ]
          },
          "metadata": {
            "tags": []
          },
          "execution_count": 75
        }
      ]
    },
    {
      "cell_type": "markdown",
      "metadata": {
        "id": "qZnhk8eFcpOj",
        "colab_type": "text"
      },
      "source": [
        "## 2. Embeddings\n",
        "The next step is to use the whole sequence to compute the embeddings. First, get a set of k-mers, that will be our words for this NLP problem."
      ]
    },
    {
      "cell_type": "code",
      "metadata": {
        "id": "jENWLxW0cpOq",
        "colab_type": "code",
        "colab": {}
      },
      "source": [
        "def window(fseq, window_size, slide = 1):\n",
        "    # create a window of size k\n",
        "    N = len(fseq)\n",
        "    for i in range(0, N - window_size + 1, slide):\n",
        "      if i+window_size+slide < N:\n",
        "        yield fseq[i:i+window_size]\n",
        "\n",
        "\n",
        "def make_context_vector(context, word_to_ix):\n",
        "    idxs = [word_to_ix[w] for w in context]\n",
        "    return torch.tensor(idxs, dtype=torch.long)\n",
        "\n",
        "def get_index_of_max(input):\n",
        "    index = 0\n",
        "    for i in range(1, len(input)):\n",
        "        if input[i] > input[index]:\n",
        "            index = i \n",
        "    return index\n",
        "\n",
        "def get_max_prob_result(input, ix_to_word):\n",
        "    return ix_to_word[get_index_of_max(input)]\n",
        "\n",
        "class CBOW(torch.nn.Module):\n",
        "\n",
        "    def __init__(self, vocab_size, embedding_dim, padding_idx):\n",
        "        super(CBOW, self).__init__()\n",
        "\n",
        "        #out: 1 x emdedding_dim\n",
        "        self.embeddings = nn.Embedding(vocab_size, embedding_dim, \n",
        "                                       padding_idx=padding_idx) #used predefined nn.Embedding\n",
        "        self.linear1 = nn.Linear(embedding_dim, 128)\n",
        "        self.activation_function1 = nn.ReLU()\n",
        "        \n",
        "        #out: 1 x vocab_size\n",
        "        self.linear2 = nn.Linear(128, vocab_size)\n",
        "        self.activation_function2 = nn.LogSoftmax(dim = -1)\n",
        "        \n",
        "\n",
        "    def forward(self, inputs):\n",
        "        embeds = sum(self.embeddings(inputs)).view(1,-1)\n",
        "        out = self.linear1(embeds)\n",
        "        out = self.activation_function1(out)\n",
        "        out = self.linear2(out)\n",
        "        out = self.activation_function2(out)\n",
        "        return out\n",
        "\n",
        "    def get_word_emdedding(self, word):\n",
        "        word = torch.LongTensor([word_to_ix[word]])\n",
        "        return self.embeddings(word).view(1,-1)\n",
        "    \n",
        "k = 3                     # so our words has length 3\n",
        "SLIDE = 1                 # sampling slide\n",
        "CONTEXT_SIZE = 2          # 2 words to the left, 2 to the right\n",
        "EMDEDDING_DIM = 25        # embedding dimension\n",
        "EPOCHS = 30               # number of epochs for training\n",
        "model = None              # CBOW model"
      ],
      "execution_count": 0,
      "outputs": []
    },
    {
      "cell_type": "markdown",
      "metadata": {
        "id": "udqIi0wBcpO3",
        "colab_type": "text"
      },
      "source": [
        "Finally, gather all the kmers and apply the CBOW algorithm."
      ]
    },
    {
      "cell_type": "code",
      "metadata": {
        "id": "nJ24vZP71HFi",
        "colab_type": "code",
        "colab": {}
      },
      "source": [
        "# Since we have the embeddings stored, we are going to ignore the following next\n",
        "# two cells and use this one instead\n",
        "stored = True\n",
        "\n",
        "if stored:\n",
        "  with open(\"/content/drive/My Drive/wti.p\", \"rb\") as f:\n",
        "    word_to_ix = pickle.load(f)\n",
        "  ix_to_word = {v: k for k,v in word_to_ix.items()}\n",
        "  model_save_name = 'ma_model.pt'\n",
        "  path = model_save_name\n",
        "  path = F\"/content/drive/My Drive/{model_save_name}\" \n",
        "  model = CBOW(len(word_to_ix), EMDEDDING_DIM, padding_idx=word_to_ix[\"X\"]).cpu()\n",
        "  model.load_state_dict(torch.load(path, map_location=torch.device('cpu')))"
      ],
      "execution_count": 0,
      "outputs": []
    },
    {
      "cell_type": "code",
      "metadata": {
        "id": "Qi4eQ1K6cpPB",
        "colab_type": "code",
        "outputId": "fe18b00c-f79b-44c8-d4f6-2ee9b73f0245",
        "colab": {
          "base_uri": "https://localhost:8080/",
          "height": 52
        }
      },
      "source": [
        "# kmer in all of the 1/4 sequences of the dataset\n",
        "kmers = [ kmer for kmer in window(\"\".join([seq for seq in df_train.loc[:,\"sequence\"]]), k, SLIDE) ]  \n",
        "vocab_size = len(kmers)\n",
        "\n",
        "data = []\n",
        "print(\"Filling context data...\")\n",
        "pbar = tqdm(total=vocab_size - 4-1) # just to output something in screen\n",
        "for i in range(2, vocab_size - 2): # first word to have 2 words before is the \"third\" one (0,1,2)\n",
        "    context = (kmers[i - 2], kmers[i - 1],\n",
        "               kmers[i + 1], kmers[i + 2])\n",
        "    target = kmers[i]\n",
        "    data.append((context, target))\n",
        "    pbar.update(1)\n",
        "\n",
        "word_to_ix, ix_to_word = {},{}\n",
        "for i, word in enumerate(set(kmers)):\n",
        "    word_to_ix[word] = i\n",
        "    ix_to_word[i] = word\n",
        "\n",
        "ix = len(ix_to_word)\n",
        "ix_to_word[ix] = \"X\"  # our padding character\n",
        "word_to_ix[\"X\"] = ix\n",
        "\n",
        "with open(\"/content/drive/My Drive/wti.p\", \"wb\") as f:\n",
        "  pickle.dump(word_to_ix, f)\n",
        "\n",
        "with open(\"/content/drive/My Drive/itw.p\", \"wb\") as f:\n",
        "  pickle.dump(ix_to_word, f)"
      ],
      "execution_count": 0,
      "outputs": [
        {
          "output_type": "stream",
          "text": [
            "\r  0%|          | 0/79991 [00:00<?, ?it/s]"
          ],
          "name": "stderr"
        },
        {
          "output_type": "stream",
          "text": [
            "Filling context data...\n"
          ],
          "name": "stdout"
        },
        {
          "output_type": "stream",
          "text": [
            "\r 27%|██▋       | 21343/79991 [00:00<00:00, 213423.59it/s]"
          ],
          "name": "stderr"
        }
      ]
    },
    {
      "cell_type": "code",
      "metadata": {
        "id": "JnBZPKyEcpPQ",
        "colab_type": "code",
        "outputId": "1c40e984-1041-4c90-bbd6-56d53bf21afd",
        "colab": {
          "base_uri": "https://localhost:8080/",
          "height": 1000
        }
      },
      "source": [
        "import sys\n",
        "from time import time \n",
        "model = CBOW(len(word_to_ix), EMDEDDING_DIM, padding_idx=word_to_ix[\"X\"])\n",
        "\n",
        "loss_function = nn.NLLLoss()\n",
        "optimizer = torch.optim.SGD(model.parameters(), lr=0.001)\n",
        "print(\"Training embeddings...\")\n",
        "\n",
        "model_save_name = 'ma_model.pt'\n",
        "path = F\"/content/drive/My Drive/{model_save_name}\" \n",
        "\n",
        "start = time()\n",
        "tot = len(data)\n",
        "print()\n",
        "for epoch in range(EPOCHS):\n",
        "  start = time()\n",
        "  total_loss = 0\n",
        "  i = 1\n",
        "  for context, target in data:\n",
        "    if not i%100:\n",
        "      sys.stdout.write(f\"\\r{i}/{tot} in {round(time()-start,2)}s        \")\n",
        "      sys.stdout.flush()\n",
        "    context_vector = make_context_vector(context, word_to_ix)  \n",
        "    model.zero_grad()\n",
        "    log_probs = model(context_vector)\n",
        "    loss = loss_function(log_probs, torch.tensor([word_to_ix[target]], dtype=torch.long))\n",
        "    loss.backward()\n",
        "    optimizer.step()\n",
        "    total_loss += loss.data\n",
        "    i+=1\n",
        "  torch.save(model.state_dict(), path)\n",
        "  print(f\"\\nEpoch {epoch+1}/{EPOCHS} in {round(time()-start,2)}\\n\\n\")"
      ],
      "execution_count": 0,
      "outputs": [
        {
          "output_type": "stream",
          "text": [
            "Training embeddings...\n",
            "\n",
            "27700/79992 in 19.74s        "
          ],
          "name": "stdout"
        },
        {
          "output_type": "stream",
          "text": [
            "\r79992it [00:20, 213423.59it/s]                           "
          ],
          "name": "stderr"
        },
        {
          "output_type": "stream",
          "text": [
            "79900/79992 in 56.32s        \n",
            "Epoch 1/30 in 56.38836646080017\n",
            "\n",
            "\n",
            "79900/79992 in 55.63s        \n",
            "Epoch 2/30 in 55.700063705444336\n",
            "\n",
            "\n",
            "79900/79992 in 58.94s        \n",
            "Epoch 3/30 in 59.00810956954956\n",
            "\n",
            "\n",
            "79900/79992 in 58.34s        \n",
            "Epoch 4/30 in 58.411818742752075\n",
            "\n",
            "\n",
            "79900/79992 in 57.09s        \n",
            "Epoch 5/30 in 57.166804790496826\n",
            "\n",
            "\n",
            "79900/79992 in 57.6s        \n",
            "Epoch 6/30 in 57.665950298309326\n",
            "\n",
            "\n",
            "79900/79992 in 56.33s        \n",
            "Epoch 7/30 in 56.40046310424805\n",
            "\n",
            "\n",
            "79900/79992 in 57.23s        \n",
            "Epoch 8/30 in 57.31258416175842\n",
            "\n",
            "\n",
            "79900/79992 in 56.69s        \n",
            "Epoch 9/30 in 56.76210379600525\n",
            "\n",
            "\n",
            "79900/79992 in 57.19s        \n",
            "Epoch 10/30 in 57.25938630104065\n",
            "\n",
            "\n",
            "79900/79992 in 57.71s        \n",
            "Epoch 11/30 in 57.78800010681152\n",
            "\n",
            "\n",
            "79900/79992 in 57.93s        \n",
            "Epoch 12/30 in 58.00145125389099\n",
            "\n",
            "\n",
            "79900/79992 in 56.46s        \n",
            "Epoch 13/30 in 56.535449266433716\n",
            "\n",
            "\n",
            "79900/79992 in 57.09s        \n",
            "Epoch 14/30 in 57.15931820869446\n",
            "\n",
            "\n",
            "79900/79992 in 56.69s        \n",
            "Epoch 15/30 in 56.76209354400635\n",
            "\n",
            "\n",
            "79900/79992 in 57.24s        \n",
            "Epoch 16/30 in 57.31186246871948\n",
            "\n",
            "\n",
            "79900/79992 in 57.6s        \n",
            "Epoch 17/30 in 57.670217990875244\n",
            "\n",
            "\n",
            "79900/79992 in 56.6s        \n",
            "Epoch 18/30 in 56.67662596702576\n",
            "\n",
            "\n",
            "79900/79992 in 58.26s        \n",
            "Epoch 19/30 in 58.330974817276\n",
            "\n",
            "\n",
            "79900/79992 in 57.37s        \n",
            "Epoch 20/30 in 57.44796872138977\n",
            "\n",
            "\n",
            "79900/79992 in 57.18s        \n",
            "Epoch 21/30 in 57.25372314453125\n",
            "\n",
            "\n",
            "79900/79992 in 58.05s        \n",
            "Epoch 22/30 in 58.12126350402832\n",
            "\n",
            "\n",
            "79900/79992 in 57.33s        \n",
            "Epoch 23/30 in 57.39873433113098\n",
            "\n",
            "\n",
            "79900/79992 in 57.83s        \n",
            "Epoch 24/30 in 57.90272617340088\n",
            "\n",
            "\n",
            "79900/79992 in 58.44s        \n",
            "Epoch 25/30 in 58.50835585594177\n",
            "\n",
            "\n",
            "79900/79992 in 57.36s        \n",
            "Epoch 26/30 in 57.43865370750427\n",
            "\n",
            "\n",
            "79900/79992 in 57.78s        \n",
            "Epoch 27/30 in 57.8593327999115\n",
            "\n",
            "\n",
            "79900/79992 in 57.74s        \n",
            "Epoch 28/30 in 57.80735421180725\n",
            "\n",
            "\n",
            "79900/79992 in 57.5s        \n",
            "Epoch 29/30 in 57.571948528289795\n",
            "\n",
            "\n",
            "79900/79992 in 58.14s        \n",
            "Epoch 30/30 in 58.21271753311157\n",
            "\n",
            "\n"
          ],
          "name": "stdout"
        }
      ]
    },
    {
      "cell_type": "markdown",
      "metadata": {
        "id": "JJKW2iVSlmGQ",
        "colab_type": "text"
      },
      "source": [
        "## 4. Vanilla RNN model"
      ]
    },
    {
      "cell_type": "code",
      "metadata": {
        "id": "GniwYJ6mlswA",
        "colab_type": "code",
        "colab": {}
      },
      "source": [
        "class RNN(nn.Module):\n",
        "    def __init__(self, input_dim, embedding_dim, hidden_dim, lstm_layers,\n",
        "                 hidden_out, output_dim, padding_idx, t):\n",
        "\n",
        "        super().__init__()\n",
        "        self.nb_tags = output_dim\n",
        "\n",
        "        self.embedding = nn.Embedding(input_dim, embedding_dim, padding_idx=padding_idx)\n",
        "        \n",
        "        self.rnn = nn.LSTM(embedding_dim, hidden_dim, bidirectional=True, \n",
        "                           num_layers=lstm_layers, dropout=0.4)\n",
        "\n",
        "        self.fnn2 = nn.Sequential(\n",
        "            nn.Linear(t*hidden_dim*2, hidden_out),\n",
        "            nn.BatchNorm1d(hidden_out), \n",
        "            nn.SELU(),\n",
        "            nn.AlphaDropout(),\n",
        "            nn.Linear(hidden_out, output_dim)\n",
        "        )        \n",
        "\n",
        "\n",
        "    def forward(self, text):\n",
        "\n",
        "        #text = [sent len, batch size]\n",
        "        # 1. embedding\n",
        "        embedded = self.embedding(text)\n",
        "\n",
        "        # 2. LSTM\n",
        "        output, (hidden, lt) = self.rnn(embedded)\n",
        "\n",
        "        # 3. get that so it's correctly packed for the hidden layer\n",
        "        output = output.contiguous()\n",
        "        output = output.reshape(output.shape[0], -1)\n",
        "\n",
        "        # 4. classification through the 2 FF layers\n",
        "        output = self.fnn2(output)\n",
        "        return output"
      ],
      "execution_count": 0,
      "outputs": []
    },
    {
      "cell_type": "markdown",
      "metadata": {
        "id": "Hqnu9WvB8uvw",
        "colab_type": "text"
      },
      "source": [
        "## 4. Tweak the embeddings to accomodate varying sizes of the sequences\n",
        "Once we have the model and the embeddings, we would need to tweak the embeddings so that they are adjusted for the padded sequences.\n",
        "\n",
        "### 4.1. Add the padding char to the embeddings"
      ]
    },
    {
      "cell_type": "markdown",
      "metadata": {
        "id": "T2KEUxaSAuAh",
        "colab_type": "text"
      },
      "source": [
        "Now, get sequences as indexes."
      ]
    },
    {
      "cell_type": "code",
      "metadata": {
        "id": "F3fPAtenAtX5",
        "colab_type": "code",
        "colab": {}
      },
      "source": [
        "def to_ix(kmer, word_to_ix):\n",
        "  if \"X\" in kmer:\n",
        "    return word_to_ix[\"X\"]\n",
        "  elif kmer in word_to_ix:\n",
        "    return word_to_ix[kmer]\n",
        "  else:\n",
        "    return len(word_to_ix)\n",
        "\n",
        "def wind_idx(seq):\n",
        "  return [to_ix(kmer, word_to_ix)  for kmer in window(seq, k, SLIDE)]\n",
        "\n",
        "df_train[\"seq_idx\"] = df_train[\"sequence\"].apply(wind_idx)\n",
        "df_test[\"seq_idx\"] = df_test[\"sequence\"].apply(wind_idx)"
      ],
      "execution_count": 0,
      "outputs": []
    },
    {
      "cell_type": "code",
      "metadata": {
        "id": "S5UeEYm8E1dI",
        "colab_type": "code",
        "outputId": "c4a98beb-0739-467e-cae0-13194bd2c888",
        "colab": {
          "base_uri": "https://localhost:8080/",
          "height": 34
        }
      },
      "source": [
        "np.unique(df_train[\"seq_idx\"].apply(lambda x: len(x)))"
      ],
      "execution_count": 78,
      "outputs": [
        {
          "output_type": "execute_result",
          "data": {
            "text/plain": [
              "array([46])"
            ]
          },
          "metadata": {
            "tags": []
          },
          "execution_count": 78
        }
      ]
    },
    {
      "cell_type": "markdown",
      "metadata": {
        "id": "L9U_zq-5FIbp",
        "colab_type": "text"
      },
      "source": [
        "Finally, instantiante the model and initialize the weigths of the embeddings."
      ]
    },
    {
      "cell_type": "code",
      "metadata": {
        "id": "7dJjn7v2lVBv",
        "colab_type": "code",
        "outputId": "6a02aba0-15ad-40d5-a15d-c48740a15334",
        "colab": {
          "base_uri": "https://localhost:8080/",
          "height": 52
        }
      },
      "source": [
        "print(word_to_ix[\"X\"])\n",
        "print(len(set(word_to_ix.keys()))-1)"
      ],
      "execution_count": 79,
      "outputs": [
        {
          "output_type": "stream",
          "text": [
            "64\n",
            "64\n"
          ],
          "name": "stdout"
        }
      ]
    },
    {
      "cell_type": "code",
      "metadata": {
        "id": "go5mnL9uFJQu",
        "colab_type": "code",
        "colab": {}
      },
      "source": [
        "t = len(df_train.iloc[0,0]) # Find length of seqs (fixed)\n",
        "\n",
        "rnn = RNN(input_dim=len(word_to_ix), embedding_dim=EMDEDDING_DIM,\n",
        "          hidden_dim = 30, lstm_layers=1, hidden_out = 140, output_dim=3, \n",
        "          padding_idx = word_to_ix[\"X\"], t = len(df_train.iloc[0,3]))"
      ],
      "execution_count": 0,
      "outputs": []
    },
    {
      "cell_type": "code",
      "metadata": {
        "id": "YZmhbQWkpTuq",
        "colab_type": "code",
        "colab": {}
      },
      "source": [
        "rnn.embedding.weight.data.copy_(model.embeddings.weight)\n",
        "# optimizer = torch.optim.SGD(rnn.parameters(), lr=1e-3)\n",
        "optimizer = torch.optim.ASGD(rnn.parameters(), lr=1e-3, weight_decay=0.3)\n",
        "criterion = nn.CrossEntropyLoss()"
      ],
      "execution_count": 0,
      "outputs": []
    },
    {
      "cell_type": "markdown",
      "metadata": {
        "id": "yrH8hOnvmWE1",
        "colab_type": "text"
      },
      "source": [
        "## 5. Training loop\n"
      ]
    },
    {
      "cell_type": "markdown",
      "metadata": {
        "id": "KQ3hnv3Onw--",
        "colab_type": "text"
      },
      "source": [
        "All that is left is to split our training and testing and train the model."
      ]
    },
    {
      "cell_type": "code",
      "metadata": {
        "id": "jjL8fY-LCftw",
        "colab_type": "code",
        "colab": {}
      },
      "source": [
        "from torch.utils.data import DataLoader, Dataset\n",
        "\n",
        "class oversampdata(Dataset):\n",
        "  def __init__(self, data):\n",
        "    # first column is list of index sentence\n",
        "    self.data = torch.LongTensor(data.iloc[:,0])\n",
        "    # second column is the label\n",
        "    self.targets = torch.LongTensor(data.iloc[:,1])\n",
        "\n",
        "  def __len__(self):\n",
        "    return len(self.data)\n",
        "\n",
        "  def __getitem__(self, index):\n",
        "    data_val = self.data[index]\n",
        "    target = self.targets[index]\n",
        "    return data_val, target\n",
        "\n",
        "train_dataset = oversampdata(df_train.loc[:,[\"seq_idx\", \"label_onehot\"]])\n",
        "valid_dataset = oversampdata(df_test.loc[:,[\"seq_idx\", \"label_onehot\"]])"
      ],
      "execution_count": 0,
      "outputs": []
    },
    {
      "cell_type": "code",
      "metadata": {
        "id": "IenV-ndMvJVW",
        "colab_type": "code",
        "colab": {}
      },
      "source": [
        "BATCH_SIZE = 32\n",
        "\n",
        "trainloader = torch.utils.data.DataLoader(train_dataset, batch_size=BATCH_SIZE, \n",
        "                                          shuffle=True)\n",
        "testloader = torch.utils.data.DataLoader(valid_dataset, batch_size=BATCH_SIZE, \n",
        "                                         shuffle=False)"
      ],
      "execution_count": 0,
      "outputs": []
    },
    {
      "cell_type": "code",
      "metadata": {
        "id": "fMKJKbYoBZQD",
        "colab_type": "code",
        "colab": {}
      },
      "source": [
        "def binary_accuracy(preds, y):\n",
        "   \"\"\"\n",
        "   Returns accuracy per batch, i.e. if you get 8/10 right, this returns 0.8, NOT 8\n",
        "   \"\"\"\n",
        "   rounded_preds = torch.zeros(preds.size())\n",
        "   for i in range(len(preds)):\n",
        "     idx_max = torch.where(preds[i] == preds[i].max())\n",
        "     rounded_preds[i][idx_max] = 1\n",
        "   rounded_preds = torch.FloatTensor(rounded_preds).int()\n",
        "   correct = (rounded_preds == y).float() #convert into float for division\n",
        "   acc = (correct.sum()/len(preds[0])) / len(correct)\n",
        "   return acc"
      ],
      "execution_count": 0,
      "outputs": []
    },
    {
      "cell_type": "code",
      "metadata": {
        "id": "CUPgdWw0maX7",
        "colab_type": "code",
        "colab": {}
      },
      "source": [
        "from torch.autograd import Variable\n",
        "import sys\n",
        "import matplotlib.pyplot as plt\n",
        "# Colab in dark mode, guys :)\n",
        "plt.style.use(['seaborn-dark', 'dark_background'])\n",
        "\n",
        "def train(model, iterator, optimizer, criterion):\n",
        "    \n",
        "    epoch_loss = 0\n",
        "    epoch_acc = 0\n",
        "    \n",
        "    model.train()\n",
        "    print(\"Training...\")\n",
        "\n",
        "    for i, batch in enumerate(iterator):\n",
        "        if i%50:\n",
        "          sys.stdout.write(f\"\\rIteration {i}        \")\n",
        "          sys.stdout.flush()\n",
        "\n",
        "        inputs, labels_onehot = batch\n",
        "\n",
        "        inputs = Variable(inputs)\n",
        "\n",
        "        optimizer.zero_grad()\n",
        "                \n",
        "        predictions = model(inputs)\n",
        "        \n",
        "        labels_idx = torch.LongTensor([np.where(label==1)[0][0] for label in labels_onehot])\n",
        "\n",
        "\n",
        "        loss = criterion(predictions, labels_idx)\n",
        "        \n",
        "        loss.backward()\n",
        "        \n",
        "        optimizer.step()\n",
        "        \n",
        "        acc = binary_accuracy(predictions, labels_onehot)\n",
        "        # print(loss.item())\n",
        "        epoch_loss += loss.item()\n",
        "        epoch_acc += acc.item()\n",
        "        \n",
        "    print()\n",
        "    return epoch_loss / len(iterator), epoch_acc / len(iterator)\n",
        "\n",
        "\n",
        "\n",
        "def evaluate(model, iterator, criterion):\n",
        "    epoch_loss = 0\n",
        "    epoch_acc = 0\n",
        "    \n",
        "    model.eval()\n",
        "    print(\"Evaluating...\")\n",
        "\n",
        "    for i, batch in enumerate(iterator):\n",
        "\n",
        "        inputs, labels_onehot = batch\n",
        "        predictions = model(inputs)\n",
        "        labels_idx = torch.LongTensor([np.where(label==1)[0][0] for label in labels_onehot])\n",
        "\n",
        "        loss = criterion(predictions, labels_idx)\n",
        "        acc = binary_accuracy(predictions, labels_onehot)\n",
        "\n",
        "        epoch_loss += loss.item()\n",
        "        epoch_acc += acc.item()\n",
        "    return epoch_loss / len(iterator), epoch_acc / len(iterator)\n",
        "\n",
        "def plot_network(epochs, train_loss, test_loss):\n",
        "    \"\"\" Neon \"\"\"\n",
        "    plt.figure()\n",
        "    # Other Neon colors of the palette -> #13CA91 #3B27BA #E847AE #FF9472\n",
        "    plt.plot(epochs, train_loss, color='#13CA91', marker = \"o\", linestyle='-', label='Training loss',)\n",
        "    plt.plot(epochs, test_loss, color='#3B27BA', marker = \"o\", linestyle='-', label='Validation loss')\n",
        "    plt.legend()\n",
        "    plt.xlabel('Epoch'), plt.ylabel('NLL')\n",
        "    plt.show()\n",
        "    "
      ],
      "execution_count": 0,
      "outputs": []
    },
    {
      "cell_type": "code",
      "metadata": {
        "id": "KLhfluLNmn5C",
        "colab_type": "code",
        "outputId": "7de71576-caab-4c0f-c770-4b2cece58925",
        "colab": {
          "base_uri": "https://localhost:8080/",
          "height": 1000
        }
      },
      "source": [
        "N_EPOCHS = 50\n",
        "model_save_name=\"ma_rnn.pt\"\n",
        "path = F\"/content/drive/My Drive/{model_save_name}\"\n",
        "\n",
        "all_train_loss = []\n",
        "all_val_loss = []\n",
        "all_epochs = []\n",
        "best_valid_loss = float('inf')\n",
        "\n",
        "for epoch in range(N_EPOCHS):\n",
        "    print(\"Epoch: \" + str(epoch))\n",
        "    train_loss, train_acc = train(rnn, trainloader, optimizer, criterion)\n",
        "    valid_loss, valid_acc = evaluate(rnn, testloader, criterion)\n",
        "\n",
        "    #train_loss  = train(rnn, trainloader, optimizer, criterion)\n",
        "    #valid_loss  = evaluate(rnn, testloader, criterion)    \n",
        "    \n",
        "    if valid_loss < best_valid_loss:\n",
        "        best_valid_loss = valid_loss\n",
        "        torch.save(rnn.state_dict(), path)\n",
        "    \n",
        "    print(f'\\tTrain Loss: {train_loss:.3f} | Train Acc: {train_acc*100:.2f}%')\n",
        "    print(f'\\t Val. Loss: {valid_loss:.3f} |  Val. Acc: {valid_acc*100:.2f}%')\n",
        "    all_train_loss.append(train_loss)\n",
        "    all_val_loss.append(valid_loss)\n",
        "    all_epochs.append(epoch)\n",
        "\n",
        "    if not epoch%10:\n",
        "      plot_network(all_epochs, all_train_loss, all_val_loss)"
      ],
      "execution_count": 132,
      "outputs": [
        {
          "output_type": "stream",
          "text": [
            "Epoch: 0\n",
            "Training...\n",
            "Iteration 149        \n",
            "Evaluating...\n",
            "\tTrain Loss: 1.195 | Train Acc: 55.86%\n",
            "\t Val. Loss: 1.131 |  Val. Acc: 57.80%\n"
          ],
          "name": "stdout"
        },
        {
          "output_type": "display_data",
          "data": {
            "image/png": "[encoded data removed]",
            "text/plain": [
              "<Figure size 432x288 with 1 Axes>"
            ]
          },
          "metadata": {
            "tags": []
          }
        },
        {
          "output_type": "stream",
          "text": [
            "Epoch: 1\n",
            "Training...\n",
            "Iteration 149        \n",
            "Evaluating...\n",
            "\tTrain Loss: 1.155 | Train Acc: 56.92%\n",
            "\t Val. Loss: 1.067 |  Val. Acc: 60.18%\n",
            "Epoch: 2\n",
            "Training...\n",
            "Iteration 149        \n",
            "Evaluating...\n",
            "\tTrain Loss: 1.136 | Train Acc: 57.64%\n",
            "\t Val. Loss: 1.024 |  Val. Acc: 62.63%\n",
            "Epoch: 3\n",
            "Training...\n",
            "Iteration 149        \n",
            "Evaluating...\n",
            "\tTrain Loss: 1.114 | Train Acc: 58.19%\n",
            "\t Val. Loss: 0.991 |  Val. Acc: 65.70%\n",
            "Epoch: 4\n",
            "Training...\n",
            "Iteration 149        \n",
            "Evaluating...\n",
            "\tTrain Loss: 1.097 | Train Acc: 59.62%\n",
            "\t Val. Loss: 0.971 |  Val. Acc: 67.29%\n",
            "Epoch: 5\n",
            "Training...\n",
            "Iteration 149        \n",
            "Evaluating...\n",
            "\tTrain Loss: 1.079 | Train Acc: 60.75%\n",
            "\t Val. Loss: 0.956 |  Val. Acc: 69.76%\n",
            "Epoch: 6\n",
            "Training...\n",
            "Iteration 149        \n",
            "Evaluating...\n",
            "\tTrain Loss: 1.075 | Train Acc: 61.06%\n",
            "\t Val. Loss: 0.943 |  Val. Acc: 71.35%\n",
            "Epoch: 7\n",
            "Training...\n",
            "Iteration 149        \n",
            "Evaluating...\n",
            "\tTrain Loss: 1.068 | Train Acc: 61.47%\n",
            "\t Val. Loss: 0.933 |  Val. Acc: 72.02%\n",
            "Epoch: 8\n",
            "Training...\n",
            "Iteration 149        \n",
            "Evaluating...\n",
            "\tTrain Loss: 1.060 | Train Acc: 62.26%\n",
            "\t Val. Loss: 0.927 |  Val. Acc: 72.42%\n",
            "Epoch: 9\n",
            "Training...\n",
            "Iteration 149        \n",
            "Evaluating...\n",
            "\tTrain Loss: 1.056 | Train Acc: 62.60%\n",
            "\t Val. Loss: 0.920 |  Val. Acc: 73.19%\n",
            "Epoch: 10\n",
            "Training...\n",
            "Iteration 149        \n",
            "Evaluating...\n",
            "\tTrain Loss: 1.045 | Train Acc: 64.21%\n",
            "\t Val. Loss: 0.915 |  Val. Acc: 73.90%\n"
          ],
          "name": "stdout"
        },
        {
          "output_type": "display_data",
          "data": {
            "image/png": "[encoded data removed]",
            "text/plain": [
              "<Figure size 432x288 with 1 Axes>"
            ]
          },
          "metadata": {
            "tags": []
          }
        },
        {
          "output_type": "stream",
          "text": [
            "Epoch: 11\n",
            "Training...\n",
            "Iteration 149        \n",
            "Evaluating...\n",
            "\tTrain Loss: 1.046 | Train Acc: 63.51%\n",
            "\t Val. Loss: 0.911 |  Val. Acc: 73.98%\n",
            "Epoch: 12\n",
            "Training...\n",
            "Iteration 149        \n",
            "Evaluating...\n",
            "\tTrain Loss: 1.049 | Train Acc: 63.39%\n",
            "\t Val. Loss: 0.907 |  Val. Acc: 74.20%\n",
            "Epoch: 13\n",
            "Training...\n",
            "Iteration 149        \n",
            "Evaluating...\n",
            "\tTrain Loss: 1.040 | Train Acc: 64.68%\n",
            "\t Val. Loss: 0.905 |  Val. Acc: 75.11%\n",
            "Epoch: 14\n",
            "Training...\n",
            "Iteration 149        \n",
            "Evaluating...\n",
            "\tTrain Loss: 1.037 | Train Acc: 64.60%\n",
            "\t Val. Loss: 0.901 |  Val. Acc: 75.79%\n",
            "Epoch: 15\n",
            "Training...\n",
            "Iteration 149        \n",
            "Evaluating...\n",
            "\tTrain Loss: 1.041 | Train Acc: 63.96%\n",
            "\t Val. Loss: 0.898 |  Val. Acc: 75.68%\n",
            "Epoch: 16\n",
            "Training...\n",
            "Iteration 149        \n",
            "Evaluating...\n",
            "\tTrain Loss: 1.037 | Train Acc: 64.54%\n",
            "\t Val. Loss: 0.899 |  Val. Acc: 75.18%\n",
            "Epoch: 17\n",
            "Training...\n",
            "Iteration 149        \n",
            "Evaluating...\n",
            "\tTrain Loss: 1.037 | Train Acc: 64.99%\n",
            "\t Val. Loss: 0.898 |  Val. Acc: 75.24%\n",
            "Epoch: 18\n",
            "Training...\n",
            "Iteration 149        \n",
            "Evaluating...\n",
            "\tTrain Loss: 1.042 | Train Acc: 64.32%\n",
            "\t Val. Loss: 0.899 |  Val. Acc: 75.68%\n",
            "Epoch: 19\n",
            "Training...\n",
            "Iteration 149        \n",
            "Evaluating...\n",
            "\tTrain Loss: 1.040 | Train Acc: 64.88%\n",
            "\t Val. Loss: 0.896 |  Val. Acc: 76.22%\n",
            "Epoch: 20\n",
            "Training...\n",
            "Iteration 149        \n",
            "Evaluating...\n",
            "\tTrain Loss: 1.044 | Train Acc: 64.00%\n",
            "\t Val. Loss: 0.903 |  Val. Acc: 76.28%\n"
          ],
          "name": "stdout"
        },
        {
          "output_type": "display_data",
          "data": {
            "image/png": "[encoded data removed]",
            "text/plain": [
              "<Figure size 432x288 with 1 Axes>"
            ]
          },
          "metadata": {
            "tags": []
          }
        },
        {
          "output_type": "stream",
          "text": [
            "Epoch: 21\n",
            "Training...\n",
            "Iteration 40        "
          ],
          "name": "stdout"
        },
        {
          "output_type": "error",
          "ename": "KeyboardInterrupt",
          "evalue": "ignored",
          "traceback": [
            "\u001b[0;31m---------------------------------------------------------------------------\u001b[0m",
            "\u001b[0;31mKeyboardInterrupt\u001b[0m                         Traceback (most recent call last)",
            "\u001b[0;32m<ipython-input-132-243c5c1e2251>\u001b[0m in \u001b[0;36m<module>\u001b[0;34m()\u001b[0m\n\u001b[1;32m     10\u001b[0m \u001b[0;32mfor\u001b[0m \u001b[0mepoch\u001b[0m \u001b[0;32min\u001b[0m \u001b[0mrange\u001b[0m\u001b[0;34m(\u001b[0m\u001b[0mN_EPOCHS\u001b[0m\u001b[0;34m)\u001b[0m\u001b[0;34m:\u001b[0m\u001b[0;34m\u001b[0m\u001b[0;34m\u001b[0m\u001b[0m\n\u001b[1;32m     11\u001b[0m     \u001b[0mprint\u001b[0m\u001b[0;34m(\u001b[0m\u001b[0;34m\"Epoch: \"\u001b[0m \u001b[0;34m+\u001b[0m \u001b[0mstr\u001b[0m\u001b[0;34m(\u001b[0m\u001b[0mepoch\u001b[0m\u001b[0;34m)\u001b[0m\u001b[0;34m)\u001b[0m\u001b[0;34m\u001b[0m\u001b[0;34m\u001b[0m\u001b[0m\n\u001b[0;32m---> 12\u001b[0;31m     \u001b[0mtrain_loss\u001b[0m\u001b[0;34m,\u001b[0m \u001b[0mtrain_acc\u001b[0m \u001b[0;34m=\u001b[0m \u001b[0mtrain\u001b[0m\u001b[0;34m(\u001b[0m\u001b[0mrnn\u001b[0m\u001b[0;34m,\u001b[0m \u001b[0mtrainloader\u001b[0m\u001b[0;34m,\u001b[0m \u001b[0moptimizer\u001b[0m\u001b[0;34m,\u001b[0m \u001b[0mcriterion\u001b[0m\u001b[0;34m)\u001b[0m\u001b[0;34m\u001b[0m\u001b[0;34m\u001b[0m\u001b[0m\n\u001b[0m\u001b[1;32m     13\u001b[0m     \u001b[0mvalid_loss\u001b[0m\u001b[0;34m,\u001b[0m \u001b[0mvalid_acc\u001b[0m \u001b[0;34m=\u001b[0m \u001b[0mevaluate\u001b[0m\u001b[0;34m(\u001b[0m\u001b[0mrnn\u001b[0m\u001b[0;34m,\u001b[0m \u001b[0mtestloader\u001b[0m\u001b[0;34m,\u001b[0m \u001b[0mcriterion\u001b[0m\u001b[0;34m)\u001b[0m\u001b[0;34m\u001b[0m\u001b[0;34m\u001b[0m\u001b[0m\n\u001b[1;32m     14\u001b[0m \u001b[0;34m\u001b[0m\u001b[0m\n",
            "\u001b[0;32m<ipython-input-121-f24e9f6cbc2e>\u001b[0m in \u001b[0;36mtrain\u001b[0;34m(model, iterator, optimizer, criterion)\u001b[0m\n\u001b[1;32m     33\u001b[0m         \u001b[0mloss\u001b[0m\u001b[0;34m.\u001b[0m\u001b[0mbackward\u001b[0m\u001b[0;34m(\u001b[0m\u001b[0;34m)\u001b[0m\u001b[0;34m\u001b[0m\u001b[0;34m\u001b[0m\u001b[0m\n\u001b[1;32m     34\u001b[0m \u001b[0;34m\u001b[0m\u001b[0m\n\u001b[0;32m---> 35\u001b[0;31m         \u001b[0moptimizer\u001b[0m\u001b[0;34m.\u001b[0m\u001b[0mstep\u001b[0m\u001b[0;34m(\u001b[0m\u001b[0;34m)\u001b[0m\u001b[0;34m\u001b[0m\u001b[0;34m\u001b[0m\u001b[0m\n\u001b[0m\u001b[1;32m     36\u001b[0m \u001b[0;34m\u001b[0m\u001b[0m\n\u001b[1;32m     37\u001b[0m         \u001b[0macc\u001b[0m \u001b[0;34m=\u001b[0m \u001b[0mbinary_accuracy\u001b[0m\u001b[0;34m(\u001b[0m\u001b[0mpredictions\u001b[0m\u001b[0;34m,\u001b[0m \u001b[0mlabels_onehot\u001b[0m\u001b[0;34m)\u001b[0m\u001b[0;34m\u001b[0m\u001b[0;34m\u001b[0m\u001b[0m\n",
            "\u001b[0;32m/usr/local/lib/python3.6/dist-packages/torch/optim/asgd.py\u001b[0m in \u001b[0;36mstep\u001b[0;34m(self, closure)\u001b[0m\n\u001b[1;32m     63\u001b[0m \u001b[0;34m\u001b[0m\u001b[0m\n\u001b[1;32m     64\u001b[0m                 \u001b[0;32mif\u001b[0m \u001b[0mgroup\u001b[0m\u001b[0;34m[\u001b[0m\u001b[0;34m'weight_decay'\u001b[0m\u001b[0;34m]\u001b[0m \u001b[0;34m!=\u001b[0m \u001b[0;36m0\u001b[0m\u001b[0;34m:\u001b[0m\u001b[0;34m\u001b[0m\u001b[0;34m\u001b[0m\u001b[0m\n\u001b[0;32m---> 65\u001b[0;31m                     \u001b[0mgrad\u001b[0m \u001b[0;34m=\u001b[0m \u001b[0mgrad\u001b[0m\u001b[0;34m.\u001b[0m\u001b[0madd\u001b[0m\u001b[0;34m(\u001b[0m\u001b[0mgroup\u001b[0m\u001b[0;34m[\u001b[0m\u001b[0;34m'weight_decay'\u001b[0m\u001b[0;34m]\u001b[0m\u001b[0;34m,\u001b[0m \u001b[0mp\u001b[0m\u001b[0;34m.\u001b[0m\u001b[0mdata\u001b[0m\u001b[0;34m)\u001b[0m\u001b[0;34m\u001b[0m\u001b[0;34m\u001b[0m\u001b[0m\n\u001b[0m\u001b[1;32m     66\u001b[0m \u001b[0;34m\u001b[0m\u001b[0m\n\u001b[1;32m     67\u001b[0m                 \u001b[0;31m# decay term\u001b[0m\u001b[0;34m\u001b[0m\u001b[0;34m\u001b[0m\u001b[0;34m\u001b[0m\u001b[0m\n",
            "\u001b[0;31mKeyboardInterrupt\u001b[0m: "
          ]
        }
      ]
    }
  ]
}